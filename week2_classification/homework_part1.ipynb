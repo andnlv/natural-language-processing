{
 "cells": [
  {
   "cell_type": "code",
   "execution_count": 1,
   "metadata": {},
   "outputs": [],
   "source": [
    "import numpy as np\n",
    "import matplotlib.pyplot as plt\n",
    "%matplotlib inline"
   ]
  },
  {
   "cell_type": "markdown",
   "metadata": {},
   "source": [
    "### Homework part I: Prohibited Comment Classification (3 points)\n",
    "\n",
    "![img](https://github.com/yandexdataschool/nlp_course/raw/master/resources/banhammer.jpg)\n",
    "\n",
    "__In this notebook__ you will build an algorithm that classifies social media comments into normal or toxic.\n",
    "Like in many real-world cases, you only have a small (10^3) dataset of hand-labeled examples to work with. We'll tackle this problem using both classical nlp methods and embedding-based approach."
   ]
  },
  {
   "cell_type": "code",
   "execution_count": 2,
   "metadata": {},
   "outputs": [
    {
     "data": {
      "text/html": [
       "<div>\n",
       "<style scoped>\n",
       "    .dataframe tbody tr th:only-of-type {\n",
       "        vertical-align: middle;\n",
       "    }\n",
       "\n",
       "    .dataframe tbody tr th {\n",
       "        vertical-align: top;\n",
       "    }\n",
       "\n",
       "    .dataframe thead th {\n",
       "        text-align: right;\n",
       "    }\n",
       "</style>\n",
       "<table border=\"1\" class=\"dataframe\">\n",
       "  <thead>\n",
       "    <tr style=\"text-align: right;\">\n",
       "      <th></th>\n",
       "      <th>should_ban</th>\n",
       "      <th>comment_text</th>\n",
       "    </tr>\n",
       "  </thead>\n",
       "  <tbody>\n",
       "    <tr>\n",
       "      <th>50</th>\n",
       "      <td>0</td>\n",
       "      <td>\"Those who're in advantageous positions are th...</td>\n",
       "    </tr>\n",
       "    <tr>\n",
       "      <th>250</th>\n",
       "      <td>1</td>\n",
       "      <td>Fartsalot56 says f**k you motherclucker!!</td>\n",
       "    </tr>\n",
       "    <tr>\n",
       "      <th>450</th>\n",
       "      <td>1</td>\n",
       "      <td>Are you a fool? \\n\\nI am sorry, but you seem t...</td>\n",
       "    </tr>\n",
       "    <tr>\n",
       "      <th>650</th>\n",
       "      <td>1</td>\n",
       "      <td>I AM NOT A VANDAL!!!!!!!!!!!!!!!!!!!!!!!!!!!!!!</td>\n",
       "    </tr>\n",
       "    <tr>\n",
       "      <th>850</th>\n",
       "      <td>0</td>\n",
       "      <td>Citing sources\\n\\nCheck out the Wikipedia:Citi...</td>\n",
       "    </tr>\n",
       "  </tbody>\n",
       "</table>\n",
       "</div>"
      ],
      "text/plain": [
       "     should_ban                                       comment_text\n",
       "50            0  \"Those who're in advantageous positions are th...\n",
       "250           1          Fartsalot56 says f**k you motherclucker!!\n",
       "450           1  Are you a fool? \\n\\nI am sorry, but you seem t...\n",
       "650           1    I AM NOT A VANDAL!!!!!!!!!!!!!!!!!!!!!!!!!!!!!!\n",
       "850           0  Citing sources\\n\\nCheck out the Wikipedia:Citi..."
      ]
     },
     "execution_count": 2,
     "metadata": {},
     "output_type": "execute_result"
    }
   ],
   "source": [
    "import pandas as pd\n",
    "data = pd.read_csv(\"comments.tsv\", sep='\\t')\n",
    "\n",
    "texts = data['comment_text'].values\n",
    "target = data['should_ban'].values\n",
    "data[50::200]"
   ]
  },
  {
   "cell_type": "code",
   "execution_count": 3,
   "metadata": {},
   "outputs": [],
   "source": [
    "from sklearn.model_selection import train_test_split\n",
    "texts_train, texts_test, y_train, y_test = train_test_split(texts, target, test_size=0.5, random_state=42)"
   ]
  },
  {
   "cell_type": "markdown",
   "metadata": {},
   "source": [
    "__Note:__ it is generally a good idea to split data into train/test before anything is done to them.\n",
    "\n",
    "It guards you against possible data leakage in the preprocessing stage. For example, should you decide to select words present in obscene tweets as features, you should only count those words over the training set. Otherwise your algoritm can cheat evaluation."
   ]
  },
  {
   "cell_type": "markdown",
   "metadata": {},
   "source": [
    "### Preprocessing and tokenization\n",
    "\n",
    "Comments contain raw text with punctuation, upper/lowercase letters and even newline symbols.\n",
    "\n",
    "To simplify all further steps, we'll split text into space-separated tokens using one of nltk tokenizers."
   ]
  },
  {
   "cell_type": "code",
   "execution_count": 4,
   "metadata": {},
   "outputs": [
    {
     "name": "stdout",
     "output_type": "stream",
     "text": [
      "before: How to be a grown-up at work: replace \"fuck you\" with \"Ok, great!\".\n",
      "after: how to be a grown-up at work : replace \" fuck you \" with \" ok , great ! \" .\n"
     ]
    }
   ],
   "source": [
    "from nltk.tokenize import TweetTokenizer\n",
    "tokenizer = TweetTokenizer()\n",
    "preprocess = lambda text: ' '.join(tokenizer.tokenize(text.lower()))\n",
    "\n",
    "text = 'How to be a grown-up at work: replace \"fuck you\" with \"Ok, great!\".'\n",
    "print(\"before:\", text,)\n",
    "print(\"after:\", preprocess(text),)"
   ]
  },
  {
   "cell_type": "code",
   "execution_count": 5,
   "metadata": {},
   "outputs": [],
   "source": [
    "# task: preprocess each comment in train and test\n",
    "\n",
    "\n",
    "texts_train = np.array(list(map(preprocess, texts_train)))\n",
    "texts_test = np.array(list(map(preprocess, texts_test)))"
   ]
  },
  {
   "cell_type": "code",
   "execution_count": 6,
   "metadata": {},
   "outputs": [],
   "source": [
    "assert texts_train[5] ==  'who cares anymore . they attack with impunity .'\n",
    "assert texts_test[89] == 'hey todds ! quick q ? why are you so gay'\n",
    "assert len(texts_test) == len(y_test)"
   ]
  },
  {
   "cell_type": "markdown",
   "metadata": {},
   "source": [
    "### Solving it: bag of words\n",
    "\n",
    "![img](http://www.novuslight.com/uploads/n/BagofWords.jpg)\n",
    "\n",
    "One traditional approach to such problem is to use bag of words features:\n",
    "1. build a vocabulary of frequent words (use train data only)\n",
    "2. for each training sample, count the number of times a word occurs in it (for each word in vocabulary).\n",
    "3. consider this count a feature for some classifier\n",
    "\n",
    "__Note:__ in practice, you can compute such features using sklearn. Please don't do that in the current assignment, though.\n",
    "* `from sklearn.feature_extraction.text import CountVectorizer, TfidfVectorizer`"
   ]
  },
  {
   "cell_type": "code",
   "execution_count": 41,
   "metadata": {},
   "outputs": [
    {
     "name": "stdout",
     "output_type": "stream",
     "text": [
      "example features: ['!', 'came', 'faggot', 'lets', 'punctuation', 'theoretical']\n"
     ]
    }
   ],
   "source": [
    "# task: find up to k most frequent tokens in texts_train,\n",
    "# sort them by number of occurences (highest first)\n",
    "k = 10000\n",
    "\n",
    "from collections import Counter\n",
    "\n",
    "bow_vocabulary = list(zip(*Counter((' '.join(texts_train)).split()).most_common(k)))[0]\n",
    "\n",
    "print('example features:', sorted(bow_vocabulary)[::1000])"
   ]
  },
  {
   "cell_type": "code",
   "execution_count": 42,
   "metadata": {},
   "outputs": [],
   "source": [
    "def text_to_bow(text):\n",
    "    \"\"\" convert text string to an array of token counts. Use bow_vocabulary. \"\"\"\n",
    "    \n",
    "    counter = Counter(text.split())\n",
    "    return np.array(list(counter[word] for word in bow_vocabulary), 'float32')"
   ]
  },
  {
   "cell_type": "code",
   "execution_count": 43,
   "metadata": {},
   "outputs": [],
   "source": [
    "X_train_bow = np.stack(list(map(text_to_bow, texts_train)))\n",
    "X_test_bow = np.stack(list(map(text_to_bow, texts_test)))"
   ]
  },
  {
   "cell_type": "code",
   "execution_count": 44,
   "metadata": {},
   "outputs": [],
   "source": [
    "k_max = len(set(' '.join(texts_train).split()))\n",
    "assert X_train_bow.shape == (len(texts_train), min(k, k_max))\n",
    "assert X_test_bow.shape == (len(texts_test), min(k, k_max))\n",
    "assert np.all(X_train_bow[5:10].sum(-1) == np.array([len(s.split()) for s in  texts_train[5:10]]))\n",
    "assert len(bow_vocabulary) <= min(k, k_max)\n",
    "assert X_train_bow[6, bow_vocabulary.index('.')] == texts_train[6].split().count('.')"
   ]
  },
  {
   "cell_type": "markdown",
   "metadata": {},
   "source": [
    "Machine learning stuff: fit, predict, evaluate. You know the drill."
   ]
  },
  {
   "cell_type": "code",
   "execution_count": 45,
   "metadata": {},
   "outputs": [],
   "source": [
    "from sklearn.linear_model import LogisticRegression\n",
    "bow_model = LogisticRegression().fit(X_train_bow, y_train)"
   ]
  },
  {
   "cell_type": "code",
   "execution_count": 48,
   "metadata": {},
   "outputs": [
    {
     "data": {
      "image/png": "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\n",
      "text/plain": [
       "<Figure size 432x288 with 1 Axes>"
      ]
     },
     "metadata": {},
     "output_type": "display_data"
    }
   ],
   "source": [
    "from sklearn.metrics import roc_auc_score, roc_curve\n",
    "\n",
    "for name, X, y, model in [\n",
    "    ('train', X_train_bow, y_train, bow_model),\n",
    "    ('test ', X_test_bow, y_test, bow_model)\n",
    "]:\n",
    "    proba = model.predict_proba(X)[:, 1]\n",
    "    auc = roc_auc_score(y, proba)\n",
    "    plt.plot(*roc_curve(y, proba)[:2], label='%s AUC=%.4f' % (name, auc))\n",
    "\n",
    "plt.plot([0, 1], [0, 1], '--', color='black',)\n",
    "plt.legend(fontsize='large')\n",
    "plt.grid()"
   ]
  },
  {
   "cell_type": "markdown",
   "metadata": {},
   "source": [
    "### Task: implement TF-IDF features\n",
    "\n",
    "Not all words are equally useful. One can prioritize rare words and downscale words like \"and\"/\"or\" by using __tf-idf features__. This abbreviation stands for __text frequency/inverse document frequence__ and means exactly that:\n",
    "\n",
    "$$ feature_i = { Count(word_i \\in x) \\times { log {N \\over Count(word_i \\in D) + \\alpha} }} $$\n",
    "\n",
    "\n",
    ", where x is a single text, D is your dataset (a collection of texts), N is a total number of documents and $\\alpha$ is a smoothing hyperparameter (typically 1). \n",
    "And $Count(word_i \\in D)$ is the number of documents where $word_i$ appears.\n",
    "\n",
    "It may also be a good idea to normalize each data sample after computing tf-idf features.\n",
    "\n",
    "__Your task:__ implement tf-idf features, train a model and evaluate ROC curve. Compare it with basic BagOfWords model from above.\n",
    "\n",
    "Please don't use sklearn/nltk builtin tf-idf vectorizers in your solution :) You can still use 'em for debugging though."
   ]
  },
  {
   "cell_type": "code",
   "execution_count": 74,
   "metadata": {},
   "outputs": [],
   "source": [
    "def tf_idf(texts_collection, a = 1):\n",
    "    global_counts = text_to_bow(' '.join(texts_collection))\n",
    "    return np.stack(list(map(text_to_bow, texts_train))) * np.log(len(texts_collection)/(global_counts + a))"
   ]
  },
  {
   "cell_type": "code",
   "execution_count": 102,
   "metadata": {},
   "outputs": [],
   "source": [
    "idf = np.log(len(texts_train)/(global_counts + 1))\n",
    "X_train_tfidf = X_train_bow * idf\n",
    "X_test_tfidf = X_test_bow * idf"
   ]
  },
  {
   "cell_type": "code",
   "execution_count": 103,
   "metadata": {},
   "outputs": [],
<<<<<<< HEAD
   "source": [
    "tfidf_model = LogisticRegression().fit(X_train_tfidf, y_train)"
   ]
  },
  {
   "cell_type": "code",
   "execution_count": 104,
   "metadata": {},
   "outputs": [
    {
     "data": {
      "image/png": "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\n",
      "text/plain": [
       "<Figure size 432x288 with 1 Axes>"
      ]
     },
     "metadata": {},
     "output_type": "display_data"
    }
   ],
   "source": [
    "for name, X, y, model in [\n",
    "    ('train', X_train_tfidf, y_train, tfidf_model),\n",
    "    ('test ', X_test_tfidf, y_test, tfidf_model)\n",
    "]:\n",
    "    proba = model.predict_proba(X)[:, 1]\n",
    "    auc = roc_auc_score(y, proba)\n",
    "    plt.plot(*roc_curve(y, proba)[:2], label='%s AUC=%.4f' % (name, auc))\n",
    "\n",
    "plt.plot([0, 1], [0, 1], '--', color='black',)\n",
    "plt.legend(fontsize='large')\n",
    "plt.grid()"
   ]
=======
   "source": []
>>>>>>> cea2b938011bfbcc29d66656a9ef95da09da947a
  },
  {
   "cell_type": "markdown",
   "metadata": {},
   "source": [
    "```\n",
    "\n",
    "```\n",
    "\n",
    "```\n",
    "\n",
    "```\n",
    "\n",
    "```\n",
    "\n",
    "```\n",
    "\n",
    "```\n",
    "\n",
    "```\n",
    "\n",
    "```\n",
    "\n",
    "```\n",
    "\n",
    "```\n",
    "\n",
    "```\n",
    "\n",
    "```\n",
    "\n",
    "```\n",
    "\n",
    "```\n",
    "\n",
    "```\n",
    "\n",
    "\n",
    "### Solving it better: word vectors\n",
    "\n",
    "Let's try another approach: instead of counting per-word frequencies, we shall map all words to pre-trained word vectors and average over them to get text features.\n",
    "\n",
    "This should give us two key advantages: (1) we now have 10^2 features instead of 10^4 and (2) our model can generalize to word that are not in training dataset.\n",
    "\n",
    "We begin with a standard approach with pre-trained word vectors. However, you may also try\n",
    "* training embeddings from scratch on relevant (unlabeled) data\n",
    "* multiplying word vectors by inverse word frequency in dataset (like tf-idf).\n",
    "* concatenating several embeddings\n",
    "    * call `gensim.downloader.info()['models'].keys()` to get a list of available models\n",
    "* clusterizing words by their word-vectors and try bag of cluster_ids\n",
    "\n",
    "__Note:__ loading pre-trained model may take a while. It's a perfect opportunity to refill your cup of tea/coffee and grab some extra cookies. Or binge-watch some tv series if you're slow on internet connection"
   ]
  },
  {
   "cell_type": "code",
   "execution_count": 105,
   "metadata": {
    "scrolled": false
   },
   "outputs": [
    {
     "name": "stdout",
     "output_type": "stream",
     "text": [
      "[==================================================] 100.0% 958.5/958.4MB downloaded\n"
     ]
    }
   ],
   "source": [
    "import gensim.downloader \n",
    "embeddings = gensim.downloader.load(\"fasttext-wiki-news-subwords-300\")\n",
    "\n",
    "# If you're low on RAM or download speed, use \"glove-wiki-gigaword-100\" instead. Ignore all further asserts."
   ]
  },
  {
   "cell_type": "code",
   "execution_count": 124,
   "metadata": {},
   "outputs": [
    {
     "data": {
      "text/plain": [
       "gensim.models.keyedvectors.Word2VecKeyedVectors"
      ]
     },
     "execution_count": 124,
     "metadata": {},
     "output_type": "execute_result"
    }
   ],
   "source": [
    "type(embeddings)"
   ]
  },
  {
   "cell_type": "code",
   "execution_count": 121,
   "metadata": {},
   "outputs": [
    {
     "ename": "KeyError",
     "evalue": "\"word 'qweqw' not in vocabulary\"",
     "output_type": "error",
     "traceback": [
      "\u001b[0;31m---------------------------------------------------------------------------\u001b[0m",
      "\u001b[0;31mKeyError\u001b[0m                                  Traceback (most recent call last)",
      "\u001b[0;32m<ipython-input-121-0c4e898aa279>\u001b[0m in \u001b[0;36m<module>\u001b[0;34m()\u001b[0m\n\u001b[0;32m----> 1\u001b[0;31m \u001b[0membeddings\u001b[0m\u001b[0;34m.\u001b[0m\u001b[0mget_vector\u001b[0m\u001b[0;34m(\u001b[0m\u001b[0;34m'qweqw'\u001b[0m\u001b[0;34m)\u001b[0m\u001b[0;34m\u001b[0m\u001b[0m\n\u001b[0m",
      "\u001b[0;32m/usr/local/lib/python3.5/dist-packages/gensim/models/keyedvectors.py\u001b[0m in \u001b[0;36mget_vector\u001b[0;34m(self, word)\u001b[0m\n\u001b[1;32m    452\u001b[0m \u001b[0;34m\u001b[0m\u001b[0m\n\u001b[1;32m    453\u001b[0m     \u001b[0;32mdef\u001b[0m \u001b[0mget_vector\u001b[0m\u001b[0;34m(\u001b[0m\u001b[0mself\u001b[0m\u001b[0;34m,\u001b[0m \u001b[0mword\u001b[0m\u001b[0;34m)\u001b[0m\u001b[0;34m:\u001b[0m\u001b[0;34m\u001b[0m\u001b[0m\n\u001b[0;32m--> 454\u001b[0;31m         \u001b[0;32mreturn\u001b[0m \u001b[0mself\u001b[0m\u001b[0;34m.\u001b[0m\u001b[0mword_vec\u001b[0m\u001b[0;34m(\u001b[0m\u001b[0mword\u001b[0m\u001b[0;34m)\u001b[0m\u001b[0;34m\u001b[0m\u001b[0m\n\u001b[0m\u001b[1;32m    455\u001b[0m \u001b[0;34m\u001b[0m\u001b[0m\n\u001b[1;32m    456\u001b[0m     \u001b[0;32mdef\u001b[0m \u001b[0mwords_closer_than\u001b[0m\u001b[0;34m(\u001b[0m\u001b[0mself\u001b[0m\u001b[0;34m,\u001b[0m \u001b[0mw1\u001b[0m\u001b[0;34m,\u001b[0m \u001b[0mw2\u001b[0m\u001b[0;34m)\u001b[0m\u001b[0;34m:\u001b[0m\u001b[0;34m\u001b[0m\u001b[0m\n",
      "\u001b[0;32m/usr/local/lib/python3.5/dist-packages/gensim/models/keyedvectors.py\u001b[0m in \u001b[0;36mword_vec\u001b[0;34m(self, word, use_norm)\u001b[0m\n\u001b[1;32m    449\u001b[0m             \u001b[0;32mreturn\u001b[0m \u001b[0mresult\u001b[0m\u001b[0;34m\u001b[0m\u001b[0m\n\u001b[1;32m    450\u001b[0m         \u001b[0;32melse\u001b[0m\u001b[0;34m:\u001b[0m\u001b[0;34m\u001b[0m\u001b[0m\n\u001b[0;32m--> 451\u001b[0;31m             \u001b[0;32mraise\u001b[0m \u001b[0mKeyError\u001b[0m\u001b[0;34m(\u001b[0m\u001b[0;34m\"word '%s' not in vocabulary\"\u001b[0m \u001b[0;34m%\u001b[0m \u001b[0mword\u001b[0m\u001b[0;34m)\u001b[0m\u001b[0;34m\u001b[0m\u001b[0m\n\u001b[0m\u001b[1;32m    452\u001b[0m \u001b[0;34m\u001b[0m\u001b[0m\n\u001b[1;32m    453\u001b[0m     \u001b[0;32mdef\u001b[0m \u001b[0mget_vector\u001b[0m\u001b[0;34m(\u001b[0m\u001b[0mself\u001b[0m\u001b[0;34m,\u001b[0m \u001b[0mword\u001b[0m\u001b[0;34m)\u001b[0m\u001b[0;34m:\u001b[0m\u001b[0;34m\u001b[0m\u001b[0m\n",
      "\u001b[0;31mKeyError\u001b[0m: \"word 'qweqw' not in vocabulary\""
     ]
    }
   ],
   "source": [
    "embeddings.get_vector('qweqw', )"
   ]
  },
  {
   "cell_type": "code",
   "execution_count": 127,
   "metadata": {},
   "outputs": [],
   "source": [
    "def vectorize_sum(comment):\n",
    "    \"\"\"\n",
    "    implement a function that converts preprocessed comment to a sum of token vectors\n",
    "    \"\"\"\n",
    "    embedding_dim = embeddings.vectors.shape[1]\n",
    "    features = np.zeros([embedding_dim], dtype='float32')\n",
    "    \n",
    "    features += np.sum(embeddings[word] for word in comment.split() if word in embeddings.vocab)\n",
    "    \n",
    "    return features\n",
    "\n",
    "assert np.allclose(\n",
    "    vectorize_sum(\"who cares anymore . they attack with impunity .\")[::70],\n",
    "    np.array([ 0.0108616 ,  0.0261663 ,  0.13855131, -0.18510573, -0.46380025])\n",
    ")"
   ]
  },
  {
   "cell_type": "code",
   "execution_count": 128,
   "metadata": {},
   "outputs": [],
   "source": [
    "X_train_wv = np.stack([vectorize_sum(text) for text in texts_train])\n",
    "X_test_wv = np.stack([vectorize_sum(text) for text in texts_test])"
   ]
  },
  {
   "cell_type": "code",
   "execution_count": 129,
   "metadata": {},
   "outputs": [
    {
     "data": {
      "image/png": "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\n",
      "text/plain": [
       "<Figure size 432x288 with 1 Axes>"
      ]
     },
     "metadata": {},
     "output_type": "display_data"
    }
   ],
   "source": [
    "wv_model = LogisticRegression().fit(X_train_wv, y_train)\n",
    "\n",
    "for name, X, y, model in [\n",
    "    ('bow train', X_train_bow, y_train, bow_model),\n",
    "    ('bow test ', X_test_bow, y_test, bow_model),\n",
    "    ('vec train', X_train_wv, y_train, wv_model),\n",
    "    ('vec test ', X_test_wv, y_test, wv_model)\n",
    "]:\n",
    "    proba = model.predict_proba(X)[:, 1]\n",
    "    auc = roc_auc_score(y, proba)\n",
    "    plt.plot(*roc_curve(y, proba)[:2], label='%s AUC=%.4f' % (name, auc))\n",
    "\n",
    "plt.plot([0, 1], [0, 1], '--', color='black',)\n",
    "plt.legend(fontsize='large')\n",
    "plt.grid()\n",
    "\n",
    "assert roc_auc_score(y_test, wv_model.predict_proba(X_test_wv)[:, 1]) > 0.92, \"something's wrong with your features\""
   ]
  },
  {
   "cell_type": "markdown",
   "metadata": {},
   "source": [
    "If everything went right, you've just managed to reduce misclassification rate by a factor of two.\n",
    "This trick is very useful when you're dealing with small datasets. However, if you have hundreds of thousands of samples, there's a whole different range of methods for that. We'll get there in the second part."
   ]
  }
 ],
 "metadata": {
  "kernelspec": {
   "display_name": "Python [default]",
   "language": "python",
   "name": "python3"
  },
  "language_info": {
   "codemirror_mode": {
    "name": "ipython",
    "version": 3
   },
   "file_extension": ".py",
   "mimetype": "text/x-python",
   "name": "python",
   "nbconvert_exporter": "python",
   "pygments_lexer": "ipython3",
<<<<<<< HEAD
   "version": "3.5.2"
=======
   "version": "3.5.6"
>>>>>>> cea2b938011bfbcc29d66656a9ef95da09da947a
  }
 },
 "nbformat": 4,
 "nbformat_minor": 2
}
