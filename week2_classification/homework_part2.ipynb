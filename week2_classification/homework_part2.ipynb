{
 "cells": [
  {
   "cell_type": "markdown",
   "metadata": {},
   "source": [
    "### The grand quest: make it actually work (4 points)\n",
    "\n",
    "Your main task is to use some of the tricks you've learned on the network and analyze if you can improve __validation MAE__. Try __at least 3 options__ from the list below for a passing grade. Write a short report about what you have tried. More ideas = more bonus points. \n",
    "\n",
    "__Please be serious:__ \" plot learning curves in MAE/epoch, compare models based on optimal performance, test one change at a time. You know the drill :)\n",
    "\n",
    "You can use either pure __tensorflow__ or __keras__. Feel free to adapt the seminar code for your needs.\n"
   ]
  },
  {
   "cell_type": "code",
   "execution_count": 1,
   "metadata": {},
   "outputs": [],
   "source": [
    "import pandas as pd\n",
    "import numpy as np\n",
    "import matplotlib.pyplot as plt"
   ]
  },
  {
   "cell_type": "code",
   "execution_count": 2,
   "metadata": {},
   "outputs": [],
   "source": [
    "data = pd.read_csv(\"./Train_rev1.csv\", index_col=None)"
   ]
  },
  {
   "cell_type": "code",
   "execution_count": 18,
   "metadata": {
    "scrolled": true
   },
   "outputs": [
    {
     "data": {
      "text/html": [
       "<div>\n",
       "<style scoped>\n",
       "    .dataframe tbody tr th:only-of-type {\n",
       "        vertical-align: middle;\n",
       "    }\n",
       "\n",
       "    .dataframe tbody tr th {\n",
       "        vertical-align: top;\n",
       "    }\n",
       "\n",
       "    .dataframe thead th {\n",
       "        text-align: right;\n",
       "    }\n",
       "</style>\n",
       "<table border=\"1\" class=\"dataframe\">\n",
       "  <thead>\n",
       "    <tr style=\"text-align: right;\">\n",
       "      <th></th>\n",
       "      <th>Id</th>\n",
       "      <th>Title</th>\n",
       "      <th>FullDescription</th>\n",
       "      <th>LocationRaw</th>\n",
       "      <th>LocationNormalized</th>\n",
       "      <th>ContractType</th>\n",
       "      <th>ContractTime</th>\n",
       "      <th>Company</th>\n",
       "      <th>Category</th>\n",
       "      <th>SalaryRaw</th>\n",
       "      <th>SalaryNormalized</th>\n",
       "      <th>SourceName</th>\n",
       "      <th>Log1pSalary</th>\n",
       "    </tr>\n",
       "  </thead>\n",
       "  <tbody>\n",
       "    <tr>\n",
       "      <th>157929</th>\n",
       "      <td>71125433</td>\n",
       "      <td>fabricator welder</td>\n",
       "      <td>fabricator welder days based west of leicester...</td>\n",
       "      <td>Desford, Leicestershire</td>\n",
       "      <td>Desford</td>\n",
       "      <td>NaN</td>\n",
       "      <td>permanent</td>\n",
       "      <td>Other</td>\n",
       "      <td>Engineering Jobs</td>\n",
       "      <td>7.50 - 9.50/hour</td>\n",
       "      <td>16320</td>\n",
       "      <td>cv-library.co.uk</td>\n",
       "      <td>9.700208</td>\n",
       "    </tr>\n",
       "    <tr>\n",
       "      <th>45085</th>\n",
       "      <td>68538157</td>\n",
       "      <td>theatre lead reading</td>\n",
       "      <td>position – theatre lead salary **** k location...</td>\n",
       "      <td>Reading</td>\n",
       "      <td>Reading</td>\n",
       "      <td>full_time</td>\n",
       "      <td>NaN</td>\n",
       "      <td>JP Recruitment</td>\n",
       "      <td>Healthcare &amp; Nursing Jobs</td>\n",
       "      <td>50,000/Year</td>\n",
       "      <td>50000</td>\n",
       "      <td>staffnurse.com</td>\n",
       "      <td>10.819798</td>\n",
       "    </tr>\n",
       "    <tr>\n",
       "      <th>218703</th>\n",
       "      <td>72338145</td>\n",
       "      <td>accounts payable assistant</td>\n",
       "      <td>due to promotion from within an exciting oppor...</td>\n",
       "      <td>Slough, Berkshire</td>\n",
       "      <td>Slough</td>\n",
       "      <td>NaN</td>\n",
       "      <td>permanent</td>\n",
       "      <td>Adecco</td>\n",
       "      <td>Accounting &amp; Finance Jobs</td>\n",
       "      <td>21000/annum</td>\n",
       "      <td>21000</td>\n",
       "      <td>cv-library.co.uk</td>\n",
       "      <td>9.952325</td>\n",
       "    </tr>\n",
       "    <tr>\n",
       "      <th>35177</th>\n",
       "      <td>68234294</td>\n",
       "      <td>head chef ski season asap start</td>\n",
       "      <td>head chef ski season france small hotel amazin...</td>\n",
       "      <td>UK</td>\n",
       "      <td>UK</td>\n",
       "      <td>NaN</td>\n",
       "      <td>NaN</td>\n",
       "      <td>Platinum Recruitment Consultancy</td>\n",
       "      <td>Hospitality &amp; Catering Jobs</td>\n",
       "      <td>750 per month + Great benefits</td>\n",
       "      <td>9000</td>\n",
       "      <td>caterer.com</td>\n",
       "      <td>9.105091</td>\n",
       "    </tr>\n",
       "    <tr>\n",
       "      <th>137584</th>\n",
       "      <td>70413292</td>\n",
       "      <td>management accountant uk</td>\n",
       "      <td>fintec recruit is seeking a management account...</td>\n",
       "      <td>Daresbury, Cheshire, UK</td>\n",
       "      <td>Daresbury</td>\n",
       "      <td>NaN</td>\n",
       "      <td>NaN</td>\n",
       "      <td>NaN</td>\n",
       "      <td>Energy, Oil &amp; Gas Jobs</td>\n",
       "      <td>30000 - 35000 Per Annum</td>\n",
       "      <td>32500</td>\n",
       "      <td>oilandgasjobsearch.com</td>\n",
       "      <td>10.389026</td>\n",
       "    </tr>\n",
       "    <tr>\n",
       "      <th>104612</th>\n",
       "      <td>69573433</td>\n",
       "      <td>therapeutic services manager</td>\n",
       "      <td>18 . 5 hours per week the therapeutic services...</td>\n",
       "      <td>Brighton, East Sussex</td>\n",
       "      <td>Brighton</td>\n",
       "      <td>part_time</td>\n",
       "      <td>NaN</td>\n",
       "      <td>Other</td>\n",
       "      <td>Charity &amp; Voluntary Jobs</td>\n",
       "      <td>30,011 - 32,800 pro rata</td>\n",
       "      <td>31405</td>\n",
       "      <td>charityjob.co.uk</td>\n",
       "      <td>10.354754</td>\n",
       "    </tr>\n",
       "    <tr>\n",
       "      <th>101558</th>\n",
       "      <td>69545791</td>\n",
       "      <td>ruby on rails developer</td>\n",
       "      <td>ruby developer my client is an award winning p...</td>\n",
       "      <td>London South East</td>\n",
       "      <td>South East London</td>\n",
       "      <td>NaN</td>\n",
       "      <td>permanent</td>\n",
       "      <td>Project Partners</td>\n",
       "      <td>IT Jobs</td>\n",
       "      <td>30000 - 65000 per annum + bonus &amp; extensive be...</td>\n",
       "      <td>47500</td>\n",
       "      <td>cwjobs.co.uk</td>\n",
       "      <td>10.768506</td>\n",
       "    </tr>\n",
       "    <tr>\n",
       "      <th>154527</th>\n",
       "      <td>71014073</td>\n",
       "      <td>social housing property lawyer nq 1 years pqe ...</td>\n",
       "      <td>commercial firm in exeter is looking to recrui...</td>\n",
       "      <td>Devon</td>\n",
       "      <td>Devon</td>\n",
       "      <td>full_time</td>\n",
       "      <td>permanent</td>\n",
       "      <td>Other</td>\n",
       "      <td>Legal Jobs</td>\n",
       "      <td>From 41,000 to 41,000 per year</td>\n",
       "      <td>41000</td>\n",
       "      <td>TotallyLegal</td>\n",
       "      <td>10.621352</td>\n",
       "    </tr>\n",
       "    <tr>\n",
       "      <th>145756</th>\n",
       "      <td>70693767</td>\n",
       "      <td>senior asset protection engineer</td>\n",
       "      <td>senior asset protection engineer **** **** lon...</td>\n",
       "      <td>London</td>\n",
       "      <td>London</td>\n",
       "      <td>NaN</td>\n",
       "      <td>permanent</td>\n",
       "      <td>Other</td>\n",
       "      <td>Engineering Jobs</td>\n",
       "      <td>47,000 - 51,000</td>\n",
       "      <td>49000</td>\n",
       "      <td>justengineers.net</td>\n",
       "      <td>10.799596</td>\n",
       "    </tr>\n",
       "    <tr>\n",
       "      <th>56430</th>\n",
       "      <td>68682598</td>\n",
       "      <td>industrial disease solicitor , west yorkshire</td>\n",
       "      <td>opening for a junior disease solicitor to join...</td>\n",
       "      <td>West Yorkshire Yorkshire</td>\n",
       "      <td>West Yorkshire</td>\n",
       "      <td>NaN</td>\n",
       "      <td>permanent</td>\n",
       "      <td>IPS Group</td>\n",
       "      <td>Legal Jobs</td>\n",
       "      <td>25000.00 - 30000.00 per annum</td>\n",
       "      <td>27500</td>\n",
       "      <td>totaljobs.com</td>\n",
       "      <td>10.221977</td>\n",
       "    </tr>\n",
       "  </tbody>\n",
       "</table>\n",
       "</div>"
      ],
      "text/plain": [
       "              Id                                              Title  \\\n",
       "157929  71125433                                  fabricator welder   \n",
       "45085   68538157                               theatre lead reading   \n",
       "218703  72338145                         accounts payable assistant   \n",
       "35177   68234294                    head chef ski season asap start   \n",
       "137584  70413292                           management accountant uk   \n",
       "104612  69573433                       therapeutic services manager   \n",
       "101558  69545791                            ruby on rails developer   \n",
       "154527  71014073  social housing property lawyer nq 1 years pqe ...   \n",
       "145756  70693767                   senior asset protection engineer   \n",
       "56430   68682598      industrial disease solicitor , west yorkshire   \n",
       "\n",
       "                                          FullDescription  \\\n",
       "157929  fabricator welder days based west of leicester...   \n",
       "45085   position – theatre lead salary **** k location...   \n",
       "218703  due to promotion from within an exciting oppor...   \n",
       "35177   head chef ski season france small hotel amazin...   \n",
       "137584  fintec recruit is seeking a management account...   \n",
       "104612  18 . 5 hours per week the therapeutic services...   \n",
       "101558  ruby developer my client is an award winning p...   \n",
       "154527  commercial firm in exeter is looking to recrui...   \n",
       "145756  senior asset protection engineer **** **** lon...   \n",
       "56430   opening for a junior disease solicitor to join...   \n",
       "\n",
       "                     LocationRaw LocationNormalized ContractType ContractTime  \\\n",
       "157929   Desford, Leicestershire            Desford          NaN    permanent   \n",
       "45085                    Reading            Reading    full_time          NaN   \n",
       "218703         Slough, Berkshire             Slough          NaN    permanent   \n",
       "35177                         UK                 UK          NaN          NaN   \n",
       "137584   Daresbury, Cheshire, UK          Daresbury          NaN          NaN   \n",
       "104612     Brighton, East Sussex           Brighton    part_time          NaN   \n",
       "101558         London South East  South East London          NaN    permanent   \n",
       "154527                     Devon              Devon    full_time    permanent   \n",
       "145756                    London             London          NaN    permanent   \n",
       "56430   West Yorkshire Yorkshire     West Yorkshire          NaN    permanent   \n",
       "\n",
       "                                 Company                     Category  \\\n",
       "157929                             Other             Engineering Jobs   \n",
       "45085                     JP Recruitment    Healthcare & Nursing Jobs   \n",
       "218703                            Adecco    Accounting & Finance Jobs   \n",
       "35177   Platinum Recruitment Consultancy  Hospitality & Catering Jobs   \n",
       "137584                               NaN       Energy, Oil & Gas Jobs   \n",
       "104612                             Other     Charity & Voluntary Jobs   \n",
       "101558                  Project Partners                      IT Jobs   \n",
       "154527                             Other                   Legal Jobs   \n",
       "145756                             Other             Engineering Jobs   \n",
       "56430                          IPS Group                   Legal Jobs   \n",
       "\n",
       "                                                SalaryRaw  SalaryNormalized  \\\n",
       "157929                                   7.50 - 9.50/hour             16320   \n",
       "45085                                         50,000/Year             50000   \n",
       "218703                                        21000/annum             21000   \n",
       "35177                      750 per month + Great benefits              9000   \n",
       "137584                            30000 - 35000 Per Annum             32500   \n",
       "104612                           30,011 - 32,800 pro rata             31405   \n",
       "101558  30000 - 65000 per annum + bonus & extensive be...             47500   \n",
       "154527                     From 41,000 to 41,000 per year             41000   \n",
       "145756                                    47,000 - 51,000             49000   \n",
       "56430                       25000.00 - 30000.00 per annum             27500   \n",
       "\n",
       "                    SourceName  Log1pSalary  \n",
       "157929        cv-library.co.uk     9.700208  \n",
       "45085           staffnurse.com    10.819798  \n",
       "218703        cv-library.co.uk     9.952325  \n",
       "35177              caterer.com     9.105091  \n",
       "137584  oilandgasjobsearch.com    10.389026  \n",
       "104612        charityjob.co.uk    10.354754  \n",
       "101558            cwjobs.co.uk    10.768506  \n",
       "154527            TotallyLegal    10.621352  \n",
       "145756       justengineers.net    10.799596  \n",
       "56430            totaljobs.com    10.221977  "
      ]
     },
     "execution_count": 18,
     "metadata": {},
     "output_type": "execute_result"
    }
   ],
   "source": [
    "data['Log1pSalary'] = np.log1p(data['SalaryNormalized']).astype('float32')\n",
    "text_columns = [\"Title\", \"FullDescription\"]\n",
    "categorical_columns = [\"Category\", \"Company\", \"LocationNormalized\", \"ContractType\", \"ContractTime\"]\n",
    "target_column = \"Log1pSalary\"\n",
    "\n",
    "data[categorical_columns] = data[categorical_columns].fillna('NaN') # cast missing values to string \"NaN\"\n",
    "\n",
    "data.sample(10)"
   ]
  },
  {
   "cell_type": "code",
   "execution_count": 111,
   "metadata": {},
   "outputs": [
    {
     "data": {
      "text/plain": [
       "<bound method Counter.most_common of Counter({'Other': 95650, 'NaN': 32430, 'UKStaffsearch': 4997, 'CVbrowser': 2977, 'London4Jobs': 2345, 'Hays': 1784, 'JAM Recruitment Ltd': 1122, 'Office Angels': 961, 'Jobsite Jobs': 932, 'Perfect Placement': 865, 'ARRAY': 847, 'JOBG8': 841, 'Matchtech Group plc.': 834, 'Penguin Recruitment': 752, 'Randstad': 748, 'Adecco': 701, 'Michael Page Finance': 634, 'Adecco Group': 592, 'BMS Sales Specialists LLP': 559, 'COREcruitment International': 551, 'Page Personnel Finance': 536, 'Capita Resourcing': 495, 'Michael Page Sales': 486, 'Matchtech': 474, 'Rise Technical Recruitment Ltd': 460, 'Experis IT': 446, 'ATA Recruitment': 438, 'Huxley Associates': 431, 'Interaction Recruitment': 428, 'Support Services Group': 419, 'Brookstreet UK': 417, 'Michael Page Marketing': 413, 'Real Staffing': 392, 'Spring Personnel': 392, 'Computer People': 375, '4Social Work': 373, 'SF Group': 373, 'Randstad Care': 348, 'Fresh Partnership': 347, 'Search Consultancy': 342, 'Computer Futures': 342, 'Recruitment Genius': 340, 'JAM Recruitment Ltd.': 333, 'Senitor Associates': 330, 'Huntress Group': 326, 'Edustaff': 324, 'TeacherActive': 321, 'Rise Technical Recruitment': 307, 'Tradewind Recruitment': 303, 'Edustaff   Birmingham': 303, 'Modis': 297, 'JAM Recruitment': 297, 'Chef Results': 295, 'Prime Time Recruitment': 291, 'Capita Education Resourcing': 284, 'Aspire Data Recruitment': 284, 'White Recruitment Ltd': 284, 'Elite Associates': 283, 'Matchtech Group Plc': 275, 'Randstad CPE': 274, 'Triumph Consultants': 272, 'Evolution Recruitment Solutions': 270, 'PFJ': 265, 'Retail Human Resources': 263, 'Fusion People': 262, 'Circle Recruitment': 262, 'Nigel Frank International': 262, 'W5 Recruitment': 261, 'The Placement Group': 258, 'Clearwater People Solutions': 258, 'Progressive Recruitment': 257, 'Edustaff London Ltd': 255, 'Moriati Media UK Ltd': 255, 'Hays Specialist Recruitment': 253, 'Additional Resources': 252, 'ATA': 252, 'Randstad Retail': 251, 'Platinum Recruitment Consultancy': 247, 'CMC Consulting': 245, 'Clear Selection': 244, 'Aston Carter': 244, 'Project Resource': 237, 'Hays Senior Finance': 234, 'Hays A F': 233, 'Goodman Masson': 232, 'Eden Brown': 230, 'Bee Recruitment London Ltd': 229, 'Badenoch & Clark   London ': 228, 'eRecruit Solutions Ltd': 226, 'James Webber Recruitment': 222, 'Additional Resources Ltd': 222, 'Aspire People': 220, 'Pertemps': 220, 'Spring Technology': 218, 'Liquid Personnel': 216, 'Academics Ltd': 215, 'Monarch Recruitment': 214, 'Fawkes Reece': 212, 'Michael Page Financial Services': 209, 'INTERACTION RECRUITMENT': 209, 'Castlerock Recruitment Group': 209, 'Cherryred Recruitment': 207, 'Populus Healthcare': 205, 'Hot Recruitment': 204, 'h2 Recruit Ltd': 203, 'IDEX Consulting LLP': 202, 'BMS Recruitment': 200, 'Four Seasons Health Care': 200, 'SYK Recruitment': 199, 'Robert Walters': 199, 'Wallace Hind Selection': 198, 'Candidate Source Ltd': 198, 'ARM': 198, 'Alecto Recruitment': 197, 'CBSbutler': 197, 'Eclypse Recruitment': 195, 'Prospect Health': 194, 'Web Recruit Ltd': 194, 'Redline Group': 190, 'Redline Group Ltd': 190, 'Gi Group': 189, 'FASHION & RETAIL PERSONNEL LIMITED': 188, 'mgi recruitment': 188, 'CVUK': 187, 'IC Software': 187, 'Fusion People Ltd': 186, 'MedicsPro': 184, 'Recruiting for Care': 184, 'Capita Education': 183, 'Simplified Recruitment': 183, 'Premier Group Recruitment': 180, 'Swiis Healthcare': 179, 'Evolution Recruitment Solutions Ltd': 178, 'HCL Permanent': 178, 'Selby Jennings': 178, 'Hudson': 177, 'Towngate Personnel': 177, 'H2 Recruit': 176, 'Michael Page Retail': 174, 'Freedom Recruitment': 174, 'STR Limited': 172, 'Blue Skies Marketing Recruitment': 169, 'Inspired Selections': 168, 'Creative Support': 168, 'Ruth Moran': 166, 'Encore Personnel': 166, 'Blue Octopus Recruitment Ltd': 165, 'CV Screen Ltd': 165, 'Real': 164, 'Domus Recruitment': 164, 'Red Dot Recruitment': 162, 'CAREER TEACHERS': 161, 'Resourcing Group': 161, 'Flame Health Associates LLP': 160, 'Liquid Personnel Ltd': 159, 'Noir Consulting': 159, 'Idex Consulting': 158, 'Concept IT': 158, 'Advantage Technical Resourcing': 157, 'Oakleaf Partnership': 156, 'Appoint Group': 154, 'Harvey Nash plc': 149, 'Prospects4Leisure Travel': 149, 'Additional Resources Limited': 148, 'BMS Sales Specialists': 148, 'Project Resource Limited': 148, 'Travail Employment Group': 147, 'SEC Recruitment Limited': 147, 'Ashdown Group': 147, 'North Point Recruitment': 147, 'Regent Recruitment': 147, 'Meridian Business Support': 146, 'Bond Recruitment': 146, 'Carillion plc': 145, 'Spencer Ogden': 144, 'ITN Mark Education': 144, 'Macildowie Associates.': 143, 'Holt Recruitment': 142, 'Senitor Associates Limited': 141, 'Assured Recruitment Solutions': 141, 'BMS Sales and Marketing Specialists': 140, 'Austin Fraser': 139, 'Swim Recruitment': 138, 'Heat Recruitment': 138, 'Protocol National': 138, 'Kings Permanent Recruitment': 138, 'Chef Selection Limited': 138, 'ReThink Recruitment': 138, 'Creative Personnel': 137, 'IPS Group': 137, 'Hays Credit Management': 137, 'Randstad Sales': 137, 'RecruitmentRevolution.com': 136, 'Lawes Insurance Recruitment': 136, 'ACS Recruitment Consultants Ltd': 136, 'Leisurejobs Recruitment': 135, 'Kare Plus Agencies Limited': 135, 'Penguin Recruitment Ltd': 135, 'Travel Trade Recruitment London': 135, 'Rullion IT Plus': 133, 'BBL Recruitment': 133, 'BS Social Care': 132, 'Eden Scott': 131, 'Quest Search and Selection': 131, 'MCS Group': 131, 'Saga Homecare': 130, 'McGinley Human Resources': 129, 'Travel Trade Recruitment.': 129, 'Hammond Recruitment': 129, 'C&M Recruitment': 128, 'Chadwick Nott ': 128, 'Vitae Financial Recruitment': 128, 'Supply Desk': 127, 'Forces Recruitment Services  Ltd': 127, 'Barchester Healthcare': 125, 'Pareto Law': 125, 'Perfect Placement UK Ltd': 124, 'Blue Arrow': 124, 'Wise Employment': 124, 'Barclay Meade': 123, 'Service Care Solutions': 123, 'Akton Recruitment': 122, 'Executive Recruitment Services': 122, 'Redrock Consulting': 121, 'Think Recruitment': 121, 'Rise Technical Recruitment Limited': 121, 'Euro London Appointments': 121, 'Support Services Group ': 121, 'Mackenzie Stuart': 120, 'AA Travel Appointments': 119, 'Jam Recruitment Ltd': 119, 'On Target Recruitment Ltd': 119, 'Harvey Nash': 118, 'Compass Associates Ltd': 118, 'Major Players': 118, 'Berry Recruitment': 117, 'Michael Page International PLC': 117, 'Dawson & Walsh': 117, 'Rullion Engineering Ltd': 117, 'Sanctuary Personnel': 117, 'The A24 Group': 117, 'JJ FOX': 116, 'Barker Ross': 116, 'Bramwith Consulting': 116, 'Venn Group': 116, 'Orion Electrotech': 116, 'Michael Page': 115, 'Hays Retail': 115, 'Webrecruit': 114, 'Acorn Recruitment': 114, 'Opus Recruitment Solutions Ltd': 114, 'CD Sales Recruitment': 114, 'EDUSTAFF': 113, 'ANSON MCCADE': 113, 'Invictus Group': 113, 'Future Select': 112, 'Pure Online Recruitment': 112, 'NonStop Recruitment Ltd': 112, 'CMC Consulting Limited': 112, 'TEKsystems': 112, 'The Works Uk Ltd': 111, 'Premiere People': 111, 'Genesis Associates': 111, 'Interquest Group': 111, 'Thorn Baker Ltd': 111, 'ASC Connections': 111, 'CHERRY RED RECRUITMENT': 111, 'Timothy James Consulting': 110, 'Evolve Hospitality': 109, 'Randstad Construction, Property Engineering': 108, 'STR Ltd.': 108, 'Calco Services Limited': 108, 'Future Select Recruitment': 107, 'CCN Recruitment': 107, 'Jobs at Capita': 107, 'Zest Solutions': 106, 'Petrie Recruitment': 106, 'Exchange Street Executive Search': 106, 'Sacco Mann': 106, 'Randstad Financial & Professional': 105, 'I Resourcer': 105, 'Ashley Kate HR': 105, 'Greywood Associates Ltd': 104, 'Alexander Lloyd': 104, 'Harrington Starr': 104, 'Salt': 104, 'Renard Resources': 104, 'Prestige Nursing': 104, 'New Frontiers': 103, 'Network Recruitment Partnership': 103, 'JHR': 103, 'Gold Group Ltd.': 103, 'EasyWebRecruitment.com': 102, 'Auto Skills UK': 102, 'Jonathan Lee Recruitment Ltd': 101, 'Taskmaster': 101, 'Leisure Jobs': 101, 'Coyle Personnel': 101, 'Detail 2 Leisure': 101, 'hyphen': 100, 'Success Appointments': 100, 'ERS': 100, 'Cooper Lomaz   Bury St Edmunds': 100, 'Mass Consultants Ltd': 100, 'Spectrum IT Recruitment  Ltd': 100, 'Nigel Frank International Ltd': 99, 'G2 Legal LTD': 98, 'Automation Experts': 98, 'Travel Trade Recruitment': 98, 'Corepeople Recruitment': 98, 'Time Recruitment Solutions Ltd': 97, 'Hays TCE Jobs': 97, 'Castle Recruitment': 97, 'PRS': 97, 'Pulse': 97, 'Not disclosed': 97, 'RecruitmentRevolution.com Limited': 97, 'NonStop Recruitment': 96, 'Parkside': 96, 'Eden Brown Ltd': 96, 'PTHR International Restaurants & Bars': 96, 'Interaction Finance': 96, 'HCL Nursing': 96, 'Hays IT': 96, 'PSD Group': 96, 'National Trust': 95, 'The Best Connection': 95, 'White Recruitment Limited': 94, 'Page Personnel': 94, 'ROC Retail': 94, 'Excel Technical Resourcing Solutions Ltd': 94, 'Forces Recruitment Services': 93, 'Merco': 93, 'Orange Recruitment': 93, 'JP Recruitment': 92, 'Badenoch Clark': 92, 'Coburg Banks Limited': 92, 'Edustaff  Ltd': 92, 'Jenrick Engineering': 92, 'Morgan McKinley': 91, 'Kent Social Care Professionals': 91, 'HAYS INFORMATION TECHNOLOGY': 91, 'Accenture': 91, 'Hays Specialist Recruitment Ltd': 91, 'Detail2Leisure': 90, 'Kennedy Pearce Consulting': 90, 'Michael Page Human Resources': 90, 'Conrad Consulting Ltd': 89, 'Bupa Care Services': 89, 'The Solution Auto': 89, 'Protocol Education': 89, 'Hillman Saunders': 89, 'Ambition': 89, 'Computer People  Limited': 87, 'ASC Connections Ltd': 87, 'Intech Recruitment Ltd': 87, 'Santander': 87, 'Redrock Consulting Ltd': 87, 'Henry Fox Recruitment': 87, 'Pro Finance': 87, 'Mencap': 86, 'Charterhouse Recruitment': 86, 'Randstad Technologies': 85, 'AA Appointments': 84, 'Allied Healthcare': 84, 'MTrec': 84, 'Searchability UK Ltd': 84, 'Fresh Connect Recruitment': 84, 'Ultimate Asset': 84, 'Douglas Scott Legal Recruitment': 83, 'Square One Resources': 83, 'Marks Sattin': 83, 'Aberdeenshire Council': 83, 'The People Network': 83, 'Thornbury Nursing': 83, 'Coal IT Services': 83, 'The Hammond Recruitment Group': 83, 'Horizon Teachers': 82, 'VanRath IT': 82, 'Freight Personnel': 82, 'Taste Hospitality Recruitment Ltd': 82, 'Precedo Healthcare': 82, 'Populus': 82, 'Caleeda Limited': 82, 'Zest 2 Recruitment': 81, 'Digby Morgan': 81, '360 Resourcing Solutions Ltd': 81, 'Search Consultancy Ltd': 81, 'BMS   Graduate': 81, 'Monarch Recruitment Limited': 81, 'Candidate Source': 81, 'GRADUATE FASTTRACK': 81, 'SEC Recruitment': 81, 'GPRS Recruitment': 80, 'Bright Selection': 80, 'Alexander Lloyd   Compliance & Financial Services': 80, 'Morson International': 80, 'Appetite4Recruitment   High End Restaurants, Pubs & Bars': 80, 'Fife Council': 80, 'Harris Hill': 80, 'Reed Specialist Recruitment': 80, 'Client Server': 80, 'First Choice Staff': 80, 'Claremont Consulting Ltd': 79, 'Tribepost Ltd': 79, 'HR GO Recruitment': 79, 'Paramount Recruitment': 79, 'HAYS': 79, 'eRecruit Solutions': 78, 'Vertu Motors': 78, 'Chess Partnership': 78, 'Michael Page Procurement & Supply Chain': 78, 'Modis International Limited': 78, 'MorePeople': 78, 'STR Group': 78, 'Recruitment North West': 78, 'NHS Lothian': 78, 'TRADEWIND RECRUITMENT': 78, 'Green Care Management': 78, 'Pzazz Retail': 77, 'Modern Business Solutions': 77, 'Berkeley Scott': 77, 'Match2Match': 77, 'Edustaff   Manchester': 77, 'Questech Recruitment Ltd': 77, 'TRS Consulting': 77, 'Phoenix Resourcing Services   PRS': 77, 'Lorien Resourcing': 77, 'Nonstop Pharma': 76, 'Informatiq Consulting': 76, 'STR Group Limited': 76, 'Four Financial Recruitment Ltd': 76, 'Berkeley Scott Chef Recruitment': 76, 'B&Q PLC': 75, 'Head Office': 75, 'TPP': 74, 'Harvester': 74, 'Fawkes and Reece Technical': 74, 'SERVOCA EDUCATION RESOURCING': 74, 'Team 24 Ltd': 74, 'Explore Group': 74, 'Networx.': 74, 'Solutions Recruitment': 73, 'Ceema Recruitment': 73, 'Better Placed Recruitment': 73, 'Parallel Consulting': 73, 'University of Edinburgh': 73, 'CMA Financial Recruitment': 73, 'Vertical IT': 73, 'Henry Nicholas Associates': 73, 'RH Recruiting Limited': 73, 'Master Class Education': 73, 'Idex Consulting LLP': 73, 'Premier Work Support': 73, 'People Source Consulting': 72, 'Nicholas Associates': 72, 'Pure Resourcing Solutions': 72, 'Dune Recruitment': 72, 'Euro London Appointments   London': 72, 'MBN Recruitment Ltd': 72, 'Brook Street Bureau PLC': 72, 'MTrec Recruitment': 72, 'Regional Recruitment Services': 72, 'CHM Recruit': 72, 'FPR Group': 72, 'MBN Recruitment': 71, 'Electus Recruitment Solutions': 71, 'Trident': 71, 'Networx Recruitment': 71, 'SLS Recruitment': 71, 'Additional Resources Ltd.': 71, 'ACADEMICS LTD': 71, 'Reuben Sinclair': 70, 'QA Apprenticeships': 70, 'Sanza Online': 70, 'McCarthy Recruitment': 70, 'Oliver James Associates': 70, 'Chase and Holland': 70, 'British Gas': 70, 'i resourcer': 70, 'Healthline Optical Recruitment': 70, 'Link For People Services': 69, 'GMK': 69, 'Mortimer Spinks': 69, 'Monarch Recruitment Ltd.': 69, 'Prime Appointments': 69, 'Medic International': 69, 'Monarch Education': 69, 'Client Server Ltd.': 69, 'BrightHouse': 69, 'Interaction Recruitment plc': 69, 'AndersElite': 68, 'Serco': 68, 'Carlisle Managed Solutions': 68, 'Portfolio Payroll Ltd': 68, 'Burns Sheehan': 68, 'Omega Resource Group': 68, 'C.O.A.L IT. Services Ltd': 68, 'Lipson Lloyd Jones   London': 68, 'Understanding Recruitment': 68, 'ACORN RECRUITMENT LIMITED': 68, 'Addison Fowle Ltd': 68, 'D R Newitt': 67, 'Sheridan Maine': 67, 'Shorterm Group': 67, 'G2 Healthcare Resourcing': 67, 'Digital Gurus': 67, 'Hays   Scotland': 67, 'Howett Thorpe': 67, 'Michael Page   Engineering Manufacture': 67, 'ATA Recruitment Ltd': 66, 'Michael Page Design': 66, 'C.O.A.L IT Services Ltd': 66, 'Potensis': 66, 'Vivid Resourcing Ltd': 66, 'Octane Recruitment': 66, 'Amida Recruitment Limited': 66, 'Redrock Consulting Limited': 66, 'Hewitson Walker': 66, 'Richmond Knightley Recruitment': 66, 'Hays Social Care': 66, 'Synergy': 66, 'Pro Recruitment Group': 66, 'Ashdown IT': 65, 'B&Q': 65, 'Medicare First Ltd': 65, 'Remedy Recruitment Group Ltd': 65, 'Alderwood Education': 65, 'EJ Legal': 65, 'ATA Rail': 64, 'SER Limited': 64, 'Stopgap': 64, 'Pioneer Selection': 64, 'Michael Page Logistics': 64, 'Calco Technical Recruitment Professionals': 64, 'Interaction   York': 64, 'PixiFoto': 64, 'Toby Carvery': 64, 'ecomrecruitment.com': 64, 'HORIZON TEACHERS': 63, 'Austin Fraser Limited': 63, 'BRC': 63, 'GCB Agency Recruitment': 63, 'DMJ Legal': 63, 'University of Southampton': 63, 'System Recruitment': 63, 'i4 Recruitment': 63, 'McGinley Support Services': 62, 'Roc Search': 62, 'Gateway Hospitality Recruitment': 62, 'Baltic Recruitment Services Ltd': 62, 'The Graduate Recruitment Company': 62, 'Paramount Personnel': 62, 'FRS Ltd': 62, 'AES TECHNICAL & EXECUTIVE CONSULTANTS': 61, 'Seven Acorns': 61, 'Investigo': 61, 'Webrecruit UK': 61, 'Blue Glue': 61, 'Kemp Recruitment Ltd': 61, 'Eligo Recruitment Ltd': 61, 'Coburg Banks': 61, 'Kelly Services': 61, 'Network Open': 61, 'Fawkes & Reece': 61, 'ECOM RECRUITMENT LTD': 61, 'Listen Recruitment': 61, 'Pro Tax': 61, 'Just Chefs': 61, 'Interaction Construction': 60, 'Annapurna HR Ltd': 60, 'Handle Recruitment': 60, 'Benchmark Recruit': 60, 'Oscar Associates  Limited': 60, 'Linear Recruitment Ltd': 60, 'City Centre Recruitment': 60, 'Capital Strategy Associates': 60, 'Xperian Recruitment Limited': 60, 'Project Resource Ltd': 60, 'Sammons Group': 60, 'Taylor Root': 60, 'NHS Greater Glasgow & Clyde': 60, 'Brite Recruitment': 60, 'Brian Hawkins': 60, 'Eurobase People': 60, 'Exposed Solutions': 60, 'Hays Internal Recruitment': 60, 'Sellick Partnership': 60, 'Selection Group Limited': 59, 'Recruitment Revolution': 59, 'Hays Leeds': 59, 'Hays Oil Gas': 59, 'Daniel Owen': 59, 'Professional Social Care Solutions Ltd': 59, 'Orgtel': 59, 'Morgan Hunt': 59, 'HumRes Recruitment': 59, 'Simply Education': 59, 'AFR Consulting': 59, 'EMPLOYMENT SPECIALISTS LTD': 59, 'Caffe Nero': 59, 'Simply Recruit Ltd': 59, 'ReThink Recruitment Solutions Ltd': 59, 'TRG Logistics': 58, 'University of Sheffield': 58, 'Remedy Education': 58, 'Hot Recruitment Consultants': 58, 'P9 Rec': 58, 'Ascent People Ltd': 58, 'Tate': 58, 'Niyaa People Ltd': 58, 'Spring Grp ': 58, 'CHM': 58, 'Adecco Premier': 58, 'Searchability  Ltd': 58, 'Workshop Recruitment': 58, 'Badenoch and Clark': 58, 'ATR Solutions': 58, 'Escape': 58, 'Maiday Recruitment': 57, 'Informatiq': 57, 'Zachary Daniels': 57, 'OCC Computer Personnel/RI': 57, 'Leisurejobs Executive Search': 57, 'Jobwise': 57, 'Nicholas Jon Recruitment': 57, 'Driven Motor Jobs': 57, 'BMS Graduates': 57, 'Ambis resourcing Partnership': 56, 'Redhill': 56, 'G4S Secure Solutions  Limited': 56, 'Abrecco': 56, 'Recruitment Solutions  Ltd': 56, 'Charles Hunter Associates': 56, 'Teachers UK': 56, 'Cubiq Recruitment': 56, 'Angela Mortimer Plc': 56, 'Grafton Recruitment   NI': 56, 'Print Upsell S X Post': 56, 'Communicate': 56, 'Enterprise Recruitment': 56, 'Page Personnel Secretarial & Business Support': 56, 'Caritas Recruitment': 56, 'Head Resourcing Ltd': 55, 'NRG Group': 55, 'Advantage Professional': 55, 'Enjoy Recruitment Group': 55, 'Venturi': 55, 'Hays Accountancy and Finance': 55, 'Spectrum Recruitment': 55, 'Parker White Consulting Ltd': 55, 'Omni Resource Management Solutions.': 55, 'Stafffinders': 55, 'Centrepoint Recruitment Consultants': 55, 'Diamond Recruitment Group': 55, 'Reqiva Ltd': 55, 'Black Fox Solutions': 55, 'Hamilton Mayday': 55, 'Resourcing Solutions Ltd': 54, 'ECS Group Ltd': 54, 'Invigorate Recruitment': 54, 'Armed Forces Central Careers Office': 54, 'HCP International Ltd': 54, 'Century House': 54, 'The London Teaching Pool Ltd': 54, 'Asquith Nurseries': 54, '1st Executive Ltd': 54, 'Hays Construction and Property': 54, 'Genesis': 54, 'NES UK': 54, 'IT Executive Recruitment': 54, 'eNL': 54, 'High Finance Group': 54, 'Equal Approach Limited': 53, 'Collins King & Associates Limited': 53, 'Personnel Selection': 53, 'Management Recruitment Group': 53, 'PROTOCOL EDUCATION': 53, 'Focus Resourcing': 53, 'Sammons Pensions': 53, 'Switch Recruitment': 53, 'Capita Resourcing IT': 53, 'G2 Recruitment Ltd': 53, 'Extra Personnel': 53, 'Network Rail Ltd': 53, 'Network Marketing': 53, 'Star Actuarial Futures': 53, 'Alexander Lloyd   Accountancy': 53, 'Change Recruitment': 53, 'Edwards Pearce': 53, 'Jobs@Pertemps   Newcastle Commercial': 53, 'HUNTER SELECTION': 53, 'Abacus Professional Recruitment': 53, 'Hays   Sheffield': 53, 'Badenoch & Clark   Manchester.': 53, 'Future Engineering Recruitment Ltd': 53, 'Sharp Consultancy': 53, 'Puro Search Ltd': 53, 'Genesis Associates  Limited': 52, 'VanRath': 52, 'Inspired Selections Ltd': 52, 'MedicsPro Ltd': 52, 'PULSE': 52, 'Finegreen Associates': 52, 'MEET THE REAL ME LTD': 52, 'Apex Recruitment': 52, 'Diamond Resourcing': 52, 'Select Hospitality': 52, 'On Target Recruitment Limited': 52, 'Capita Resourcing Social Care and Housing': 52, 'University of Warwick': 52, 'HTE Recruitment': 52, '360 Resourcing': 52, 'Rullion Resource': 52, 'HMGT Services Limited': 52, 'Calibre Candidates': 51, 'Aston Recruitment': 51, 'Brunning and Price': 51, 'McGregor Boyall': 51, 'Pro Legal Recruitment': 51, 'Kinetic Plc': 51, 'Stafforce Recruitment': 51, 'Argyll Scott Technology': 51, 'Quest Search and Selection Ltd': 51, 'Verticality Ltd': 51, 'Time Recruitment Solutions': 51, 'GRADUATE RECRUITMENT COMPANY': 51, 'Advance Recruitment': 51, 'Harnham Search & Selection': 51, 'Ceema Technology Recruitment': 51, 'Anonymous': 51, 'SportsDirect': 51, 'Sewell Moorhouse': 51, 'SG Group': 51, 'Technical Resources Ltd': 50, 'Girling Jones Ltd': 50, 'Appetite4Recruitment   High End Restaurants, Pubs Bars': 50, 'HEADS Recruitment Limited': 50, 'Volt': 50, 'Unity Recruitment': 50, 'Premier Technical Recruitment': 50, 'AMR': 50, 'Reed': 50, 'Enterprise Recruitment Ltd': 50, 'Reed Technology': 50, 'RHL': 50, 'PTHR International Restaurants Bars': 50, 'Progress Recruitment Solution': 50, 'Hays Risk Compliance': 50, 'Cityscape Recruitment Ltd': 50, 'Brand Recruitment': 50, 'CREATIVE SUPPORT': 49, 'Clemtech': 49, 'Blue Arrow   Southampton': 49, 'Gap Personnel': 49, 'Gold Group Limited': 49, 'Aaron Wallis Sales Recruitment': 49, 'SIMPLY EDUCATION': 49, 'Recruitment Direct': 49, 'Albior Financial Recruitment': 49, 'IQ ESM': 49, 'Berry Technical': 49, 'Mane Contract Services': 49, 'MORGAN HUNT': 49, 'b3 jobs': 49, 'Tech People': 49, '2M Employment Solutions Ltd': 49, 'Professional Social Care Solutions': 48, 'Edwards & Pearce': 48, 'Code Blue Recruitment': 48, 'Advantage Group': 48, 'Remedicare Staffing Limited': 48, 'Three People': 48, 'Vintage Inns': 48, 'Fully Booked': 48, 'The Oyster Partnership': 48, 'Ambitek Limited': 48, 'Calibre Search': 48, '360 Resourcing Solutions': 48, 'Hays Specialist Recruitment   Further Education': 48, 'Cititec Associates Limited': 48, 'Platinum Financial Recruitment': 47, 'Ellis Mack': 47, 'Fawkes Reece Recruitment Solutions': 47, 'i4 Recruitment Account': 47, 'Appetite 4 Recruitment': 47, 'Minstrell Recruitment Ltd': 47, 'Premium Country Dining Group': 47, 'Frazer Jones': 47, 'PETS AT HOME GROUP LIMITED': 47, 'Paediatric Nursing Jobs': 47, 'Deerfoot IT Resources Ltd': 47, 'RAF CAREERS': 47, 'Sharna Associates': 47, 'Badenoch & Clark   Birmingham.': 47, 'TXM Healthcare': 47, 'Deverell Smith Recruitment': 47, 'FastTrack Management Services Limited': 47, 'Barrington James Ltd': 47, 'Omni Resource Management Solutions': 47, 'Blue Octopus Recruitment': 47, 'Douglas Scott': 47, 'Bloom Retail': 47, 'Explore Recruitment Solutions': 46, 'PRG': 46, 'Bond Search & Selection': 46, 'Pioneer Selection Ltd': 46, 'V3 Group': 46, 'Outsource UK Ltd': 46, 'MORGAN LAW': 46, 'Easyweb Recruitment': 46, 'ABC Teachers': 46, 'Heat Recruitment Ltd': 46, 'Bucks & Berks Recruitment PLC': 46, 'AMBRIDGE HARRIS ASSOCIATES': 46, 'Yolk Recruitment': 46, 'Haybrook IT Resourcing Ltd': 46, 'The Bridge Ltd': 46, 'Fawkes & Reece social care': 46, 'Conrad Scott': 46, 'Crown Carveries': 46, 'Kinetic PLC': 46, 'Greywood Associates Limited': 46, 'Cavendish Maine': 46, 'AXA': 46, 'Annapurna HR': 46, 'Plus One Personnel': 46, 'Creative Recruitment': 46, 'Enterprise Recruitment Limited': 46, 'HYF': 46, 'MBN Recruitment Solutions Ltd': 45, 'Catermatch Solutions': 45, 'Sizzling Pub Co.': 45, 'Law Professionals': 45, 'P9 Rec Ltd': 45, 'Classic Consulting  Ltd': 45, 'Carillion Plc': 45, 'Oho Group': 45, 'oscar associates': 45, 'Michael Page Construction': 45, 'Orchid Healthcare': 45, 'Ad Lib': 45, 'Madison Bridge': 45, 'The Selection Partnership Ltd': 45, 'Orcinus Recruit': 45, 'CPL Newry & Belfast': 45, 'ETS Consulting': 45, 'John Gibson Associates': 44, 'Integrated Dental Holdings': 44, 'AMR   West of England': 44, 'Aberdeen City Council': 44, 'Blue Octopus Recruitment Limited': 44, 'Park Street People': 44, 'Edustaff Manchester Ltd': 44, 'TRG': 44, 'Watson Moore': 44, '1st Place': 44, 'First Personnel Services plc': 44, 'Howard Jackson Associates': 44, 'People Source Consulting.': 44, 'Green Recruitment Company': 44, 'Switch Recruitment Services Ltd': 44, 'JEM Childcare Solutions': 44, 'PMA Recruitment': 44, 'Orion Electrotech Ltd': 44, 'Premier Group': 44, 'Enjoy Recruitment Group Ltd': 44, 'R3 Resourcing': 44, 'Citizen Recruitment': 44, 'Gregory Martin International': 44, 'IPS Group Ltd': 44, 'Assured Recruitment Solutions Ltd': 44, 'Matchtech   IT Division': 44, 'Rugby Recruitment Services Ltd': 44, 'Robert Half': 44, 'Axon Resourcing Limited': 44, 'MechanicsRus': 43, 'Contract Options': 43, 'Vacancy Filler': 43, 'CRA Consulting': 43, 'Coast Specialist Recruitment': 43, 'Chase Holland': 43, 'Quantum Recruitment': 43, 'Advantage Technical Resourcing Limited': 43, 'Strike Jobs': 43, 'MW Appointments': 43, 'Rubicon People': 43, 'Oscar Associates  Ltd': 43, 'Randstad CPE Limited': 43, 'Mansell Recruitment Group': 43, 'iKas International': 43, 'Focus Management Consultants Ltd': 43, 'The One Group': 43, 'Luton Bennett Limited': 43, 'hiredonline': 43, 'Understanding Recruitment Ltd': 43, 'Aspire Data Recrutiment': 43, 'Pyramid8': 43, 'Medacs Healthcare': 43, 'Engage PSG': 43, 'Sanderson Recruitment': 43, 'Applause IT Limited': 43, 'Prism Digital': 43, 'Project Partners': 43, 'Chase Medical': 43, 'Bramhall Recruitment Ltd': 43, 'Venturi Ltd': 42, 'Astute Technical Recruitment Ltd': 42, 'AMR Group': 42, 'BRAND RECRUITMENT': 42, 'Flame Pharma': 42, 'Barrington James': 42, 'pro education': 42, 'Helix Recruitment Ltd': 42, 'Pursuit Recruitment': 42, 'A1 People': 42, 'Purple Consultancy': 42, 'Linsco': 42, 'Ember Inns': 42, 'The Business Connection': 42, 'Anglian Home Improvements': 42, 'Badenoch & Clark   Leeds.': 42, 'EWI Recruitment': 42, 'Pzazz': 42, 'ISL': 42, 'Randstad Business Support': 42, 'Hiredonline': 42, 'Portfolio Payroll Limited': 42, 'Pearson Whiffin Affinity': 42, 'Grafton Banks Finance Ltd': 42, 'Sensible Staffing': 42, 'IT Executive': 42, 'Deerfoot IT Resources Limited': 42, 'HCL Permanent.': 42, 'The London Teaching Pool': 42, 'Connections Recruitment Limited': 42, 'Oasis HR': 42, 'SpaYse': 42, 'Kurtis james recruitment': 41, 'Forrest Recruitment': 41, 'Just Recruitment Group': 41, 'Macildowie': 41, 'Tech Direct': 41, 'Macildowie Associates Limited': 41, 'Select Appointments': 41, 'Celsian Education': 41, 'Succeed Recruitment Solutions': 41, 'Language Recruitment Services.': 41, 'Xpress Recruitment': 41, 'Industrial Personnel Ltd': 41, 'Pytec IT Recruitment': 41, 'CPL': 41, 'Concept Recruitment Group Ltd': 41, 'Angel Human Resources': 41, 'Grafton Banks': 41, 'CK Group ': 41, 'Imperial College London': 41, 'SRG': 41, 'Logic': 41, \"Nando's\": 41, 'Spectrum IT': 41, 'Hays Education': 41, 'Reflex Computer Recruitment Limited': 41, 'Fruition IT Resources Limited': 41, 'Marshall Moore': 41, 'Prospects4Corporate Travel': 41, 'Information Technology Services': 41, 'Sequence': 41, 'Charity People': 41, 'Walker Dendle': 41, 'HARVARD BROWN LTD': 41, 'MSI Nurses LTD': 41, 'itk Recruitment': 41, 'Ask Associates': 41, 'IC 3e': 40, 'SCI Recruitment for Scientists': 40, 'Greythorn': 40, 'Intech Recruitment.': 40, 'Flow Caritas': 40, 'Workmates': 40, 'BlueTownOnline.co.uk': 40, 'White Recruitment': 40, 'CG Consultants': 40, 'Hot Recruitment Consultants Ltd': 40, 'North Yorkshire County Council': 40, 'Inside Out Purchasing Supply': 40, 'Exsurgo Ltd': 40, 'SCC': 40, 'Lawrence Harvey': 40, 'PK Education': 40, 'Hays Healthcare': 40, 'Hays Finance Technology': 40, 'MERJE': 40, 'GB Solutions': 40, 'Oakland House Recruitment': 40, 'Probe Technical Recruitment': 40, 'ACS Recruitment': 40, 'MAJOR PLAYERS': 40, 'PMP Solutions Ltd': 40, 'MatchBox Recruiting Ltd': 40, 'Cobalt Recruitment': 40})>"
      ]
     },
     "execution_count": 111,
     "metadata": {},
     "output_type": "execute_result"
    }
   ],
   "source": [
    "Counter(data.Company).most_common"
   ]
  },
  {
   "cell_type": "code",
   "execution_count": 89,
   "metadata": {},
   "outputs": [],
   "source": [
    "rubbish_columns = ['Id', 'LocationRaw', 'SalaryRaw', 'SourceName']\n",
    "text_columns = [\"Title\", \"FullDescription\"]\n",
    "categorical_columns = [\"Category\", \"Company\", \"LocationNormalized\", \"ContractType\", \"ContractTime\"]"
   ]
  },
  {
   "cell_type": "markdown",
   "metadata": {},
   "source": [
    "# Preprocessing"
   ]
  },
  {
   "cell_type": "code",
   "execution_count": 122,
   "metadata": {},
   "outputs": [],
   "source": [
    "from sklearn.base import TransformerMixin\n",
    "import sklearn.preprocessing\n",
    "from collections import defaultdict"
   ]
  },
  {
   "cell_type": "code",
   "execution_count": 121,
   "metadata": {},
   "outputs": [],
   "source": [
    "class PreprocessGeneral(TransformerMixin):\n",
    "    def fit(self, data):\n",
    "        return self\n",
    "        \n",
    "    def transform(self, data):\n",
    "        new_data = pd.DataFrame()\n",
    "        for column in text_columns + categorical_columns:\n",
    "            new_data[column] = data[column]\n",
    "        new_data['Log1pSalary'] = np.log1p(data['SalaryNormalized']).astype('float32')\n",
    "        new_data[categorical_columns] = data[categorical_columns].fillna('NaN')\n",
    "        return new_data"
   ]
  },
  {
   "cell_type": "code",
   "execution_count": 178,
   "metadata": {},
   "outputs": [
    {
     "data": {
      "text/plain": [
       "LabelEncoder()"
      ]
     },
     "execution_count": 178,
     "metadata": {},
     "output_type": "execute_result"
    }
   ],
   "source": [
    "le = sklearn.preprocessing.LabelEncoder()\n",
    "le.fit(data[\"ContractType\"] + data['ContractTime'])"
   ]
  },
  {
   "cell_type": "code",
   "execution_count": 180,
   "metadata": {},
   "outputs": [],
   "source": [
    "a = le.transform(data[\"ContractType\"] + data['ContractTime'])"
   ]
  },
  {
   "cell_type": "code",
   "execution_count": 195,
   "metadata": {},
   "outputs": [
    {
     "data": {
      "text/plain": [
       "LabelEncoder()"
      ]
     },
     "execution_count": 195,
     "metadata": {},
     "output_type": "execute_result"
    }
   ],
   "source": [
    "le.fit(np.concatenate([data['Category'], ['other']]))"
   ]
  },
  {
   "cell_type": "code",
   "execution_count": 196,
   "metadata": {},
   "outputs": [
    {
     "data": {
      "text/plain": [
       "array(['Accounting & Finance Jobs', 'Admin Jobs',\n",
       "       'Charity & Voluntary Jobs', 'Consultancy Jobs',\n",
       "       'Creative & Design Jobs', 'Customer Services Jobs',\n",
       "       'Domestic help & Cleaning Jobs', 'Energy, Oil & Gas Jobs',\n",
       "       'Engineering Jobs', 'Graduate Jobs', 'HR & Recruitment Jobs',\n",
       "       'Healthcare & Nursing Jobs', 'Hospitality & Catering Jobs',\n",
       "       'IT Jobs', 'Legal Jobs', 'Logistics & Warehouse Jobs',\n",
       "       'Maintenance Jobs', 'Manufacturing Jobs', 'Other/General Jobs',\n",
       "       'PR, Advertising & Marketing Jobs', 'Part time Jobs',\n",
       "       'Property Jobs', 'Retail Jobs', 'Sales Jobs',\n",
       "       'Scientific & QA Jobs', 'Social work Jobs', 'Teaching Jobs',\n",
       "       'Trade & Construction Jobs', 'Travel Jobs', 'other'], dtype=object)"
      ]
     },
     "execution_count": 196,
     "metadata": {},
     "output_type": "execute_result"
    }
   ],
   "source": [
    "le.classes_"
   ]
  },
  {
   "cell_type": "code",
   "execution_count": 193,
   "metadata": {},
   "outputs": [
    {
     "ename": "ValueError",
     "evalue": "y contains new labels: ['other']",
     "output_type": "error",
     "traceback": [
      "\u001b[0;31m---------------------------------------------------------------------------\u001b[0m",
      "\u001b[0;31mValueError\u001b[0m                                Traceback (most recent call last)",
      "\u001b[0;32m<ipython-input-193-0a7c312d62a7>\u001b[0m in \u001b[0;36m<module>\u001b[0;34m()\u001b[0m\n\u001b[0;32m----> 1\u001b[0;31m \u001b[0mle\u001b[0m\u001b[0;34m.\u001b[0m\u001b[0mtransform\u001b[0m\u001b[0;34m(\u001b[0m\u001b[0;34m[\u001b[0m\u001b[0;34m'other'\u001b[0m\u001b[0;34m]\u001b[0m\u001b[0;34m)\u001b[0m\u001b[0;34m\u001b[0m\u001b[0m\n\u001b[0m",
      "\u001b[0;32m/usr/local/lib/python3.5/dist-packages/sklearn/preprocessing/label.py\u001b[0m in \u001b[0;36mtransform\u001b[0;34m(self, y)\u001b[0m\n\u001b[1;32m    131\u001b[0m         \u001b[0;32mif\u001b[0m \u001b[0mlen\u001b[0m\u001b[0;34m(\u001b[0m\u001b[0mnp\u001b[0m\u001b[0;34m.\u001b[0m\u001b[0mintersect1d\u001b[0m\u001b[0;34m(\u001b[0m\u001b[0mclasses\u001b[0m\u001b[0;34m,\u001b[0m \u001b[0mself\u001b[0m\u001b[0;34m.\u001b[0m\u001b[0mclasses_\u001b[0m\u001b[0;34m)\u001b[0m\u001b[0;34m)\u001b[0m \u001b[0;34m<\u001b[0m \u001b[0mlen\u001b[0m\u001b[0;34m(\u001b[0m\u001b[0mclasses\u001b[0m\u001b[0;34m)\u001b[0m\u001b[0;34m:\u001b[0m\u001b[0;34m\u001b[0m\u001b[0m\n\u001b[1;32m    132\u001b[0m             \u001b[0mdiff\u001b[0m \u001b[0;34m=\u001b[0m \u001b[0mnp\u001b[0m\u001b[0;34m.\u001b[0m\u001b[0msetdiff1d\u001b[0m\u001b[0;34m(\u001b[0m\u001b[0mclasses\u001b[0m\u001b[0;34m,\u001b[0m \u001b[0mself\u001b[0m\u001b[0;34m.\u001b[0m\u001b[0mclasses_\u001b[0m\u001b[0;34m)\u001b[0m\u001b[0;34m\u001b[0m\u001b[0m\n\u001b[0;32m--> 133\u001b[0;31m             \u001b[0;32mraise\u001b[0m \u001b[0mValueError\u001b[0m\u001b[0;34m(\u001b[0m\u001b[0;34m\"y contains new labels: %s\"\u001b[0m \u001b[0;34m%\u001b[0m \u001b[0mstr\u001b[0m\u001b[0;34m(\u001b[0m\u001b[0mdiff\u001b[0m\u001b[0;34m)\u001b[0m\u001b[0;34m)\u001b[0m\u001b[0;34m\u001b[0m\u001b[0m\n\u001b[0m\u001b[1;32m    134\u001b[0m         \u001b[0;32mreturn\u001b[0m \u001b[0mnp\u001b[0m\u001b[0;34m.\u001b[0m\u001b[0msearchsorted\u001b[0m\u001b[0;34m(\u001b[0m\u001b[0mself\u001b[0m\u001b[0;34m.\u001b[0m\u001b[0mclasses_\u001b[0m\u001b[0;34m,\u001b[0m \u001b[0my\u001b[0m\u001b[0;34m)\u001b[0m\u001b[0;34m\u001b[0m\u001b[0m\n\u001b[1;32m    135\u001b[0m \u001b[0;34m\u001b[0m\u001b[0m\n",
      "\u001b[0;31mValueError\u001b[0m: y contains new labels: ['other']"
     ]
    }
   ],
   "source": [
    "le.transform(['other'])"
   ]
  },
  {
   "cell_type": "code",
   "execution_count": 199,
   "metadata": {},
   "outputs": [],
   "source": [
    "mean = data.groupby('preprocessed_' + 'Company')['Log1pSalary'].mean()"
   ]
  },
  {
   "cell_type": "code",
   "execution_count": 202,
   "metadata": {},
   "outputs": [
    {
     "data": {
      "text/plain": [
       "10.191086"
      ]
     },
     "execution_count": 202,
     "metadata": {},
     "output_type": "execute_result"
    }
   ],
   "source": [
    "mean.get('ARRAY')"
   ]
  },
  {
   "cell_type": "markdown",
   "metadata": {},
   "source": [
    "## Categorical data"
   ]
  },
  {
   "cell_type": "code",
   "execution_count": null,
   "metadata": {},
   "outputs": [],
   "source": [
    "class PreprocessCategorical(TransformerMixin):\n",
    "    def __init__(min_company=40, min_city=20):\n",
    "        self.le_category = sklearn.preprocessing.LabelEncoder()\n",
    "        self.le_type = sklearn.preprocessing.LabelEncoder()\n",
    "        self.city_counter = Counter()\n",
    "        self.company_counter = Counter()\n",
    "        self.min_company = min_company\n",
    "        self.min_city = min_city\n",
    "        \n",
    "    def _fit_category(self, data):\n",
    "        le.fit(np.concatenate([data['Category'], ['other']]))\n",
    "        \n",
    "    def _fit_type(self, data):\n",
    "        self.le_type.fit(data['ContractTime'] + data['ContractType'])\n",
    "        \n",
    "    def _fit_city_company(self, data, what, minimum):\n",
    "        keys = {value if count >= minimum else 'other' for value, count in Counter(data[what]).most_common()}\n",
    "        data['preprocessed_' + what] = data[what].apply(lambda value: value if value in keys else 'other')\n",
    "        self.mean[what] = data.groupby('preprocessed_' + what)['Log1pSalary'].mean()\n",
    "        del data['preprocessed_' + what]\n",
    "        \n",
    "    def fit(self, data):\n",
    "        self._fit_category(data)\n",
    "        self._fit_city_company(data, 'LocationNormalized', self.min_city)\n",
    "        self._fit_city_company(data, 'Company', self.min_company)\n",
    "        self._fit_type(data)\n",
    "        return self\n",
    "    \n",
    "    def _transform_category(self, data, new_data):\n",
    "        new_data['Category'] = data['Category'].apply(lambda value: self.le_category.transform(value) \n",
    "                                                      if value in self.le_category.classes_ \n",
    "                                                      else self.le_category.transform('other'))\n",
    "    \n",
    "    def _transform_type(self, data, new_data):\n",
    "        new_data['Contract'] = self.le_type.transform(data['ContractTime'] + data['ContractType'])\n",
    "        \n",
    "        \n",
    "    def _transform_city_company(self, data, what, new_data):\n",
    "        new_data[what] = data[what].apply(self.mean[what].get)\n",
    "        \n",
    "    def transform(self, data):\n",
    "        new_data = pd.DataFrame()\n",
    "        self._transform_category(data, new_data)\n",
    "        self._transform_type(data, new_data)\n",
    "        self._transform_city_company(data, 'LocationNormalized', new_data)\n",
    "        self._transform_city_company(data, 'Company', new_data)\n",
    "        for i \n",
    "        "
   ]
  },
  {
   "cell_type": "markdown",
   "metadata": {},
   "source": [
    "## Text data"
   ]
  },
  {
   "cell_type": "code",
   "execution_count": null,
   "metadata": {},
   "outputs": [],
   "source": [
    "import nltk\n",
    "\n",
    "class PreprocessText(TransformerMixin):\n",
    "    def __init__(self):\n",
    "        tokenizer = nltk.tokenize.WordPunctTokenizer()\n",
    "    \n",
    "    def fit(self, data):\n",
    "        for col in text_columns:\n",
    "            data[col] = data[col].apply(lambda l: ' '.join(tokenizer.tokenize(str(l).lower())))\n",
    "        \n",
    "    def transform(self, data):"
   ]
  },
  {
   "cell_type": "code",
   "execution_count": 91,
   "metadata": {},
   "outputs": [],
   "source": [
    "preprocess_data(data)"
   ]
  },
  {
   "cell_type": "code",
   "execution_count": 17,
   "metadata": {
    "scrolled": true
   },
   "outputs": [
    {
     "name": "stdout",
     "output_type": "stream",
     "text": [
      "Category Counter({'IT Jobs': 38483, 'Engineering Jobs': 25174, 'Accounting & Finance Jobs': 21846, 'Healthcare & Nursing Jobs': 21076, 'Sales Jobs': 17272, 'Other/General Jobs': 17055, 'Teaching Jobs': 12637, 'Hospitality & Catering Jobs': 11351, 'PR, Advertising & Marketing Jobs': 8854, 'Trade & Construction Jobs': 8837, 'HR & Recruitment Jobs': 7713, 'Admin Jobs': 7614, 'Retail Jobs': 6584, 'Customer Services Jobs': 6063, 'Legal Jobs': 3939, 'Manufacturing Jobs': 3765, 'Logistics & Warehouse Jobs': 3633, 'Social work Jobs': 3455, 'Consultancy Jobs': 3263, 'Travel Jobs': 3126, 'Scientific & QA Jobs': 2489, 'Charity & Voluntary Jobs': 2332, 'Energy, Oil & Gas Jobs': 2255, 'Creative & Design Jobs': 1605, 'Maintenance Jobs': 1542, 'Graduate Jobs': 1331, 'Property Jobs': 1038, 'Domestic help & Cleaning Jobs': 291, 'Part time Jobs': 145}) \n",
      "\n",
      "Company Counter({'Other': 95650, 'NaN': 32430, 'UKStaffsearch': 4997, 'CVbrowser': 2977, 'London4Jobs': 2345, 'Hays': 1784, 'JAM Recruitment Ltd': 1122, 'Office Angels': 961, 'Jobsite Jobs': 932, 'Perfect Placement': 865, 'ARRAY': 847, 'JOBG8': 841, 'Matchtech Group plc.': 834, 'Penguin Recruitment': 752, 'Randstad': 748, 'Adecco': 701, 'Michael Page Finance': 634, 'Adecco Group': 592, 'BMS Sales Specialists LLP': 559, 'COREcruitment International': 551, 'Page Personnel Finance': 536, 'Capita Resourcing': 495, 'Michael Page Sales': 486, 'Matchtech': 474, 'Rise Technical Recruitment Ltd': 460, 'Experis IT': 446, 'ATA Recruitment': 438, 'Huxley Associates': 431, 'Interaction Recruitment': 428, 'Support Services Group': 419, 'Brookstreet UK': 417, 'Michael Page Marketing': 413, 'Real Staffing': 392, 'Spring Personnel': 392, 'Computer People': 375, '4Social Work': 373, 'SF Group': 373, 'Randstad Care': 348, 'Fresh Partnership': 347, 'Search Consultancy': 342, 'Computer Futures': 342, 'Recruitment Genius': 340, 'JAM Recruitment Ltd.': 333, 'Senitor Associates': 330, 'Huntress Group': 326, 'Edustaff': 324, 'TeacherActive': 321, 'Rise Technical Recruitment': 307, 'Tradewind Recruitment': 303, 'Edustaff   Birmingham': 303, 'Modis': 297, 'JAM Recruitment': 297, 'Chef Results': 295, 'Prime Time Recruitment': 291, 'Capita Education Resourcing': 284, 'Aspire Data Recruitment': 284, 'White Recruitment Ltd': 284, 'Elite Associates': 283, 'Matchtech Group Plc': 275, 'Randstad CPE': 274, 'Triumph Consultants': 272, 'Evolution Recruitment Solutions': 270, 'PFJ': 265, 'Retail Human Resources': 263, 'Fusion People': 262, 'Circle Recruitment': 262, 'Nigel Frank International': 262, 'W5 Recruitment': 261, 'The Placement Group': 258, 'Clearwater People Solutions': 258, 'Progressive Recruitment': 257, 'Edustaff London Ltd': 255, 'Moriati Media UK Ltd': 255, 'Hays Specialist Recruitment': 253, 'Additional Resources': 252, 'ATA': 252, 'Randstad Retail': 251, 'Platinum Recruitment Consultancy': 247, 'CMC Consulting': 245, 'Clear Selection': 244, 'Aston Carter': 244, 'Project Resource': 237, 'Hays Senior Finance': 234, 'Hays A F': 233, 'Goodman Masson': 232, 'Eden Brown': 230, 'Bee Recruitment London Ltd': 229, 'Badenoch & Clark   London ': 228, 'eRecruit Solutions Ltd': 226, 'James Webber Recruitment': 222, 'Additional Resources Ltd': 222, 'Aspire People': 220, 'Pertemps': 220, 'Spring Technology': 218, 'Liquid Personnel': 216, 'Academics Ltd': 215, 'Monarch Recruitment': 214, 'Fawkes Reece': 212, 'Michael Page Financial Services': 209, 'INTERACTION RECRUITMENT': 209, 'Castlerock Recruitment Group': 209, 'Cherryred Recruitment': 207, 'Populus Healthcare': 205, 'Hot Recruitment': 204, 'h2 Recruit Ltd': 203, 'IDEX Consulting LLP': 202, 'BMS Recruitment': 200, 'Four Seasons Health Care': 200, 'SYK Recruitment': 199, 'Robert Walters': 199, 'Wallace Hind Selection': 198, 'Candidate Source Ltd': 198, 'ARM': 198, 'Alecto Recruitment': 197, 'CBSbutler': 197, 'Eclypse Recruitment': 195, 'Prospect Health': 194, 'Web Recruit Ltd': 194, 'Redline Group': 190, 'Redline Group Ltd': 190, 'Gi Group': 189, 'FASHION & RETAIL PERSONNEL LIMITED': 188, 'mgi recruitment': 188, 'CVUK': 187, 'IC Software': 187, 'Fusion People Ltd': 186, 'MedicsPro': 184, 'Recruiting for Care': 184, 'Capita Education': 183, 'Simplified Recruitment': 183, 'Premier Group Recruitment': 180, 'Swiis Healthcare': 179, 'Evolution Recruitment Solutions Ltd': 178, 'HCL Permanent': 178, 'Selby Jennings': 178, 'Hudson': 177, 'Towngate Personnel': 177, 'H2 Recruit': 176, 'Michael Page Retail': 174, 'Freedom Recruitment': 174, 'STR Limited': 172, 'Blue Skies Marketing Recruitment': 169, 'Inspired Selections': 168, 'Creative Support': 168, 'Ruth Moran': 166, 'Encore Personnel': 166, 'Blue Octopus Recruitment Ltd': 165, 'CV Screen Ltd': 165, 'Real': 164, 'Domus Recruitment': 164, 'Red Dot Recruitment': 162, 'CAREER TEACHERS': 161, 'Resourcing Group': 161, 'Flame Health Associates LLP': 160, 'Liquid Personnel Ltd': 159, 'Noir Consulting': 159, 'Idex Consulting': 158, 'Concept IT': 158, 'Advantage Technical Resourcing': 157, 'Oakleaf Partnership': 156, 'Appoint Group': 154, 'Harvey Nash plc': 149, 'Prospects4Leisure Travel': 149, 'Additional Resources Limited': 148, 'BMS Sales Specialists': 148, 'Project Resource Limited': 148, 'Travail Employment Group': 147, 'SEC Recruitment Limited': 147, 'Ashdown Group': 147, 'North Point Recruitment': 147, 'Regent Recruitment': 147, 'Meridian Business Support': 146, 'Bond Recruitment': 146, 'Carillion plc': 145, 'Spencer Ogden': 144, 'ITN Mark Education': 144, 'Macildowie Associates.': 143, 'Holt Recruitment': 142, 'Senitor Associates Limited': 141, 'Assured Recruitment Solutions': 141, 'BMS Sales and Marketing Specialists': 140, 'Austin Fraser': 139, 'Swim Recruitment': 138, 'Heat Recruitment': 138, 'Protocol National': 138, 'Kings Permanent Recruitment': 138, 'Chef Selection Limited': 138, 'ReThink Recruitment': 138, 'Creative Personnel': 137, 'IPS Group': 137, 'Hays Credit Management': 137, 'Randstad Sales': 137, 'RecruitmentRevolution.com': 136, 'Lawes Insurance Recruitment': 136, 'ACS Recruitment Consultants Ltd': 136, 'Leisurejobs Recruitment': 135, 'Kare Plus Agencies Limited': 135, 'Penguin Recruitment Ltd': 135, 'Travel Trade Recruitment London': 135, 'Rullion IT Plus': 133, 'BBL Recruitment': 133, 'BS Social Care': 132, 'Eden Scott': 131, 'Quest Search and Selection': 131, 'MCS Group': 131, 'Saga Homecare': 130, 'McGinley Human Resources': 129, 'Travel Trade Recruitment.': 129, 'Hammond Recruitment': 129, 'C&M Recruitment': 128, 'Chadwick Nott ': 128, 'Vitae Financial Recruitment': 128, 'Supply Desk': 127, 'Forces Recruitment Services  Ltd': 127, 'Barchester Healthcare': 125, 'Pareto Law': 125, 'Perfect Placement UK Ltd': 124, 'Blue Arrow': 124, 'Wise Employment': 124, 'Barclay Meade': 123, 'Service Care Solutions': 123, 'Akton Recruitment': 122, 'Executive Recruitment Services': 122, 'Redrock Consulting': 121, 'Think Recruitment': 121, 'Rise Technical Recruitment Limited': 121, 'Euro London Appointments': 121, 'Support Services Group ': 121, 'Mackenzie Stuart': 120, 'AA Travel Appointments': 119, 'Jam Recruitment Ltd': 119, 'On Target Recruitment Ltd': 119, 'Harvey Nash': 118, 'Compass Associates Ltd': 118, 'Major Players': 118, 'Berry Recruitment': 117, 'Michael Page International PLC': 117, 'Dawson & Walsh': 117, 'Rullion Engineering Ltd': 117, 'Sanctuary Personnel': 117, 'The A24 Group': 117, 'JJ FOX': 116, 'Barker Ross': 116, 'Bramwith Consulting': 116, 'Venn Group': 116, 'Orion Electrotech': 116, 'Michael Page': 115, 'Hays Retail': 115, 'Webrecruit': 114, 'Acorn Recruitment': 114, 'Opus Recruitment Solutions Ltd': 114, 'CD Sales Recruitment': 114, 'EDUSTAFF': 113, 'ANSON MCCADE': 113, 'Invictus Group': 113, 'Future Select': 112, 'Pure Online Recruitment': 112, 'NonStop Recruitment Ltd': 112, 'CMC Consulting Limited': 112, 'TEKsystems': 112, 'The Works Uk Ltd': 111, 'Premiere People': 111, 'Genesis Associates': 111, 'Interquest Group': 111, 'Thorn Baker Ltd': 111, 'ASC Connections': 111, 'CHERRY RED RECRUITMENT': 111, 'Timothy James Consulting': 110, 'Evolve Hospitality': 109, 'Randstad Construction, Property Engineering': 108, 'STR Ltd.': 108, 'Calco Services Limited': 108, 'Future Select Recruitment': 107, 'CCN Recruitment': 107, 'Jobs at Capita': 107, 'Zest Solutions': 106, 'Petrie Recruitment': 106, 'Exchange Street Executive Search': 106, 'Sacco Mann': 106, 'Randstad Financial & Professional': 105, 'I Resourcer': 105, 'Ashley Kate HR': 105, 'Greywood Associates Ltd': 104, 'Alexander Lloyd': 104, 'Harrington Starr': 104, 'Salt': 104, 'Renard Resources': 104, 'Prestige Nursing': 104, 'New Frontiers': 103, 'Network Recruitment Partnership': 103, 'JHR': 103, 'Gold Group Ltd.': 103, 'EasyWebRecruitment.com': 102, 'Auto Skills UK': 102, 'Jonathan Lee Recruitment Ltd': 101, 'Taskmaster': 101, 'Leisure Jobs': 101, 'Coyle Personnel': 101, 'Detail 2 Leisure': 101, 'hyphen': 100, 'Success Appointments': 100, 'ERS': 100, 'Cooper Lomaz   Bury St Edmunds': 100, 'Mass Consultants Ltd': 100, 'Spectrum IT Recruitment  Ltd': 100, 'Nigel Frank International Ltd': 99, 'G2 Legal LTD': 98, 'Automation Experts': 98, 'Travel Trade Recruitment': 98, 'Corepeople Recruitment': 98, 'Time Recruitment Solutions Ltd': 97, 'Hays TCE Jobs': 97, 'Castle Recruitment': 97, 'PRS': 97, 'Pulse': 97, 'Not disclosed': 97, 'RecruitmentRevolution.com Limited': 97, 'NonStop Recruitment': 96, 'Parkside': 96, 'Eden Brown Ltd': 96, 'PTHR International Restaurants & Bars': 96, 'Interaction Finance': 96, 'HCL Nursing': 96, 'Hays IT': 96, 'PSD Group': 96, 'National Trust': 95, 'The Best Connection': 95, 'White Recruitment Limited': 94, 'Page Personnel': 94, 'ROC Retail': 94, 'Excel Technical Resourcing Solutions Ltd': 94, 'Forces Recruitment Services': 93, 'Merco': 93, 'Orange Recruitment': 93, 'JP Recruitment': 92, 'Badenoch Clark': 92, 'Coburg Banks Limited': 92, 'Edustaff  Ltd': 92, 'Jenrick Engineering': 92, 'Morgan McKinley': 91, 'Kent Social Care Professionals': 91, 'HAYS INFORMATION TECHNOLOGY': 91, 'Accenture': 91, 'Hays Specialist Recruitment Ltd': 91, 'Detail2Leisure': 90, 'Kennedy Pearce Consulting': 90, 'Michael Page Human Resources': 90, 'Conrad Consulting Ltd': 89, 'Bupa Care Services': 89, 'The Solution Auto': 89, 'Protocol Education': 89, 'Hillman Saunders': 89, 'Ambition': 89, 'Computer People  Limited': 87, 'ASC Connections Ltd': 87, 'Intech Recruitment Ltd': 87, 'Santander': 87, 'Redrock Consulting Ltd': 87, 'Henry Fox Recruitment': 87, 'Pro Finance': 87, 'Mencap': 86, 'Charterhouse Recruitment': 86, 'Randstad Technologies': 85, 'AA Appointments': 84, 'Allied Healthcare': 84, 'MTrec': 84, 'Searchability UK Ltd': 84, 'Fresh Connect Recruitment': 84, 'Ultimate Asset': 84, 'Douglas Scott Legal Recruitment': 83, 'Square One Resources': 83, 'Marks Sattin': 83, 'Aberdeenshire Council': 83, 'The People Network': 83, 'Thornbury Nursing': 83, 'Coal IT Services': 83, 'The Hammond Recruitment Group': 83, 'Horizon Teachers': 82, 'VanRath IT': 82, 'Freight Personnel': 82, 'Taste Hospitality Recruitment Ltd': 82, 'Precedo Healthcare': 82, 'Populus': 82, 'Caleeda Limited': 82, 'Zest 2 Recruitment': 81, 'Digby Morgan': 81, '360 Resourcing Solutions Ltd': 81, 'Search Consultancy Ltd': 81, 'BMS   Graduate': 81, 'Monarch Recruitment Limited': 81, 'Candidate Source': 81, 'GRADUATE FASTTRACK': 81, 'SEC Recruitment': 81, 'GPRS Recruitment': 80, 'Bright Selection': 80, 'Alexander Lloyd   Compliance & Financial Services': 80, 'Morson International': 80, 'Appetite4Recruitment   High End Restaurants, Pubs & Bars': 80, 'Fife Council': 80, 'Harris Hill': 80, 'Reed Specialist Recruitment': 80, 'Client Server': 80, 'First Choice Staff': 80, 'Claremont Consulting Ltd': 79, 'Tribepost Ltd': 79, 'HR GO Recruitment': 79, 'Paramount Recruitment': 79, 'HAYS': 79, 'eRecruit Solutions': 78, 'Vertu Motors': 78, 'Chess Partnership': 78, 'Michael Page Procurement & Supply Chain': 78, 'Modis International Limited': 78, 'MorePeople': 78, 'STR Group': 78, 'Recruitment North West': 78, 'NHS Lothian': 78, 'TRADEWIND RECRUITMENT': 78, 'Green Care Management': 78, 'Pzazz Retail': 77, 'Modern Business Solutions': 77, 'Berkeley Scott': 77, 'Match2Match': 77, 'Edustaff   Manchester': 77, 'Questech Recruitment Ltd': 77, 'TRS Consulting': 77, 'Phoenix Resourcing Services   PRS': 77, 'Lorien Resourcing': 77, 'Nonstop Pharma': 76, 'Informatiq Consulting': 76, 'STR Group Limited': 76, 'Four Financial Recruitment Ltd': 76, 'Berkeley Scott Chef Recruitment': 76, 'B&Q PLC': 75, 'Head Office': 75, 'TPP': 74, 'Harvester': 74, 'Fawkes and Reece Technical': 74, 'SERVOCA EDUCATION RESOURCING': 74, 'Team 24 Ltd': 74, 'Explore Group': 74, 'Networx.': 74, 'Solutions Recruitment': 73, 'Ceema Recruitment': 73, 'Better Placed Recruitment': 73, 'Parallel Consulting': 73, 'University of Edinburgh': 73, 'CMA Financial Recruitment': 73, 'Vertical IT': 73, 'Henry Nicholas Associates': 73, 'RH Recruiting Limited': 73, 'Master Class Education': 73, 'Idex Consulting LLP': 73, 'Premier Work Support': 73, 'People Source Consulting': 72, 'Nicholas Associates': 72, 'Pure Resourcing Solutions': 72, 'Dune Recruitment': 72, 'Euro London Appointments   London': 72, 'MBN Recruitment Ltd': 72, 'Brook Street Bureau PLC': 72, 'MTrec Recruitment': 72, 'Regional Recruitment Services': 72, 'CHM Recruit': 72, 'FPR Group': 72, 'MBN Recruitment': 71, 'Electus Recruitment Solutions': 71, 'Trident': 71, 'Networx Recruitment': 71, 'SLS Recruitment': 71, 'Additional Resources Ltd.': 71, 'ACADEMICS LTD': 71, 'Reuben Sinclair': 70, 'QA Apprenticeships': 70, 'Sanza Online': 70, 'McCarthy Recruitment': 70, 'Oliver James Associates': 70, 'Chase and Holland': 70, 'British Gas': 70, 'i resourcer': 70, 'Healthline Optical Recruitment': 70, 'Link For People Services': 69, 'GMK': 69, 'Mortimer Spinks': 69, 'Monarch Recruitment Ltd.': 69, 'Prime Appointments': 69, 'Medic International': 69, 'Monarch Education': 69, 'Client Server Ltd.': 69, 'BrightHouse': 69, 'Interaction Recruitment plc': 69, 'AndersElite': 68, 'Serco': 68, 'Carlisle Managed Solutions': 68, 'Portfolio Payroll Ltd': 68, 'Burns Sheehan': 68, 'Omega Resource Group': 68, 'C.O.A.L IT. Services Ltd': 68, 'Lipson Lloyd Jones   London': 68, 'Understanding Recruitment': 68, 'ACORN RECRUITMENT LIMITED': 68, 'Addison Fowle Ltd': 68, 'D R Newitt': 67, 'Sheridan Maine': 67, 'Shorterm Group': 67, 'G2 Healthcare Resourcing': 67, 'Digital Gurus': 67, 'Hays   Scotland': 67, 'Howett Thorpe': 67, 'Michael Page   Engineering Manufacture': 67, 'ATA Recruitment Ltd': 66, 'Michael Page Design': 66, 'C.O.A.L IT Services Ltd': 66, 'Potensis': 66, 'Vivid Resourcing Ltd': 66, 'Octane Recruitment': 66, 'Amida Recruitment Limited': 66, 'Redrock Consulting Limited': 66, 'Hewitson Walker': 66, 'Richmond Knightley Recruitment': 66, 'Hays Social Care': 66, 'Synergy': 66, 'Pro Recruitment Group': 66, 'Ashdown IT': 65, 'B&Q': 65, 'Medicare First Ltd': 65, 'Remedy Recruitment Group Ltd': 65, 'Alderwood Education': 65, 'EJ Legal': 65, 'ATA Rail': 64, 'SER Limited': 64, 'Stopgap': 64, 'Pioneer Selection': 64, 'Michael Page Logistics': 64, 'Calco Technical Recruitment Professionals': 64, 'Interaction   York': 64, 'PixiFoto': 64, 'Toby Carvery': 64, 'ecomrecruitment.com': 64, 'HORIZON TEACHERS': 63, 'Austin Fraser Limited': 63, 'BRC': 63, 'GCB Agency Recruitment': 63, 'DMJ Legal': 63, 'University of Southampton': 63, 'System Recruitment': 63, 'i4 Recruitment': 63, 'McGinley Support Services': 62, 'Roc Search': 62, 'Gateway Hospitality Recruitment': 62, 'Baltic Recruitment Services Ltd': 62, 'The Graduate Recruitment Company': 62, 'Paramount Personnel': 62, 'FRS Ltd': 62, 'AES TECHNICAL & EXECUTIVE CONSULTANTS': 61, 'Seven Acorns': 61, 'Investigo': 61, 'Webrecruit UK': 61, 'Blue Glue': 61, 'Kemp Recruitment Ltd': 61, 'Eligo Recruitment Ltd': 61, 'Coburg Banks': 61, 'Kelly Services': 61, 'Network Open': 61, 'Fawkes & Reece': 61, 'ECOM RECRUITMENT LTD': 61, 'Listen Recruitment': 61, 'Pro Tax': 61, 'Just Chefs': 61, 'Interaction Construction': 60, 'Annapurna HR Ltd': 60, 'Handle Recruitment': 60, 'Benchmark Recruit': 60, 'Oscar Associates  Limited': 60, 'Linear Recruitment Ltd': 60, 'City Centre Recruitment': 60, 'Capital Strategy Associates': 60, 'Xperian Recruitment Limited': 60, 'Project Resource Ltd': 60, 'Sammons Group': 60, 'Taylor Root': 60, 'NHS Greater Glasgow & Clyde': 60, 'Brite Recruitment': 60, 'Brian Hawkins': 60, 'Eurobase People': 60, 'Exposed Solutions': 60, 'Hays Internal Recruitment': 60, 'Sellick Partnership': 60, 'Selection Group Limited': 59, 'Recruitment Revolution': 59, 'Hays Leeds': 59, 'Hays Oil Gas': 59, 'Daniel Owen': 59, 'Professional Social Care Solutions Ltd': 59, 'Orgtel': 59, 'Morgan Hunt': 59, 'HumRes Recruitment': 59, 'Simply Education': 59, 'AFR Consulting': 59, 'EMPLOYMENT SPECIALISTS LTD': 59, 'Caffe Nero': 59, 'Simply Recruit Ltd': 59, 'ReThink Recruitment Solutions Ltd': 59, 'TRG Logistics': 58, 'University of Sheffield': 58, 'Remedy Education': 58, 'Hot Recruitment Consultants': 58, 'P9 Rec': 58, 'Ascent People Ltd': 58, 'Tate': 58, 'Niyaa People Ltd': 58, 'Spring Grp ': 58, 'CHM': 58, 'Adecco Premier': 58, 'Searchability  Ltd': 58, 'Workshop Recruitment': 58, 'Badenoch and Clark': 58, 'ATR Solutions': 58, 'Escape': 58, 'Maiday Recruitment': 57, 'Informatiq': 57, 'Zachary Daniels': 57, 'OCC Computer Personnel/RI': 57, 'Leisurejobs Executive Search': 57, 'Jobwise': 57, 'Nicholas Jon Recruitment': 57, 'Driven Motor Jobs': 57, 'BMS Graduates': 57, 'Ambis resourcing Partnership': 56, 'Redhill': 56, 'G4S Secure Solutions  Limited': 56, 'Abrecco': 56, 'Recruitment Solutions  Ltd': 56, 'Charles Hunter Associates': 56, 'Teachers UK': 56, 'Cubiq Recruitment': 56, 'Angela Mortimer Plc': 56, 'Grafton Recruitment   NI': 56, 'Print Upsell S X Post': 56, 'Communicate': 56, 'Enterprise Recruitment': 56, 'Page Personnel Secretarial & Business Support': 56, 'Caritas Recruitment': 56, 'Head Resourcing Ltd': 55, 'NRG Group': 55, 'Advantage Professional': 55, 'Enjoy Recruitment Group': 55, 'Venturi': 55, 'Hays Accountancy and Finance': 55, 'Spectrum Recruitment': 55, 'Parker White Consulting Ltd': 55, 'Omni Resource Management Solutions.': 55, 'Stafffinders': 55, 'Centrepoint Recruitment Consultants': 55, 'Diamond Recruitment Group': 55, 'Reqiva Ltd': 55, 'Black Fox Solutions': 55, 'Hamilton Mayday': 55, 'Resourcing Solutions Ltd': 54, 'ECS Group Ltd': 54, 'Invigorate Recruitment': 54, 'Armed Forces Central Careers Office': 54, 'HCP International Ltd': 54, 'Century House': 54, 'The London Teaching Pool Ltd': 54, 'Asquith Nurseries': 54, '1st Executive Ltd': 54, 'Hays Construction and Property': 54, 'Genesis': 54, 'NES UK': 54, 'IT Executive Recruitment': 54, 'eNL': 54, 'High Finance Group': 54, 'Equal Approach Limited': 53, 'Collins King & Associates Limited': 53, 'Personnel Selection': 53, 'Management Recruitment Group': 53, 'PROTOCOL EDUCATION': 53, 'Focus Resourcing': 53, 'Sammons Pensions': 53, 'Switch Recruitment': 53, 'Capita Resourcing IT': 53, 'G2 Recruitment Ltd': 53, 'Extra Personnel': 53, 'Network Rail Ltd': 53, 'Network Marketing': 53, 'Star Actuarial Futures': 53, 'Alexander Lloyd   Accountancy': 53, 'Change Recruitment': 53, 'Edwards Pearce': 53, 'Jobs@Pertemps   Newcastle Commercial': 53, 'HUNTER SELECTION': 53, 'Abacus Professional Recruitment': 53, 'Hays   Sheffield': 53, 'Badenoch & Clark   Manchester.': 53, 'Future Engineering Recruitment Ltd': 53, 'Sharp Consultancy': 53, 'Puro Search Ltd': 53, 'Genesis Associates  Limited': 52, 'VanRath': 52, 'Inspired Selections Ltd': 52, 'MedicsPro Ltd': 52, 'PULSE': 52, 'Finegreen Associates': 52, 'MEET THE REAL ME LTD': 52, 'Apex Recruitment': 52, 'Diamond Resourcing': 52, 'Select Hospitality': 52, 'On Target Recruitment Limited': 52, 'Capita Resourcing Social Care and Housing': 52, 'University of Warwick': 52, 'HTE Recruitment': 52, '360 Resourcing': 52, 'Rullion Resource': 52, 'HMGT Services Limited': 52, 'Calibre Candidates': 51, 'Aston Recruitment': 51, 'Brunning and Price': 51, 'McGregor Boyall': 51, 'Pro Legal Recruitment': 51, 'Kinetic Plc': 51, 'Stafforce Recruitment': 51, 'Argyll Scott Technology': 51, 'Quest Search and Selection Ltd': 51, 'Verticality Ltd': 51, 'Time Recruitment Solutions': 51, 'GRADUATE RECRUITMENT COMPANY': 51, 'Advance Recruitment': 51, 'Harnham Search & Selection': 51, 'Ceema Technology Recruitment': 51, 'Anonymous': 51, 'SportsDirect': 51, 'Sewell Moorhouse': 51, 'SG Group': 51, 'Technical Resources Ltd': 50, 'Girling Jones Ltd': 50, 'Appetite4Recruitment   High End Restaurants, Pubs Bars': 50, 'HEADS Recruitment Limited': 50, 'Volt': 50, 'Unity Recruitment': 50, 'Premier Technical Recruitment': 50, 'AMR': 50, 'Reed': 50, 'Enterprise Recruitment Ltd': 50, 'Reed Technology': 50, 'RHL': 50, 'PTHR International Restaurants Bars': 50, 'Progress Recruitment Solution': 50, 'Hays Risk Compliance': 50, 'Cityscape Recruitment Ltd': 50, 'Brand Recruitment': 50, 'CREATIVE SUPPORT': 49, 'Clemtech': 49, 'Blue Arrow   Southampton': 49, 'Gap Personnel': 49, 'Gold Group Limited': 49, 'Aaron Wallis Sales Recruitment': 49, 'SIMPLY EDUCATION': 49, 'Recruitment Direct': 49, 'Albior Financial Recruitment': 49, 'IQ ESM': 49, 'Berry Technical': 49, 'Mane Contract Services': 49, 'MORGAN HUNT': 49, 'b3 jobs': 49, 'Tech People': 49, '2M Employment Solutions Ltd': 49, 'Professional Social Care Solutions': 48, 'Edwards & Pearce': 48, 'Code Blue Recruitment': 48, 'Advantage Group': 48, 'Remedicare Staffing Limited': 48, 'Three People': 48, 'Vintage Inns': 48, 'Fully Booked': 48, 'The Oyster Partnership': 48, 'Ambitek Limited': 48, 'Calibre Search': 48, '360 Resourcing Solutions': 48, 'Hays Specialist Recruitment   Further Education': 48, 'Cititec Associates Limited': 48, 'Platinum Financial Recruitment': 47, 'Ellis Mack': 47, 'Fawkes Reece Recruitment Solutions': 47, 'i4 Recruitment Account': 47, 'Appetite 4 Recruitment': 47, 'Minstrell Recruitment Ltd': 47, 'Premium Country Dining Group': 47, 'Frazer Jones': 47, 'PETS AT HOME GROUP LIMITED': 47, 'Paediatric Nursing Jobs': 47, 'Deerfoot IT Resources Ltd': 47, 'RAF CAREERS': 47, 'Sharna Associates': 47, 'Badenoch & Clark   Birmingham.': 47, 'TXM Healthcare': 47, 'Deverell Smith Recruitment': 47, 'FastTrack Management Services Limited': 47, 'Barrington James Ltd': 47, 'Omni Resource Management Solutions': 47, 'Blue Octopus Recruitment': 47, 'Douglas Scott': 47, 'Bloom Retail': 47, 'Explore Recruitment Solutions': 46, 'PRG': 46, 'Bond Search & Selection': 46, 'Pioneer Selection Ltd': 46, 'V3 Group': 46, 'Outsource UK Ltd': 46, 'MORGAN LAW': 46, 'Easyweb Recruitment': 46, 'ABC Teachers': 46, 'Heat Recruitment Ltd': 46, 'Bucks & Berks Recruitment PLC': 46, 'AMBRIDGE HARRIS ASSOCIATES': 46, 'Yolk Recruitment': 46, 'Haybrook IT Resourcing Ltd': 46, 'The Bridge Ltd': 46, 'Fawkes & Reece social care': 46, 'Conrad Scott': 46, 'Crown Carveries': 46, 'Kinetic PLC': 46, 'Greywood Associates Limited': 46, 'Cavendish Maine': 46, 'AXA': 46, 'Annapurna HR': 46, 'Plus One Personnel': 46, 'Creative Recruitment': 46, 'Enterprise Recruitment Limited': 46, 'HYF': 46, 'MBN Recruitment Solutions Ltd': 45, 'Catermatch Solutions': 45, 'Sizzling Pub Co.': 45, 'Law Professionals': 45, 'P9 Rec Ltd': 45, 'Classic Consulting  Ltd': 45, 'Carillion Plc': 45, 'Oho Group': 45, 'oscar associates': 45, 'Michael Page Construction': 45, 'Orchid Healthcare': 45, 'Ad Lib': 45, 'Madison Bridge': 45, 'The Selection Partnership Ltd': 45, 'Orcinus Recruit': 45, 'CPL Newry & Belfast': 45, 'ETS Consulting': 45, 'John Gibson Associates': 44, 'Integrated Dental Holdings': 44, 'AMR   West of England': 44, 'Aberdeen City Council': 44, 'Blue Octopus Recruitment Limited': 44, 'Park Street People': 44, 'Edustaff Manchester Ltd': 44, 'TRG': 44, 'Watson Moore': 44, '1st Place': 44, 'First Personnel Services plc': 44, 'Howard Jackson Associates': 44, 'People Source Consulting.': 44, 'Green Recruitment Company': 44, 'Switch Recruitment Services Ltd': 44, 'JEM Childcare Solutions': 44, 'PMA Recruitment': 44, 'Orion Electrotech Ltd': 44, 'Premier Group': 44, 'Enjoy Recruitment Group Ltd': 44, 'R3 Resourcing': 44, 'Citizen Recruitment': 44, 'Gregory Martin International': 44, 'IPS Group Ltd': 44, 'Assured Recruitment Solutions Ltd': 44, 'Matchtech   IT Division': 44, 'Rugby Recruitment Services Ltd': 44, 'Robert Half': 44, 'Axon Resourcing Limited': 44, 'MechanicsRus': 43, 'Contract Options': 43, 'Vacancy Filler': 43, 'CRA Consulting': 43, 'Coast Specialist Recruitment': 43, 'Chase Holland': 43, 'Quantum Recruitment': 43, 'Advantage Technical Resourcing Limited': 43, 'Strike Jobs': 43, 'MW Appointments': 43, 'Rubicon People': 43, 'Oscar Associates  Ltd': 43, 'Randstad CPE Limited': 43, 'Mansell Recruitment Group': 43, 'iKas International': 43, 'Focus Management Consultants Ltd': 43, 'The One Group': 43, 'Luton Bennett Limited': 43, 'hiredonline': 43, 'Understanding Recruitment Ltd': 43, 'Aspire Data Recrutiment': 43, 'Pyramid8': 43, 'Medacs Healthcare': 43, 'Engage PSG': 43, 'Sanderson Recruitment': 43, 'Applause IT Limited': 43, 'Prism Digital': 43, 'Project Partners': 43, 'Chase Medical': 43, 'Bramhall Recruitment Ltd': 43, 'Venturi Ltd': 42, 'Astute Technical Recruitment Ltd': 42, 'AMR Group': 42, 'BRAND RECRUITMENT': 42, 'Flame Pharma': 42, 'Barrington James': 42, 'pro education': 42, 'Helix Recruitment Ltd': 42, 'Pursuit Recruitment': 42, 'A1 People': 42, 'Purple Consultancy': 42, 'Linsco': 42, 'Ember Inns': 42, 'The Business Connection': 42, 'Anglian Home Improvements': 42, 'Badenoch & Clark   Leeds.': 42, 'EWI Recruitment': 42, 'Pzazz': 42, 'ISL': 42, 'Randstad Business Support': 42, 'Hiredonline': 42, 'Portfolio Payroll Limited': 42, 'Pearson Whiffin Affinity': 42, 'Grafton Banks Finance Ltd': 42, 'Sensible Staffing': 42, 'IT Executive': 42, 'Deerfoot IT Resources Limited': 42, 'HCL Permanent.': 42, 'The London Teaching Pool': 42, 'Connections Recruitment Limited': 42, 'Oasis HR': 42, 'SpaYse': 42, 'Kurtis james recruitment': 41, 'Forrest Recruitment': 41, 'Just Recruitment Group': 41, 'Macildowie': 41, 'Tech Direct': 41, 'Macildowie Associates Limited': 41, 'Select Appointments': 41, 'Celsian Education': 41, 'Succeed Recruitment Solutions': 41, 'Language Recruitment Services.': 41, 'Xpress Recruitment': 41, 'Industrial Personnel Ltd': 41, 'Pytec IT Recruitment': 41, 'CPL': 41, 'Concept Recruitment Group Ltd': 41, 'Angel Human Resources': 41, 'Grafton Banks': 41, 'CK Group ': 41, 'Imperial College London': 41, 'SRG': 41, 'Logic': 41, \"Nando's\": 41, 'Spectrum IT': 41, 'Hays Education': 41, 'Reflex Computer Recruitment Limited': 41, 'Fruition IT Resources Limited': 41, 'Marshall Moore': 41, 'Prospects4Corporate Travel': 41, 'Information Technology Services': 41, 'Sequence': 41, 'Charity People': 41, 'Walker Dendle': 41, 'HARVARD BROWN LTD': 41, 'MSI Nurses LTD': 41, 'itk Recruitment': 41, 'Ask Associates': 41, 'IC 3e': 40, 'SCI Recruitment for Scientists': 40, 'Greythorn': 40, 'Intech Recruitment.': 40, 'Flow Caritas': 40, 'Workmates': 40, 'BlueTownOnline.co.uk': 40, 'White Recruitment': 40, 'CG Consultants': 40, 'Hot Recruitment Consultants Ltd': 40, 'North Yorkshire County Council': 40, 'Inside Out Purchasing Supply': 40, 'Exsurgo Ltd': 40, 'SCC': 40, 'Lawrence Harvey': 40, 'PK Education': 40, 'Hays Healthcare': 40, 'Hays Finance Technology': 40, 'MERJE': 40, 'GB Solutions': 40, 'Oakland House Recruitment': 40, 'Probe Technical Recruitment': 40, 'ACS Recruitment': 40, 'MAJOR PLAYERS': 40, 'PMP Solutions Ltd': 40, 'MatchBox Recruiting Ltd': 40, 'Cobalt Recruitment': 40}) \n",
      "\n",
      "LocationNormalized Counter({'UK': 41093, 'London': 30522, 'South East London': 11713, 'The City': 6678, 'Manchester': 3516, 'Leeds': 3401, 'Birmingham': 3061, 'Central London': 2607, 'West Midlands': 2540, 'Surrey': 2397, 'Reading': 2187, 'Bristol': 2085, 'Nottingham': 1873, 'Sheffield': 1766, 'Aberdeen': 1634, 'Hampshire': 1557, 'Belfast': 1537, 'East Sheen': 1531, 'Milton Keynes': 1523, 'Berkshire': 1502, 'Oxford': 1497, 'Newcastle Upon Tyne': 1390, 'Liverpool': 1341, 'Kent': 1333, 'Cambridge': 1301, 'Leicester': 1219, 'North West London': 1104, 'Guildford': 1082, 'West Yorkshire': 1072, 'Hertfordshire': 1039, 'Glasgow': 1037, 'Oxfordshire': 1035, 'Northampton': 1023, 'Scotland': 984, 'Essex': 939, 'Lancashire': 923, 'Derby': 919, 'East Midlands': 916, 'South West London': 871, 'Cheshire': 871, 'York': 841, 'Buckinghamshire': 827, 'Bradford': 827, 'South East England': 817, 'Warwickshire': 816, 'Gloucestershire': 814, 'Basingstoke': 812, 'Slough': 798, 'Coventry': 797, 'Leicestershire': 797, 'Warrington': 795, 'Edinburgh': 785, 'West Sussex': 778, 'Brighton': 771, 'Swindon': 749, 'Cardiff': 714, 'Gloucester': 711, 'Portsmouth': 711, 'Preston': 709, 'Exeter': 708, 'Crawley': 689, 'Bournemouth': 687, 'Yorkshire and Humberside': 683, 'Cambridgeshire': 675, 'West London': 669, 'Southampton': 660, 'Chester': 648, 'Northamptonshire': 643, 'Cheltenham': 619, 'South Yorkshire': 582, 'Maidstone': 558, 'Bedfordshire': 544, 'Wiltshire': 542, 'Wales': 538, 'Staffordshire': 522, 'North London': 522, 'Doncaster': 521, 'Poole': 504, 'Norwich': 499, 'Nottinghamshire': 487, 'Letchworth Garden City': 473, 'Derbyshire': 473, 'High Wycombe': 472, 'Woking': 462, 'North Lambeth': 459, 'East London': 455, 'South West England': 447, 'Fareham': 441, 'Stoke-On-Trent': 440, 'North East England': 433, 'North Yorkshire': 424, 'Dorset': 422, 'Somerset': 420, 'Wolverhampton': 414, 'Luton': 414, 'Edinburgh Technopole': 408, 'Watford': 400, 'Bracknell': 398, 'Wakefield': 396, 'Winchester': 392, 'Worcester': 391, 'Newbury': 390, 'East Sussex': 390, 'Northern Ireland': 383, 'Chelmsford': 382, 'Lincolnshire': 375, 'North West England': 371, 'Warwick': 371, 'Rotherham': 355, 'Merseyside': 350, 'Stevenage': 349, 'Devon': 349, 'Chesterfield': 344, 'Lincoln': 343, 'Colchester': 342, 'Aylesbury': 337, 'Harrogate': 336, 'Bath': 326, 'Stockport': 323, 'Ipswich': 320, 'Salisbury': 318, 'Peterborough': 318, 'Huddersfield': 316, 'Bolton': 312, 'Chichester': 309, 'Farnborough': 309, 'Crewe': 307, 'Blackburn': 306, 'Tunbridge Wells': 301, 'Bedford': 297, 'Halifax': 296, 'Sunderland': 290, 'Taunton': 284, 'Loughborough': 283, 'Abingdon': 279, 'Croydon': 279, 'Avon': 274, 'Redhill': 271, 'Stafford': 270, 'Greater Manchester': 269, 'Suffolk': 263, 'Norfolk': 258, 'Weybridge': 258, 'Barnsley': 256, 'Dartford': 254, 'Plymouth': 253, 'West Bromwich': 251, 'Rugby': 249, 'Banbury': 248, 'Worcestershire': 247, 'Worthing': 243, 'Boldon Colliery': 240, 'Solihull': 231, 'Gateshead': 230, 'Durham': 227, 'Blackpool': 223, 'Cumbria': 221, 'Christchurch': 218, 'Kettering': 217, 'St. Albans': 215, 'Horsham': 214, 'Camberley': 214, 'Macclesfield': 212, 'Leamington Spa': 209, 'Walsall': 207, 'Shrewsbury': 207, 'Reigate': 206, 'Ashford': 202, 'Swansea': 200, 'Mansfield': 200, 'Corby': 199, 'Hemel Hempstead': 197, 'Tamworth': 193, 'Andover': 191, 'Redditch': 191, 'Middlesbrough': 189, 'Stratford-Upon-Avon': 189, 'Dudley': 187, 'Manchester Science Park': 186, 'Carlisle': 186, 'Leatherhead': 185, 'Richmond': 184, 'Epsom': 183, 'Oldham': 182, 'Basildon': 179, 'Bolton Le Sands': 178, 'Newport': 176, 'Eastleigh': 172, 'Telford': 170, 'Farnham': 166, 'Sevenoaks': 166, 'Cornwall': 165, 'Yeovil': 162, 'Wigan': 161, 'Huntingdon': 159, 'Burnley': 157, 'Canterbury': 157, 'Eastern England': 157, 'Wokingham': 157, 'Eastbourne': 157, 'West End': 156, 'Romford': 154, 'Bicester': 153, 'Fife': 151, 'Dundee': 150, 'Nuneaton': 150, 'Shropshire': 150, 'Aberdeenshire': 146, 'Marton-In-Cleveland': 145, 'Fleet': 145, 'Harrow': 144, 'Grantham': 144, 'Hereford': 143, 'Keighley': 141, 'Isle Of Wight': 141, 'Whyteleafe': 141, 'Bury St. Edmunds': 141, 'Wilmslow': 140, 'Marlow': 140, 'Chorley': 139, 'Cirencester': 139, 'Dorchester': 138, 'Weymouth': 137, 'East Riding': 137, 'Horsforth': 137, 'Burton-On-Trent': 137, 'Dorking': 135, 'Chippenham': 131, 'Salford': 131, 'South Lanarkshire': 131, 'Witney': 131, 'Haywards Heath': 131, 'Runcorn': 129, 'Northwich': 129, 'Byfleet': 128, 'Lichfield': 125, 'Cannock': 124, 'West Town': 123, 'Stroud': 123, 'Kingston Upon Thames': 123, 'Hatfield': 120, 'Chatham': 120, 'Lancaster': 120, 'Knutsford': 120, 'Havant': 119, 'Harlow': 118, 'Brentwood': 118, 'Darlington': 118, 'Aldershot': 114, 'Altrincham': 113, 'Wellingborough': 112, 'Daventry': 111, 'Alfreton': 111, 'Tewkesbury': 110, 'Livingston': 110, 'Trowbridge': 110, 'Chertsey': 110, 'Bromley': 110, 'Gaydon': 109, 'St. Helens': 109, 'Tonbridge': 108, 'Wrexham': 108, 'Enfield': 106, 'Hull': 106, 'Uxbridge': 104, 'Rochester': 104, 'Bury': 104, 'Southport': 104, 'Newton Abbot': 103, 'Truro': 103, 'Southend-On-Sea': 102, 'Godalming': 100, 'Swanley': 100, 'Maidenhead': 100, 'Northumberland': 99, 'Little Chesterford': 99, 'Covent Garden': 98, 'Accrington': 98, 'Hounslow': 97, 'Worksop': 97, 'Wirral': 97, 'West Lothian': 97, 'Dunfermline': 95, 'Grimsby': 95, 'Bridgend': 95, 'Burgess Hill': 94, 'Scunthorpe': 94, 'Torquay': 93, 'Birkenhead': 93, 'East Grinstead': 93, 'Dewsbury': 92, 'Washington': 92, 'Antrim': 90, 'Rochdale': 90, 'Sutton Green': 89, 'Egham': 89, \"King's Lynn\": 89, 'Perth': 89, 'Trent': 88, 'Matlock': 88, 'Didcot': 88, 'Newark': 88, 'Castleford': 87, 'Kidderminster': 87, 'Skipton': 87, 'Warminster': 86, 'Inverness': 85, 'South Brent': 85, 'Bromsgrove': 85, 'Calcot': 84, 'Scarborough': 84, 'Pontefract': 84, 'Welwyn Garden City': 83, 'Chipping Norton': 82, 'Great Yarmouth': 82, 'Hove': 82, 'Melton Mowbray': 81, 'Bangor': 81, 'Folkestone': 80, 'Islington': 79, 'Sutton Coldfield': 79, 'Lewes': 79, 'Bridgwater': 78, 'Bognor Regis': 78, 'Hertford': 78, 'Ilford': 78, 'Sidcup': 76, 'Bourne End': 76, 'Wetherby': 76, 'Hastings': 76, 'Northallerton': 75, 'North Ewster': 74, 'Skelmersdale': 73, 'Sittingbourne': 72, 'Gillingham': 72, 'Barrow-In-Furness': 71, 'Walton-On-Thames': 71, 'Barnet': 71, 'Barnstaple': 71, 'Gravesend': 70, 'West Malling': 70, 'Thetford': 70, 'Spalding': 70, 'Greenwich': 69, 'Rickmansworth': 69, 'Droitwich': 68, 'Stourbridge': 68, 'Ealing': 68, 'Selby': 68, 'Hinckley': 67, 'Cheadle': 66, 'North Ayrshire': 66, 'Thirsk': 65, 'Stockton-On-Tees': 65, 'Glasgow East Investment Park': 64, 'Braintree': 64, 'Amersham': 63, 'Henley-On-Thames': 63, 'Dunstable': 63, 'Glenrothes': 63, 'Swadlincote': 62, 'Southwark': 62, 'Two Mile Ash': 62, 'Market Harborough': 62, 'Ely': 62, 'Evesham': 61, 'Widnes': 60, 'Addlestone': 60, 'Gerrards Cross': 60, 'Witham': 60, 'Gipsy Hill': 60, 'Herefordshire': 60, 'Thame': 59, 'Oldbury': 59, 'Boston': 59, 'Devizes': 59, 'Clifton': 59, 'Stirling': 58, 'Staines': 57, 'Alton': 57, 'Gainsborough': 57, 'Midlothian': 57, 'Morecambe': 56, 'Hook': 56, 'Esher': 56, 'Lydbury North': 56, 'Lisburn': 55, 'Batley': 55, 'Weston-Super-Mare': 55, 'Wimbledon': 55, 'Dumfries': 55, 'Leighton Buzzard': 55, 'North Shields': 55, 'Shipley': 54, 'East Molesey': 54, 'Lutterworth': 54, 'Stamford': 54, 'Stonehouse': 54, 'Waterlooville': 54, 'Caerphilly': 53, 'Ormskirk': 53, 'Barking': 53, 'Clacton-On-Sea': 53, 'Lambeth': 53, 'Sea': 53, 'Bexhill-On-Sea': 53, 'Blaenau Gwent': 53, 'Hitchin': 52, 'Thatcham': 52, 'Shepton Mallet': 52, 'Kidlington': 52, 'Docklands': 52, 'Sudbury': 51, 'Grays': 51, 'Coalville': 51, 'Petersfield': 51, 'Melksham': 51, 'Kendal': 51, 'East Wall': 51, 'Derry': 51, 'Craigiehall': 51, 'Lowestoft': 50, 'Borehamwood': 50, 'Southampton International Airport': 50, 'Ashby-De-La-Zouch': 50, 'Gatwick': 50, 'Windsor': 50, 'Hackney': 50, 'Newcastle-under-Lyme': 49, 'Camden': 49, 'Normanton': 49, 'South Shields': 49, 'Beaconsfield': 49, 'Dover': 48, 'Arundel': 47, 'Halesowen': 47, 'Newmarket': 47, 'Durham Tees Valley Airport': 47, 'Coscote': 46, 'Wisbech': 46, 'Buckingham': 46, 'Nantwich': 45, 'Penrith': 45, 'Llandaff North': 45, 'Kenilworth': 45, 'Helensburgh': 45, 'Hoddesdon': 44, 'Sutton-In-Ashfield': 44, 'Gosport': 44, 'Wembley': 44, 'Haslemere': 44, 'Rosyth': 43, 'Leyland': 43, 'Alderley Edge': 43, 'St. Neots': 43, 'Sutton': 43, 'Arbroath': 43, 'March': 42, 'Morpeth': 42, 'Wednesbury': 42, 'Bideford': 42, 'Redcar': 42, 'Rushden': 42, 'Wantage': 42, 'Brentford': 41, 'Feltham': 41, 'Sleaford': 41, 'Lymington': 41, 'Towcester': 41, 'Littlehampton': 41, 'Paisley': 41, \"Bishop's Stortford\": 41, 'Wimborne': 41, 'Heywood': 41, 'Westminster': 41, 'Ellesmere Port': 41, 'Hungerford': 40, 'Kilmarnock': 40, 'Lewisham': 39, 'Workington': 39, 'Malton': 39, 'South Croydon': 39, 'Frome': 39, 'Congleton': 39, 'Sompting': 39, 'Hillingdon': 39, 'Goole': 39, 'Wareham': 38, 'Wandsworth': 38, 'Malvern': 38, 'Romsey': 38, 'Armagh': 38, 'Thorpe St. Andrew': 38, 'Highlands': 38, 'Potters Bar': 38, 'Wellington': 38, 'Knaresborough': 38, 'Twickenham': 37, 'Bilston': 37, 'Waltham Forest': 37, 'Motherwell': 36, 'Rhyl': 36, 'Margate': 36, 'Sale': 36, 'Ringwood': 36, 'Dagenham': 36, 'Cobham': 36, 'Ayr': 36, 'Axbridge': 36, 'North Finchley': 35, 'Brackley': 35, 'Beverley': 35, 'Bagshot': 35, 'Atherstone': 35, 'Tipton': 35, 'Newport Pagnell': 35, 'Kirkcaldy': 35, 'Hooke': 35, 'Blandford Forum': 34, 'Erith': 34, 'Bexley': 34, 'Rugeley': 34, 'Uckfield': 34, 'Prescot': 34, 'Flintshire': 34, 'Nelson': 34, 'Buxton': 34, 'Darwen': 33, 'Kensington': 33, 'Smethwick': 33, 'Haverhill': 33, 'Willenhall': 33, 'Newry': 33, 'Cwmbran': 33, 'Peterlee': 33, 'Orpington': 33, 'Woodstock': 33, 'Royston': 32, 'Caterham': 32, 'Thames Ditton': 32, 'Borders': 32, 'Tadworth': 32, 'Falkirk': 32, 'Chesham': 32, 'Ilkeston': 31, 'Oswestry': 31, 'Whitchurch': 31, 'Cramlington': 31, 'Whitehaven': 31, 'City': 31, 'Broadstairs': 31, 'Tiverton': 31, 'St. Austell': 31, 'Abbots Langley': 31, 'Maldon': 31, 'St. Andrews': 31, 'Belper': 31, 'Burntwood': 30, 'Seascale': 30, 'Bodmin': 30, 'Leigh': 30, 'Downes': 30, 'Stowmarket': 30, 'Alcester': 30, 'Falmouth': 29, 'Skegness': 29, 'Cleckheaton': 29, 'Deeside': 29, 'Irvine': 29, 'Totnes': 29, 'Brighouse': 29, 'Elland': 28, 'Ripley': 28, 'Hartlepool': 28, 'Ferndown': 28, 'Bootle': 28, 'Uttoxeter': 28, 'Bradford-On-Avon': 28, 'Heathrow': 28, 'Neath': 28, 'Ash Green': 28, 'Berkhamsted': 28, 'Brent Cross': 28, 'Berwick-Upon-Tweed': 28, 'Llanelli': 28, 'Chipping Campden': 28, 'Paignton': 28, 'Cressington': 28, 'Bishop Auckland': 27, 'Woodthorpe': 27, 'Bridport': 27, 'Marlborough': 27, 'Retford': 27, 'Cliddesden': 27, 'Malmesbury': 27, 'Billingham': 27, \"Irlams O' Th' Height\": 27, 'Exmouth': 26, 'Corsham': 26, 'Attleborough': 26, 'Beckenham': 26, 'Southall': 26, 'Aycliffe': 26, 'Hamilton': 26, 'Tarporley': 26, 'Jarrow': 25, 'Handbridge': 25, 'Port Talbot': 25, 'Winsford': 25, 'Felixstowe': 25, 'Bournemouth International Airport': 25, 'Waltham Abbey': 25, 'Brierley Hill': 25, 'Bingley': 25, 'Stockland Bristol': 25, 'Otley': 25, 'Leek': 25, 'Ware': 25, 'Pembrokeshire': 25, 'Loughton': 25, 'St. Ives': 25, 'Ashton-Under-Lyne': 25, 'Saffron Walden': 24, 'Hammersmith': 24, 'Wallingford': 24, 'Ripon': 24, 'Fraserburgh': 24, 'Sherborne': 24, 'Horley': 24, 'Penzance': 24, 'Pickering': 24, 'Stansted': 24, 'Bakewell': 24, 'Aylesford': 24, 'Inverurie': 23, 'Peterhead': 23, 'Biggleswade': 23, 'Wallsend': 23, 'Waltham Cross': 23, 'St. Asaph': 23, 'Guernsey': 23, 'Welwyn': 23, 'Oxted': 23, 'Blyth': 23, 'Fulham': 23, 'Oakham': 23, 'Shaftesbury': 23, 'Woodside': 23, 'New Milton': 23, 'Clitheroe': 23, 'Ashbourne': 23, 'Newquay': 23, 'Glossop': 22, 'Crowthorne': 22, 'Baldock': 22, 'Bellshill': 22, 'Broadfield': 22, 'Ebbw Vale': 22, 'Trimley St. Mary': 22, 'Colne': 22, 'Grangemouth': 22, 'Hailsham': 22, 'Fakenham': 22, 'Merton': 22, 'Bexleyheath': 21, 'Haye': 21, 'Caernarfon': 21, 'Tetbury': 21, 'Scotland Gate': 21, 'Camden Town': 21, 'Pontypridd': 21, 'Edenbridge': 21, 'Bordon': 21, 'South Molton': 21, 'Windermere': 21, 'Hayling Island': 21, 'Whitby': 21, 'Drayton': 21, 'Lytham': 21, 'Chiswick': 21, 'Londonderry': 20, 'Purfleet': 20, 'Street': 20, 'Barry': 20, 'Bruton': 20, 'West Ravendale': 20, 'Wickford': 20, 'Ashtead': 20, 'Wadhurst': 20, 'Angus': 20, 'Ilminster': 20, 'Hyde': 20, 'Bridgnorth': 20, 'Ilkley': 20, 'Linlithgow': 20, 'Chantry': 20, 'Sidmouth': 20, 'Bushey': 20, 'Aberystwyth': 20, 'Southsea': 20, 'Merthyr Tydfil': 20, 'Berkeley': 19, 'Wallasey': 19, 'Wincanton': 19, 'Stone': 19, 'Tring': 19, 'Louth': 19, 'Pudsey': 19, 'Cockermouth': 19, 'Powys': 19, 'Pulborough': 19, 'Crowborough': 19, 'Iver': 19, 'Rossendale': 19, 'Purley': 19, 'Dursley': 19, 'Brandon': 19, 'Knowsley': 19, 'Tadley': 19, 'Banstead': 19, 'Faversham': 18, 'Epping': 18, 'Chessington': 18, 'Diss': 18, 'Sheerness': 18, 'Harpenden': 18, 'Shoreham-By-Sea': 18, 'Cranleigh': 18, 'Jersey': 18, 'Forfar': 18, 'Lyne': 18, 'Colwyn Bay': 18, 'Woodbridge': 18, 'Radstock': 18, 'Dronfield': 18, 'Ledbury': 17, 'Largs': 17, 'Pontypool': 17, 'Cheltenham Trade Park': 17, 'Ulverston': 17, 'Moreton-In-Marsh': 17, 'Rayleigh': 17, 'Wotton-Under-Edge': 17, 'Billericay': 17, 'Canary Wharf': 17, 'Coatbridge': 17, 'Isle Of Man': 17, 'Shoreditch': 17, 'Coolham': 17, 'Newham': 17, 'Castle Donington': 17, 'Greenford': 17, 'Sandy': 17, 'Stratford': 17, 'Greenock': 17, 'Deane': 17, 'Sandbach': 17, 'Monmouthshire': 17, 'Haverfordwest': 17, 'Ashington': 17, 'Havering-Atte-Bower': 17, 'Heanor': 17, 'Teddington': 17, 'Ross-On-Wye': 16, 'Trafford Park': 16, 'Coaley': 16, 'Friern Barnet': 16, 'Alnwick': 16, 'Crewkerne': 16, 'Lancing': 16, 'Helston': 16, 'Redruth': 16, 'Glastonbury': 16, 'Blaydon-On-Tyne': 16, 'Shefford': 16, 'Hexham': 16, 'Surrey Quays': 16, 'Llandudno': 16, 'Market Rasen': 16, 'Bathgate': 16, 'Herne Bay': 16, 'Bridlington': 16, 'Honiton': 16, 'Llandrindod Wells': 16, 'Consett': 16, 'Liphook': 16, 'Dumfries & Galloway': 16, 'Sunbury-On-Thames': 16, 'Prestbury': 16, 'Burford': 15, 'Brixton': 15, 'Isles Of Scilly': 15, 'Upminster': 15, 'Greenhithe': 15, 'Whitley Bay': 15, 'Swanage': 15, 'Soho': 15, 'Elgin': 15, 'Axminster': 15, 'Ballymena': 15, 'Surbiton': 15, 'Rye': 15, 'Newton-Le-Willows': 15, 'Dalkeith': 15, 'Chatteris': 15, 'Isleworth': 15, 'Victoria': 15, 'Yateley': 15, 'Mirfield': 15, 'Hassocks': 15, 'Airdrie': 15, 'Stanley': 15, 'Tadcaster': 15, 'Woodford Green': 15, 'Woolwich': 15, 'Ramsgate': 15, 'Wigston': 15, 'Cullompton': 15, 'Theale': 14, 'Brecon': 14, 'Midhurst': 14, 'Old Trafford': 14, 'Catterick Garrison': 14, 'Carmarthenshire': 14, 'Leavesden': 14, 'Ossett': 14, 'Great Missenden': 14, 'Radlett': 14, 'Montrose': 14, 'Mexborough': 14, 'Poulton-Le-Fylde': 14, 'Holmfirth': 14, 'Middlewich': 14, 'West Aberthaw': 14, 'Fordingbridge': 14, 'Hornchurch': 14, 'Chalvey': 14, 'Launceston': 14, 'Sellafield': 14, 'Hindhead': 14, 'Leominster': 14, 'West Thurrock': 14, 'Shetland': 14, 'Halstead': 14, 'Gibraltar': 14, 'Lyndhurst': 14, 'Flackwell Heath': 13, 'Lymm': 13, 'Lydney': 13, 'Cupar': 13, 'Dumbarton': 13, 'North Ferriby': 13, 'Farringdon': 13, 'Immingham': 13, 'Tuttington': 13, 'North Rigton': 13, 'Craigavon': 13, 'Neath Port Talbot': 13, 'Old Aberdeen': 13, 'Little London': 13, 'Prestatyn': 13, 'Highbridge': 13, 'Kingsbridge': 13, 'Chingford': 13, 'Cranbrook': 13, 'Calne': 13, 'Newnham': 13, 'Cradley Heath': 13, 'Minehead': 13, 'Rhondda Cynon Taff': 13, 'Lechlade': 13, 'Leiston': 13, 'Frodsham': 13, 'Mayfair': 13, 'Knottingley': 13, 'West Bridgford': 13, 'Chepstow': 13, 'Chelsea': 13, 'Westbury': 13, 'Shildon': 13, 'Coleshill': 12, 'The Doward': 12, 'East Lothian': 12, 'Ilfracombe': 12, 'Titchfield': 12, 'Lea Bridge': 12, 'Camperdown': 12, 'Broxburn': 12, 'Hyde Park': 12, 'Liss': 12, 'Dereham': 12, 'Warfield Park': 12, 'Tyne & Wear': 12, 'Dartmouth': 12, 'Putney': 12, 'Markfield': 12, 'South Ayrshire': 12, 'Okehampton': 12, 'Leven': 12, 'Isle Of Anglesey': 12, 'Clevedon': 12, 'Brixham': 12, 'Heathfield': 12, 'Downham Market': 12, 'Wythenshawe': 12, 'Verwood': 12, 'Pode Hole': 12, 'Mitcheldean': 12, 'Shepperton': 12, 'New Cross': 12, 'Somerton': 12, 'Exeter Airport': 12, 'Conwy': 12, 'Colindale': 12, 'Chandlers Cross': 12, 'Callington': 12, 'Newhaven': 12, 'St. Leonards-On-Sea': 12, 'Kingswinford': 12, 'Bewdley': 12, 'Lightwater': 12, 'Park Street': 12, 'Ludlow': 12, 'Dunham-On-Trent': 11, 'Frimley': 11, 'Finchley': 11, 'Ascot': 11, 'Huntly': 11, 'Carterton': 11, 'Prestwick': 11, 'Manningtree': 11, 'Carnforth': 11, 'Chard': 11, 'Mildenhall': 11, 'Pershore': 11, 'Princes Risborough': 11, 'Mop End': 11, 'Barrow-Upon-Humber': 11, 'Prestwich': 11, 'Ruislip': 11, 'Windsor & Maidenhead': 11, 'Belvedere': 11, 'Dawlish': 11, 'Leigh-On-Sea': 11, 'Denbighshire': 11, 'Moorgate': 11, 'West Handley': 11, 'East Tuddenham': 11, 'Western Isles': 11, 'Coulsdon': 11, 'Penarth': 11, 'Alderley': 11, 'Hucknall': 11, 'Askham Bryan': 11, 'Wick': 11, 'Rochford': 11, 'Winnersh': 11, 'Beccles': 11, 'Alston': 11, 'Holsworthy': 10, 'Southend': 10, 'Stanford-Le-Hope': 10, 'Stanmore': 10, 'Cheshunt': 10, 'Petworth': 10, 'Egypt': 10, 'Stocksfield': 10, 'Gwynedd': 10, 'Bourne': 10, 'Hampstead': 10, 'Kings Langley': 10, 'Tilbury': 10, 'Hebburn': 10, 'Melbourne': 10, 'Kirkwall': 10, 'Cowes': 10, 'Coleford': 10, 'Langport': 10, 'Abertillery': 10, 'Edgware': 10, 'Mickle Trafford': 10, 'New Malden': 10, 'Henfield': 10, 'Inverkeithing': 10, 'Longbridge': 10, 'Whittington Moor': 10, 'East Kilbride': 10, 'Lanark': 10, 'Aldeburgh': 10, 'Forest Row': 10, 'Tenterden': 10, 'Cheddar': 10, 'Godstone': 10, 'Chigwell': 10, 'Keswick': 10, 'Chalfont St. Giles': 10, 'Clydebank': 10, 'Broadway': 10, 'South Ockendon': 10, 'Paddington': 10, 'Westerham': 10, 'Aboyne': 10, 'Carmarthen': 10, 'Dukinfield': 10, 'Lingfield': 10, 'Westhill': 10, 'South Normanton': 10, 'The Vale of Glamorgan': 10, 'Windsor Castle': 10, 'Whistlow': 10, 'Tredegar': 10, 'Chester Le Street': 9, 'Kempston': 9, 'Alresford': 9, 'Blackheath': 9, 'Battle': 9, 'Carleton': 9, 'The Cross': 9, 'Ireland': 9, 'Renfrewshire': 9, 'Stockbridge': 9, 'Coleraine': 9, 'Aberdare': 9, 'Clapham': 9, 'Hook Common': 9, 'Penicuik': 9, 'Stalybridge': 9, 'Arlesey': 9, 'Watlington': 9, 'Perth & Kinross': 9, 'Newport-On-Tay': 9, 'Alexandria': 9, 'Worcester Park': 9, 'Ford': 9, 'Sandhurst': 9, 'Burn Bridge': 9, 'Holywell': 9, 'Saltash': 9, 'Harwich': 9, 'Dunbar': 9, 'Galashiels': 9, 'Bedale': 9, 'Pembroke': 9, 'Fleetwood': 9, 'Longfield': 9, 'Stanford On Soar': 9, 'Stonely': 9, 'New Zealand': 9, 'Teignmouth': 9, 'Elstow': 9, 'Wyboston': 8, 'Waterloo': 8, 'North Piddle': 8, 'Pitlochry': 8, 'Denmark Hill': 8, 'Tavistock': 8, 'North Howden': 8, 'Streatham': 8, 'Kinross': 8, 'Wallington': 8, 'Hampton': 8, 'Lyme Regis': 8, 'Ayr Central': 8, 'Desford': 8, 'Edgbaston': 8, 'Pontyclun': 8, 'Amesbury': 8, 'Ivybridge': 8, 'Ammanford': 8, 'North Walsham': 8, 'Sandwell': 8, 'Prenton': 8, 'Anstruther': 8, 'Wrekin': 8, 'Wells': 8, 'Whitstable': 8, 'Keynsham': 8, 'Neston': 8, 'Romney Marsh': 8, 'Halesworth': 8, 'Welshpool': 8, 'Shortlands': 8, 'Wishaw': 8, 'Weston Coyney': 8, 'Argyll & Bute': 8, 'Livingston Village': 8, 'Alford': 8, 'Sandwich': 8, 'Fort William': 8, 'Hockley': 8, 'Annan': 8, 'Hayes': 8, 'Ambleside': 8, 'South Milford': 8, 'Watton': 8, 'Flint': 8, 'Billingshurst': 8, 'North Lincolnshire': 8, 'Bishops Castle': 8, 'Buckhurst Hill': 8, 'Mitcham': 8, 'Birmingham International Airport': 8, 'West Berkshire': 8, 'Harwell': 7, 'Brigg': 7, 'North Lanarkshire': 7, 'Beeston': 7, 'Shifnal': 7, 'North Berwick': 7, 'Sowerby': 7, 'Notting Hill': 7, 'Bow': 7, 'Park Royal': 7, 'Humber': 7, 'Deal': 7, 'Stourport-On-Severn': 7, 'Eccles': 7, 'Chadbury': 7, 'Bromyard': 7, 'Cowbridge': 7, 'Llanbedr Dyffryn Clwyd': 7, 'Acton': 7, 'North Somerset': 7, 'Dean Clough Industrial Park': 7, 'Llanfairpwllgwyngyll': 7, 'Virginia Water': 7, 'Irlam': 7, 'Horncastle': 7, 'Braunton': 7, 'Earls Colne': 7, 'Blackwood': 7, 'Oban': 7, 'Hayle': 7, 'Isle Of Arran': 7, 'Benfleet': 7, 'Forres': 7, 'Bedworth': 7, 'Barnoldswick': 7, \"St John's Wood\": 7, 'Spennymoor': 7, 'Brockenhurst': 7, 'Middleton': 7, 'Firswood': 7, 'Branksome': 7, 'Llangennech': 7, 'Hunstanton': 7, 'Omagh': 7, 'Wymondham': 7, 'Hope': 7, 'Erdington': 7, 'Whiteley': 7, 'Renfrew': 7, 'Betchworth': 7, 'Wadebridge': 7, 'Dulwich': 7, 'Millom': 7, 'France Lynch': 6, 'Dinton': 6, 'Crick': 6, 'Hessle': 6, 'Aberaeron': 6, 'Stonehaven': 6, 'Morden': 6, 'Martock': 6, 'Greasbrough': 6, 'Broxbourne': 6, 'Monmouth': 6, 'Cutmill': 6, 'Tidworth': 6, 'Crookham Village': 6, 'South Killingholme': 6, 'Cosham': 6, 'Holyhead': 6, 'Newcastle': 6, 'Beaworthy': 6, 'West Timperley': 6, 'Filey': 6, 'Caldicot': 6, 'Ongar': 6, 'Rainham': 6, \"Shepherd's Bush\": 6, \"Chandler's Ford\": 6, 'Liversedge': 6, 'Banchory': 6, 'Newtownabbey': 6, 'East Beckham': 6, 'Houston': 6, 'Cowdenbeath': 6, 'Cromer': 6, 'East Hanningfield': 6, 'Padstow': 6, 'Driffield': 6, 'Morley': 6, 'Stevenston': 6, 'Woodhall Spa': 6, 'Leyburn': 6, 'Charlton': 6, 'Swaffham': 6, 'Denbigh': 6, 'Little Bromley': 6, 'Whetstone': 6, 'Tranent': 6, 'Guisborough': 6, 'Castlereagh': 6, 'Saxmundham': 6, 'Camborne': 6, 'Walthamstow': 6, 'Enniskillen': 6, 'Stretford': 6, 'Battersea': 6, 'Isle Of North Uist': 6, 'Ellon': 6, 'Cranfield': 6, 'Hebden Bridge': 6, 'Pewsey': 6, 'New York': 6, 'Machynlleth': 6, 'Northwood': 6, 'Kelso': 6, 'Vauxhall': 6, 'Avonmouth': 6, 'Shere': 6, 'Seaham': 6, 'Milford Haven': 6, 'Houghton Le Spring': 6, 'Builth Wells': 6, 'Kings Hill': 6, 'Buntingford': 6, 'Stanton-On-The-Wolds': 5, 'East End Green': 5, 'Pinner': 5, 'Barbican': 5, 'Yarnton': 5, 'Musselburgh': 5, 'Crediton': 5, 'Hythe': 5, 'Stancil': 5, 'Bassaleg': 5, 'Dallas': 5, 'Hendon': 5, 'Kirknewton': 5, 'New Barnet': 5, 'Ewell': 5, 'Walton-Le-Dale': 5, 'Thamesmead': 5, 'Quebec': 5, 'West Byfleet': 5, 'North East Lincolnshire': 5, 'Thurso': 5, 'Ellesmere': 5, 'Ballymoney': 5, 'Downpatrick': 5, 'North Harrow': 5, 'Sawtry': 5, 'Lampeter': 5, 'Bonnyrigg': 5, 'Moray': 5, 'Polegate': 5, 'Malpas': 5, 'Blairgowrie': 5, 'Longbenton': 5, 'Heckmondwike': 5, \"St James's\": 5, 'Sawston': 5, 'Henley-In-Arden': 5, 'Tarring': 5, 'Lochgelly': 5, 'Kilmuir': 5, 'Isle Of Bute': 5, 'Usk': 5, 'Antony Estate': 5, 'Cumnock': 5, 'Edmonton': 5, 'Whiteway': 5, 'Loanhead': 5, 'Great Canfield': 5, 'Channel Islands': 5, 'Tyseley': 5, 'Snodland': 5, 'Cuffley': 5, 'Ruddington': 5, 'Hailey': 5, 'Invergordon': 5, 'Prudhoe': 5, 'H M Naval Base': 5, 'London Colney': 5, 'Well': 5, 'Seaford': 5, 'Corbridge': 5, 'Kingfisher Shopping Centre': 5, 'Emsworth': 5, 'South Cornelly': 5, 'Tonypandy': 5, 'White City': 5, 'Raynes Park': 5, 'Balham': 5, 'Hengoed': 5, 'Grange-Over-Sands': 5, 'Eynsham': 5, 'Annesley': 5, 'Stranraer': 5, 'Lasswade': 5, 'Dingwall': 5, 'Bargoed': 5, 'Eltham': 5, 'Egremont': 5, 'Holland Park': 5, 'Worsley': 5, 'Ottershaw': 5, 'Southam': 5, 'Swinton': 5, 'Kingswood': 5, 'Westcliff-On-Sea': 5, 'Penryn': 5, 'County Antrim': 5, 'Withcall': 5, 'Portland': 5, 'Ham': 4, 'Clackmannanshire': 4, 'Knebworth': 4, 'Pwllheli': 4, 'Broadgate': 4, 'South Dalton': 4, 'Barnes': 4, 'North Anston': 4, 'Swinley': 4, 'Blackpool Airport': 4, 'Narberth': 4, 'Lindfield': 4, 'Bar Hill': 4, 'County Down': 4, 'Paris Island Little': 4, 'Mountain Ash': 4, 'Pembroke Dock': 4, 'Banbridge': 4, 'Bampton': 4, 'Burnham-On-Crouch': 4, 'Paddock Wood': 4, 'Wigton': 4, 'Church Stretton': 4, 'West Kilbride': 4, 'Halton': 4, 'New Durham': 4, 'Southminster': 4, 'West Stockwith': 4, 'Milford': 4, 'Abergavenny': 4, 'Castle Cary': 4, 'Clapham Junction': 4, 'Thornton Heath': 4, 'Catterick': 4, 'Chesterton': 4, 'Medway City Estate': 4, 'Didsbury': 4, 'Roehampton': 4, 'Beaminster': 4, 'South Ferriby': 4, 'Bradley Stoke': 4, 'Saltburn-By-The-Sea': 4, 'Dinnington': 4, 'Alloa': 4, 'South Kensington': 4, 'Loudwater': 4, 'Stoke': 4, 'Melrose': 4, 'Gourock': 4, 'Orkneys': 4, 'Mottram St. Andrew': 4, 'Mill Hill': 4, 'London Stansted Airport': 4, 'Halewood': 4, 'Hadleigh': 4, 'Canvey Island': 4, 'Colnbrook': 4, 'Wall Hill': 4, 'Buckfastleigh': 4, 'Elstree': 4, 'Tooting': 4, 'Narborough': 4, 'Dunblane': 4, 'Pelaw': 4, 'Douglas': 4, 'Kentish Town': 4, 'Stornoway': 4, 'Swindon Village': 4, 'Houghton Regis': 4, 'Tenbury Wells': 4, 'Healey': 4, 'Newent': 4, 'Orkney': 4, 'Queenborough': 4, 'North Waltham': 4, 'Bromborough': 4, 'Biggar': 4, 'Girvan': 4, 'Lowfield Heath': 4, 'Dunmow': 4, 'Selkirk': 4, 'Perranporth': 4, 'Sturminster Newton': 4, 'Shipston-On-Stour': 4, 'Cricklewood': 4, 'East Ayrshire': 4, 'Offham': 4, 'Yeadon': 4, 'Par': 4, 'Far Arnside': 4, 'Dungannon': 4, 'Market Drayton': 4, 'Ceredigion': 4, 'Liskeard': 4, 'Yarm': 4, 'Auckland Park': 4, 'Holt': 4, 'Fairford': 4, 'West Hampstead': 4, 'Bonnybridge': 4, 'Corwen': 4, 'Sawbridgeworth': 4, 'Styal': 4, 'Coniston': 4, 'Warlingham': 4, 'Lakeside': 4, 'Kirkby-In-Ashfield': 4, 'Porthcawl': 4, 'Brechin': 4, 'Bude': 4, 'Alfriston': 3, 'Catford': 3, 'Christs Hospital': 3, 'Tottenham': 3, 'Lifton': 3, 'Seaforde': 3, 'Carshalton': 3, 'Mablethorpe': 3, 'Eye': 3, 'Eaton Socon': 3, 'Welling': 3, 'Walton West': 3, 'Shirley': 3, 'Kings Norton': 3, 'St. Columb': 3, 'Beckton': 3, 'Bletchley': 3, 'Melton Constable': 3, 'Kegworth': 3, 'Tatton': 3, 'Severn Beach': 3, 'Clerkenwell': 3, 'Shepshed': 3, 'West Leake': 3, 'Bluewater': 3, 'Faringdon': 3, 'Frinton-On-Sea': 3, 'Tingley': 3, 'Langholm': 3, 'Highbury': 3, 'Blantyre': 3, 'Penkridge': 3, 'Wyke': 3, 'South Bank': 3, 'Bruntingthorpe': 3, 'Riverhead': 3, 'Wool': 3, 'Lower Sydenham': 3, 'Studley': 3, 'Shiremoor': 3, 'Burton': 3, 'Newtownards': 3, 'Newtown': 3, 'Heathrow Airport': 3, 'Dyce': 3, 'West Marton': 3, 'Sundridge': 3, 'Cairndow': 3, 'Botley': 3, 'Haultwick': 3, 'Sedbergh': 3, 'North Holmwood': 3, 'Birtley': 3, 'Daresbury': 3, 'Southwell': 3, 'Seaton': 3, 'Little Marlow': 3, 'Larne': 3, 'Selly Oak': 3, 'Lyme Green': 3, 'Haddington': 3, 'Stokesley': 3, 'Ballycastle': 3, 'Torpoint': 3, 'Billingbear': 3, 'Oxford Circus': 3, 'Aldridge': 3, 'North Woolwich': 3, 'Brampton': 3, 'Northfleet': 3, 'Olney': 3, 'Hatherleigh': 3, 'Tiptree': 3, 'Blaenau Ffestiniog': 3, 'Denmead': 3, 'East Goscote': 3, 'Broughton': 3, 'St Lukes': 3, 'Barton-Upon-Humber': 3, 'Peckham': 3, 'Ferryhill': 3, 'Portlethen': 3, 'Knightsbridge': 3, 'Bedfont': 3, 'Mold': 3, 'Ryton': 3, 'Isle Of Skye': 3, 'Port Glasgow': 3, 'Pinxton': 3, 'East Barnet': 3, 'Cottingham': 3, 'Edge': 3, 'Churchbridge': 3, 'West Molesey': 3, 'Barnard Castle': 3, 'Brinsford': 3, 'Maesteg': 3, 'Wickham': 3, 'Larkhall': 3, 'Easton': 3, 'Bourn': 3, 'Crieff': 3, 'Chobham': 3, 'Todmorden': 3, 'Cliftonville': 3, 'West Gerinish': 3, 'Dundee Technology Park': 3, 'Newton Stewart': 3, 'Shetlands': 3, 'Quedgeley': 3, 'Lenham': 3, 'Chislehurst': 3, 'Wooburn Industrial Park': 3, 'Peacehaven': 3, 'Cleveley': 3, 'Tyn-Y-Gongl': 3, 'Holborn': 3, 'Yelverton': 3, 'Flitwick': 3, 'Willian': 3, 'Huyton': 3, 'Camberwell': 3, 'Craven Arms': 3, 'Sedgefield': 3, 'Llantrisant': 3, 'Lochgilphead': 3, 'Newton Heath': 3, 'Hope Valley': 3, 'Box': 3, 'Cheadle Hulme': 3, 'Penge': 3, 'Bacup': 3, 'Great Kelk': 3, 'Sand': 3, 'Belmont': 3, 'Looe': 3, 'Keele': 3, 'Petts Wood': 3, 'Harlech': 3, 'Little Ilford': 3, 'Llangollen': 3, 'Fowey': 3, 'Thrapston': 3, 'Selly Park': 3, 'Mill Hill East': 3, 'West Drayton': 3, 'Peebles': 3, 'Foston': 3, 'Hersham': 3, 'Nechells': 3, 'North Mymms': 3, 'Dunoon': 3, 'Portishead': 3, 'Wycombe': 3, 'North Muskham': 3, 'Llanwrtyd Wells': 3, 'Padworth': 3, 'Forest Beck': 3, 'Bramhope': 3, 'Kingston': 3, 'Donaghadee': 3, 'Fermanagh': 3, 'Saltcoats': 3, 'Oakdale': 3, 'West Dunbartonshire': 3, 'Pont Nedd Fechan': 2, 'Newby East': 2, 'Haddenham': 2, 'New Quay': 2, 'Monxton': 2, 'Broseley': 2, 'Cameron': 2, 'Barnwood': 2, 'Long Furlong': 2, 'Llandinam': 2, 'Bloxham': 2, 'West Kingsdown': 2, 'Filton': 2, 'Nursted': 2, 'Monaghan': 2, 'The Upper Wyke': 2, 'Overdale Park': 2, 'Padiham': 2, 'Kirkby': 2, 'Chilton': 2, 'Holywood': 2, 'Turriff': 2, 'Nailsea': 2, 'Coningsby': 2, 'Falmer': 2, 'Uppingham': 2, 'Ballynahinch': 2, 'Kilbarchan': 2, 'Westlakes Science & Technology Park': 2, 'Oadby': 2, 'Ingatestone': 2, 'Long Stratton': 2, 'Kirkham': 2, 'Adlington': 2, 'The Ridgeway': 2, 'Birchwood': 2, 'Butleigh': 2, 'Pevensey': 2, 'Queensferry': 2, 'Desborough': 2, 'Port Charlotte': 2, 'Mancetter': 2, 'Thornton-Cleveleys': 2, 'Sandown': 2, 'Harefield': 2, 'Hungerford Park': 2, 'Cheam': 2, 'Silchester': 2, 'Shotts': 2, 'Englefield Green': 2, 'Tayport': 2, 'Fulbourn': 2, 'Redbourne': 2, 'Crymych': 2, 'Milton': 2, 'Linlithgow Bridge': 2, 'Alvechurch': 2, 'Biddulph': 2, 'Chathill': 2, 'Atherton': 2, 'Cockburnspath': 2, 'Thornhill': 2, 'Weston': 2, 'Westhumble': 2, 'Storrington': 2, 'Whittlebury': 2, 'Chadderton': 2, 'Wellesbourne': 2, 'Jedburgh': 2, 'Crook': 2, 'North Down': 2, 'Stokenchurch': 2, 'Wellington College': 2, 'Bradshaw': 2, 'Stockwell': 2, 'Bourton-On-The-Water': 2, 'Winthorpe': 2, 'Port Solent': 2, 'North Ripley': 2, 'Staplehurst': 2, 'East Mersea': 2, 'Portree': 2, 'Watchet': 2, 'Willesden': 2, 'Hanham': 2, 'Swiss Cottage': 2, 'Old Sodbury': 2, 'Spilsby': 2, 'Appleby-In-Westmorland': 2, 'Bishopbriggs': 2, 'Southborough': 2, 'Poplar': 2, 'Shenfield': 2, 'West Fenton': 2, 'South Littleton': 2, 'Brockley': 2, 'Llangefni': 2, 'Drighlington': 2, 'Putney Heath': 2, 'Llansantffraid': 2, 'Ballater': 2, 'East Anton': 2, \"Bo'ness\": 2, 'Quinton': 2, 'Oxford Airport': 2, 'Winkfield': 2, 'Water Orton': 2, 'Treharris': 2, 'Newarthill': 2, 'Welburn': 2, 'Kingswells': 2, 'Southfleet': 2, 'Exning': 2, 'Purbrook': 2, 'Lakenheath': 2, 'Aston': 2, 'Wombwell': 2, 'Torrington': 2, 'Hildenborough': 2, 'Featherstone': 2, 'Bunbury': 2, 'Kingussie': 2, 'Llandovery': 2, 'North Fambridge': 2, 'Winscombe': 2, 'Stock': 2, 'Hawick': 2, 'Hedge End': 2, 'Stratford Enterprise Park': 2, 'Aldford': 2, 'Southwater': 2, 'Hanley': 2, 'Roslin': 2, 'Culmhead': 2, 'Westbury-On-Severn': 2, 'Heysham': 2, 'North Standen': 2, 'Church Stoke': 2, 'Cinderford': 2, 'Carnoustie': 2, 'Mile End': 2, 'Back Of Avon': 2, 'Sherburn In Elmet': 2, 'Churchtown': 2, 'Brough': 2, 'Manor Park': 2, 'Swanscombe': 2, 'Wroxham': 2, 'South Queensferry': 2, 'Lathom': 2, 'Erskine': 2, 'Criftins': 2, 'Silksworth': 2, 'Minworth': 2, 'Ticehurst': 2, 'North Tawton': 2, 'Dunwich': 2, 'Thornbury': 2, 'Ratcliffe-On-Soar': 2, 'Linton': 2, 'Weoley Castle': 2, 'Furness Vale': 2, 'Bath & N E Somerset': 2, 'Dalry': 2, 'Mansfield Woodhouse': 2, 'Blandford Camp': 2, 'West Haddon': 2, 'Thurmaston': 2, 'Chalk Farm': 2, 'Market Deeping': 2, 'Llay': 2, 'Llanwrda': 2, 'Charing Cross': 2, 'Belton': 2, 'Histon': 2, 'Maida Vale': 2, 'Shipton-Under-Wychwood': 2, 'Crayford': 2, 'Ampthill': 2, 'Little Oakley': 2, 'All Saints': 2, 'East Leake': 2, 'Johnstone': 2, 'Kew': 2, 'Wych Cross': 2, 'Settle': 2, 'Bovington': 2, 'South Elmsall': 2, 'Walton On The Naze': 2, 'Urmston': 2, 'Neasden': 2, 'Peterculter': 2, 'Tenby': 2, 'Emersons Green': 2, 'Llanberis': 2, 'Cleator': 2, 'Bow Street': 2, 'Langley': 2, 'Montgomery': 2, 'Redbourn': 2, 'Denton': 2, 'Ryde': 2, 'West Allington': 2, 'Holbeach': 2, 'Wingrave': 2, 'Rutland': 2, 'Nairn': 2, 'Kennington': 2, 'Eaton Ford': 2, 'Sutton Park': 2, 'Chorlton Cum Hardy': 2, \"Rowland's Castle\": 2, 'Rhu': 2, 'South Petherton': 2, 'East Holton': 2, 'East Dean': 2, 'Kimbolton': 2, 'Kenton': 2, 'Devonport': 2, 'Brockworth': 2, 'Collyhurst': 2, 'Central Treviscoe': 2, 'Robertsbridge': 2, 'Great Somerford': 2, 'Alvaston': 2, 'Kilwinning': 2, 'Tividale': 2, 'Currie': 2, 'Golspie': 2, 'Isle Of Harris': 2, 'Rand': 2, 'Buckley': 2, 'Well End': 2, 'Fleet Street': 2, 'Silsden': 2, 'Goldthorpe': 2, 'Dormans Park': 2, 'Bounds Green': 2, 'Caversham': 2, 'East Ham': 2, 'Waterbeach': 2, 'Upper Sydenham': 2, 'East Rolstone': 2, 'Abergele': 2, 'Northenden': 2, 'Streatham Park': 2, 'Hindley': 2, 'Aldringham': 2, 'Melton': 2, 'Reston': 2, 'Pitstone': 2, 'Stevenstone': 2, 'Cardigan': 2, 'Burwell': 2, 'Denver': 2, 'Yearby': 2, 'Northants': 2, 'Lee-On-The-Solent': 2, 'Aldermaston': 2, 'Rawreth': 2, 'Berinsfield': 2, 'Holmrook': 2, 'Badminton': 2, 'Skelton-In-Cleveland': 2, 'Dornoch': 2, 'Wythall': 2, 'Abington': 2, 'Henlow': 2, 'Altens': 2, 'Canwick': 2, 'Littleborough': 2, 'Gullane': 2, 'Kenn': 2, 'Steeton': 2, 'Moffat': 2, 'Droylsden': 2, 'Pell Wall': 2, 'Aberfeldy': 2, 'Perivale': 2, 'Stirchley': 2, 'Carrington': 2, 'North Wingfield': 2, 'New Romney': 2, 'Ibstock': 2, 'Hardwick': 2, 'Littlethorpe': 2, 'Sunningdale': 2, 'Alva': 2, 'Leamouth': 2, 'Cricklade': 1, 'Byley': 1, 'Angel': 1, 'The Headland': 1, 'Fitzrovia': 1, 'Sturminster Marshall': 1, 'West Halton': 1, 'Bonar Bridge': 1, 'Handsworth': 1, 'The Trafford Centre': 1, 'Mottram': 1, 'Stoke Newington': 1, 'Bickley': 1, 'Sherburn': 1, 'Fulford': 1, 'Rastrick': 1, 'Charfield': 1, 'Purton': 1, 'Durham Lane Industrial Park': 1, 'Goring-By-Sea': 1, 'Crianlarich': 1, 'Melbourn': 1, 'Ruthin': 1, 'Tarbert': 1, 'Westbury-On-Trym': 1, 'Hurstpierpoint': 1, 'Birkenshaw': 1, 'Brightlingsea': 1, 'Birstall': 1, 'Strood': 1, 'Rocester': 1, 'Hertford Heath': 1, 'Scawsby': 1, 'Tilbury Juxta Clare': 1, 'Titchwell': 1, 'Formby': 1, 'Knowle': 1, 'Aldham Tye': 1, 'Bebington': 1, 'Garforth': 1, 'Isle Of Grain': 1, 'Worle': 1, 'Barkingside': 1, 'Old': 1, 'Walkley': 1, 'Ballyclare': 1, 'Coxbench': 1, 'Lower Hale': 1, 'Camelford': 1, 'Sutton Weaver': 1, 'Pembury': 1, 'Lossiemouth': 1, 'Oaklands': 1, 'Claydon': 1, 'Ripponden': 1, 'Goring': 1, 'Cowley': 1, 'Little Grimsby': 1, 'Uig': 1, 'Fetcham': 1, 'Haddon': 1, 'Wheatley': 1, 'Hampton Hill': 1, 'Oakley': 1, 'Southville': 1, 'Mortimer West End': 1, 'Bromham': 1, 'Gaddesden Row': 1, 'Walkerburn': 1, 'Thorpe Larches': 1, 'Stow Longa': 1, 'Ilchester': 1, 'Seacroft': 1, 'Chilwell': 1, 'Ruscombe': 1, 'Arlington': 1, 'Cefn Coed': 1, 'Leyton': 1, 'Rownhams': 1, 'Isle Of Barra': 1, 'Coal Aston': 1, 'Castlebay': 1, 'Templecombe': 1, 'Castle Douglas': 1, 'Enstone': 1, 'Eccleshall': 1, 'Shamley Green': 1, 'Great Bridge': 1, 'Troon': 1, 'Blackfriars': 1, 'Lauder': 1, 'Knighton': 1, 'Trimdon': 1, 'Campbeltown': 1, 'Sarratt': 1, 'Great Warley': 1, 'Coniston Cold': 1, 'Kingfield': 1, 'Warmingham': 1, 'Taffs Well': 1, 'Litherland': 1, 'Calderbridge': 1, 'St. Boswells': 1, 'Brynmawr': 1, 'Blaby': 1, 'Kingsbarns': 1, 'Hanwell': 1, 'Euston': 1, 'Manvers': 1, 'Peasedown St. John': 1, 'Rockbeare': 1, 'Newry & Mourne': 1, 'Headley Down': 1, 'Whitminster': 1, 'Strabane': 1, 'Hordley': 1, 'Colwick': 1, 'Drax': 1, 'Seer Green': 1, 'Axmouth': 1, 'North Cave': 1, 'Burchetts Green': 1, 'Castle Combe': 1, 'Stapleford': 1, 'Little Eaton': 1, 'Bradley Cross': 1, 'Crumpsall': 1, 'North Barningham': 1, 'Abbey Village': 1, 'Laurencekirk': 1, 'Aveley': 1, 'Blythe Valley Park': 1, 'Kenyon': 1, 'Lount': 1, 'Burghfield': 1, 'Gretna': 1, 'Kesgrave': 1, 'Blaenavon': 1, 'Portscatho': 1, 'Sewardstone': 1, 'Tisbury': 1, 'Lynmouth': 1, 'Isle Of Coll': 1, 'Tottenham Hale': 1, 'Fawley': 1, 'Baughton': 1, 'Cleethorpes': 1, 'Kent International Airport': 1, 'Haymarket': 1, 'Eggington': 1, 'Gronant': 1, 'Sandycroft': 1, 'Acocks Green': 1, 'Magherafelt': 1, 'Stow-Cum-Quy': 1, 'Hawarden': 1, 'Cronton': 1, 'Chapel Allerton': 1, 'Yetminster': 1, 'Acton Gate': 1, 'Talsarnau': 1, 'Penn Fields': 1, 'Lympstone': 1, 'Kelty': 1, 'Harold Wood': 1, 'Hunslet': 1, 'Church End': 1, 'Barnehurst': 1, 'Little Tring': 1, 'Felsted': 1, 'Mapperley': 1, 'Lostwithiel': 1, 'Castle Bromwich': 1, 'Hartford': 1, 'High Peak': 1, 'Aldgate': 1, 'Flax Bourton': 1, 'Carrickfergus': 1, 'Upper Basildon': 1, 'Surrey Research Park': 1, 'Handforth': 1, 'Hanworth': 1, 'Cardiff International Airport': 1, 'Caton': 1, 'West Kensington': 1, 'Thames View Industrial Park': 1, 'Sydenham': 1, 'Nayland': 1, 'Oldbrook': 1, 'Westbrook': 1, 'Heckington': 1, 'Wattisham': 1, 'Burton Joyce': 1, 'Chiltern Green': 1, 'Brightwell': 1, 'Bearsden': 1, 'Horam': 1, 'Twerton': 1, 'South Woodham Ferrers': 1, 'Alconbury': 1, 'Gonerby Hill Foot': 1, 'Coulsdon North': 1, 'Bend Hagg House': 1, 'Manchester Airport': 1, 'Kibworth Harcourt': 1, 'Ashburton': 1, 'Brookwood': 1, 'Carryduff': 1, 'Worminghall': 1, 'Old Dalby': 1, 'Bala': 1, 'Nant Gwynant': 1, 'Winterborne Stickland': 1, 'Kerry': 1, 'Yeovil Marsh': 1, 'Harvey Gardens': 1, 'Clayton': 1, 'Little Ellingham': 1, 'Shoreham': 1, 'Willen': 1, 'Little Chalfont': 1, 'Sheringham': 1, 'Tackley': 1, 'Stillington': 1, 'Egglescliffe': 1, 'Eastgate': 1, 'Westhoughton': 1, 'Croxley Green': 1, 'Needham Market': 1, 'Tongham': 1, 'Bilborough': 1, 'Iffley': 1, 'Bingham': 1, 'Bramhall': 1, 'South Thoresby': 1, 'New Longton': 1, 'Wykin': 1, 'Iver Heath': 1, 'Upleadon': 1, 'Danestone': 1, 'Tickhill': 1, 'Woods Green': 1, 'Welford On Avon': 1, 'Little Padfield': 1, 'Walsgrave On Sowe': 1, 'Whalley': 1, 'Itchenor': 1, 'Glanton': 1, 'Raunds': 1, 'Pagham': 1, 'Tarleton': 1, 'Doxford': 1, 'Menai Bridge': 1, 'Brill': 1, 'Ampney Crucis': 1, 'Portchester': 1, 'Cosford': 1, 'Sapperton': 1, 'St. Pauls': 1, 'Wymington': 1, 'Hapton': 1, 'Meopham': 1, 'Ystrad Mynach': 1, 'Howden': 1, 'Farmoor': 1, 'Hoveton': 1, 'Farncombe': 1, 'Ambergate': 1, 'Guiseley': 1, 'Ponteland': 1, 'West Wycombe': 1, 'Glemsford': 1, 'Altnagelvin': 1, 'Oakington': 1, 'Hampton Poyle': 1, 'Impington': 1, 'Earls Court': 1, 'Churt': 1, 'Kidbrooke': 1, 'Burnham': 1, 'Banwell': 1, 'Clarbeston Road': 1, 'Falkland': 1, 'Newton Solney': 1, 'Wiveliscombe': 1, 'Docking': 1, 'St. Werburghs': 1, 'Capel St. Mary': 1, 'Glasgow Airport': 1, 'Huthwaite': 1, 'East Harptree': 1, 'Cockfosters': 1, 'Hingham': 1, 'Radley Green': 1, 'Preston Brook': 1, 'Netherfield': 1, 'Berrycroft': 1, 'Lindrick Common': 1, 'Penmaenmawr': 1, 'Horbury': 1, 'Bamber Bridge': 1, 'Blakeney': 1, 'Creswell': 1, 'Little Clacton': 1, 'South Hampstead': 1, 'Brondesbury': 1, 'Aintree': 1, 'Cantley': 1, 'Kington': 1, 'Newtonmore': 1, 'Launton': 1, 'Piccadilly': 1, 'Little Alne': 1, 'Garstang': 1, 'Marehay': 1, 'Crickhowell': 1, 'Clarbeston': 1, 'Cleadon': 1, 'Gatwick Airport': 1, 'Tideswell': 1, 'The Mounts': 1, 'Comberton': 1, 'Park': 1, 'Leckhampton': 1, 'Sparkhill': 1, 'Countesthorpe': 1, 'Bradwall': 1, 'Rothwell': 1, 'Choppington': 1, 'Cookham Dean': 1, 'Victoria Docks': 1, \"World's End\": 1, 'Deepcut': 1, 'Bushmills': 1, 'Willingham': 1, 'Willand': 1, 'Drybrook': 1, 'Larbert': 1, 'Stockhill': 1, 'Kennoway': 1, 'Upper Heyford': 1, 'The Home': 1, 'Mulbarton': 1, 'Waltham On The Wolds': 1, 'Gorton': 1, 'Stoke Mandeville': 1, 'Four Oaks': 1, 'Carlton': 1, 'Balerno': 1, 'Helmshore': 1, 'Shillingford Hill': 1, 'Haltwhistle': 1, 'Calstock': 1, 'Morton': 1, 'Woolmer Green': 1, 'Saltaire': 1, 'Seaton Burn': 1, 'Ripe': 1, 'Turnpike Lane': 1, 'Brooklands': 1, 'Rowlands Gill': 1, 'Philadelphia': 1, 'Steyning': 1, 'Ashton With Stodday': 1, 'Hotwells': 1, 'Rowsley': 1, 'Walcott': 1, 'Saundersfoot': 1, 'Llanybydder': 1, 'Dentons Green': 1, 'Stonesfield': 1, 'Lopen': 1, 'Ardrossan': 1, 'North Warnborough': 1, 'Bulk': 1, 'Ramsgreave': 1, 'Bovingdon': 1, 'Twyford': 1, 'West Heath': 1, 'Warton': 1, 'Grafton Regis': 1, 'Willesborough': 1, 'Stretham': 1, 'Ardleigh': 1, 'Old Windsor': 1, 'Duns': 1, 'Gorleston': 1, 'Faygate': 1, 'Swaffham Prior': 1, 'Tullyhogue': 1, 'Heyshott': 1, 'Hest Bank': 1, 'Wynyard': 1, 'Fairbourne': 1, 'Backwell': 1, 'Kingston Vale': 1, 'Leslie': 1, 'Westlake': 1, 'Barrow Upon Soar': 1, 'Scotter Common': 1, 'Rhuddlan': 1, 'Braunstone': 1, 'Penrhyndeudraeth': 1, 'Fenstanton': 1, 'Abram': 1, 'Little Keyford': 1, 'Seaforth': 1, 'Ash': 1, 'Westgate-On-Sea': 1, 'Stotfold': 1, 'Sacriston': 1, 'Southgate': 1, 'Wilmington': 1, 'Cwmllynfell': 1, 'New Haw': 1, 'Llandyrnog': 1, 'Queen Adelaide': 1, 'Ifield': 1, 'St. Clears': 1, 'Crouch End': 1, 'Scalloway': 1, 'South Muskham': 1, 'Old Warden': 1, 'Iwerne Courtney': 1, 'Hambleton': 1, 'Otterbourne': 1, 'Cornwell': 1, 'Sway': 1, 'Radcliffe': 1, 'Gorseinon': 1, 'Selby Common': 1, 'Binbrook': 1, 'Eastcote': 1, 'Elmbridge': 1, 'Bletsoe': 1, 'Waltham': 1, 'Mylor Bridge': 1, 'Newstead': 1, 'Yapton': 1, 'Callands': 1, 'Whiteparish': 1, 'Helsby': 1, 'Pride Park': 1, 'Great Howarth': 1, 'Chalgrove': 1, 'Benbecula': 1, 'West Lockinge': 1, 'Bronwydd Arms': 1, 'Girton': 1, 'Claverdon': 1, 'Haugh': 1, 'Market Weighton': 1, 'Bloxwich': 1, 'Woolpit': 1, 'Chellaston': 1, 'Belle Vale': 1, 'Flixborough': 1, 'Cadishead': 1, 'Isle Of Colonsay': 1, 'Brighton Marina Village': 1, 'St. Mellons': 1, 'Winkfield Row': 1, 'Datchet': 1, 'Arnold': 1, 'Kearsley': 1, 'Treorchy': 1, 'Leeming Bar': 1, 'Kenley': 1, 'Withernsea': 1, 'Lower Eashing': 1, 'St. Leonards': 1, 'Pulford': 1, 'Hackney Wick': 1, 'Ullenhall': 1, 'Lye': 1, 'Fishguard': 1, 'Faulkbourne': 1, 'Heywood Distribution Park': 1, 'Goodwick': 1, 'Low Common': 1, 'Littleham': 1, 'Holbeck': 1, 'Muswell Hill': 1, 'Cuckfield': 1, 'Springside': 1, 'Benham Hill': 1, 'Linwood': 1, 'Cross Heath': 1, 'Borough': 1, 'Moor Row': 1, 'Marylebone': 1, 'Isle Of South Uist': 1, 'Grantown-On-Spey': 1, 'Porters Wood': 1, 'East Linton': 1, 'Longhope': 1, 'Tockwith': 1, 'Isle Of Iona': 1, 'Fradley Park': 1, 'California': 1, 'Torfaen': 1, 'Brize Norton': 1, 'Great Blakenham': 1, 'Kingsdown': 1, 'Kidwelly': 1, 'Culloden': 1, 'Llanidloes': 1, 'Nuncargate': 1, 'Ryton On Dunsmore': 1, 'Busbridge': 1, 'Radcliffe-On-Trent': 1, 'Holloway': 1, 'Firgrove': 1, 'Rotherhithe': 1, 'Shalford': 1, 'Hamworthy': 1, 'Blaydon Burn': 1, 'Hollesley': 1, 'Northfield': 1, 'Tywyn': 1, 'Dungeness': 1, 'Rowley Regis': 1, 'Coxheath': 1, 'Bransgore': 1, 'Mytholmroyd': 1, 'Low Seaton': 1, 'Denham': 1, 'West Markham': 1, 'Staple Hill': 1, 'Thurleigh': 1, 'Leitrim': 1, 'Rusholme': 1, 'East Dulwich': 1, 'Wroughton': 1, 'Cayton Bay': 1, 'Baillieston': 1, 'Dolgellau': 1, 'Binfield': 1, 'Ladbroke Grove': 1, 'Long Marston': 1, 'Windlesham': 1, 'Toomebridge': 1, 'Englefield': 1, 'Lemington': 1, 'Waterglade Industrial Park': 1, 'Hoe Hill': 1, 'St. Fagans': 1, 'Barrow': 1, 'Southwold': 1, 'Bridge Of Weir': 1, 'Ulceby': 1, 'Achmore': 1, 'Wargrave': 1, 'Rushton': 1, 'Holyport': 1, 'Clowne': 1, 'South Acton': 1, 'Newton In Furness': 1, 'Belgravia': 1, 'Rush Green': 1, 'South Hanningfield': 1, 'Brompton': 1, 'Ramsey': 1, 'Porthmadog': 1, 'Bromley-By-Bow': 1, 'Stroud Green': 1, 'Maple Cross': 1, 'Bisley': 1, 'Brandon Creek': 1, 'Abercynon': 1, 'Bisham': 1, 'Freshwater': 1, 'Long Sutton': 1, 'Thornaby': 1, 'Hookwood': 1, 'Abbey Wood': 1, 'Hinderwell': 1, 'Newbridge': 1, 'Cippenham': 1, 'Maybole': 1, 'Lockerbie': 1, 'Crystal Palace': 1, 'Willoughby': 1, 'Lindford': 1, 'Banham': 1, 'Blackford': 1, 'St. Germans': 1, 'Benmore': 1, 'Temple': 1, 'Whittlesey': 1, 'Wingland': 1, 'Blackwater': 1, 'Barnetby': 1, 'Ditchingham': 1, 'Belsize Park': 1, 'Brixworth': 1, 'Llanrumney': 1, 'Longstanton': 1, 'Witley': 1, 'Newcastle Emlyn': 1, 'Heriot': 1, 'Holmer': 1, 'Silfield': 1, 'Haydock': 1, 'Wormley': 1, 'Liverpool Street': 1, 'Alperton': 1, 'Deptford': 1, 'Llanrug': 1, 'Pinchbeck': 1, 'Pencoed': 1, 'Haslingden': 1, 'Limavady': 1, 'Bethnal Green': 1, 'Brewood': 1, 'Shenstone': 1, 'Walnut Tree': 1, 'Ash Vale': 1, 'Milngavie': 1, 'Bembridge': 1, 'Southwick': 1, 'Brentor': 1, 'Bungay': 1, 'Clyst Honiton': 1, 'Longtown': 1, 'Cosby': 1, 'Fulwood': 1, 'Garston': 1, 'Norley': 1, 'New Leeds': 1, 'Broughton Astley': 1, 'Heaton Mersey': 1, 'Walton': 1, 'Elvington': 1, 'Easingwold': 1, 'Chadwell St. Mary': 1, 'East Town': 1, 'Ford Bridge': 1, 'Woodford': 1, 'Methley': 1, 'Great Langdale': 1, 'St. Mary Cray': 1, 'Sutton Scotney': 1, 'Freuchie': 1, 'Lane End': 1, 'Caddington': 1, 'Neyland': 1, 'Westbourne': 1, 'Cuttifords Door': 1, 'Morriston': 1, 'Mossley': 1, 'Stanwell': 1, 'Penisarwaun': 1, 'Christleton': 1, 'Mauchline': 1, 'Duxford': 1, 'Little Irchester': 1, 'Bray': 1, 'New Holland': 1, 'Dinas Powys': 1, 'Rivenhall': 1, 'Yarmouth': 1, 'Pencader': 1, 'Silverdale': 1, 'Oldfield': 1, 'Stalbridge': 1, 'Killingworth': 1, 'Tain': 1, 'Crown East': 1, 'Torry': 1, 'Craigiebuckler': 1, 'Whitefield': 1, 'Edwalton': 1, 'Bensham': 1, 'Bucknell': 1, 'Cookstown': 1, 'Soham': 1, 'Sefton': 1, 'Moortown': 1, 'Chalfont St. Peter': 1, 'Southfields': 1, 'Churwell': 1, 'South Croxton': 1, 'Werrington': 1, 'Heath': 1, 'Pentre': 1, 'Kirkintilloch': 1, 'Somers Town': 1, 'Wallyford': 1, 'Furzedown': 1, 'Hall Green': 1, 'Northolt': 1, 'Milltimber': 1, 'Harston': 1, 'Aston Crews': 1, 'Belle Isle': 1, 'Clackmannan': 1, 'Honingham': 1, 'East Finchley': 1, 'East End': 1, 'Barwell': 1, 'Brockhill Village': 1, 'Burleydam': 1, 'Biggin Hill Airport': 1, 'Coedpenmaen': 1, 'Bollington': 1, 'Porton Down': 1, 'North Widcombe': 1, 'West Norwood': 1, 'Port Seton': 1, 'East Somerton': 1, 'Great Usworth': 1, 'Gargrave': 1, 'Bardon Hill': 1, 'Northaw': 1, 'Forest Hill': 1, 'St. Agnes': 1, 'Rustington': 1, 'Earls Barton': 1, 'South Godstone': 1, 'Salcombe': 1, 'Shenley': 1, 'Hollywood': 1, 'Annitsford': 1, 'Swavesey': 1, 'Denwick': 1, 'Burley Woodhead': 1, 'Upper Walthamstow': 1, 'Meriden': 1, 'Westham': 1, 'Much Hadham': 1, 'Throsk': 1, 'Dalgety Bay': 1, 'South Mimms': 1, 'Lytham St. Annes': 1, 'Laindon': 1, 'East Wittering': 1, 'Norwell': 1, 'West Hagbourne': 1, 'Whitechapel': 1, 'West Dulwich': 1, 'Yeovilton': 1, 'Norwood': 1, 'Partington': 1, 'Carluke': 1, 'Grizedale': 1, 'Stradbroke': 1, 'Great Barr': 1, 'Belford': 1, 'Aylsham': 1, 'Midsomer Norton': 1, 'Bracebridge': 1, 'Porth': 1, 'Deanshanger': 1, 'Long Eaton': 1, 'Chewton Keynsham': 1, 'East Hagbourne': 1, 'North Hykeham': 1, 'Harmondsworth': 1, 'Bradwell-On-Sea': 1, 'West Bradford': 1, 'Stepney': 1, 'Stoke Poges': 1, 'Shanklin': 1, 'Hillsborough': 1, 'Tremough': 1, 'Presteigne': 1, 'Meadowbank': 1, 'Theakston': 1, 'Ringmer': 1, 'Hope Carr': 1, 'Northchapel': 1, 'Randalstown': 1, 'Lower Basildon': 1, 'Hartley Wintney': 1, 'Berwyn': 1, 'Kincardine': 1, 'Nyewood': 1, 'Brislington': 1, 'Anwick': 1, 'Monkton Heathfield': 1, 'Northam': 1, 'Bircham Newton': 1, 'Cumbernauld': 1, 'Portadown': 1, 'Woolhampton': 1, 'Woodley': 1, 'Den Cross': 1, 'Bransty': 1, 'Sheldon': 1, 'Glenluce': 1, 'Hartley': 1, 'Measham': 1, 'Wrexham Technology Park': 1, 'Culham': 1, 'Knowsley Industrial Park': 1, 'Finchampstead': 1, 'Duffryn Rhondda': 1, 'Wendover': 1, 'West Ham': 1, 'Speke': 1, 'Chiddingstone Causeway': 1, 'Kirkby Stephen': 1, 'Bloomsbury': 1, 'Bramley': 1, 'Lesnes Woods': 1, 'West Runton': 1, 'Hermitage': 1, 'Tower Hill': 1, 'Broom': 1, 'Steeple Morden': 1, 'Burscough': 1, 'Penllergaer': 1, 'Monument': 1, 'Oldends': 1, 'Keith': 1, 'Hadfield': 1, 'Ottery St. Mary': 1, 'South Tottenham': 1, 'Grimethorpe': 1, 'Wavendon': 1, 'Knowsley Park': 1, 'Sherbourne': 1, 'Isle Of Lewis': 1, 'Gedling': 1, 'Kirkhamgate': 1, 'Bargate': 1, 'Isle Of Dogs': 1, 'Newton Mearns': 1, 'Leconfield': 1, 'Bankside': 1, 'Skelton': 1, 'Perranuthnoe': 1, 'Irthlingborough': 1, 'Wisley': 1, 'Chilcompton': 1, 'Marske': 1, 'Brownhill': 1, 'Llandudno Junction': 1, 'Auchterarder': 1, 'Dymock': 1, 'Chipping Sodbury': 1, 'South Bermonsey': 1, 'Broadmeadows': 1, 'Cambuslang': 1, 'Westfield': 1, 'Kilbirnie': 1, 'Cwm': 1, 'Lyng': 1, 'Scone': 1, 'Stockton': 1}) \n",
      "\n",
      "ContractType Counter({'NaN': 179326, 'full_time': 57538, 'part_time': 7904}) \n",
      "\n",
      "ContractTime Counter({'permanent': 151521, 'NaN': 63905, 'contract': 29342}) \n",
      "\n"
     ]
    }
   ],
   "source": [
    "for col in categorical_columns:\n",
    "    print(col, Counter(data[col]), '\\n')"
   ]
  },
  {
   "cell_type": "code",
   "execution_count": 4,
   "metadata": {},
   "outputs": [],
   "source": [
    "import nltk\n",
    "tokenizer = nltk.tokenize.WordPunctTokenizer()\n",
    "\n",
    "for col in text_columns:\n",
    "    data[col] = data[col].apply(lambda l: ' '.join(tokenizer.tokenize(str(l).lower())))"
   ]
  },
  {
   "cell_type": "code",
   "execution_count": 9,
   "metadata": {},
   "outputs": [],
   "source": [
    "from collections import Counter\n",
    "token_counts = Counter((' '.join(data[text_columns[0]])).split() + (' '.join(data[text_columns[1]])).split())\n",
    "\n",
    "min_count = 10\n",
    "# tokens from token_counts keys that had at least min_count occurrences throughout the dataset\n",
    "tokens = [token for token, count in token_counts.items() if count >= min_count]"
   ]
  },
  {
   "cell_type": "code",
   "execution_count": 10,
   "metadata": {},
   "outputs": [
    {
     "name": "stdout",
     "output_type": "stream",
     "text": [
      "Vocabulary size: 34158\n"
     ]
    }
   ],
   "source": [
    "UNK, PAD = \"UNK\", \"PAD\"\n",
    "tokens = [UNK, PAD] + sorted(tokens)\n",
    "print(\"Vocabulary size:\", len(tokens))\n"
   ]
  },
  {
   "cell_type": "code",
   "execution_count": 11,
   "metadata": {},
   "outputs": [],
   "source": [
    "token_to_id = {token: index for index, token in enumerate(tokens)}\n",
    "UNK_IX, PAD_IX = map(token_to_id.get, [UNK, PAD])\n",
    "\n",
    "def as_matrix(sequences, max_len=None):\n",
    "    \"\"\" Convert a list of tokens into a matrix with padding \"\"\"\n",
    "    if isinstance(sequences[0], str):\n",
    "        sequences = list(map(str.split, sequences))\n",
    "        \n",
    "    max_len = min(max(map(len, sequences)), max_len or float('inf'))\n",
    "    \n",
    "    matrix = np.full((len(sequences), max_len), np.int32(PAD_IX))\n",
    "    for i,seq in enumerate(sequences):\n",
    "        row_ix = [token_to_id.get(word, UNK_IX) for word in seq[:max_len]]\n",
    "        matrix[i, :len(row_ix)] = row_ix\n",
    "    \n",
    "    return matrix"
   ]
  },
  {
   "cell_type": "code",
   "execution_count": 12,
   "metadata": {},
   "outputs": [
    {
     "data": {
      "text/plain": [
       "DictVectorizer(dtype=<class 'numpy.float32'>, separator='=', sort=True,\n",
       "        sparse=False)"
      ]
     },
     "execution_count": 12,
     "metadata": {},
     "output_type": "execute_result"
    }
   ],
   "source": [
    "from sklearn.feature_extraction import DictVectorizer\n",
    "\n",
    "# we only consider top-1k most frequent companies to minimize memory usage\n",
    "top_companies, top_counts = zip(*Counter(data['Company']).most_common(1000))\n",
    "recognized_companies = set(top_companies)\n",
    "data[\"Company\"] = data[\"Company\"].apply(lambda comp: comp if comp in recognized_companies else \"Other\")\n",
    "\n",
    "categorical_vectorizer = DictVectorizer(dtype=np.float32, sparse=False)\n",
    "categorical_vectorizer.fit(data[categorical_columns].apply(dict, axis=1))"
   ]
  },
  {
   "cell_type": "code",
   "execution_count": 13,
   "metadata": {},
   "outputs": [
    {
     "name": "stdout",
     "output_type": "stream",
     "text": [
      "Train size =  195814\n",
      "Validation size =  48954\n"
     ]
    }
   ],
   "source": [
    "from sklearn.model_selection import train_test_split\n",
    "\n",
    "data_train, data_val = train_test_split(data, test_size=0.2, random_state=42)\n",
    "data_train.index = range(len(data_train))\n",
    "data_val.index = range(len(data_val))\n",
    "\n",
    "print(\"Train size = \", len(data_train))\n",
    "print(\"Validation size = \", len(data_val))"
   ]
  },
  {
   "cell_type": "code",
   "execution_count": 14,
   "metadata": {},
   "outputs": [],
   "source": [
    "def make_batch(data, max_len=None, word_dropout=0):\n",
    "    \"\"\"\n",
    "    Creates a keras-friendly dict from the batch data.\n",
    "    :param word_dropout: replaces token index with UNK_IX with this probability\n",
    "    :returns: a dict with {'title' : int64[batch, title_max_len]\n",
    "    \"\"\"\n",
    "    batch = {}\n",
    "    batch[\"Title\"] = as_matrix(data[\"Title\"].values, max_len)\n",
    "    batch[\"FullDescription\"] = as_matrix(data[\"FullDescription\"].values, max_len)\n",
    "    batch['Categorical'] = categorical_vectorizer.transform(data[categorical_columns].apply(dict, axis=1))\n",
    "    \n",
    "    if word_dropout != 0:\n",
    "        batch[\"FullDescription\"] = apply_word_dropout(batch[\"FullDescription\"], 1. - word_dropout)\n",
    "    \n",
    "    if target_column in data.columns:\n",
    "        batch[target_column] = data[target_column].values\n",
    "    \n",
    "    return batch\n",
    "\n",
    "def apply_word_dropout(matrix, keep_prop, replace_with=UNK_IX, pad_ix=PAD_IX,):\n",
    "    dropout_mask = np.random.choice(2, np.shape(matrix), p=[keep_prop, 1 - keep_prop])\n",
    "    dropout_mask &= matrix != pad_ix\n",
    "    return np.choose(dropout_mask, [matrix, np.full_like(matrix, replace_with)])"
   ]
  },
  {
   "cell_type": "code",
   "execution_count": 31,
   "metadata": {},
   "outputs": [],
   "source": [
    "import keras\n",
    "import keras.layers as L\n",
    "import nltk.e"
   ]
  },
  {
   "cell_type": "code",
   "execution_count": null,
   "metadata": {},
   "outputs": [],
   "source": [
    "def pre_train_embeddings(n_tokens=len(tokens), hid_size=64)\n",
    "    emb = L.Embedding(n_tokens, hid_size)"
   ]
  },
  {
   "cell_type": "code",
   "execution_count": 27,
   "metadata": {},
   "outputs": [],
   "source": [
    "def build_model(n_tokens=len(tokens), n_cat_features=len(categorical_vectorizer.vocabulary_), hid_size=100):\n",
    "    \"\"\" Build a model that maps three data sources to a single linear output: predicted log1p(salary) \"\"\"\n",
    "    \n",
    "    l_title = L.Input(shape=[None], name=\"Title\")\n",
    "    l_descr = L.Input(shape=[None], name=\"FullDescription\")\n",
    "    l_categ = L.Input(shape=[n_cat_features], name=\"Categorical\")\n",
    "    \n",
    "    # Build your monster!\n",
    "    \n",
    "    \n",
    "    emb_title = L.Embedding(n_tokens, hid_size)\n",
    "    emb_discr = L.Embedding(n_tokens, 3*hid_size)\n",
    "    emb_categ = L.Embedding(n_tokens, 3*hid_size)\n",
    "    \n",
    "    \n",
    "    l_title_emb = emb(l_title)\n",
    "    l_title_conv = L.Conv1D(filters=hid_size, kernel_size=2, activation='relu')(l_title_emb)\n",
    "    l_title_out = L.GlobalMaxPool1D()(l_title_conv)\n",
    "    \n",
    "    l_descr_emp = emb(l_descr)\n",
    "    l_descr_conv = L.Conv1D(filters=hid_size, kernel_size=2, activation='relu')(l_descr_emp)\n",
    "    l_descr_out = L.GlobalMaxPool1D()(l_descr_conv)\n",
    "    \n",
    "    l_categ_out = L.Dense(units=2 * hid_size, activation='relu')(l_categ)\n",
    "    \n",
    "    l_combined = L.Concatenate()([l_title_out, l_descr_out, l_categ_out])\n",
    "    l_combined_dense = L.Dense(2 * hid_size, activation='relu')(l_combined)\n",
    "    \n",
    "    output_layer = L.Dense(1)(l_combined_dense)\n",
    "    \n",
    "    model = keras.models.Model(inputs=[l_title, l_descr, l_categ], outputs=[output_layer])\n",
    "    model.compile('adam', 'mean_squared_error', metrics=['mean_absolute_error'])\n",
    "    return model\n",
    "    "
   ]
  },
  {
   "cell_type": "code",
   "execution_count": 28,
   "metadata": {},
   "outputs": [
    {
     "name": "stdout",
     "output_type": "stream",
     "text": [
      "WARNING:tensorflow:From /usr/local/lib/python3.5/dist-packages/tensorflow/python/util/deprecation.py:497: calling conv1d (from tensorflow.python.ops.nn_ops) with data_format=NHWC is deprecated and will be removed in a future version.\n",
      "Instructions for updating:\n",
      "`NHWC` for data_format is deprecated, use `NWC` instead\n",
      "__________________________________________________________________________________________________\n",
      "Layer (type)                    Output Shape         Param #     Connected to                     \n",
      "==================================================================================================\n",
      "Title (InputLayer)              (None, None)         0                                            \n",
      "__________________________________________________________________________________________________\n",
      "FullDescription (InputLayer)    (None, None)         0                                            \n",
      "__________________________________________________________________________________________________\n",
      "embedding_1 (Embedding)         (None, None, 64)     3212352     Title[0][0]                      \n",
      "                                                                 FullDescription[0][0]            \n",
      "__________________________________________________________________________________________________\n",
      "conv1d_1 (Conv1D)               (None, None, 64)     8256        embedding_1[0][0]                \n",
      "__________________________________________________________________________________________________\n",
      "conv1d_2 (Conv1D)               (None, None, 64)     8256        embedding_1[1][0]                \n",
      "__________________________________________________________________________________________________\n",
      "Categorical (InputLayer)        (None, 3768)         0                                            \n",
      "__________________________________________________________________________________________________\n",
      "global_max_pooling1d_1 (GlobalM (None, 64)           0           conv1d_1[0][0]                   \n",
      "__________________________________________________________________________________________________\n",
      "global_max_pooling1d_2 (GlobalM (None, 64)           0           conv1d_2[0][0]                   \n",
      "__________________________________________________________________________________________________\n",
      "dense_1 (Dense)                 (None, 128)          482432      Categorical[0][0]                \n",
      "__________________________________________________________________________________________________\n",
      "concatenate_1 (Concatenate)     (None, 256)          0           global_max_pooling1d_1[0][0]     \n",
      "                                                                 global_max_pooling1d_2[0][0]     \n",
      "                                                                 dense_1[0][0]                    \n",
      "__________________________________________________________________________________________________\n",
      "dense_2 (Dense)                 (None, 128)          32896       concatenate_1[0][0]              \n",
      "__________________________________________________________________________________________________\n",
      "dense_3 (Dense)                 (None, 1)            129         dense_2[0][0]                    \n",
      "==================================================================================================\n",
      "Total params: 3,744,321\n",
      "Trainable params: 3,744,321\n",
      "Non-trainable params: 0\n",
      "__________________________________________________________________________________________________\n"
     ]
    }
   ],
   "source": [
    "model = build_model()\n",
    "model.summary()\n",
    "\n",
    "dummy_pred = model.predict(make_batch(data_train[:100]))\n",
    "dummy_loss = model.train_on_batch(make_batch(data_train[:100]), data_train['Log1pSalary'][:100])[0]\n",
    "assert dummy_pred.shape == (100, 1)\n",
    "assert len(np.unique(dummy_pred)) > 20, \"model returns suspiciously few unique outputs. Check your initialization\"\n",
    "assert np.ndim(dummy_loss) == 0 and 0. <= dummy_loss <= 250., \"make sure you minimize MSE\""
   ]
  },
  {
   "cell_type": "code",
   "execution_count": 29,
   "metadata": {},
   "outputs": [],
   "source": [
    "def iterate_minibatches(data, batch_size=256, shuffle=True, cycle=False, **kwargs):\n",
    "    \"\"\" iterates minibatches of data in random order \"\"\"\n",
    "    while True:\n",
    "        indices = np.arange(len(data))\n",
    "        if shuffle:\n",
    "            indices = np.random.permutation(indices)\n",
    "\n",
    "        for start in range(0, len(indices), batch_size):\n",
    "            batch = make_batch(data.iloc[indices[start : start + batch_size]], **kwargs)\n",
    "            target = batch.pop(target_column)\n",
    "            yield batch, target\n",
    "        \n",
    "        if not cycle: break"
   ]
  },
  {
   "cell_type": "code",
   "execution_count": null,
   "metadata": {},
   "outputs": [],
   "source": []
  },
  {
   "cell_type": "code",
   "execution_count": null,
   "metadata": {},
   "outputs": [],
   "source": [
    "emb = L.embeddings()"
   ]
  },
  {
   "cell_type": "code",
   "execution_count": 37,
   "metadata": {},
   "outputs": [
    {
     "data": {
      "text/plain": [
       "0                                     senior support worker\n",
       "1         statistical / mathematical modeller in pharmac...\n",
       "2                              emc team leader ( def stan )\n",
       "3                      core java engineer london , big data\n",
       "4                                                    driver\n",
       "5                         vn **** ait rf technicians x ****\n",
       "6         general manager mediterranean restaurant marke...\n",
       "7                     stock control opperative / van driver\n",
       "8         system tester linux , javascript , html , css ...\n",
       "9                      customer service adviser – part time\n",
       "10                      children s support worker wiltshire\n",
       "11                                             bms engineer\n",
       "12                                   recruitment consultant\n",
       "13             business travel consultant , leeds , ls ****\n",
       "14                          bdm restaurant fit out national\n",
       "15                                        android developer\n",
       "16        c / aspnet mvc developer migration senior leve...\n",
       "17        press officer banking issues take your journal...\n",
       "18                    hr mi analyst leading global bank avp\n",
       "19                                            store manager\n",
       "20                                           credit control\n",
       "21                       outbound telesales advisor finance\n",
       "22                       real time service delivery analyst\n",
       "23        salaried gp / health screening doctor , surrey...\n",
       "24        embedded software engineer / burnley / upto **...\n",
       "25                                                   roofer\n",
       "26                        field sales consultant birmingham\n",
       "27                     cover supervisors telford shropshire\n",
       "28                           nursery manager epsom , surrey\n",
       "29                                          cdm coordinator\n",
       "                                ...                        \n",
       "195784            chef de partie in **** rosette hotel ****\n",
       "195785                                   software developer\n",
       "195786                                      project manager\n",
       "195787              process maintenance moulding technician\n",
       "195788                    strong outbound b2b sales advisor\n",
       "195789                                  collections advisor\n",
       "195790                         finance & facilities manager\n",
       "195791    messaging specialist messaging consultant mess...\n",
       "195792                              p / t travel consultant\n",
       "195793    registered home manager job bordon learning di...\n",
       "195794          international sales manager aroma chemicals\n",
       "195795              senior electrical and controls engineer\n",
       "195796                      **** tonne ( c ****) adr driver\n",
       "195797              charge nurse portadown excellent salary\n",
       "195798                  rf engineer communications wireless\n",
       "195799            technical project manager digital systems\n",
       "195800    field sales account manager / bdm ( copier / p...\n",
       "195801        unix linux support analystbankcheshire **** k\n",
       "195802    vice president – global procurement vp /****/****\n",
       "195803                                       cnc programmer\n",
       "195804    sales executives x **** , north west / london ...\n",
       "195805                        ledger assistant ( contract )\n",
       "195806                          group management accountant\n",
       "195807                           temporary graphic designer\n",
       "195808    oracle bi analyst etl / obiee / sql / bi / inf...\n",
       "195809                           senior solutions architect\n",
       "195810                                charity administrator\n",
       "195811    senior consumer insight manager communications...\n",
       "195812    customer service manager , guildford , motor t...\n",
       "195813                                        administrator\n",
       "Name: Title, Length: 195814, dtype: object"
      ]
     },
     "execution_count": 37,
     "metadata": {},
     "output_type": "execute_result"
    }
   ],
   "source": [
    "data_train['FullDescription'], data_train['Title']"
   ]
  },
  {
   "cell_type": "markdown",
   "metadata": {},
   "source": [
    "### A short report\n",
    "\n",
    "Please tell us what you did and how did it work.\n",
    "\n",
    "`<YOUR_TEXT_HERE>`, i guess..."
   ]
  },
  {
   "cell_type": "markdown",
   "metadata": {},
   "source": [
    "## Recommended options\n",
    "\n",
    "#### A) CNN architecture\n",
    "\n",
    "All the tricks you know about dense and convolutional neural networks apply here as well.\n",
    "* Dropout. Nuff said.\n",
    "* Batch Norm. This time it's `L.BatchNormalization`\n",
    "* Parallel convolution layers. The idea is that you apply several nn.Conv1d to the same embeddings and concatenate output channels.\n",
    "* More layers, more neurons, ya know...\n",
    "\n",
    "\n",
    "#### B) Play with pooling\n",
    "\n",
    "There's more than one way to perform pooling:\n",
    "* Max over time - our `L.GlobalMaxPool1D`\n",
    "* Average over time (excluding PAD)\n",
    "* Softmax-pooling:\n",
    "$$ out_{i, t} = \\sum_t {h_{i,t} \\cdot {{e ^ {h_{i, t}}} \\over \\sum_\\tau e ^ {h_{j, \\tau}} } }$$\n",
    "\n",
    "* Attentive pooling\n",
    "$$ out_{i, t} = \\sum_t {h_{i,t} \\cdot Attn(h_t)}$$\n",
    "\n",
    ", where $$ Attn(h_t) = {{e ^ {NN_{attn}(h_t)}} \\over \\sum_\\tau e ^ {NN_{attn}(h_\\tau)}}  $$\n",
    "and $NN_{attn}$ is a dense layer.\n",
    "\n",
    "The optimal score is usually achieved by concatenating several different poolings, including several attentive pooling with different $NN_{attn}$ (aka multi-headed attention).\n",
    "\n",
    "The catch is that keras layers do not inlude those toys. You will have to [write your own keras layer](https://keras.io/layers/writing-your-own-keras-layers/). Or use pure tensorflow, it might even be easier :)\n",
    "\n",
    "#### C) Fun with words\n",
    "\n",
    "It's not always a good idea to train embeddings from scratch. Here's a few tricks:\n",
    "\n",
    "* Use a pre-trained embeddings from `gensim.downloader.load`. See last lecture.\n",
    "* Start with pre-trained embeddings, then fine-tune them with gradient descent. You may or may not want to use __`.get_keras_embedding()`__ method for word2vec\n",
    "* Use the same embedding matrix in title and desc vectorizer\n",
    "\n",
    "\n",
    "#### D) Going recurrent\n",
    "\n",
    "We've already learned that recurrent networks can do cool stuff in sequence modelling. Turns out, they're not useless for classification as well. With some tricks of course..\n",
    "\n",
    "* Like convolutional layers, LSTM should be pooled into a fixed-size vector with some of the poolings.\n",
    "* Since you know all the text in advance, use bidirectional RNN\n",
    "  * Run one LSTM from left to right\n",
    "  * Run another in parallel from right to left \n",
    "  * Concatenate their output sequences along unit axis (dim=-1)\n",
    "\n",
    "* It might be good idea to mix convolutions and recurrent layers differently for title and description\n",
    "\n",
    "\n",
    "#### E) Optimizing seriously\n",
    "\n",
    "* You don't necessarily need 100 epochs. Use early stopping. If you've never done this before, take a look at [early stopping callback](https://keras.io/callbacks/#earlystopping).\n",
    "  * In short, train until you notice that validation\n",
    "  * Maintain the best-on-validation snapshot via `model.save(file_name)`\n",
    "  * Plotting learning curves is usually a good idea\n",
    "  \n",
    "Good luck! And may the force be with you!"
   ]
  }
 ],
 "metadata": {
  "kernelspec": {
   "display_name": "Python 3",
   "language": "python",
   "name": "python3"
  },
  "language_info": {
   "codemirror_mode": {
    "name": "ipython",
    "version": 3
   },
   "file_extension": ".py",
   "mimetype": "text/x-python",
   "name": "python",
   "nbconvert_exporter": "python",
   "pygments_lexer": "ipython3",
   "version": "3.5.2"
  }
 },
 "nbformat": 4,
 "nbformat_minor": 2
}
