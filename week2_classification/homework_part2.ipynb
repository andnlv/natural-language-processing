{
 "cells": [
  {
   "cell_type": "markdown",
   "metadata": {
    "colab_type": "text",
    "id": "v8T3TTPzfet3"
   },
   "source": [
    "### The grand quest: make it actually work (4 points)\n",
    "\n",
    "Your main task is to use some of the tricks you've learned on the network and analyze if you can improve __validation MAE__. Try __at least 3 options__ from the list below for a passing grade. Write a short report about what you have tried. More ideas = more bonus points. \n",
    "\n",
    "__Please be serious:__ \" plot learning curves in MAE/epoch, compare models based on optimal performance, test one change at a time. You know the drill :)\n",
    "\n",
    "You can use either pure __tensorflow__ or __keras__. Feel free to adapt the seminar code for your needs.\n"
   ]
  },
  {
   "cell_type": "code",
   "execution_count": 1,
   "metadata": {
    "colab": {},
    "colab_type": "code",
    "id": "gHMOoEhLfet6"
   },
   "outputs": [],
   "source": [
    "import pandas as pd\n",
    "import numpy as np"
   ]
  },
  {
   "cell_type": "code",
   "execution_count": 4,
   "metadata": {
    "colab": {},
    "colab_type": "code",
    "id": "zxE8KQ21fet9"
   },
   "outputs": [],
   "source": [
    "data_path = 'data/'\n",
    "data = pd.read_csv(data_path + 'Train_rev1.csv', index_col=None).sample(frac=1)"
   ]
  },
  {
   "cell_type": "code",
   "execution_count": 5,
   "metadata": {
    "colab": {},
    "colab_type": "code",
    "id": "VBg5kIGdfeuA"
   },
   "outputs": [],
   "source": [
    "rubbish_columns = ['Id', 'LocationRaw', 'SalaryRaw', 'SourceName', 'SalaryNormalized']\n",
    "text_columns = [\"Title\", \"FullDescription\"]\n",
    "categorical_columns = [\"Category\", \"Company\", \"LocationNormalized\", \"ContractType\", \"ContractTime\"]"
   ]
  },
  {
   "cell_type": "markdown",
   "metadata": {
    "colab_type": "text",
    "id": "qjHaFPfEfeuC"
   },
   "source": [
    "# Preprocessing"
   ]
  },
  {
   "cell_type": "code",
   "execution_count": 6,
   "metadata": {
    "colab": {},
    "colab_type": "code",
    "id": "YNRaiFe4feuD"
   },
   "outputs": [],
   "source": [
    "from sklearn.base import TransformerMixin\n",
    "import sklearn.preprocessing\n",
    "import nltk\n",
    "from collections import Counter"
   ]
  },
  {
   "cell_type": "code",
   "execution_count": 7,
   "metadata": {
    "colab": {},
    "colab_type": "code",
    "id": "A0Y8A40-feuH"
   },
   "outputs": [],
   "source": [
    "def preprocess_general(data):\n",
    "    new_data = pd.DataFrame(index=data.index)\n",
    "    for column in text_columns + categorical_columns:\n",
    "        new_data[column] = data[column]\n",
    "    new_data = new_data.fillna('NaN')\n",
    "    return new_data, np.log1p(data['SalaryNormalized']).astype('float32')"
   ]
  },
  {
   "cell_type": "markdown",
   "metadata": {
    "colab_type": "text",
    "id": "UmB1gzfefeuK"
   },
   "source": [
    "## Categorical data"
   ]
  },
  {
   "cell_type": "code",
   "execution_count": 8,
   "metadata": {
    "colab": {},
    "colab_type": "code",
    "id": "niwl4w_7feuL"
   },
   "outputs": [],
   "source": [
    "class PreprocessCategorical(TransformerMixin):\n",
    "    def __init__(self, min_company=40, min_city=20):\n",
    "        self.le_category = sklearn.preprocessing.LabelEncoder()\n",
    "        self.le_type = sklearn.preprocessing.LabelEncoder()\n",
    "        self.city_counter = Counter()\n",
    "        self.company_counter = Counter()\n",
    "        self.min_company = min_company\n",
    "        self.min_city = min_city\n",
    "        self.mean = {}\n",
    "        \n",
    "    def _fit_category(self, data):\n",
    "        self.le_category.fit(np.concatenate([data['Category'], ['other']]))\n",
    "        \n",
    "    def _fit_type(self, data):\n",
    "        self.le_type.fit(data['ContractTime'] + data['ContractType'])\n",
    "        \n",
    "    def _fit_city_company(self, data, what, minimum, target):\n",
    "        keys = {value if count >= minimum else 'other' for value, count in Counter(data[what]).most_common()}\n",
    "        tmp_data = pd.DataFrame(index=data.index)\n",
    "        tmp_data[what] = data[what].apply(lambda value: value if value in keys else 'other')\n",
    "        tmp_data['Salary'] = target\n",
    "        self.mean[what] = tmp_data.groupby(what)['Salary'].mean()\n",
    "        \n",
    "    def fit(self, data, target):\n",
    "        self._fit_category(data)\n",
    "        self._fit_city_company(data, 'LocationNormalized', self.min_city, target)\n",
    "        self._fit_city_company(data, 'Company', self.min_company, target)\n",
    "        self._fit_type(data)\n",
    "        return self\n",
    "    \n",
    "    def _transform_category(self, data, new_data):\n",
    "        new_data['Category'] = self.le_category.transform(data['Category'])\n",
    "    \n",
    "    def _transform_type(self, data, new_data):\n",
    "        new_data['Contract'] = self.le_type.transform(data['ContractTime'] + data['ContractType'])\n",
    "        \n",
    "        \n",
    "    def _transform_city_company(self, data, what, new_data):\n",
    "        new_data[what] = data[what].apply(lambda value: self.mean[what].get(value, self.mean[what]['other']))\n",
    "        \n",
    "    def transform(self, data):\n",
    "        new_data = pd.DataFrame(index=data.index)\n",
    "        self._transform_category(data, new_data)\n",
    "        self._transform_type(data, new_data)\n",
    "        self._transform_city_company(data, 'LocationNormalized', new_data)\n",
    "        self._transform_city_company(data, 'Company', new_data)\n",
    "        for column in data:\n",
    "            if column not in categorical_columns:\n",
    "                new_data[column] = data[column]\n",
    "        return new_data\n",
    "        "
   ]
  },
  {
   "cell_type": "markdown",
   "metadata": {
    "colab_type": "text",
    "id": "ob41WwNefeuN"
   },
   "source": [
    "## Text data"
   ]
  },
  {
   "cell_type": "code",
   "execution_count": 9,
   "metadata": {
    "colab": {},
    "colab_type": "code",
    "id": "9Suz0w2TfeuO"
   },
   "outputs": [],
   "source": [
    "class PreprocessText(TransformerMixin):\n",
    "    def __init__(self, min_count = 10):\n",
    "        self.tokenizer = nltk.tokenize.WordPunctTokenizer()\n",
    "        self.min_count = min_count\n",
    "        \n",
    "    def fit(self, data, target=None):\n",
    "        token_counts = Counter(' '.join(data['Title']).split())\n",
    "        token_counts += Counter(' '.join(data['FullDescription']).split())\n",
    "        self.tokens = [\"PAD\", \"UNK\"] + [token for token, count in token_counts.items() if count >= self.min_count]\n",
    "        self.token_to_id = {token: index for index, token in enumerate(self.tokens)}\n",
    "        return self\n",
    "    \n",
    "    def transform(self, data):\n",
    "        new_data = pd.DataFrame(index=data.index)\n",
    "        for column in data:\n",
    "            new_data[column] = data[column].apply(\n",
    "                lambda text: list(map(lambda word: self.token_to_id.get(word, 0), \n",
    "                                      self.tokenizer.tokenize(str(text).lower()))\n",
    "                                 )\n",
    "            ) if column in text_columns else data[column]\n",
    "        return new_data"
   ]
  },
  {
   "cell_type": "markdown",
   "metadata": {
    "colab_type": "text",
    "id": "wMvUjWVNfeuQ"
   },
   "source": [
    "## Applying preprocessing"
   ]
  },
  {
   "cell_type": "code",
   "execution_count": 10,
   "metadata": {
    "colab": {},
    "colab_type": "code",
    "id": "IIYNqqCtfeuS"
   },
   "outputs": [],
   "source": [
    "from sklearn.model_selection import train_test_split"
   ]
  },
  {
   "cell_type": "code",
   "execution_count": 11,
   "metadata": {
    "colab": {},
    "colab_type": "code",
    "id": "fik5H4X8feuX"
   },
   "outputs": [],
   "source": [
    "data, target = preprocess_general(data)\n",
    "data_train, data_test, target_train, target_test = train_test_split(data, target, test_size=0.3, random_state=325)"
   ]
  },
  {
   "cell_type": "code",
   "execution_count": 12,
   "metadata": {
    "colab": {
     "base_uri": "https://localhost:8080/",
     "height": 34
    },
    "colab_type": "code",
    "id": "-EQys_m2feuc",
    "outputId": "bbbc8ea8-1d5b-48a9-c33e-33e4e86f622a"
   },
   "outputs": [
    {
     "data": {
      "text/plain": [
       "<__main__.PreprocessCategorical at 0x7feb8c701eb8>"
      ]
     },
     "execution_count": 12,
     "metadata": {},
     "output_type": "execute_result"
    }
   ],
   "source": [
    "prep_text = PreprocessText()\n",
    "prep_cat = PreprocessCategorical()\n",
    "prep_text.fit(data_train)\n",
    "prep_cat.fit(data_train, target_train)"
   ]
  },
  {
   "cell_type": "code",
   "execution_count": 13,
   "metadata": {
    "colab": {},
    "colab_type": "code",
    "id": "TQRctew6feug"
   },
   "outputs": [],
   "source": [
    "data_train = prep_text.transform(prep_cat.transform(data_train))\n",
    "data_test = prep_text.transform(prep_cat.transform(data_test))\n",
    "vocab = prep_text.tokens"
   ]
  },
  {
   "cell_type": "code",
   "execution_count": 0,
   "metadata": {
    "colab": {},
    "colab_type": "code",
    "id": "sUs2aj5Nfeuj"
   },
   "outputs": [],
   "source": [
    "data_train.to_csv(data_path + 'data_prep_train.csv')\n",
    "data_test.to_csv(data_path + 'data_prep_test.csv')\n",
    "target_train.to_csv(data_path + 'target_train.csv')\n",
    "target_test.to_csv(data_path + 'target_test.csv')\n",
    "pd.DataFrame(vocab).to_csv(data_path + 'vocab.csv')"
   ]
  },
  {
   "cell_type": "code",
   "execution_count": 2,
   "metadata": {
    "colab": {
     "base_uri": "https://localhost:8080/",
     "height": 122
    },
    "colab_type": "code",
    "id": "3V1zCbyUgeRT",
    "outputId": "54f10627-a5ab-4dcb-da0b-2545561fc85e"
   },
   "outputs": [
    {
     "name": "stdout",
     "output_type": "stream",
     "text": [
      "Go to this URL in a browser: https://accounts.google.com/o/oauth2/auth?client_id=947318989803-6bn6qk8qdgf4n4g3pfee6491hc0brc4i.apps.googleusercontent.com&redirect_uri=urn%3Aietf%3Awg%3Aoauth%3A2.0%3Aoob&scope=email%20https%3A%2F%2Fwww.googleapis.com%2Fauth%2Fdocs.test%20https%3A%2F%2Fwww.googleapis.com%2Fauth%2Fdrive%20https%3A%2F%2Fwww.googleapis.com%2Fauth%2Fdrive.photos.readonly%20https%3A%2F%2Fwww.googleapis.com%2Fauth%2Fpeopleapi.readonly&response_type=code\n",
      "\n",
      "Enter your authorization code:\n",
      "··········\n",
      "Mounted at /content/gdrive\n"
     ]
    }
   ],
   "source": [
    "from google.colab import drive\n",
    "drive.mount('/content/gdrive')"
   ]
  },
  {
   "cell_type": "code",
   "execution_count": 0,
   "metadata": {
    "colab": {},
    "colab_type": "code",
    "id": "cgKX4Krvh5_R"
   },
   "outputs": [],
   "source": [
    "rubbish_columns = ['Id', 'LocationRaw', 'SalaryRaw', 'SourceName', 'SalaryNormalized']\n",
    "text_columns = [\"Title\", \"FullDescription\"]\n",
    "categorical_columns = [\"Category\", \"Company\", \"LocationNormalized\", \"ContractType\", \"ContractTime\"]"
   ]
  },
  {
   "cell_type": "code",
   "execution_count": 0,
   "metadata": {
    "colab": {},
    "colab_type": "code",
    "id": "Isdy9Z1Cgi1v"
   },
   "outputs": [],
   "source": [
    "data_path = '/content/gdrive/My Drive/ColabData/data_texts_2/'"
   ]
  },
  {
   "cell_type": "code",
   "execution_count": 0,
   "metadata": {
    "colab": {},
    "colab_type": "code",
    "id": "i1rr3sL7feul"
   },
   "outputs": [],
   "source": [
    "import pandas as pd\n",
    "import json\n",
    "import numpy as np\n",
    "\n",
    "data_train = pd.read_csv(data_path + 'data_prep_train.csv', index_col=0)\n",
    "data_test = pd.read_csv(data_path + 'data_prep_test.csv', index_col=0)\n",
    "for data in data_train, data_test:\n",
    "    for column in text_columns:\n",
    "        data[column] = data[column].apply(json.loads)\n",
    "target_train = pd.read_csv(data_path + 'target_train.csv', index_col=0, header=None)\n",
    "target_test = pd.read_csv(data_path + 'target_test.csv', index_col=0, header=None)\n",
    "vocab = pd.read_csv(data_path + 'vocab.csv', index_col=0).values[:, 0]\n",
    "\n",
    "assert data_train.shape[0] == target_train.shape[0]"
   ]
  },
  {
   "cell_type": "markdown",
   "metadata": {
    "colab_type": "text",
    "id": "p2ic52ENfeu4"
   },
   "source": [
    "# Batches iteration"
   ]
  },
  {
   "cell_type": "code",
   "execution_count": 0,
   "metadata": {
    "colab": {},
    "colab_type": "code",
    "id": "QFPeKZpRfeu5"
   },
   "outputs": [],
   "source": [
    "def make_input(data):\n",
    "    result = {}\n",
    "    for column in [\"Title\", \"FullDescription\"]:\n",
    "        max_len = max(map(len, data[column]))\n",
    "        result[column] = np.zeros([data.shape[0], max_len])\n",
    "        for index, line in enumerate(data[column]):\n",
    "            result[column][index][:len(line)] = np.array(line)\n",
    "            \n",
    "    for col in [\"Category\", \"Contract\", \"LocationNormalized\", \"Company\"]:\n",
    "        result[col] = np.array(data[col].values).reshape(data.shape[0])\n",
    "    return result\n",
    "\n",
    "def iter_batches(data, target=None, batch_size=100, shuffle=True, cycle=True):\n",
    "    \n",
    "    while True:\n",
    "        indices = np.arange(data.shape[0])\n",
    "        if shuffle:\n",
    "            indices = np.random.permutation(indices)\n",
    "\n",
    "        for start in range(0, len(data), batch_size):\n",
    "            index = indices[start:start+batch_size]\n",
    "            if target is not None:\n",
    "                yield make_input(data.iloc[index]), target.iloc[index]\n",
    "            else:\n",
    "                yield make_input(data.iloc[index])\n",
    "                \n",
    "        if not cycle: break\n"
   ]
  },
  {
   "cell_type": "markdown",
   "metadata": {
    "colab_type": "text",
    "id": "cTIdlvD9feu-"
   },
   "source": [
    "# Model"
   ]
  },
  {
   "cell_type": "code",
   "execution_count": 7,
   "metadata": {
    "colab": {
     "base_uri": "https://localhost:8080/",
     "height": 34
    },
    "colab_type": "code",
    "id": "BpR_fo51feu_",
    "outputId": "a1aee269-5501-4d28-91bb-8611ad9fda35"
   },
   "outputs": [
    {
     "name": "stderr",
     "output_type": "stream",
     "text": [
      "Using TensorFlow backend.\n"
     ]
    }
   ],
   "source": [
    "import keras\n",
    "import keras.layers as L"
   ]
  },
  {
   "cell_type": "code",
   "execution_count": 0,
   "metadata": {
    "colab": {},
    "colab_type": "code",
    "id": "KISL_R57fevC"
   },
   "outputs": [],
   "source": [
    "def create_categorical_output(category, contract, location, company, hid_size=64, category_size=16, contract_size=16):\n",
    "    emb_category = L.Reshape((category_size,))(L.Embedding(29, category_size)(category))\n",
    "    emb_contract = L.Reshape((contract_size,))(L.Embedding(9, contract_size)(contract))\n",
    "    hidden_0 = L.Concatenate()([emb_category, emb_contract, location, company])\n",
    "    return hidden_0\n",
    "    \n",
    "    \n",
    "def create_embedings_model(emb_size=64):\n",
    "    vocab_size=len(vocab)\n",
    "    \n",
    "    title = L.Input(shape=(None,), name='Title')\n",
    "    descr = L.Input(shape=(None,), name='FullDescription')\n",
    "    conv_out = []\n",
    "    for input_l, filters, kernel_size in zip((title, descr), (128, 256), (2, 4)):\n",
    "        emb = L.Embedding(vocab_size, emb_size)(input_l)\n",
    "        conv = L.Conv1D(kernel_size=(kernel_size,), filters=filters, activation='relu')(emb)\n",
    "        pool = L.GlobalMaxPool1D()(conv)\n",
    "        conv_out.append(pool)\n",
    "    concat = L.Concatenate()(conv_out)\n",
    "    output = L.Dense(1)(concat)\n",
    "    model = keras.models.Model(inputs=[title, descr], outputs=output)\n",
    "    return model\n",
    "    \n",
    "\n",
    "def create_textual_output(text, filters, emb_l=None):\n",
    "    if emb_l is None:\n",
    "        emb_l = L.Embedding(len(vocab), 64)\n",
    "    emb = emb_l(text)\n",
    "    pools = []\n",
    "    for kernel_size in (3, 4, 5):\n",
    "        conv =  L.Conv1D(kernel_size=(kernel_size,), filters=filters, activation='relu')(emb)\n",
    "        pools.append(L.GlobalMaxPool1D()(conv))\n",
    "    return L.Concatenate()(pools)\n",
    "\n",
    "def create_model(emb_title_l=None, emb_descr_l=None):\n",
    "    inputs = (\n",
    "        L.Input(shape=(1,), name=\"Category\"),\n",
    "        L.Input(shape=(1,), name=\"Contract\"),\n",
    "        L.Input(shape=(1,), name=\"LocationNormalized\"),\n",
    "        L.Input(shape=(1,), name=\"Company\"),\n",
    "        L.Input(shape=(None,), name='Title'),\n",
    "        L.Input(shape=(None,), name='FullDescription'),\n",
    "    )\n",
    "    categorical_output = create_categorical_output(*inputs[:4])\n",
    "    title_output = create_textual_output(inputs[4], filters=128, emb_l=emb_title_l)\n",
    "    descr_output = create_textual_output(inputs[5], filters=128, emb_l=emb_descr_l)\n",
    "    hidden_0 = L.Concatenate()([\n",
    "        categorical_output, \n",
    "        title_output,\n",
    "        descr_output,\n",
    "    ])\n",
    "    hidden_1 = L.Dense(128, activation='relu')(hidden_0)\n",
    "    output = L.Dense(1)(hidden_1)\n",
    "    model = keras.models.Model(inputs=inputs, outputs=output)\n",
    "    return model\n",
    "\n",
    "callbacks= [\n",
    "    keras.callbacks.EarlyStopping(patience=2, monitor='val_loss',),\n",
    "]"
   ]
  },
  {
   "cell_type": "code",
   "execution_count": 0,
   "metadata": {
    "colab": {},
    "colab_type": "code",
    "id": "qo5wmjs0fevD"
   },
   "outputs": [],
   "source": [
    "def count_embedings():\n",
    "    model = create_embedings_model()\n",
    "    model.compile(optimizer='adam', loss='mean_squared_error')\n",
    "    model.fit_generator(\n",
    "        iter_batches(data_train, target_train),\n",
    "        steps_per_epoch=100,\n",
    "        epochs=10\n",
    "    )\n",
    "    return {name: value for name, value in zip(('emb_title', 'emb_descr'), map(lambda layer: layer.get_weights()[0], model.layers[2: 4]))}\n",
    "\n",
    "def get_emb_layers():\n",
    "    layers = {}\n",
    "    for name in ('emb_title', 'emb_descr'):\n",
    "        weights = np.load(data_path+name + '.npy')\n",
    "        layer = L.Embedding(*weights.shape,  weights=[weights], trainable=False)\n",
    "        layers[name+'_l'] = layer\n",
    "    return layers"
   ]
  },
  {
   "cell_type": "code",
   "execution_count": 16,
   "metadata": {
    "colab": {
     "base_uri": "https://localhost:8080/",
     "height": 357
    },
    "colab_type": "code",
    "id": "zrguZEWvyWTm",
    "outputId": "c7696ff0-0d21-4053-8b84-469c33dce8e5"
   },
   "outputs": [
    {
     "name": "stdout",
     "output_type": "stream",
     "text": [
      "Epoch 1/10\n",
      "100/100 [==============================] - 9s 86ms/step - loss: 24.3597\n",
      "Epoch 2/10\n",
      "100/100 [==============================] - 8s 77ms/step - loss: 0.3700\n",
      "Epoch 3/10\n",
      "100/100 [==============================] - 7s 71ms/step - loss: 0.2698\n",
      "Epoch 4/10\n",
      "100/100 [==============================] - 7s 66ms/step - loss: 0.2062\n",
      "Epoch 5/10\n",
      "100/100 [==============================] - 6s 65ms/step - loss: 0.1687\n",
      "Epoch 6/10\n",
      "100/100 [==============================] - 7s 67ms/step - loss: 0.1405\n",
      "Epoch 7/10\n",
      "100/100 [==============================] - 6s 62ms/step - loss: 0.1338\n",
      "Epoch 8/10\n",
      "100/100 [==============================] - 6s 60ms/step - loss: 0.1235\n",
      "Epoch 9/10\n",
      "100/100 [==============================] - 6s 60ms/step - loss: 0.1163\n",
      "Epoch 10/10\n",
      "100/100 [==============================] - 6s 63ms/step - loss: 0.1079\n"
     ]
    }
   ],
   "source": [
    "embedings = count_embedings()\n",
    "for name, value in embedings.items():\n",
    "    np.save(data_path + name, value)"
   ]
  },
  {
   "cell_type": "code",
   "execution_count": 0,
   "metadata": {
    "colab": {},
    "colab_type": "code",
    "id": "I--DjvNh_mEu"
   },
   "outputs": [],
   "source": [
    "embedings = get_emb_layers()"
   ]
  },
  {
   "cell_type": "code",
   "execution_count": 22,
   "metadata": {
    "colab": {
     "base_uri": "https://localhost:8080/",
     "height": 1309
    },
    "colab_type": "code",
    "id": "L5l9QuixOVff",
    "outputId": "6ab93009-b961-4aac-c709-9f7dcbe917a9"
   },
   "outputs": [
    {
     "name": "stdout",
     "output_type": "stream",
     "text": [
      "__________________________________________________________________________________________________\n",
      "Layer (type)                    Output Shape         Param #     Connected to                     \n",
      "==================================================================================================\n",
      "Title (InputLayer)              (None, None)         0                                            \n",
      "__________________________________________________________________________________________________\n",
      "FullDescription (InputLayer)    (None, None)         0                                            \n",
      "__________________________________________________________________________________________________\n",
      "Category (InputLayer)           (None, 1)            0                                            \n",
      "__________________________________________________________________________________________________\n",
      "Contract (InputLayer)           (None, 1)            0                                            \n",
      "__________________________________________________________________________________________________\n",
      "embedding_9 (Embedding)         (None, None, 64)     4042496     Title[0][0]                      \n",
      "__________________________________________________________________________________________________\n",
      "embedding_10 (Embedding)        (None, None, 64)     4042496     FullDescription[0][0]            \n",
      "__________________________________________________________________________________________________\n",
      "embedding_15 (Embedding)        (None, 1, 16)        464         Category[0][0]                   \n",
      "__________________________________________________________________________________________________\n",
      "embedding_16 (Embedding)        (None, 1, 16)        144         Contract[0][0]                   \n",
      "__________________________________________________________________________________________________\n",
      "conv1d_23 (Conv1D)              (None, None, 128)    24704       embedding_9[2][0]                \n",
      "__________________________________________________________________________________________________\n",
      "conv1d_24 (Conv1D)              (None, None, 128)    32896       embedding_9[2][0]                \n",
      "__________________________________________________________________________________________________\n",
      "conv1d_25 (Conv1D)              (None, None, 128)    41088       embedding_9[2][0]                \n",
      "__________________________________________________________________________________________________\n",
      "conv1d_26 (Conv1D)              (None, None, 128)    24704       embedding_10[2][0]               \n",
      "__________________________________________________________________________________________________\n",
      "conv1d_27 (Conv1D)              (None, None, 128)    32896       embedding_10[2][0]               \n",
      "__________________________________________________________________________________________________\n",
      "conv1d_28 (Conv1D)              (None, None, 128)    41088       embedding_10[2][0]               \n",
      "__________________________________________________________________________________________________\n",
      "reshape_7 (Reshape)             (None, 16)           0           embedding_15[0][0]               \n",
      "__________________________________________________________________________________________________\n",
      "reshape_8 (Reshape)             (None, 16)           0           embedding_16[0][0]               \n",
      "__________________________________________________________________________________________________\n",
      "LocationNormalized (InputLayer) (None, 1)            0                                            \n",
      "__________________________________________________________________________________________________\n",
      "Company (InputLayer)            (None, 1)            0                                            \n",
      "__________________________________________________________________________________________________\n",
      "global_max_pooling1d_23 (Global (None, 128)          0           conv1d_23[0][0]                  \n",
      "__________________________________________________________________________________________________\n",
      "global_max_pooling1d_24 (Global (None, 128)          0           conv1d_24[0][0]                  \n",
      "__________________________________________________________________________________________________\n",
      "global_max_pooling1d_25 (Global (None, 128)          0           conv1d_25[0][0]                  \n",
      "__________________________________________________________________________________________________\n",
      "global_max_pooling1d_26 (Global (None, 128)          0           conv1d_26[0][0]                  \n",
      "__________________________________________________________________________________________________\n",
      "global_max_pooling1d_27 (Global (None, 128)          0           conv1d_27[0][0]                  \n",
      "__________________________________________________________________________________________________\n",
      "global_max_pooling1d_28 (Global (None, 128)          0           conv1d_28[0][0]                  \n",
      "__________________________________________________________________________________________________\n",
      "concatenate_15 (Concatenate)    (None, 34)           0           reshape_7[0][0]                  \n",
      "                                                                 reshape_8[0][0]                  \n",
      "                                                                 LocationNormalized[0][0]         \n",
      "                                                                 Company[0][0]                    \n",
      "__________________________________________________________________________________________________\n",
      "concatenate_16 (Concatenate)    (None, 384)          0           global_max_pooling1d_23[0][0]    \n",
      "                                                                 global_max_pooling1d_24[0][0]    \n",
      "                                                                 global_max_pooling1d_25[0][0]    \n",
      "__________________________________________________________________________________________________\n",
      "concatenate_17 (Concatenate)    (None, 384)          0           global_max_pooling1d_26[0][0]    \n",
      "                                                                 global_max_pooling1d_27[0][0]    \n",
      "                                                                 global_max_pooling1d_28[0][0]    \n",
      "__________________________________________________________________________________________________\n",
      "concatenate_18 (Concatenate)    (None, 802)          0           concatenate_15[0][0]             \n",
      "                                                                 concatenate_16[0][0]             \n",
      "                                                                 concatenate_17[0][0]             \n",
      "__________________________________________________________________________________________________\n",
      "dense_8 (Dense)                 (None, 128)          102784      concatenate_18[0][0]             \n",
      "__________________________________________________________________________________________________\n",
      "dense_9 (Dense)                 (None, 1)            129         dense_8[0][0]                    \n",
      "==================================================================================================\n",
      "Total params: 8,385,889\n",
      "Trainable params: 300,897\n",
      "Non-trainable params: 8,084,992\n",
      "__________________________________________________________________________________________________\n"
     ]
    }
   ],
   "source": [
    "model = create_model(**embedings)\n",
    "model.summary()\n",
    "model.compile(optimizer='adam', loss='mean_absolute_error')"
   ]
  },
  {
   "cell_type": "code",
   "execution_count": 25,
   "metadata": {
    "colab": {
     "base_uri": "https://localhost:8080/",
     "height": 459
    },
    "colab_type": "code",
    "id": "eceOupGAN_0a",
    "outputId": "3f09ba3e-9451-488e-9392-8d69798b5bf8",
    "scrolled": false
   },
   "outputs": [
    {
     "name": "stdout",
     "output_type": "stream",
     "text": [
      "Epoch 1/20\n",
      "734/734 [==============================] - 48s 65ms/step - loss: 0.2763 - val_loss: 0.2062\n",
      "Epoch 2/20\n",
      "734/734 [==============================] - 48s 66ms/step - loss: 0.2129 - val_loss: 0.2133\n",
      "Epoch 3/20\n",
      "734/734 [==============================] - 45s 61ms/step - loss: 0.2037 - val_loss: 0.2028\n",
      "Epoch 4/20\n",
      "734/734 [==============================] - 43s 59ms/step - loss: 0.2005 - val_loss: 0.2019\n",
      "Epoch 5/20\n",
      "734/734 [==============================] - 44s 59ms/step - loss: 0.1973 - val_loss: 0.1928\n",
      "Epoch 6/20\n",
      "734/734 [==============================] - 44s 60ms/step - loss: 0.1932 - val_loss: 0.1931\n",
      "Epoch 7/20\n",
      "734/734 [==============================] - 43s 59ms/step - loss: 0.1933 - val_loss: 0.1888\n",
      "Epoch 8/20\n",
      "734/734 [==============================] - 43s 59ms/step - loss: 0.1868 - val_loss: 0.2031\n",
      "Epoch 9/20\n",
      "734/734 [==============================] - 44s 59ms/step - loss: 0.1865 - val_loss: 0.1884\n",
      "Epoch 10/20\n",
      "734/734 [==============================] - 44s 60ms/step - loss: 0.1833 - val_loss: 0.1942\n",
      "Epoch 11/20\n",
      "734/734 [==============================] - 44s 60ms/step - loss: 0.1801 - val_loss: 0.1878\n",
      "Epoch 12/20\n",
      "734/734 [==============================] - 43s 59ms/step - loss: 0.1816 - val_loss: 0.1970\n",
      "Epoch 13/20\n",
      "734/734 [==============================] - 43s 59ms/step - loss: 0.1736 - val_loss: 0.2041\n"
     ]
    }
   ],
   "source": [
    "steps_per_epoch = (data_train.shape[0] - 1) // 100 + 1\n",
    "history = model.fit_generator(\n",
    "    iter_batches(data_train, target_train),\n",
    "    validation_data=iter_batches(data_test, target_test),\n",
    "    steps_per_epoch=data_test.shape[0] // 100,\n",
    "    validation_steps=30,\n",
    "    epochs=20,\n",
    "    callbacks=callbacks\n",
    ")"
   ]
  },
  {
   "cell_type": "code",
   "execution_count": 26,
   "metadata": {
    "colab": {
     "base_uri": "https://localhost:8080/",
     "height": 637
    },
    "colab_type": "code",
    "id": "B3_MZofYANIv",
    "outputId": "a71061a9-7101-4cda-dd25-f58fc1dcf2dc"
   },
   "outputs": [
    {
     "data": {
      "text/plain": [
       "Text(0.5,1,'Learning curve')"
      ]
     },
     "execution_count": 26,
     "metadata": {
      "tags": []
     },
     "output_type": "execute_result"
    },
    {
     "data": {
      "image/png": "[encoded data removed]",
      "text/plain": [
       "<matplotlib.figure.Figure at 0x7f77dd7884e0>"
      ]
     },
     "metadata": {
      "tags": []
     },
     "output_type": "display_data"
    }
   ],
   "source": [
    "import matplotlib.pyplot as plt\n",
    "plt.figure(figsize=(16, 10))\n",
    "plt.plot(np.arange(len(history.history['loss'])), history.history['val_loss'], label='val_loss')\n",
    "plt.plot(np.arange(len(history.history['loss'])), history.history['loss'], label='loss')\n",
    "plt.legend(prop={'size': 20})\n",
    "plt.xlabel('epochs')\n",
    "plt.ylabel('MAE')\n",
    "plt.title('Learning curve')"
   ]
  },
  {
   "cell_type": "code",
   "execution_count": 28,
   "metadata": {
    "colab": {
     "base_uri": "https://localhost:8080/",
     "height": 34
    },
    "colab_type": "code",
    "id": "CXrspb6yu8_k",
    "outputId": "505eed71-c3b1-4d56-d5f0-8e9565f5c56a"
   },
   "outputs": [
    {
     "name": "stdout",
     "output_type": "stream",
     "text": [
      "Mean absolute error on test data: 0.2\n"
     ]
    }
   ],
   "source": [
    "test_score = model.evaluate_generator(iter_batches(data_test, target_test), steps=data_test.shape[0]//100)\n",
    "print('Mean absolute error on test data: {:0.3}'.format(test_score))"
   ]
  },
  {
   "cell_type": "markdown",
   "metadata": {
    "colab_type": "text",
    "id": "ByGzevLjfevQ"
   },
   "source": [
    "### A short report\n",
    "\n",
    "\n",
    "\n",
    "1.  Изначально я собирался использовать и CNN и RNN, но RNN  существенно увеличивала время обчения, а добиться заметного увеличения качества от неё у меня не получилось, поэтому была оставлена только CNN.\n",
    "2.  Обучение эмбедингов происходило в дополнительной простой моделе. Затем они использовались в основной моделе на порядок уменьшая количество оптимизируеых параметров\n",
    "3.  Чтобы не получать некрасивые логи с `KeyboardInterrupt` во время обучения использовался `EarlyStopping` callback\n",
    "4.  На этапе препроцессинга данные о компании и локации были заменены среднем значением таргета, (ContractTime, ContructType) и Category были закодированы. Тексты закодированы, как на семинаре.\n",
    "\n",
    "Итоговый MAE на тесте: 0.218\n",
    "\n",
    "\n",
    "\n"
   ]
  },
  {
   "cell_type": "markdown",
   "metadata": {
    "colab_type": "text",
    "id": "UqgUGKqxfevY"
   },
   "source": [
    "## Recommended options\n",
    "\n",
    "#### A) CNN architecture\n",
    "\n",
    "All the tricks you know about dense and convolutional neural networks apply here as well.\n",
    "* Dropout. Nuff said.\n",
    "* Batch Norm. This time it's `L.BatchNormalization`\n",
    "* Parallel convolution layers. The idea is that you apply several nn.Conv1d to the same embeddings and concatenate output channels.\n",
    "* More layers, more neurons, ya know...\n",
    "\n",
    "\n",
    "#### B) Play with pooling\n",
    "\n",
    "There's more than one way to perform pooling:\n",
    "* Max over time - our `L.GlobalMaxPool1D`\n",
    "* Average over time (excluding PAD)\n",
    "* Softmax-pooling:\n",
    "$$ out_{i, t} = \\sum_t {h_{i,t} \\cdot {{e ^ {h_{i, t}}} \\over \\sum_\\tau e ^ {h_{j, \\tau}} } }$$\n",
    "\n",
    "* Attentive pooling\n",
    "$$ out_{i, t} = \\sum_t {h_{i,t} \\cdot Attn(h_t)}$$\n",
    "\n",
    ", where $$ Attn(h_t) = {{e ^ {NN_{attn}(h_t)}} \\over \\sum_\\tau e ^ {NN_{attn}(h_\\tau)}}  $$\n",
    "and $NN_{attn}$ is a dense layer.\n",
    "\n",
    "The optimal score is usually achieved by concatenating several different poolings, including several attentive pooling with different $NN_{attn}$ (aka multi-headed attention).\n",
    "\n",
    "The catch is that keras layers do not inlude those toys. You will have to [write your own keras layer](https://keras.io/layers/writing-your-own-keras-layers/). Or use pure tensorflow, it might even be easier :)\n",
    "\n",
    "#### C) Fun with words\n",
    "\n",
    "It's not always a good idea to train embeddings from scratch. Here's a few tricks:\n",
    "\n",
    "* Use a pre-trained embeddings from `gensim.downloader.load`. See last lecture.\n",
    "* Start with pre-trained embeddings, then fine-tune them with gradient descent. You may or may not want to use __`.get_keras_embedding()`__ method for word2vec\n",
    "* Use the same embedding matrix in title and desc vectorizer\n",
    "\n",
    "\n",
    "#### D) Going recurrent\n",
    "\n",
    "We've already learned that recurrent networks can do cool stuff in sequence modelling. Turns out, they're not useless for classification as well. With some tricks of course..\n",
    "\n",
    "* Like convolutional layers, LSTM should be pooled into a fixed-size vector with some of the poolings.\n",
    "* Since you know all the text in advance, use bidirectional RNN\n",
    "  * Run one LSTM from left to right\n",
    "  * Run another in parallel from right to left \n",
    "  * Concatenate their output sequences along unit axis (dim=-1)\n",
    "\n",
    "* It might be good idea to mix convolutions and recurrent layers differently for title and description\n",
    "\n",
    "\n",
    "#### E) Optimizing seriously\n",
    "\n",
    "* You don't necessarily need 100 epochs. Use early stopping. If you've never done this before, take a look at [early stopping callback](https://keras.io/callbacks/#earlystopping).\n",
    "  * In short, train until you notice that validation\n",
    "  * Maintain the best-on-validation snapshot via `model.save(file_name)`\n",
    "  * Plotting learning curves is usually a good idea\n",
    "  \n",
    "Good luck! And may the force be with you!"
   ]
  }
 ],
 "metadata": {
  "accelerator": "GPU",
  "colab": {
   "collapsed_sections": [],
   "name": "Copy of homework_part2.ipynb",
   "provenance": [],
   "version": "0.3.2"
  },
  "kernelspec": {
   "display_name": "Python 3",
   "language": "python",
   "name": "python3"
  },
  "language_info": {
   "codemirror_mode": {
    "name": "ipython",
    "version": 3
   },
   "file_extension": ".py",
   "mimetype": "text/x-python",
   "name": "python",
   "nbconvert_exporter": "python",
   "pygments_lexer": "ipython3",
   "version": "3.5.2"
  }
 },
 "nbformat": 4,
 "nbformat_minor": 1
}
