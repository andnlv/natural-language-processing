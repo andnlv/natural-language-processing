{
 "cells": [
  {
   "cell_type": "markdown",
   "metadata": {},
   "source": [
    "# Large scale text analysis with deep learning (3 points)\n",
    "\n",
    "Today we're gonna apply the newly learned tools for the task of predicting job salary.\n",
    "\n",
    "<img src=\"https://kaggle2.blob.core.windows.net/competitions/kaggle/3342/media/salary%20prediction%20engine%20v2.png\" width=400px>\n",
    "\n",
    "_Special thanks to [Oleg Vasilev](https://github.com/Omrigan/) for the core assignment idea._"
   ]
  },
  {
   "cell_type": "code",
   "execution_count": 1,
   "metadata": {},
   "outputs": [],
   "source": [
    "import numpy as np\n",
    "import pandas as pd\n",
    "import matplotlib.pyplot as plt\n",
    "%matplotlib inline"
   ]
  },
  {
   "cell_type": "markdown",
   "metadata": {},
   "source": [
    "### About the challenge\n",
    "For starters, let's download and unpack the data from [here]. \n",
    "\n",
    "You can also get it from [yadisk url](https://yadi.sk/d/vVEOWPFY3NruT7) the competition [page](https://www.kaggle.com/c/job-salary-prediction/data) (pick `Train_rev1.*`)."
   ]
  },
  {
   "cell_type": "code",
   "execution_count": 2,
   "metadata": {},
   "outputs": [
    {
     "name": "stdout",
     "output_type": "stream",
     "text": [
      "  % Total    % Received % Xferd  Average Speed   Time    Time     Time  Current\n",
      "                                 Dload  Upload   Total   Spent    Left  Speed\n",
      "  0     0    0     0    0     0      0      0 --:--:--  0:00:01 --:--:--     0\n",
      "  0     0    0     0    0     0      0      0 --:--:--  0:00:02 --:--:--     0\n",
      "100  119M  100  119M    0     0  4276k      0  0:00:28  0:00:28 --:--:-- 4544k\n",
      "Train_rev1.csv\n"
     ]
    },
    {
     "data": {
      "text/plain": [
       "(244768, 12)"
      ]
     },
     "execution_count": 2,
     "metadata": {},
     "output_type": "execute_result"
    }
   ],
   "source": [
    "!curl -L https://www.dropbox.com/s/5msc5ix7ndyba10/Train_rev1.csv.tar.gz?dl=1 -o Train_rev1.csv.tar.gz\n",
    "!tar -xvzf ./Train_rev1.csv.tar.gz\n",
    "data = pd.read_csv(\"./Train_rev1.csv\", index_col=None)\n",
    "data.shape"
   ]
  },
  {
   "cell_type": "markdown",
   "metadata": {},
   "source": [
    "One problem with salary prediction is that it's oddly distributed: there are many people who are paid standard salaries and a few that get tons o money. The distribution is fat-tailed on the right side, which is inconvenient for MSE minimization.\n",
    "\n",
    "There are several techniques to combat this: using a different loss function, predicting log-target instead of raw target or even replacing targets with their percentiles among all salaries in the training set. We gonna use logarithm for now.\n",
    "\n",
    "_You can read more [in the official description](https://www.kaggle.com/c/job-salary-prediction#description)._"
   ]
  },
  {
   "cell_type": "code",
   "execution_count": 3,
   "metadata": {},
   "outputs": [
    {
     "data": {
      "image/png": "[encoded data removed]",
      "text/plain": [
       "<Figure size 576x288 with 2 Axes>"
      ]
     },
     "metadata": {},
     "output_type": "display_data"
    }
   ],
   "source": [
    "data['Log1pSalary'] = np.log1p(data['SalaryNormalized']).astype('float32')\n",
    "\n",
    "plt.figure(figsize=[8, 4])\n",
    "plt.subplot(1, 2, 1)\n",
    "plt.hist(data[\"SalaryNormalized\"], bins=20);\n",
    "\n",
    "plt.subplot(1, 2, 2)\n",
    "plt.hist(data['Log1pSalary'], bins=20);"
   ]
  },
  {
   "cell_type": "markdown",
   "metadata": {},
   "source": [
    "Our task is to predict one number, __Log1pSalary__.\n",
    "\n",
    "To do so, our model can access a number of features:\n",
    "* Free text: __`Title`__ and  __`FullDescription`__\n",
    "* Categorical: __`Category`__, __`Company`__, __`LocationNormalized`__, __`ContractType`__, and __`ContractTime`__."
   ]
  },
  {
   "cell_type": "code",
   "execution_count": 4,
   "metadata": {},
   "outputs": [
    {
     "data": {
      "text/html": [
       "<div>\n",
       "<style scoped>\n",
       "    .dataframe tbody tr th:only-of-type {\n",
       "        vertical-align: middle;\n",
       "    }\n",
       "\n",
       "    .dataframe tbody tr th {\n",
       "        vertical-align: top;\n",
       "    }\n",
       "\n",
       "    .dataframe thead th {\n",
       "        text-align: right;\n",
       "    }\n",
       "</style>\n",
       "<table border=\"1\" class=\"dataframe\">\n",
       "  <thead>\n",
       "    <tr style=\"text-align: right;\">\n",
       "      <th></th>\n",
       "      <th>Id</th>\n",
       "      <th>Title</th>\n",
       "      <th>FullDescription</th>\n",
       "      <th>LocationRaw</th>\n",
       "      <th>LocationNormalized</th>\n",
       "      <th>ContractType</th>\n",
       "      <th>ContractTime</th>\n",
       "      <th>Company</th>\n",
       "      <th>Category</th>\n",
       "      <th>SalaryRaw</th>\n",
       "      <th>SalaryNormalized</th>\n",
       "      <th>SourceName</th>\n",
       "      <th>Log1pSalary</th>\n",
       "    </tr>\n",
       "  </thead>\n",
       "  <tbody>\n",
       "    <tr>\n",
       "      <th>152391</th>\n",
       "      <td>70777113</td>\n",
       "      <td>PA Top Management Consultancy</td>\n",
       "      <td>An exciting opportunity has arisen for a talen...</td>\n",
       "      <td>London</td>\n",
       "      <td>London</td>\n",
       "      <td>full_time</td>\n",
       "      <td>permanent</td>\n",
       "      <td>Matchstick London Ltd</td>\n",
       "      <td>Admin Jobs</td>\n",
       "      <td>From 30,000 to 35,000 per year + excellent ben...</td>\n",
       "      <td>32500</td>\n",
       "      <td>SecsintheCity</td>\n",
       "      <td>10.389026</td>\n",
       "    </tr>\n",
       "    <tr>\n",
       "      <th>35600</th>\n",
       "      <td>68238446</td>\n",
       "      <td>Relief Cleaning Operative</td>\n",
       "      <td>Relief cleaning operative required for materni...</td>\n",
       "      <td>Blackburn</td>\n",
       "      <td>Blackburn</td>\n",
       "      <td>part_time</td>\n",
       "      <td>NaN</td>\n",
       "      <td>In Depth Managed Services</td>\n",
       "      <td>Other/General Jobs</td>\n",
       "      <td>6.19 per hour</td>\n",
       "      <td>11884</td>\n",
       "      <td>Jobcentre Plus</td>\n",
       "      <td>9.383033</td>\n",
       "    </tr>\n",
       "    <tr>\n",
       "      <th>142917</th>\n",
       "      <td>70608394</td>\n",
       "      <td>Photocopier Engineer  Nottinghamshire</td>\n",
       "      <td>If you are an ambitious individual my clients ...</td>\n",
       "      <td>Nottingham, Nottinghamshire, England, West Yor...</td>\n",
       "      <td>UK</td>\n",
       "      <td>NaN</td>\n",
       "      <td>permanent</td>\n",
       "      <td>Concept IT</td>\n",
       "      <td>Engineering Jobs</td>\n",
       "      <td>18000 - 26000/annum + holidays, car or allowan...</td>\n",
       "      <td>22000</td>\n",
       "      <td>cv-library.co.uk</td>\n",
       "      <td>9.998843</td>\n",
       "    </tr>\n",
       "  </tbody>\n",
       "</table>\n",
       "</div>"
      ],
      "text/plain": [
       "              Id                                  Title  \\\n",
       "152391  70777113          PA Top Management Consultancy   \n",
       "35600   68238446              Relief Cleaning Operative   \n",
       "142917  70608394  Photocopier Engineer  Nottinghamshire   \n",
       "\n",
       "                                          FullDescription  \\\n",
       "152391  An exciting opportunity has arisen for a talen...   \n",
       "35600   Relief cleaning operative required for materni...   \n",
       "142917  If you are an ambitious individual my clients ...   \n",
       "\n",
       "                                              LocationRaw LocationNormalized  \\\n",
       "152391                                             London             London   \n",
       "35600                                           Blackburn          Blackburn   \n",
       "142917  Nottingham, Nottinghamshire, England, West Yor...                 UK   \n",
       "\n",
       "       ContractType ContractTime                    Company  \\\n",
       "152391    full_time    permanent      Matchstick London Ltd   \n",
       "35600     part_time          NaN  In Depth Managed Services   \n",
       "142917          NaN    permanent                 Concept IT   \n",
       "\n",
       "                  Category                                          SalaryRaw  \\\n",
       "152391          Admin Jobs  From 30,000 to 35,000 per year + excellent ben...   \n",
       "35600   Other/General Jobs                                      6.19 per hour   \n",
       "142917    Engineering Jobs  18000 - 26000/annum + holidays, car or allowan...   \n",
       "\n",
       "        SalaryNormalized        SourceName  Log1pSalary  \n",
       "152391             32500     SecsintheCity    10.389026  \n",
       "35600              11884    Jobcentre Plus     9.383033  \n",
       "142917             22000  cv-library.co.uk     9.998843  "
      ]
     },
     "execution_count": 4,
     "metadata": {},
     "output_type": "execute_result"
    }
   ],
   "source": [
    "text_columns = [\"Title\", \"FullDescription\"]\n",
    "categorical_columns = [\"Category\", \"Company\", \"LocationNormalized\", \"ContractType\", \"ContractTime\"]\n",
    "target_column = \"Log1pSalary\"\n",
    "\n",
    "data[categorical_columns] = data[categorical_columns].fillna('NaN') # cast missing values to string \"NaN\"\n",
    "\n",
    "data.sample(3)"
   ]
  },
  {
   "cell_type": "markdown",
   "metadata": {},
   "source": [
    "### Preprocessing text data\n",
    "\n",
    "Just like last week, applying NLP to a problem begins from tokenization: splitting raw text into sequences of tokens (words, punctuation, etc).\n",
    "\n",
    "__Your task__ is to lowercase and tokenize all texts under `Title` and `FullDescription` columns. Store the tokenized data as a __space-separated__ string of tokens for performance reasons.\n",
    "\n",
    "It's okay to use nltk tokenizers. Assertions were designed for WordPunctTokenizer, slight deviations are okay."
   ]
  },
  {
   "cell_type": "code",
   "execution_count": 5,
   "metadata": {},
   "outputs": [
    {
     "name": "stdout",
     "output_type": "stream",
     "text": [
      "Raw text:\n",
      "2         Mathematical Modeller / Simulation Analyst / O...\n",
      "100002    A successful and high achieving specialist sch...\n",
      "200002    Web Designer  HTML, CSS, JavaScript, Photoshop...\n",
      "Name: FullDescription, dtype: object\n"
     ]
    }
   ],
   "source": [
    "print(\"Raw text:\")\n",
    "print(data[\"FullDescription\"][2::100000])"
   ]
  },
  {
   "cell_type": "code",
   "execution_count": 6,
   "metadata": {},
   "outputs": [],
   "source": [
    "import nltk\n",
    "tokenizer = nltk.tokenize.WordPunctTokenizer()\n",
    "\n",
    "for col in text_columns:\n",
    "    data[col] = data[col].apply(lambda l: ' '.join(tokenizer.tokenize(str(l).lower())))"
   ]
  },
  {
   "cell_type": "markdown",
   "metadata": {},
   "source": [
    "Now we can assume that our text is a space-separated list of tokens:"
   ]
  },
  {
   "cell_type": "code",
   "execution_count": 7,
   "metadata": {},
   "outputs": [
    {
     "name": "stdout",
     "output_type": "stream",
     "text": [
      "Tokenized:\n",
      "2         mathematical modeller / simulation analyst / o...\n",
      "100002    a successful and high achieving specialist sch...\n",
      "200002    web designer html , css , javascript , photosh...\n",
      "Name: FullDescription, dtype: object\n"
     ]
    }
   ],
   "source": [
    "print(\"Tokenized:\")\n",
    "print(data[\"FullDescription\"][2::100000])\n",
    "assert data[\"FullDescription\"][2][:50] == 'mathematical modeller / simulation analyst / opera'\n",
    "assert data[\"Title\"][54321] == 'international digital account manager ( german )'"
   ]
  },
  {
   "cell_type": "markdown",
   "metadata": {},
   "source": [
    "Not all words are equally useful. Some of them are typos or rare words that are only present a few times. \n",
    "\n",
    "Let's count how many times is each word present in the data so that we can build a \"white list\" of known words."
   ]
  },
  {
   "cell_type": "code",
   "execution_count": 8,
   "metadata": {},
   "outputs": [],
   "source": [
    "# Count how many times does each token occur in both \"Title\" and \"FullDescription\" in total\n",
    "# build a dictionary { token -> it's count }\n",
    "from collections import Counter\n",
    "token_counts = Counter((' '.join(data[text_columns[0]])).split() + (' '.join(data[text_columns[1]])).split())\n",
    "\n",
    "# hint: you may or may not want to use collections.Counter"
   ]
  },
  {
   "cell_type": "code",
   "execution_count": 9,
   "metadata": {},
   "outputs": [
    {
     "name": "stdout",
     "output_type": "stream",
     "text": [
      "Total unique tokens : 202704\n",
      "('and', 2657388)\n",
      "('.', 2523216)\n",
      "(',', 2318606)\n",
      "('the', 2080994)\n",
      "('to', 2019884)\n",
      "...\n",
      "('skillsiseb', 1)\n",
      "('drukken', 1)\n",
      "('budjetng', 1)\n",
      "Correct!\n"
     ]
    }
   ],
   "source": [
    "print(\"Total unique tokens :\", len(token_counts))\n",
    "print('\\n'.join(map(str, token_counts.most_common(n=5))))\n",
    "print('...')\n",
    "print('\\n'.join(map(str, token_counts.most_common()[-3:])))\n",
    "\n",
    "assert token_counts.most_common(1)[0][1] in  range(2600000, 2700000)\n",
    "assert len(token_counts) in range(200000, 210000)\n",
    "print('Correct!')"
   ]
  },
  {
   "cell_type": "code",
   "execution_count": 10,
   "metadata": {
    "scrolled": false
   },
   "outputs": [
    {
     "data": {
      "image/png": "[encoded data removed]",
      "text/plain": [
       "<Figure size 432x288 with 1 Axes>"
      ]
     },
     "metadata": {},
     "output_type": "display_data"
    }
   ],
   "source": [
    "# Let's see how many words are there for each count\n",
    "plt.hist(list(token_counts.values()), range=[0, 10**4], bins=50, log=True)\n",
    "plt.xlabel(\"Word counts\");"
   ]
  },
  {
   "cell_type": "markdown",
   "metadata": {},
   "source": [
    "Now filter tokens a list of all tokens that occur at least 10 times."
   ]
  },
  {
   "cell_type": "code",
   "execution_count": 11,
   "metadata": {},
   "outputs": [],
   "source": [
    "min_count = 10\n",
    "\n",
    "# tokens from token_counts keys that had at least min_count occurrences throughout the dataset\n",
    "tokens = [token for token, count in token_counts.items() if count >= min_count]"
   ]
  },
  {
   "cell_type": "code",
   "execution_count": 12,
   "metadata": {},
   "outputs": [
    {
     "name": "stdout",
     "output_type": "stream",
     "text": [
      "Vocabulary size: 34158\n",
      "Correct!\n"
     ]
    }
   ],
   "source": [
    "# Add a special tokens for unknown and empty words\n",
    "UNK, PAD = \"UNK\", \"PAD\"\n",
    "tokens = [UNK, PAD] + sorted(tokens)\n",
    "print(\"Vocabulary size:\", len(tokens))\n",
    "\n",
    "assert type(tokens) == list\n",
    "assert len(tokens) in range(32000, 35000)\n",
    "assert 'me' in tokens\n",
    "assert UNK in tokens\n",
    "print(\"Correct!\")"
   ]
  },
  {
   "cell_type": "markdown",
   "metadata": {},
   "source": [
    "Build an inverse token index: a dictionary from token(string) to it's index in `tokens` (int)"
   ]
  },
  {
   "cell_type": "code",
   "execution_count": 13,
   "metadata": {},
   "outputs": [],
   "source": [
    "token_to_id = {token: index for index, token in enumerate(tokens)}"
   ]
  },
  {
   "cell_type": "code",
   "execution_count": 14,
   "metadata": {},
   "outputs": [
    {
     "name": "stdout",
     "output_type": "stream",
     "text": [
      "Correct!\n"
     ]
    }
   ],
   "source": [
    "assert isinstance(token_to_id, dict)\n",
    "assert len(token_to_id) == len(tokens)\n",
    "for tok in tokens:\n",
    "    assert tokens[token_to_id[tok]] == tok\n",
    "\n",
    "print(\"Correct!\")"
   ]
  },
  {
   "cell_type": "markdown",
   "metadata": {},
   "source": [
    "And finally, let's use the vocabulary you've built to map text lines into neural network-digestible matrices."
   ]
  },
  {
   "cell_type": "code",
   "execution_count": 15,
   "metadata": {},
   "outputs": [],
   "source": [
    "UNK_IX, PAD_IX = map(token_to_id.get, [UNK, PAD])\n",
    "\n",
    "def as_matrix(sequences, max_len=None):\n",
    "    \"\"\" Convert a list of tokens into a matrix with padding \"\"\"\n",
    "    if isinstance(sequences[0], str):\n",
    "        sequences = list(map(str.split, sequences))\n",
    "        \n",
    "    max_len = min(max(map(len, sequences)), max_len or float('inf'))\n",
    "    \n",
    "    matrix = np.full((len(sequences), max_len), np.int32(PAD_IX))\n",
    "    for i,seq in enumerate(sequences):\n",
    "        row_ix = [token_to_id.get(word, UNK_IX) for word in seq[:max_len]]\n",
    "        matrix[i, :len(row_ix)] = row_ix\n",
    "    \n",
    "    return matrix"
   ]
  },
  {
   "cell_type": "code",
   "execution_count": 16,
   "metadata": {},
   "outputs": [
    {
     "name": "stdout",
     "output_type": "stream",
     "text": [
      "Lines:\n",
      "engineering systems analyst\n",
      "hr assistant\n",
      "senior ec & i engineer\n",
      "\n",
      "Matrix:\n",
      "[[10807 30161  2166     1     1]\n",
      " [15020  2844     1     1     1]\n",
      " [27645 10201    16 15215 10804]]\n"
     ]
    }
   ],
   "source": [
    "print(\"Lines:\")\n",
    "print('\\n'.join(data[\"Title\"][::100000].values), end='\\n\\n')\n",
    "print(\"Matrix:\")\n",
    "print(as_matrix(data[\"Title\"][::100000]))"
   ]
  },
  {
   "cell_type": "markdown",
   "metadata": {},
   "source": [
    "Now let's  encode the categirical data we have.\n",
    "\n",
    "As usual, we shall use one-hot encoding for simplicity. Kudos if you implement more advanced encodings: tf-idf, pseudo-time-series, etc."
   ]
  },
  {
   "cell_type": "code",
   "execution_count": 17,
   "metadata": {},
   "outputs": [
    {
     "data": {
      "text/plain": [
       "DictVectorizer(dtype=<class 'numpy.float32'>, separator='=', sort=True,\n",
       "        sparse=False)"
      ]
     },
     "execution_count": 17,
     "metadata": {},
     "output_type": "execute_result"
    }
   ],
   "source": [
    "from sklearn.feature_extraction import DictVectorizer\n",
    "\n",
    "# we only consider top-1k most frequent companies to minimize memory usage\n",
    "top_companies, top_counts = zip(*Counter(data['Company']).most_common(1000))\n",
    "recognized_companies = set(top_companies)\n",
    "data[\"Company\"] = data[\"Company\"].apply(lambda comp: comp if comp in recognized_companies else \"Other\")\n",
    "\n",
    "categorical_vectorizer = DictVectorizer(dtype=np.float32, sparse=False)\n",
    "categorical_vectorizer.fit(data[categorical_columns].apply(dict, axis=1))"
   ]
  },
  {
   "cell_type": "markdown",
   "metadata": {},
   "source": [
    "### The deep learning part\n",
    "\n",
    "Once we've learned to tokenize the data, let's design a machine learning experiment.\n",
    "\n",
    "As before, we won't focus too much on validation, opting for a simple train-test split.\n",
    "\n",
    "__To be completely rigorous,__ we've comitted a small crime here: we used the whole data for tokenization and vocabulary building. A more strict way would be to do that part on training set only. You may want to do that and measure the magnitude of changes."
   ]
  },
  {
   "cell_type": "code",
   "execution_count": 18,
   "metadata": {},
   "outputs": [
    {
     "name": "stdout",
     "output_type": "stream",
     "text": [
      "Train size =  195814\n",
      "Validation size =  48954\n"
     ]
    }
   ],
   "source": [
    "from sklearn.model_selection import train_test_split\n",
    "\n",
    "data_train, data_val = train_test_split(data, test_size=0.2, random_state=42)\n",
    "data_train.index = range(len(data_train))\n",
    "data_val.index = range(len(data_val))\n",
    "\n",
    "print(\"Train size = \", len(data_train))\n",
    "print(\"Validation size = \", len(data_val))"
   ]
  },
  {
   "cell_type": "code",
   "execution_count": 19,
   "metadata": {},
   "outputs": [],
   "source": [
    "def make_batch(data, max_len=None, word_dropout=0):\n",
    "    \"\"\"\n",
    "    Creates a keras-friendly dict from the batch data.\n",
    "    :param word_dropout: replaces token index with UNK_IX with this probability\n",
    "    :returns: a dict with {'title' : int64[batch, title_max_len]\n",
    "    \"\"\"\n",
    "    batch = {}\n",
    "    batch[\"Title\"] = as_matrix(data[\"Title\"].values, max_len)\n",
    "    batch[\"FullDescription\"] = as_matrix(data[\"FullDescription\"].values, max_len)\n",
    "    batch['Categorical'] = categorical_vectorizer.transform(data[categorical_columns].apply(dict, axis=1))\n",
    "    \n",
    "    if word_dropout != 0:\n",
    "        batch[\"FullDescription\"] = apply_word_dropout(batch[\"FullDescription\"], 1. - word_dropout)\n",
    "    \n",
    "    if target_column in data.columns:\n",
    "        batch[target_column] = data[target_column].values\n",
    "    \n",
    "    return batch\n",
    "\n",
    "def apply_word_dropout(matrix, keep_prop, replace_with=UNK_IX, pad_ix=PAD_IX,):\n",
    "    dropout_mask = np.random.choice(2, np.shape(matrix), p=[keep_prop, 1 - keep_prop])\n",
    "    dropout_mask &= matrix != pad_ix\n",
    "    return np.choose(dropout_mask, [matrix, np.full_like(matrix, replace_with)])"
   ]
  },
  {
   "cell_type": "code",
   "execution_count": 20,
   "metadata": {},
   "outputs": [
    {
     "data": {
      "text/plain": [
       "{'Categorical': array([[0., 0., 0., ..., 0., 0., 0.],\n",
       "        [0., 0., 0., ..., 0., 0., 0.],\n",
       "        [0., 0., 0., ..., 0., 0., 0.]], dtype=float32),\n",
       " 'FullDescription': array([[27645, 29893, 33674, 32939,   982, 27645, 29893, 33674, 16451,\n",
       "         32939],\n",
       "        [29239,   197, 19175, 20042, 15554, 23162,  4051, 25511,   907,\n",
       "            82],\n",
       "        [30746, 21956, 20601,  6409, 16451,  8165, 27493,   982, 30412,\n",
       "         17746]], dtype=int32),\n",
       " 'Log1pSalary': array([ 9.71154 , 10.463132, 10.71444 ], dtype=float32),\n",
       " 'Title': array([[27645, 29893, 33674,     1,     1,     1,     1],\n",
       "        [29239,   197, 19175, 20042, 15554, 23162,  4051],\n",
       "        [10609, 30412, 17746,    33,  8705, 29157,    65]], dtype=int32)}"
      ]
     },
     "execution_count": 20,
     "metadata": {},
     "output_type": "execute_result"
    }
   ],
   "source": [
    "make_batch(data_train[:3], max_len=10)"
   ]
  },
  {
   "cell_type": "markdown",
   "metadata": {},
   "source": [
    "#### Architecture\n",
    "\n",
    "Our basic model consists of three branches:\n",
    "* Title encoder\n",
    "* Description encoder\n",
    "* Categorical features encoder\n",
    "\n",
    "We will then feed all 3 branches into one common network that predicts salary.\n",
    "\n",
    "<img src=\"https://github.com/yandexdataschool/nlp_course/raw/master/resources/w2_conv_arch.png\" width=600px>"
   ]
  },
  {
   "cell_type": "markdown",
   "metadata": {},
   "source": [
    "This clearly doesn't fit into keras' __Sequential__ interface. To build such a network, one will have to use __[Keras Functional API](https://keras.io/models/model/)__."
   ]
  },
  {
   "cell_type": "code",
   "execution_count": 21,
   "metadata": {},
   "outputs": [
    {
     "name": "stderr",
     "output_type": "stream",
     "text": [
      "Using TensorFlow backend.\n"
     ]
    }
   ],
   "source": [
    "import keras\n",
    "import keras.layers as L"
   ]
  },
  {
   "cell_type": "code",
   "execution_count": 22,
   "metadata": {},
   "outputs": [],
   "source": [
    "def build_model(n_tokens=len(tokens), n_cat_features=len(categorical_vectorizer.vocabulary_), hid_size=64):\n",
    "    \"\"\" Build a model that maps three data sources to a single linear output: predicted log1p(salary) \"\"\"\n",
    "    \n",
    "    l_title = L.Input(shape=[None], name=\"Title\")\n",
    "    l_descr = L.Input(shape=[None], name=\"FullDescription\")\n",
    "    l_categ = L.Input(shape=[n_cat_features], name=\"Categorical\")\n",
    "    \n",
    "    # Build your monster!\n",
    "    \n",
    "    emb = L.Embedding(n_tokens, hid_size)\n",
    "    \n",
    "    l_title_emb = emb(l_title)\n",
    "    l_title_conv = L.Conv1D(filters=hid_size, kernel_size=2, activation='relu')(l_title_emb)\n",
    "    l_title_out = L.GlobalMaxPool1D()(l_title_conv)\n",
    "    \n",
    "    l_descr_emp = emb(l_descr)\n",
    "    l_descr_conv = L.Conv1D(filters=hid_size, kernel_size=2, activation='relu')(l_descr_emp)\n",
    "    l_descr_out = L.GlobalMaxPool1D()(l_descr_conv)\n",
    "    \n",
    "    l_categ_out = L.Dense(units=2 * hid_size, activation='relu')(l_categ)\n",
    "    \n",
    "    l_combined = L.Concatenate()([l_title_out, l_descr_out, l_categ_out])\n",
    "    l_combined_dense = L.Dense(2 * hid_size, activation='relu')(l_combined)\n",
    "    \n",
    "    output_layer = L.Dense(1)(l_combined_dense)\n",
    "    \n",
    "    model = keras.models.Model(inputs=[l_title, l_descr, l_categ], outputs=[output_layer])\n",
    "    model.compile('adam', 'mean_squared_error', metrics=['mean_absolute_error'])\n",
    "    return model\n",
    "    "
   ]
  },
  {
   "cell_type": "code",
   "execution_count": 23,
   "metadata": {},
   "outputs": [
    {
     "name": "stdout",
     "output_type": "stream",
     "text": [
      "WARNING:tensorflow:From /usr/local/lib/python3.5/dist-packages/tensorflow/python/util/deprecation.py:497: calling conv1d (from tensorflow.python.ops.nn_ops) with data_format=NHWC is deprecated and will be removed in a future version.\n",
      "Instructions for updating:\n",
      "`NHWC` for data_format is deprecated, use `NWC` instead\n",
      "__________________________________________________________________________________________________\n",
      "Layer (type)                    Output Shape         Param #     Connected to                     \n",
      "==================================================================================================\n",
      "Title (InputLayer)              (None, None)         0                                            \n",
      "__________________________________________________________________________________________________\n",
      "FullDescription (InputLayer)    (None, None)         0                                            \n",
      "__________________________________________________________________________________________________\n",
      "embedding_1 (Embedding)         (None, None, 64)     2186112     Title[0][0]                      \n",
      "                                                                 FullDescription[0][0]            \n",
      "__________________________________________________________________________________________________\n",
      "conv1d_1 (Conv1D)               (None, None, 64)     8256        embedding_1[0][0]                \n",
      "__________________________________________________________________________________________________\n",
      "conv1d_2 (Conv1D)               (None, None, 64)     8256        embedding_1[1][0]                \n",
      "__________________________________________________________________________________________________\n",
      "Categorical (InputLayer)        (None, 3768)         0                                            \n",
      "__________________________________________________________________________________________________\n",
      "global_max_pooling1d_1 (GlobalM (None, 64)           0           conv1d_1[0][0]                   \n",
      "__________________________________________________________________________________________________\n",
      "global_max_pooling1d_2 (GlobalM (None, 64)           0           conv1d_2[0][0]                   \n",
      "__________________________________________________________________________________________________\n",
      "dense_1 (Dense)                 (None, 128)          482432      Categorical[0][0]                \n",
      "__________________________________________________________________________________________________\n",
      "concatenate_1 (Concatenate)     (None, 256)          0           global_max_pooling1d_1[0][0]     \n",
      "                                                                 global_max_pooling1d_2[0][0]     \n",
      "                                                                 dense_1[0][0]                    \n",
      "__________________________________________________________________________________________________\n",
      "dense_2 (Dense)                 (None, 128)          32896       concatenate_1[0][0]              \n",
      "__________________________________________________________________________________________________\n",
      "dense_3 (Dense)                 (None, 1)            129         dense_2[0][0]                    \n",
      "==================================================================================================\n",
      "Total params: 2,718,081\n",
      "Trainable params: 2,718,081\n",
      "Non-trainable params: 0\n",
      "__________________________________________________________________________________________________\n"
     ]
    }
   ],
   "source": [
    "model = build_model()\n",
    "model.summary()\n",
    "\n",
    "dummy_pred = model.predict(make_batch(data_train[:100]))\n",
    "dummy_loss = model.train_on_batch(make_batch(data_train[:100]), data_train['Log1pSalary'][:100])[0]\n",
    "assert dummy_pred.shape == (100, 1)\n",
    "assert len(np.unique(dummy_pred)) > 20, \"model returns suspiciously few unique outputs. Check your initialization\"\n",
    "assert np.ndim(dummy_loss) == 0 and 0. <= dummy_loss <= 250., \"make sure you minimize MSE\""
   ]
  },
  {
   "cell_type": "markdown",
   "metadata": {},
   "source": [
    "#### Training and evaluation\n",
    "\n",
    "As usual, we gonna feed our monster with random minibatches of data. \n",
    "\n",
    "As we train, we want to monitor not only loss function, which is computed in log-space, but also the actual error measured in dollars."
   ]
  },
  {
   "cell_type": "code",
   "execution_count": 24,
   "metadata": {},
   "outputs": [],
   "source": [
    "def iterate_minibatches(data, batch_size=256, shuffle=True, cycle=False, **kwargs):\n",
    "    \"\"\" iterates minibatches of data in random order \"\"\"\n",
    "    while True:\n",
    "        indices = np.arange(len(data))\n",
    "        if shuffle:\n",
    "            indices = np.random.permutation(indices)\n",
    "\n",
    "        for start in range(0, len(indices), batch_size):\n",
    "            batch = make_batch(data.iloc[indices[start : start + batch_size]], **kwargs)\n",
    "            target = batch.pop(target_column)\n",
    "            yield batch, target\n",
    "        \n",
    "        if not cycle: break"
   ]
  },
  {
   "cell_type": "markdown",
   "metadata": {},
   "source": [
    "### Model training\n",
    "\n",
    "We can now fit our model the usual minibatch way. The interesting part is that we train on an infinite stream of minibatches, produced by `iterate_minibatches` function."
   ]
  },
  {
   "cell_type": "code",
   "execution_count": 25,
   "metadata": {},
   "outputs": [
    {
     "name": "stdout",
     "output_type": "stream",
     "text": [
      "Epoch 1/10\n",
      "100/100 [==============================] - 116s 1s/step - loss: 20.0957 - mean_absolute_error: 2.8588 - val_loss: 0.2943 - val_mean_absolute_error: 0.4278\n",
      "Epoch 2/10\n",
      "100/100 [==============================] - 126s 1s/step - loss: 0.2280 - mean_absolute_error: 0.3706 - val_loss: 0.1877 - val_mean_absolute_error: 0.3334\n",
      "Epoch 3/10\n",
      "100/100 [==============================] - 132s 1s/step - loss: 0.1666 - mean_absolute_error: 0.3113 - val_loss: 0.1481 - val_mean_absolute_error: 0.2934\n",
      "Epoch 4/10\n",
      "100/100 [==============================] - 121s 1s/step - loss: 0.1402 - mean_absolute_error: 0.2852 - val_loss: 0.1299 - val_mean_absolute_error: 0.2725\n",
      "Epoch 5/10\n",
      "100/100 [==============================] - 120s 1s/step - loss: 0.1232 - mean_absolute_error: 0.2642 - val_loss: 0.1184 - val_mean_absolute_error: 0.2596\n",
      "Epoch 6/10\n",
      "100/100 [==============================] - 103s 1s/step - loss: 0.1135 - mean_absolute_error: 0.2530 - val_loss: 0.1099 - val_mean_absolute_error: 0.2496\n",
      "Epoch 7/10\n",
      "100/100 [==============================] - 102s 1s/step - loss: 0.1049 - mean_absolute_error: 0.2432 - val_loss: 0.1023 - val_mean_absolute_error: 0.2398\n",
      "Epoch 8/10\n",
      "100/100 [==============================] - 104s 1s/step - loss: 0.0960 - mean_absolute_error: 0.2317 - val_loss: 0.0973 - val_mean_absolute_error: 0.2336\n",
      "Epoch 9/10\n",
      "100/100 [==============================] - 104s 1s/step - loss: 0.0887 - mean_absolute_error: 0.2220 - val_loss: 0.0964 - val_mean_absolute_error: 0.2323\n",
      "Epoch 10/10\n",
      "100/100 [==============================] - 107s 1s/step - loss: 0.0852 - mean_absolute_error: 0.2180 - val_loss: 0.0892 - val_mean_absolute_error: 0.2241\n"
     ]
    },
    {
     "data": {
      "text/plain": [
       "<keras.callbacks.History at 0x7f9518d595f8>"
      ]
     },
     "execution_count": 25,
     "metadata": {},
     "output_type": "execute_result"
    }
   ],
   "source": [
    "batch_size = 256\n",
    "epochs = 10            # definitely too small\n",
    "steps_per_epoch = 100  # for full pass over data: (len(data_train) - 1) // batch_size + 1\n",
    "\n",
    "model = build_model()\n",
    "\n",
    "model.fit_generator(iterate_minibatches(data_train, batch_size, cycle=True, word_dropout=0.05), \n",
    "                    epochs=epochs, steps_per_epoch=steps_per_epoch,\n",
    "                    \n",
    "                    validation_data=iterate_minibatches(data_val, batch_size, cycle=True),\n",
    "                    validation_steps=data_val.shape[0] // batch_size\n",
    "                   )"
   ]
  },
  {
   "cell_type": "code",
   "execution_count": 26,
   "metadata": {},
   "outputs": [
    {
     "name": "stdout",
     "output_type": "stream",
     "text": [
      "Train results:\n",
      "Mean square error: 0.08169\n",
      "Mean absolute error: 0.21317\n",
      "Val results:\n",
      "Mean square error: 0.09054\n",
      "Mean absolute error: 0.22518\n"
     ]
    }
   ],
   "source": [
    "def print_metrics(model, data, batch_size=batch_size, name=\"\", **kw):\n",
    "    squared_error = abs_error = num_samples = 0.0\n",
    "    for batch_x, batch_y in iterate_minibatches(data, batch_size=batch_size, shuffle=False, **kw):\n",
    "        batch_pred = model.predict(batch_x)[:, 0]\n",
    "        squared_error += np.sum(np.square(batch_pred - batch_y))\n",
    "        abs_error += np.sum(np.abs(batch_pred - batch_y))\n",
    "        num_samples += len(batch_y)\n",
    "    print(\"%s results:\" % (name or \"\"))\n",
    "    print(\"Mean square error: %.5f\" % (squared_error / num_samples))\n",
    "    print(\"Mean absolute error: %.5f\" % (abs_error / num_samples))\n",
    "    return squared_error, abs_error\n",
    "    \n",
    "print_metrics(model, data_train, name='Train')\n",
    "print_metrics(model, data_val, name='Val');"
   ]
  },
  {
   "cell_type": "markdown",
   "metadata": {},
   "source": [
    "### Bonus part: explaining model predictions\n",
    "\n",
    "It's usually a good idea to understand how your model works before you let it make actual decisions. It's simple for linear models: just see which words learned positive or negative weights. However, its much harder for neural networks that learn complex nonlinear dependencies.\n",
    "\n",
    "There are, however, some ways to look inside the black box:\n",
    "* Seeing how model responds to input perturbations\n",
    "* Finding inputs that maximize/minimize activation of some chosen neurons (_read more [on distill.pub](https://distill.pub/2018/building-blocks/)_)\n",
    "* Building local linear approximations to your neural network: [article](https://arxiv.org/abs/1602.04938), [eli5 library](https://github.com/TeamHG-Memex/eli5/tree/master/eli5/formatters)\n",
    "\n",
    "Today we gonna try the first method just because it's the simplest one."
   ]
  },
  {
   "cell_type": "code",
   "execution_count": 27,
   "metadata": {},
   "outputs": [],
   "source": [
    "def explain(model, sample, col_name='Title'):\n",
    "    \"\"\" Computes the effect each word had on model predictions \"\"\"\n",
    "    sample = dict(sample)\n",
    "    sample_col_tokens = [tokens[token_to_id.get(tok, 0)] for tok in sample[col_name].split()]\n",
    "    data_drop_one_token = pd.DataFrame([sample] * (len(sample_col_tokens) + 1))\n",
    "\n",
    "    for drop_i in range(len(sample_col_tokens)):\n",
    "        data_drop_one_token.loc[drop_i, col_name] = ' '.join(UNK if i == drop_i else tok\n",
    "                                                   for i, tok in enumerate(sample_col_tokens)) \n",
    "\n",
    "    *predictions_drop_one_token, baseline_pred = model.predict(make_batch(data_drop_one_token))[:, 0]\n",
    "    diffs = baseline_pred - predictions_drop_one_token\n",
    "    return list(zip(sample_col_tokens, diffs))"
   ]
  },
  {
   "cell_type": "code",
   "execution_count": 28,
   "metadata": {},
   "outputs": [],
   "source": [
    "from IPython.display import HTML, display_html\n",
    "\n",
    "\n",
    "def draw_html(tokens_and_weights, cmap=plt.get_cmap(\"bwr\"), display=True,\n",
    "              token_template=\"\"\"<span style=\"background-color: {color_hex}\">{token}</span>\"\"\",\n",
    "              font_style=\"font-size:14px;\"\n",
    "             ):\n",
    "    \n",
    "    def get_color_hex(weight):\n",
    "        rgba = cmap(1. / (1 + np.exp(weight)), bytes=True)\n",
    "        return '#%02X%02X%02X' % rgba[:3]\n",
    "    \n",
    "    tokens_html = [\n",
    "        token_template.format(token=token, color_hex=get_color_hex(weight))\n",
    "        for token, weight in tokens_and_weights\n",
    "    ]\n",
    "    \n",
    "    \n",
    "    raw_html = \"\"\"<p style=\"{}\">{}</p>\"\"\".format(font_style, ' '.join(tokens_html))\n",
    "    if display:\n",
    "        display_html(HTML(raw_html))\n",
    "        \n",
    "    return raw_html\n",
    "    "
   ]
  },
  {
   "cell_type": "code",
   "execution_count": 29,
   "metadata": {},
   "outputs": [
    {
     "data": {
      "text/html": [
       "<p style=\"font-size:20px;\"><span style=\"background-color: #FFD3D3\">sales</span> <span style=\"background-color: #F2F2FF\">specialist</span> <span style=\"background-color: #FF9898\">iv</span> <span style=\"background-color: #FFB3B3\">access</span> <span style=\"background-color: #FFD6D6\">and</span> <span style=\"background-color: #FFD2D2\">infusion</span></p>"
      ]
     },
     "metadata": {},
     "output_type": "display_data"
    },
    {
     "data": {
      "text/html": [
       "<p style=\"font-size:14px;\"><span style=\"background-color: #FFFEFE\">sales</span> <span style=\"background-color: #FFFEFE\">representative</span> <span style=\"background-color: #FFFCFC\">medical</span> <span style=\"background-color: #FFF6F6\">sales</span> <span style=\"background-color: #FFFEFE\">iv</span> <span style=\"background-color: #FFFEFE\">access</span> <span style=\"background-color: #FFFCFC\">and</span> <span style=\"background-color: #FFF2F2\">infusion</span> <span style=\"background-color: #FFFAFA\">an</span> <span style=\"background-color: #FFFEFE\">opportunity</span> <span style=\"background-color: #FFFCFC\">to</span> <span style=\"background-color: #FFF8F8\">work</span> <span style=\"background-color: #FFFEFE\">for</span> <span style=\"background-color: #FFF6F6\">the</span> <span style=\"background-color: #FFFAFA\">industry</span> <span style=\"background-color: #FFFEFE\">leading</span> <span style=\"background-color: #FFEEEE\">manufacturer</span> <span style=\"background-color: #FFFCFC\">of</span> <span style=\"background-color: #FFF8F8\">iv</span> <span style=\"background-color: #FFFEFE\">access</span> <span style=\"background-color: #FFFCFC\">and</span> <span style=\"background-color: #FFF2F2\">infusion</span> <span style=\"background-color: #FFFAFA\">solutions</span> <span style=\"background-color: #FFF8F8\">.</span> <span style=\"background-color: #FFFAFA\">formally</span> <span style=\"background-color: #FFFCFC\">recognised</span> <span style=\"background-color: #FFFEFE\">as</span> <span style=\"background-color: #FFFAFA\">the</span> <span style=\"background-color: #FFFAFA\">number</span> <span style=\"background-color: #FFDEDE\">****</span> <span style=\"background-color: #FFFEFE\">company</span> <span style=\"background-color: #FFFAFA\">in</span> <span style=\"background-color: #FCFCFF\">this</span> <span style=\"background-color: #FFF6F6\">market</span> <span style=\"background-color: #FFFAFA\">space</span> <span style=\"background-color: #FFF4F4\">,</span> <span style=\"background-color: #FFFAFA\">our</span> <span style=\"background-color: #F8F8FF\">client</span> <span style=\"background-color: #FAFAFF\">are</span> <span style=\"background-color: #FFF8F8\">an</span> <span style=\"background-color: #FFFEFE\">ethical</span> <span style=\"background-color: #F8F8FF\">and</span> <span style=\"background-color: #FFF2F2\">dynamic</span> <span style=\"background-color: #FFFEFE\">organisation</span> <span style=\"background-color: #FFFAFA\">absolutely</span> <span style=\"background-color: #FFEAEA\">committed</span> <span style=\"background-color: #FFFEFE\">to</span> <span style=\"background-color: #FFFEFE\">the</span> <span style=\"background-color: #FFFAFA\">advancement</span> <span style=\"background-color: #FFFAFA\">of</span> <span style=\"background-color: #FFF6F6\">innovative</span> <span style=\"background-color: #FFFEFE\">technologies</span> <span style=\"background-color: #FFEAEA\">.</span> <span style=\"background-color: #FFF2F2\">job</span> <span style=\"background-color: #FFF6F6\">title</span> <span style=\"background-color: #FFF8F8\">:</span> <span style=\"background-color: #FFFEFE\">sales</span> <span style=\"background-color: #FFFEFE\">specialist</span> <span style=\"background-color: #FFFEFE\">iv</span> <span style=\"background-color: #FFFEFE\">access</span> <span style=\"background-color: #FFFCFC\">and</span> <span style=\"background-color: #FFF2F2\">infusion</span> <span style=\"background-color: #F3F3FF\">selling</span> <span style=\"background-color: #F0F0FF\">:</span> <span style=\"background-color: #FFFEFE\">medication</span> <span style=\"background-color: #FFFCFC\">delivery</span> <span style=\"background-color: #FFF8F8\">solutions</span> <span style=\"background-color: #FFF8F8\">selling</span> <span style=\"background-color: #FFFEFE\">to</span> <span style=\"background-color: #FFF8F8\">:</span> <span style=\"background-color: #FFFEFE\">iv</span> <span style=\"background-color: #FFFEFE\">teams</span> <span style=\"background-color: #FFFEFE\">,</span> <span style=\"background-color: #FFF8F8\">infection</span> <span style=\"background-color: #FFFEFE\">control</span> <span style=\"background-color: #FFF8F8\">,</span> <span style=\"background-color: #FFF8F8\">lead</span> <span style=\"background-color: #FFFCFC\">intensive</span> <span style=\"background-color: #FFF2F2\">care</span> <span style=\"background-color: #FFF6F6\">nurse</span> <span style=\"background-color: #FFF8F8\">specialists</span> <span style=\"background-color: #FFFCFC\">,</span> <span style=\"background-color: #FFF8F8\">ward</span> <span style=\"background-color: #FFFCFC\">managers</span> <span style=\"background-color: #FFFEFE\">territory</span> <span style=\"background-color: #FFFEFE\">:</span> <span style=\"background-color: #FFFEFE\">east</span> <span style=\"background-color: #FFEEEE\">midlands</span> <span style=\"background-color: #FFFEFE\">location</span> <span style=\"background-color: #FFF8F8\">:</span> <span style=\"background-color: #FFFEFE\">east</span> <span style=\"background-color: #FFEEEE\">midlands</span> <span style=\"background-color: #F8F8FF\">package</span> <span style=\"background-color: #FFF6F6\">:</span> <span style=\"background-color: #FFFEFE\">basic</span> <span style=\"background-color: #FFFEFE\">:</span> <span style=\"background-color: #FFFEFE\">****</span> <span style=\"background-color: #F6F6FF\">k</span> <span style=\"background-color: #F6F6FF\">****</span> <span style=\"background-color: #FCFCFF\">k</span> <span style=\"background-color: #FCFCFF\">,</span> <span style=\"background-color: #FFF8F8\">uncapped</span> <span style=\"background-color: #FFFEFE\">bonus</span> <span style=\"background-color: #FFFEFE\">in</span> <span style=\"background-color: #FFFAFA\">addition</span> <span style=\"background-color: #FFF8F8\">,</span> <span style=\"background-color: #FFFCFC\">full</span> <span style=\"background-color: #FEFEFF\">corporate</span> <span style=\"background-color: #FFF8F8\">benefits</span> <span style=\"background-color: #FFF8F8\">company</span> <span style=\"background-color: #FFFAFA\">information</span> <span style=\"background-color: #FFF8F8\">hugely</span> <span style=\"background-color: #FFFEFE\">ethical</span> <span style=\"background-color: #FEFEFF\">and</span> <span style=\"background-color: #FFF0F0\">professional</span> <span style=\"background-color: #F2F2FF\">global</span> <span style=\"background-color: #FFFAFA\">organisation</span> <span style=\"background-color: #FFF2F2\">extremely</span> <span style=\"background-color: #FFFEFE\">well</span> <span style=\"background-color: #FFFCFC\">established</span> <span style=\"background-color: #FFFAFA\">in</span> <span style=\"background-color: #FFF8F8\">the</span> <span style=\"background-color: #FFFCFC\">uk</span> <span style=\"background-color: #FFF6F6\">the</span> <span style=\"background-color: #FFFAFA\">market</span> <span style=\"background-color: #FFF4F4\">leader</span> <span style=\"background-color: #FFFCFC\">across</span> <span style=\"background-color: #FFF2F2\">all</span> <span style=\"background-color: #FFFEFE\">of</span> <span style=\"background-color: #FFECEC\">their</span> <span style=\"background-color: #FFF4F4\">core</span> <span style=\"background-color: #F3F3FF\">business</span> <span style=\"background-color: #FFF0F0\">areas</span> <span style=\"background-color: #FFFEFE\">focus</span> <span style=\"background-color: #FFFEFE\">on</span> <span style=\"background-color: #FFFCFC\">providing</span> <span style=\"background-color: #FFFEFE\">cutting</span> <span style=\"background-color: #FFF4F4\">edge</span> <span style=\"background-color: #FFFEFE\">solutions</span> <span style=\"background-color: #FFF8F8\">along</span> <span style=\"background-color: #FFFEFE\">with</span> <span style=\"background-color: #FFFEFE\">outstanding</span> <span style=\"background-color: #FFFEFE\">service</span> <span style=\"background-color: #FFFEFE\">and</span> <span style=\"background-color: #FFEEEE\">support</span> <span style=\"background-color: #FFF8F8\">a</span> <span style=\"background-color: #FFFAFA\">business</span> <span style=\"background-color: #FFF0F0\">that</span> <span style=\"background-color: #FFFCFC\">retain</span> <span style=\"background-color: #FFFEFE\">talented</span> <span style=\"background-color: #FFF8F8\">personnel</span> <span style=\"background-color: #FFFCFC\">by</span> <span style=\"background-color: #FFF6F6\">offering</span> <span style=\"background-color: #FFFEFE\">a</span> <span style=\"background-color: #FFFAFA\">strong</span> <span style=\"background-color: #FFF6F6\">platform</span> <span style=\"background-color: #FFE0E0\">for</span> <span style=\"background-color: #FFF6F6\">career</span> <span style=\"background-color: #FFFEFE\">development</span> <span style=\"background-color: #FFFAFA\">sales</span> <span style=\"background-color: #FFFEFE\">specialist</span> <span style=\"background-color: #FFFEFE\">iv</span> <span style=\"background-color: #FFFEFE\">access</span> <span style=\"background-color: #FFFCFC\">and</span> <span style=\"background-color: #FFF2F2\">infusion</span> <span style=\"background-color: #FFFAFA\">you</span> <span style=\"background-color: #FFFAFA\">must</span> <span style=\"background-color: #FFF0F0\">have</span> <span style=\"background-color: #FFF8F8\">/</span> <span style=\"background-color: #FAFAFF\">be</span> <span style=\"background-color: #FCFCFF\">the</span> <span style=\"background-color: #FFFAFA\">following</span> <span style=\"background-color: #FFF6F6\">at</span> <span style=\"background-color: #FFFEFE\">least</span> <span style=\"background-color: #FFFEFE\">2</span> <span style=\"background-color: #FCFCFF\">years</span> <span style=\"background-color: #DADAFF\">medical</span> <span style=\"background-color: #E8E8FF\">device</span> <span style=\"background-color: #FFFCFC\">sales</span> <span style=\"background-color: #F8F8FF\">experience</span> <span style=\"background-color: #FFFEFE\">.</span> <span style=\"background-color: #FFFAFA\">candidates</span> <span style=\"background-color: #FFFEFE\">who</span> <span style=\"background-color: #FFFAFA\">have</span> <span style=\"background-color: #FFF8F8\">sold</span> <span style=\"background-color: #FFF0F0\">disposables</span> <span style=\"background-color: #FFD0D0\">/</span> <span style=\"background-color: #FFFEFE\">consumables</span> <span style=\"background-color: #FFFCFC\">or</span> <span style=\"background-color: #FFFEFE\">similar</span> <span style=\"background-color: #FFFEFE\">into</span> <span style=\"background-color: #FFFEFE\">hospitals</span> <span style=\"background-color: #FFF0F0\">would</span> <span style=\"background-color: #FFFAFA\">be</span> <span style=\"background-color: #FFF0F0\">of</span> <span style=\"background-color: #FFF8F8\">particular</span> <span style=\"background-color: #FFF8F8\">interest</span> <span style=\"background-color: #FFF4F4\">.</span> <span style=\"background-color: #FFFAFA\">candidates</span> <span style=\"background-color: #FFFEFE\">must</span> <span style=\"background-color: #FFFEFE\">have</span> <span style=\"background-color: #FFF8F8\">sold</span> <span style=\"background-color: #FFFEFE\">into</span> <span style=\"background-color: #FFFEFE\">hospitals</span> <span style=\"background-color: #FFF0F0\">demonstrable</span> <span style=\"background-color: #FEFEFF\">performance</span> <span style=\"background-color: #F2F2FF\">and</span> <span style=\"background-color: #FFF2F2\">achievements</span> <span style=\"background-color: #FFFEFE\">so</span> <span style=\"background-color: #FFFEFE\">far</span> <span style=\"background-color: #FFFAFA\">personable</span> <span style=\"background-color: #FFFEFE\">,</span> <span style=\"background-color: #FFF8F8\">adaptable</span> <span style=\"background-color: #FFFCFC\">and</span> <span style=\"background-color: #FFF2F2\">willing</span> <span style=\"background-color: #FFFEFE\">to</span> <span style=\"background-color: #FFF8F8\">learn</span> <span style=\"background-color: #FFFEFE\">keen</span> <span style=\"background-color: #FEFEFF\">and</span> <span style=\"background-color: #FFF4F4\">eager</span> <span style=\"background-color: #FFEEEE\">to</span> <span style=\"background-color: #FFF4F4\">be</span> <span style=\"background-color: #FCFCFF\">a</span> <span style=\"background-color: #FFFAFA\">success</span> <span style=\"background-color: #FFFCFC\">candidates</span> <span style=\"background-color: #FFFEFE\">must</span> <span style=\"background-color: #FFFAFA\">have</span> <span style=\"background-color: #FFF8F8\">a</span> <span style=\"background-color: #FFFAFA\">degree</span> <span style=\"background-color: #FFFEFE\">or</span> <span style=\"background-color: #FFFEFE\">at</span> <span style=\"background-color: #FFFEFE\">least</span> <span style=\"background-color: #FFFEFE\">be</span> <span style=\"background-color: #FFFEFE\">able</span> <span style=\"background-color: #FFFAFA\">to</span> <span style=\"background-color: #FFF4F4\">show</span> <span style=\"background-color: #FFFEFE\">a</span> <span style=\"background-color: #FFFAFA\">strong</span> <span style=\"background-color: #FFF6F6\">ability</span> <span style=\"background-color: #FFFCFC\">to</span> <span style=\"background-color: #FFF8F8\">learn</span> <span style=\"background-color: #FFFEFE\">role</span> <span style=\"background-color: #FFFEFE\">information</span> <span style=\"background-color: #FFF8F8\">managing</span> <span style=\"background-color: #FFE4E4\">the</span> <span style=\"background-color: #FFFAFA\">east</span> <span style=\"background-color: #FFF0F0\">midlands</span> <span style=\"background-color: #FEFEFF\">region</span> <span style=\"background-color: #FFF2F2\">selling</span> <span style=\"background-color: #FEFEFF\">across</span> <span style=\"background-color: #FFF4F4\">the</span> <span style=\"background-color: #FFFAFA\">company</span> <span style=\"background-color: #FFFAFA\">'</span> <span style=\"background-color: #FFF8F8\">s</span> <span style=\"background-color: #FFFEFE\">range</span> <span style=\"background-color: #FFFEFE\">of</span> <span style=\"background-color: #FFF8F8\">iv</span> <span style=\"background-color: #FFFEFE\">and</span> <span style=\"background-color: #FFF2F2\">infusion</span> <span style=\"background-color: #FFFAFA\">solutions</span> <span style=\"background-color: #FFF8F8\">portfolio</span> <span style=\"background-color: #FFFCFC\">selling</span> <span style=\"background-color: #FFFEFE\">into</span> <span style=\"background-color: #FFFEFE\">lead</span> <span style=\"background-color: #FFFCFC\">intensive</span> <span style=\"background-color: #FFF2F2\">care</span> <span style=\"background-color: #FFF6F6\">nurse</span> <span style=\"background-color: #FFF8F8\">specialists</span> <span style=\"background-color: #FFFCFC\">,</span> <span style=\"background-color: #FFF8F8\">ward</span> <span style=\"background-color: #FFFCFC\">managers</span> <span style=\"background-color: #FFFEFE\">,</span> <span style=\"background-color: #FFF8F8\">iv</span> <span style=\"background-color: #FFFEFE\">teams</span> <span style=\"background-color: #FFFEFE\">,</span> <span style=\"background-color: #FFF8F8\">infection</span> <span style=\"background-color: #FCFCFF\">control</span> <span style=\"background-color: #FFFCFC\">teams</span> <span style=\"background-color: #FFFEFE\">,</span> <span style=\"background-color: #FFF6F6\">procurement</span> <span style=\"background-color: #FFFEFE\">sales</span> <span style=\"background-color: #FFFEFE\">specialist</span> <span style=\"background-color: #FFFEFE\">iv</span> <span style=\"background-color: #FFFEFE\">access</span> <span style=\"background-color: #FFFCFC\">and</span> <span style=\"background-color: #FFF2F2\">infusion</span> <span style=\"background-color: #FFFAFA\">candidates</span> <span style=\"background-color: #FFFEFE\">must</span> <span style=\"background-color: #FFFEFE\">be</span> <span style=\"background-color: #FFFCFC\">eligible</span> <span style=\"background-color: #FFF8F8\">to</span> <span style=\"background-color: #FFF8F8\">work</span> <span style=\"background-color: #FEFEFF\">and</span> <span style=\"background-color: #FFF4F4\">live</span> <span style=\"background-color: #FFFCFC\">in</span> <span style=\"background-color: #FFF8F8\">the</span> <span style=\"background-color: #F2F2FF\">uk</span> <span style=\"background-color: #F8F8FF\">.</span> <span style=\"background-color: #FEFEFF\">please</span> <span style=\"background-color: #FCFCFF\">contact</span> <span style=\"background-color: #FFFEFE\">allan</span> <span style=\"background-color: #FFFEFE\">waller</span> <span style=\"background-color: #FFFEFE\">on</span> <span style=\"background-color: #FFFCFC\">****</span> <span style=\"background-color: #FFFEFE\">****</span> <span style=\"background-color: #FFFEFE\">****</span> <span style=\"background-color: #FFFEFE\">or</span> <span style=\"background-color: #FFFEFE\">please</span> <span style=\"background-color: #FAFAFF\">hit</span> <span style=\"background-color: #FFF8F8\">the</span> <span style=\"background-color: #FFFAFA\">apply</span> <span style=\"background-color: #FFF0F0\">button</span> <span style=\"background-color: #FFF8F8\">.</span> <span style=\"background-color: #FFFAFA\">this</span> <span style=\"background-color: #FFF6F6\">job</span> <span style=\"background-color: #FFF6F6\">was</span> <span style=\"background-color: #FCFCFF\">originally</span> <span style=\"background-color: #FFFAFA\">posted</span> <span style=\"background-color: #FFFEFE\">as</span> <span style=\"background-color: #FFFAFA\">www</span> <span style=\"background-color: #FFF8F8\">.</span> <span style=\"background-color: #FFFEFE\">salestarget</span> <span style=\"background-color: #FAFAFF\">.</span> <span style=\"background-color: #FCFCFF\">co</span> <span style=\"background-color: #FFFEFE\">.</span> <span style=\"background-color: #FFECEC\">uk</span> <span style=\"background-color: #FFF4F4\">/</span> <span style=\"background-color: #FFF0F0\">jobseeking</span> <span style=\"background-color: #FFF6F6\">/</span> <span style=\"background-color: #FFFEFE\">UNK</span> <span style=\"background-color: #FEFEFF\">****</span></p>"
      ]
     },
     "metadata": {},
     "output_type": "display_data"
    }
   ],
   "source": [
    "i = 36605\n",
    "tokens_and_weights = explain(model, data.loc[i], \"Title\")\n",
    "draw_html([(tok, weight * 5) for tok, weight in tokens_and_weights], font_style='font-size:20px;');\n",
    "\n",
    "tokens_and_weights = explain(model, data.loc[i], \"FullDescription\")\n",
    "draw_html([(tok, weight * 10) for tok, weight in tokens_and_weights]);"
   ]
  },
  {
   "cell_type": "code",
   "execution_count": 30,
   "metadata": {},
   "outputs": [
    {
     "data": {
      "text/html": [
       "<p style=\"font-size:20px;\"><span style=\"background-color: #FF6969\">cleaning</span> <span style=\"background-color: #FF5858\">operative</span></p>"
      ]
     },
     "metadata": {},
     "output_type": "display_data"
    },
    {
     "data": {
      "text/html": [
       "<p style=\"font-size:14px;\"><span style=\"background-color: #FFFEFE\">12</span> <span style=\"background-color: #FFFEFE\">.</span> <span style=\"background-color: #F2F2FF\">5</span> <span style=\"background-color: #FFF6F6\">hours</span> <span style=\"background-color: #FFF0F0\">per</span> <span style=\"background-color: #FFFEFE\">week</span> <span style=\"background-color: #FFE8E8\">monday</span> <span style=\"background-color: #FFF6F6\">friday</span> <span style=\"background-color: #FFEAEA\">9am</span> <span style=\"background-color: #FFFEFE\">11</span> <span style=\"background-color: #FEFEFF\">.</span> <span style=\"background-color: #FFECEC\">30am</span> <span style=\"background-color: #FFF8F8\">duties</span> <span style=\"background-color: #F8F8FF\">to</span> <span style=\"background-color: #D3D3FF\">include</span> <span style=\"background-color: #FCFCFF\">sweeping</span> <span style=\"background-color: #F2F2FF\">,</span> <span style=\"background-color: #FFFAFA\">mopping</span> <span style=\"background-color: #FFDCDC\">,</span> <span style=\"background-color: #F6F6FF\">vacuuming</span> <span style=\"background-color: #FFE2E2\">,</span> <span style=\"background-color: #FFFCFC\">buffing</span> <span style=\"background-color: #FFFCFC\">,</span> <span style=\"background-color: #FFFAFA\">cleaning</span> <span style=\"background-color: #FFFEFE\">staff</span> <span style=\"background-color: #F8F8FF\">toilets</span> <span style=\"background-color: #F0F0FF\">and</span> <span style=\"background-color: #FFFEFE\">rest</span> <span style=\"background-color: #FFF2F2\">room</span> <span style=\"background-color: #E6E6FF\">.</span> <span style=\"background-color: #E2E2FF\">must</span> <span style=\"background-color: #FFFAFA\">be</span> <span style=\"background-color: #E0E0FF\">able</span> <span style=\"background-color: #DADAFF\">to</span> <span style=\"background-color: #FFFEFE\">read</span> <span style=\"background-color: #F8F8FF\">as</span> <span style=\"background-color: #EEEEFF\">they</span> <span style=\"background-color: #FFF0F0\">will</span> <span style=\"background-color: #FFF2F2\">be</span> <span style=\"background-color: #FFE4E4\">using</span> <span style=\"background-color: #FFFEFE\">UNK</span> <span style=\"background-color: #FFF6F6\">which</span> <span style=\"background-color: #FFE0E0\">need</span> <span style=\"background-color: #FFFEFE\">UNK</span> <span style=\"background-color: #FFE8E8\">as</span> <span style=\"background-color: #FFEEEE\">per</span> <span style=\"background-color: #F8F8FF\">instructions</span> <span style=\"background-color: #FEFEFF\">on</span> <span style=\"background-color: #DEDEFF\">the</span> <span style=\"background-color: #FFF6F6\">containers</span> <span style=\"background-color: #ECECFF\">.</span> <span style=\"background-color: #FFF2F2\">sucessfull</span> <span style=\"background-color: #FAFAFF\">applicants</span> <span style=\"background-color: #FFECEC\">will</span> <span style=\"background-color: #FFECEC\">be</span> <span style=\"background-color: #FFFCFC\">trained</span> <span style=\"background-color: #F2F2FF\">on</span> <span style=\"background-color: #FFF4F4\">all</span> <span style=\"background-color: #FFFAFA\">electrical</span> <span style=\"background-color: #FFFEFE\">appliances</span> <span style=\"background-color: #F0F0FF\">and</span> <span style=\"background-color: #FFFEFE\">UNK</span> <span style=\"background-color: #FFE0E0\">of</span> <span style=\"background-color: #FFF4F4\">cleaning</span> <span style=\"background-color: #FFFEFE\">materials</span> <span style=\"background-color: #FFFCFC\">.</span></p>"
      ]
     },
     "metadata": {},
     "output_type": "display_data"
    }
   ],
   "source": [
    "i = 12077\n",
    "tokens_and_weights = explain(model, data.loc[i], \"Title\")\n",
    "draw_html([(tok, weight * 5) for tok, weight in tokens_and_weights], font_style='font-size:20px;');\n",
    "\n",
    "tokens_and_weights = explain(model, data.loc[i], \"FullDescription\")\n",
    "draw_html([(tok, weight * 10) for tok, weight in tokens_and_weights]);"
   ]
  },
  {
   "cell_type": "code",
   "execution_count": 41,
   "metadata": {},
   "outputs": [
    {
     "name": "stdout",
     "output_type": "stream",
     "text": [
      "Index: 15640\n",
      "Salary (gbp): 18570.668\n"
     ]
    },
    {
     "data": {
      "text/html": [
       "<p style=\"font-size:20px;\"><span style=\"background-color: #3838FF\">principal</span> <span style=\"background-color: #4848FF\">teacher</span> <span style=\"background-color: #FFE0E0\">st</span> <span style=\"background-color: #FFFEFE\">UNK</span> <span style=\"background-color: #F0F0FF\">'</span> <span style=\"background-color: #FFE8E8\">s</span> <span style=\"background-color: #FFD6D6\">primary</span></p>"
      ]
     },
     "metadata": {},
     "output_type": "display_data"
    },
    {
     "data": {
      "text/html": [
       "<p style=\"font-size:14px;\"><span style=\"background-color: #FFFCFC\">can</span> <span style=\"background-color: #FFF2F2\">you</span> <span style=\"background-color: #FFF4F4\">make</span> <span style=\"background-color: #FFF8F8\">a</span> <span style=\"background-color: #FFF8F8\">difference</span> <span style=\"background-color: #FFFCFC\">to</span> <span style=\"background-color: #FFF8F8\">the</span> <span style=\"background-color: #FFF2F2\">future</span> <span style=\"background-color: #FFFAFA\">lives</span> <span style=\"background-color: #FFE6E6\">of</span> <span style=\"background-color: #FFFEFE\">glasgow</span> <span style=\"background-color: #FFFAFA\">'</span> <span style=\"background-color: #FFEAEA\">s</span> <span style=\"background-color: #FFF6F6\">children</span> <span style=\"background-color: #FFEEEE\">?</span> <span style=\"background-color: #FFFAFA\">what</span> <span style=\"background-color: #FFF4F4\">are</span> <span style=\"background-color: #FFFAFA\">your</span> <span style=\"background-color: #FFFCFC\">aspirations</span> <span style=\"background-color: #FFF4F4\">as</span> <span style=\"background-color: #FFEAEA\">a</span> <span style=\"background-color: #FFF4F4\">middle</span> <span style=\"background-color: #FFF8F8\">manager</span> <span style=\"background-color: #FFF8F8\">in</span> <span style=\"background-color: #FFF6F6\">education</span> <span style=\"background-color: #FFF4F4\">?</span> <span style=\"background-color: #FFECEC\">here</span> <span style=\"background-color: #FFFAFA\">is</span> <span style=\"background-color: #FFF4F4\">an</span> <span style=\"background-color: #FFFCFC\">opportunity</span> <span style=\"background-color: #FFFEFE\">you</span> <span style=\"background-color: #FFF6F6\">will</span> <span style=\"background-color: #FFFEFE\">not</span> <span style=\"background-color: #FFF6F6\">want</span> <span style=\"background-color: #FFFAFA\">to</span> <span style=\"background-color: #FFFAFA\">miss</span> <span style=\"background-color: #FFE6E6\">in</span> <span style=\"background-color: #FFFAFA\">glasgow</span> <span style=\"background-color: #FFF6F6\">.</span> <span style=\"background-color: #FFECEC\">st</span> <span style=\"background-color: #FFFEFE\">UNK</span> <span style=\"background-color: #FFECEC\">'</span> <span style=\"background-color: #FFFCFC\">s</span> <span style=\"background-color: #FFF4F4\">primary</span> <span style=\"background-color: #FCFCFF\">seeks</span> <span style=\"background-color: #FFF0F0\">to</span> <span style=\"background-color: #FFFAFA\">appoint</span> <span style=\"background-color: #FFFCFC\">a</span> <span style=\"background-color: #FFF6F6\">highly</span> <span style=\"background-color: #FFDEDE\">motivated</span> <span style=\"background-color: #FFE6E6\">,</span> <span style=\"background-color: #F3F3FF\">experienced</span> <span style=\"background-color: #FFD3D3\">and</span> <span style=\"background-color: #FFF4F4\">dynamic</span> <span style=\"background-color: #FFFCFC\">individual</span> <span style=\"background-color: #FFFAFA\">with</span> <span style=\"background-color: #FFFCFC\">an</span> <span style=\"background-color: #DEDEFF\">excellent</span> <span style=\"background-color: #DADAFF\">track</span> <span style=\"background-color: #F6F6FF\">record</span> <span style=\"background-color: #FFF8F8\">in</span> <span style=\"background-color: #FFF4F4\">primary</span> <span style=\"background-color: #FFFAFA\">teaching</span> <span style=\"background-color: #FFF8F8\">.</span> <span style=\"background-color: #FFFAFA\">we</span> <span style=\"background-color: #FFF4F4\">are</span> <span style=\"background-color: #FFF2F2\">looking</span> <span style=\"background-color: #FFF6F6\">for</span> <span style=\"background-color: #FFF4F4\">someone</span> <span style=\"background-color: #FFFEFE\">who</span> <span style=\"background-color: #FFF2F2\">can</span> <span style=\"background-color: #FFFAFA\">support</span> <span style=\"background-color: #FFF0F0\">the</span> <span style=\"background-color: #FFECEC\">schools</span> <span style=\"background-color: #FFEEEE\">,</span> <span style=\"background-color: #FFECEC\">community</span> <span style=\"background-color: #FFFCFC\">,</span> <span style=\"background-color: #FFFAFA\">develop</span> <span style=\"background-color: #FFEEEE\">learning</span> <span style=\"background-color: #FFF4F4\">and</span> <span style=\"background-color: #FFEEEE\">teaching</span> <span style=\"background-color: #FFF4F4\">and</span> <span style=\"background-color: #FFF6F6\">ensure</span> <span style=\"background-color: #FFF8F8\">that</span> <span style=\"background-color: #FFF6F6\">all</span> <span style=\"background-color: #FFF6F6\">pupils</span> <span style=\"background-color: #FFEAEA\">achieve</span> <span style=\"background-color: #FFFEFE\">their</span> <span style=\"background-color: #FFF6F6\">full</span> <span style=\"background-color: #FFFAFA\">potential</span> <span style=\"background-color: #FFFCFC\">.</span> <span style=\"background-color: #FFF2F2\">you</span> <span style=\"background-color: #FEFEFF\">must</span> <span style=\"background-color: #FFF8F8\">be</span> <span style=\"background-color: #FFECEC\">committed</span> <span style=\"background-color: #FFF2F2\">,</span> <span style=\"background-color: #FFEEEE\">passionate</span> <span style=\"background-color: #FFF4F4\">and</span> <span style=\"background-color: #FFEEEE\">a</span> <span style=\"background-color: #FFFEFE\">well</span> <span style=\"background-color: #FFF0F0\">qualified</span> <span style=\"background-color: #FFE8E8\">staff</span> <span style=\"background-color: #FFFAFA\">member</span> <span style=\"background-color: #FFF8F8\">.</span> <span style=\"background-color: #FFFEFE\">we</span> <span style=\"background-color: #FFF4F4\">will</span> <span style=\"background-color: #FFFCFC\">support</span> <span style=\"background-color: #FFF6F6\">you</span> <span style=\"background-color: #FFF6F6\">to</span> <span style=\"background-color: #FFFCFC\">inspire</span> <span style=\"background-color: #FFFAFA\">the</span> <span style=\"background-color: #FFFAFA\">learning</span> <span style=\"background-color: #FFFAFA\">of</span> <span style=\"background-color: #FFEAEA\">our</span> <span style=\"background-color: #FFEEEE\">children</span> <span style=\"background-color: #FFF0F0\">and</span> <span style=\"background-color: #FFF4F4\">young</span> <span style=\"background-color: #FFFAFA\">people</span> <span style=\"background-color: #FFFAFA\">.</span> <span style=\"background-color: #FFFEFE\">in</span> <span style=\"background-color: #FFFCFC\">addition</span> <span style=\"background-color: #FEFEFF\">to</span> <span style=\"background-color: #FFF4F4\">the</span> <span style=\"background-color: #FFFAFA\">range</span> <span style=\"background-color: #FFF4F4\">of</span> <span style=\"background-color: #FFEEEE\">teaching</span> <span style=\"background-color: #FFF2F2\">and</span> <span style=\"background-color: #FFFEFE\">other</span> <span style=\"background-color: #FFF6F6\">duties</span> <span style=\"background-color: #FFFAFA\">outlined</span> <span style=\"background-color: #FFFCFC\">in</span> <span style=\"background-color: #FFF8F8\">the</span> <span style=\"background-color: #FFEEEE\">job</span> <span style=\"background-color: #FFF8F8\">specification</span> <span style=\"background-color: #FFFAFA\">we</span> <span style=\"background-color: #FFF4F4\">are</span> <span style=\"background-color: #FFF2F2\">looking</span> <span style=\"background-color: #FFEEEE\">for</span> <span style=\"background-color: #FFF4F4\">individuals</span> <span style=\"background-color: #FFF0F0\">who</span> <span style=\"background-color: #FFEEEE\">enjoy</span> <span style=\"background-color: #FFF6F6\">working</span> <span style=\"background-color: #FFFAFA\">collegiately</span> <span style=\"background-color: #FFF6F6\">with</span> <span style=\"background-color: #FFECEC\">colleagues</span> <span style=\"background-color: #FFEEEE\">,</span> <span style=\"background-color: #FFF6F6\">and</span> <span style=\"background-color: #FFF2F2\">who</span> <span style=\"background-color: #FFF8F8\">have</span> <span style=\"background-color: #FFFAFA\">with</span> <span style=\"background-color: #FFE6E6\">a</span> <span style=\"background-color: #FFF6F6\">firm</span> <span style=\"background-color: #FFF2F2\">commitment</span> <span style=\"background-color: #FFF2F2\">to</span> <span style=\"background-color: #FFFCFC\">improving</span> <span style=\"background-color: #FFFEFE\">the</span> <span style=\"background-color: #FFF2F2\">outcomes</span> <span style=\"background-color: #FFE6E6\">for</span> <span style=\"background-color: #FFFCFC\">glasgow</span> <span style=\"background-color: #FFFAFA\">'</span> <span style=\"background-color: #FFF0F0\">s</span> <span style=\"background-color: #FFF6F6\">young</span> <span style=\"background-color: #FFFAFA\">people</span> <span style=\"background-color: #FFFEFE\">.</span> <span style=\"background-color: #FFFAFA\">membership</span> <span style=\"background-color: #FFFCFC\">of</span> <span style=\"background-color: #FFF0F0\">the</span> <span style=\"background-color: #FFFAFA\">protection</span> <span style=\"background-color: #FFF2F2\">of</span> <span style=\"background-color: #FFF0F0\">vulnerable</span> <span style=\"background-color: #FFF8F8\">groups</span> <span style=\"background-color: #FFFEFE\">scheme</span> <span style=\"background-color: #FFFAFA\">will</span> <span style=\"background-color: #FFF6F6\">be</span> <span style=\"background-color: #FFFCFC\">essential</span> <span style=\"background-color: #FFF6F6\">on</span> <span style=\"background-color: #FFF4F4\">taking</span> <span style=\"background-color: #FFF8F8\">up</span> <span style=\"background-color: #FFF8F8\">appointment</span> <span style=\"background-color: #FFFCFC\">along</span> <span style=\"background-color: #FFFEFE\">with</span> <span style=\"background-color: #F3F3FF\">gtcs</span> <span style=\"background-color: #FFFAFA\">registration</span> <span style=\"background-color: #FFEEEE\">.</span> <span style=\"background-color: #FFF8F8\">please</span> <span style=\"background-color: #FFF6F6\">note</span> <span style=\"background-color: #FFF8F8\">successful</span> <span style=\"background-color: #FFF2F2\">candidates</span> <span style=\"background-color: #FFFCFC\">for</span> <span style=\"background-color: #FFF6F6\">the</span> <span style=\"background-color: #FFFAFA\">above</span> <span style=\"background-color: #FEFEFF\">position</span> <span style=\"background-color: #FFFAFA\">will</span> <span style=\"background-color: #FFFEFE\">be</span> <span style=\"background-color: #FFF6F6\">required</span> <span style=\"background-color: #FFFCFC\">to</span> <span style=\"background-color: #FFF8F8\">pay</span> <span style=\"background-color: #FFECEC\">for</span> <span style=\"background-color: #FFF6F6\">their</span> <span style=\"background-color: #FFFCFC\">pvg</span> <span style=\"background-color: #FFDEDE\">membership</span> <span style=\"background-color: #FFFAFA\">/</span> <span style=\"background-color: #FFF6F6\">or</span> <span style=\"background-color: #FFFAFA\">scheme</span> <span style=\"background-color: #FFFAFA\">checks</span> <span style=\"background-color: #FFFAFA\">.</span> <span style=\"background-color: #FFF8F8\">in</span> <span style=\"background-color: #FFFCFC\">line</span> <span style=\"background-color: #FFF8F8\">with</span> <span style=\"background-color: #FFF0F0\">section</span> <span style=\"background-color: #FFF4F4\">****(****</span> <span style=\"background-color: #FFE2E2\">a</span> <span style=\"background-color: #FFFAFA\">)</span> <span style=\"background-color: #FFFCFC\">of</span> <span style=\"background-color: #FFF8F8\">the</span> <span style=\"background-color: #FFF4F4\">education</span> <span style=\"background-color: #FFF6F6\">(</span> <span style=\"background-color: #FFE2E2\">scotland</span> <span style=\"background-color: #FFFEFE\">)</span> <span style=\"background-color: #FFECEC\">act</span> <span style=\"background-color: #FFFCFC\">****</span> <span style=\"background-color: #FFF6F6\">the</span> <span style=\"background-color: #FFFEFE\">successful</span> <span style=\"background-color: #FFF2F2\">candidate</span> <span style=\"background-color: #FFF8F8\">for</span> <span style=\"background-color: #FFEEEE\">this</span> <span style=\"background-color: #FFFEFE\">post</span> <span style=\"background-color: #FEFEFF\">will</span> <span style=\"background-color: #FFE8E8\">require</span> <span style=\"background-color: #FFF0F0\">rc</span> <span style=\"background-color: #FFF4F4\">approval</span> <span style=\"background-color: #FFFEFE\">.</span> <span style=\"background-color: #FFFCFC\">location</span> <span style=\"background-color: #FFF6F6\">:</span> <span style=\"background-color: #FFECEC\">st</span> <span style=\"background-color: #FFFEFE\">UNK</span> <span style=\"background-color: #FFECEC\">'</span> <span style=\"background-color: #FFFCFC\">s</span> <span style=\"background-color: #FFECEC\">primary</span> <span style=\"background-color: #FFECEC\">,</span> <span style=\"background-color: #FFFEFE\">****</span> <span style=\"background-color: #FFF2F2\">great</span> <span style=\"background-color: #FFF8F8\">western</span> <span style=\"background-color: #FFECEC\">road</span> <span style=\"background-color: #FFE6E6\">,</span> <span style=\"background-color: #FFECEC\">glasgow</span> <span style=\"background-color: #FFFAFA\">,</span> <span style=\"background-color: #FFECEC\">g</span> <span style=\"background-color: #FFECEC\">****</span> <span style=\"background-color: #FFF0F0\">****</span> <span style=\"background-color: #FFFAFA\">ab</span> <span style=\"background-color: #FFDCDC\">.</span> <span style=\"background-color: #FFFCFC\">salary</span> <span style=\"background-color: #FFEEEE\">:</span> <span style=\"background-color: #FFFAFA\">****</span> <span style=\"background-color: #FEFEFF\">per</span> <span style=\"background-color: #FFF6F6\">annum</span> <span style=\"background-color: #FFF2F2\">applying</span> <span style=\"background-color: #FFF8F8\">for</span> <span style=\"background-color: #FFF6F6\">this</span> <span style=\"background-color: #FFF8F8\">vacancy</span> <span style=\"background-color: #FFFCFC\">if</span> <span style=\"background-color: #FFFAFA\">you</span> <span style=\"background-color: #FFF8F8\">are</span> <span style=\"background-color: #FFFAFA\">interested</span> <span style=\"background-color: #FFF8F8\">in</span> <span style=\"background-color: #FCFCFF\">this</span> <span style=\"background-color: #FFEEEE\">job</span> <span style=\"background-color: #FFF8F8\">and</span> <span style=\"background-color: #FFFAFA\">would</span> <span style=\"background-color: #FFF6F6\">like</span> <span style=\"background-color: #FFF6F6\">to</span> <span style=\"background-color: #FFECEC\">apply</span> <span style=\"background-color: #FFF4F4\">,</span> <span style=\"background-color: #FFF4F4\">we</span> <span style=\"background-color: #FFFCFC\">prefer</span> <span style=\"background-color: #FFF6F6\">you</span> <span style=\"background-color: #FFFCFC\">to</span> <span style=\"background-color: #FFFCFC\">complete</span> <span style=\"background-color: #FFF6F6\">the</span> <span style=\"background-color: #FFEAEA\">online</span> <span style=\"background-color: #FFF6F6\">application</span> <span style=\"background-color: #FFEEEE\">form</span> <span style=\"background-color: #FFF6F6\">by</span> <span style=\"background-color: #FFFCFC\">clicking</span> <span style=\"background-color: #FFFCFC\">on</span> <span style=\"background-color: #FFF2F2\">the</span> <span style=\"background-color: #FFF4F4\">apply</span> <span style=\"background-color: #FFF8F8\">now</span> <span style=\"background-color: #FFFCFC\">button</span> <span style=\"background-color: #FFF8F8\">below</span> <span style=\"background-color: #FFFCFC\">.</span> <span style=\"background-color: #FFEAEA\">alternative</span> <span style=\"background-color: #FFF2F2\">application</span> <span style=\"background-color: #FFFEFE\">packs</span> <span style=\"background-color: #FFFAFA\">can</span> <span style=\"background-color: #FFF2F2\">be</span> <span style=\"background-color: #FFFAFA\">requested</span> <span style=\"background-color: #FFF2F2\">in</span> <span style=\"background-color: #FFFEFE\">other</span> <span style=\"background-color: #FFEAEA\">formats</span> <span style=\"background-color: #FFF6F6\">for</span> <span style=\"background-color: #FFEAEA\">example</span> <span style=\"background-color: #FFECEC\">,</span> <span style=\"background-color: #FEFEFF\">large</span> <span style=\"background-color: #FFE4E4\">print</span> <span style=\"background-color: #FFFEFE\">,</span> <span style=\"background-color: #FFECEC\">braille</span> <span style=\"background-color: #FFEEEE\">,</span> <span style=\"background-color: #FFEEEE\">audio</span> <span style=\"background-color: #FFF2F2\">and</span> <span style=\"background-color: #FFEEEE\">other</span> <span style=\"background-color: #FFF2F2\">languages</span> <span style=\"background-color: #FFF6F6\">.</span> <span style=\"background-color: #FFFAFA\">to</span> <span style=\"background-color: #FFFCFC\">request</span> <span style=\"background-color: #FFFCFC\">an</span> <span style=\"background-color: #FFEAEA\">alternative</span> <span style=\"background-color: #FFF6F6\">application</span> <span style=\"background-color: #FFEEEE\">pack</span> <span style=\"background-color: #FFF6F6\">please</span> <span style=\"background-color: #FFECEC\">phone</span> <span style=\"background-color: #FFECEC\">****</span> <span style=\"background-color: #FFECEC\">****</span> <span style=\"background-color: #FFF2F2\">****</span> <span style=\"background-color: #FFFEFE\">packs</span> <span style=\"background-color: #FFFAFA\">will</span> <span style=\"background-color: #FFF6F6\">be</span> <span style=\"background-color: #FFFAFA\">posted</span> <span style=\"background-color: #FFE8E8\">out</span> <span style=\"background-color: #FFFCFC\">to</span> <span style=\"background-color: #FFF6F6\">you</span> <span style=\"background-color: #FFF0F0\">within</span> <span style=\"background-color: #FFF4F4\">****</span> <span style=\"background-color: #FFF0F0\">working</span> <span style=\"background-color: #FFFAFA\">days</span> <span style=\"background-color: #FFE6E6\">of</span> <span style=\"background-color: #FFF4F4\">receiving</span> <span style=\"background-color: #FFF0F0\">your</span> <span style=\"background-color: #FFF8F8\">telephone</span> <span style=\"background-color: #FFFCFC\">request</span> <span style=\"background-color: #FFF2F2\">.</span> <span style=\"background-color: #FFF8F8\">please</span> <span style=\"background-color: #FFFCFC\">note</span> <span style=\"background-color: #FFFEFE\">the</span> <span style=\"background-color: #FFFAFA\">closing</span> <span style=\"background-color: #FFFAFA\">date</span> <span style=\"background-color: #FFFCFC\">of</span> <span style=\"background-color: #FFF8F8\">the</span> <span style=\"background-color: #FFF6F6\">job</span> <span style=\"background-color: #FFF6F6\">advert</span> <span style=\"background-color: #FFF4F4\">to</span> <span style=\"background-color: #FFF6F6\">ensure</span> <span style=\"background-color: #FFFCFC\">that</span> <span style=\"background-color: #FFF8F8\">you</span> <span style=\"background-color: #FFF8F8\">give</span> <span style=\"background-color: #FFEEEE\">yourself</span> <span style=\"background-color: #FFFAFA\">plenty</span> <span style=\"background-color: #FFF8F8\">of</span> <span style=\"background-color: #FFF6F6\">time</span> <span style=\"background-color: #FFFAFA\">to</span> <span style=\"background-color: #FFF4F4\">complete</span> <span style=\"background-color: #FFECEC\">your</span> <span style=\"background-color: #FFF6F6\">application</span> <span style=\"background-color: #FFECEC\">form</span> <span style=\"background-color: #FFECEC\">and</span> <span style=\"background-color: #FFF6F6\">return</span> <span style=\"background-color: #FFF6F6\">it</span> <span style=\"background-color: #FFECEC\">to</span> <span style=\"background-color: #FFFAFA\">us</span> <span style=\"background-color: #FFFEFE\">.</span> <span style=\"background-color: #FFFAFA\">further</span> <span style=\"background-color: #FFF0F0\">information</span> <span style=\"background-color: #FAFAFF\">for</span> <span style=\"background-color: #FFF8F8\">further</span> <span style=\"background-color: #FFF6F6\">information</span> <span style=\"background-color: #FFF0F0\">about</span> <span style=\"background-color: #FFF2F2\">working</span> <span style=\"background-color: #FFECEC\">for</span> <span style=\"background-color: #FFEEEE\">us</span> <span style=\"background-color: #FFF6F6\">please</span> <span style=\"background-color: #FFFCFC\">click</span> <span style=\"background-color: #FFFCFC\">on</span> <span style=\"background-color: #FFE8E8\">the</span> <span style=\"background-color: #FFF8F8\">link</span> <span style=\"background-color: #FFF6F6\">below</span> <span style=\"background-color: #FFFAFA\">to</span> <span style=\"background-color: #FFFAFA\">be</span> <span style=\"background-color: #FFF6F6\">taken</span> <span style=\"background-color: #FFFAFA\">to</span> <span style=\"background-color: #FFFAFA\">our</span> <span style=\"background-color: #FFFEFE\">website</span></p>"
      ]
     },
     "metadata": {},
     "output_type": "display_data"
    }
   ],
   "source": [
    "i = np.random.randint(len(data))\n",
    "print(\"Index:\", i)\n",
    "print(\"Salary (gbp):\", np.expm1(model.predict(make_batch(data.iloc[i: i+1]))[0, 0]))\n",
    "\n",
    "tokens_and_weights = explain(model, data.loc[i], \"Title\")\n",
    "draw_html([(tok, weight * 5) for tok, weight in tokens_and_weights], font_style='font-size:20px;');\n",
    "\n",
    "tokens_and_weights = explain(model, data.loc[i], \"FullDescription\")\n",
    "draw_html([(tok, weight * 10) for tok, weight in tokens_and_weights]);"
   ]
  },
  {
   "cell_type": "markdown",
   "metadata": {},
   "source": [
    "__Terrible start-up idea #1962:__ make a tool that automaticaly rephrases your job description (or CV) to meet salary expectations :)"
   ]
  }
 ],
 "metadata": {
  "kernelspec": {
   "display_name": "Python 3",
   "language": "python",
   "name": "python3"
  },
  "language_info": {
   "codemirror_mode": {
    "name": "ipython",
    "version": 3
   },
   "file_extension": ".py",
   "mimetype": "text/x-python",
   "name": "python",
   "nbconvert_exporter": "python",
   "pygments_lexer": "ipython3",
   "version": "3.5.2"
  }
 },
 "nbformat": 4,
 "nbformat_minor": 2
}
