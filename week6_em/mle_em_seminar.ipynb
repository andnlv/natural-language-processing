{
 "cells": [
  {
   "cell_type": "markdown",
   "metadata": {},
   "source": [
    "**Maximum likelihood estimatation from observed and unobserved data**\n",
    "\n",
    "You are given a bag containing red and blue coins. All the red coins have the same probability of heads. All the blue coins have the same probability of heads (possibly different from that of the red coins).\n",
    "\n",
    "Your task is to estimate the proportion of red coins in the bag and the probability of heads for both the red and the blue coin."
   ]
  },
  {
   "cell_type": "code",
   "execution_count": 1,
   "metadata": {
    "scrolled": true
   },
   "outputs": [
    {
     "data": {
      "application/vnd.jupyter.widget-view+json": {
       "model_id": "c16fa3d00f894e8a8649a811bf8c2584",
       "version_major": 2,
       "version_minor": 0
      },
      "text/plain": [
       "FloatSlider(value=0.0, description='prob_red', max=1.0)"
      ]
     },
     "metadata": {},
     "output_type": "display_data"
    },
    {
     "data": {
      "application/vnd.jupyter.widget-view+json": {
       "model_id": "1ddd09544c0d4c5abae17732f38c0ad3",
       "version_major": 2,
       "version_minor": 0
      },
      "text/plain": [
       "FloatSlider(value=0.0, description='head_red', max=1.0)"
      ]
     },
     "metadata": {},
     "output_type": "display_data"
    },
    {
     "data": {
      "application/vnd.jupyter.widget-view+json": {
       "model_id": "ce266973583e48b0b7b820d5c5a4f5cb",
       "version_major": 2,
       "version_minor": 0
      },
      "text/plain": [
       "FloatSlider(value=0.0, description='head_blue', max=1.0)"
      ]
     },
     "metadata": {},
     "output_type": "display_data"
    }
   ],
   "source": [
    "import ipywidgets as widgets\n",
    "prob_red = widgets.FloatSlider(min=0.0, max=1.0, description='prob_red')\n",
    "prob_head_red = widgets.FloatSlider(min=0.0, max=1.0, description='head_red')\n",
    "prob_head_blue = widgets.FloatSlider(min=0.0, max=1.0, description='head_blue')\n",
    "display(prob_red, prob_head_red, prob_head_blue)"
   ]
  },
  {
   "cell_type": "markdown",
   "metadata": {},
   "source": [
    "Use these widgets to control the model."
   ]
  },
  {
   "cell_type": "code",
   "execution_count": 5,
   "metadata": {},
   "outputs": [],
   "source": [
    "import random\n",
    "def choose_coin():\n",
    "    return 'R' if random.random() < prob_red.value else 'B'\n",
    "\n",
    "def flip_coin(coin):\n",
    "    uar = random.random()\n",
    "    if coin == 'R':\n",
    "        if uar < prob_head_red.value:\n",
    "            return 'H'\n",
    "    elif uar < prob_head_blue.value:\n",
    "        return 'H'\n",
    "    return 'T'\n",
    "\n",
    "def flip_random_coin_n_times(n, hidden=False):\n",
    "    coin = choose_coin()\n",
    "    return ('_' if hidden else coin, ''.join([flip_coin(coin) for i in range(n)]))\n",
    "\n",
    "def flip_m_random_coins_n_times(m, n, hidden=False):\n",
    "    return [flip_random_coin_n_times(n, hidden) for i in range(m)]"
   ]
  },
  {
   "cell_type": "markdown",
   "metadata": {},
   "source": [
    "Use the above methods to sample from the model. The optional parameter 'hidden' controls whether the colour of the coin is observed in the samples."
   ]
  },
  {
   "cell_type": "code",
   "execution_count": 6,
   "metadata": {},
   "outputs": [
    {
     "data": {
      "text/plain": [
       "[('R',\n",
       "  'HHHHHTHHHHHHTHHHHHHTHHHHHTHHHTTHHTHTHTHHTHHHHHHHTTHHHTHHHHHHHHHHHTHHHHTHHHHHHTHHTHHHHHHHHHTTHHTHHHHH'),\n",
       " ('B',\n",
       "  'TTTHHTTTTTTTTTTTTTHTTTTTTTTTTTTHTHHTHTTTTTTTTTHTTTHTTTTTTHTTTHTTTTTHHTHTTHTTTTTHTTTTHTTTTTTTTTTTTTHH'),\n",
       " ('B',\n",
       "  'THTTTTTTTHHHTTTTTTTTTTTTHTTHTHTTHTTTTTTTTTTTTTTTTHTHHTTTTHHTTHTHTTTHTTTHTTTHHHHTTTTHTTTTHHTTTTTTHHTT'),\n",
       " ('B',\n",
       "  'THTTTTHTHTTTTTTTHTHTHTTTTTTTTTHTTTTTHHHTTHTHTTTTTTTTTTTTTTTTTTHHTTTTTHTTHTTTTTTHHTTTTHTTTHTTTTTTTTTT'),\n",
       " ('R',\n",
       "  'HHHHHHHHTHHTHHTHHHTHHHHHHHHHHHTTHHHTHHHHHTTHHHHHHTHHHHHTHHHHHHTHHHHTTHHHHHHHHHHHHHHHHHTTHHHHHHHTTHTH')]"
      ]
     },
     "execution_count": 6,
     "metadata": {},
     "output_type": "execute_result"
    }
   ],
   "source": [
    "flip_m_random_coins_n_times(5, 100)"
   ]
  },
  {
   "cell_type": "code",
   "execution_count": 8,
   "metadata": {},
   "outputs": [
    {
     "data": {
      "text/plain": [
       "[('_',\n",
       "  'TTTTTHTTTTTTTTTTTHTTHTTTHTTHTTTTTTTTTTHTHTTTTTTTTTTTTTTHTTHHTTTTTTTHTTHHTTTTTTTTTTTHTTHTTTTTTTTTTTTT'),\n",
       " ('_',\n",
       "  'HHHTHHTHHHHHTHHHHHHHHHHHHHTHHHHHHHHHHHTHHHHHHHHHHTHHHHTHHTHTHHHHHHHHHHHHTHTHTTHTHHHTHHHHHTHHTHHHHHHH'),\n",
       " ('_',\n",
       "  'HTTTTTTTTHTHTTTTTHHTTHHTTHTTTTTTTTHTHTTTHTTTHTTTTTHTHTTHHTTTHTTTTHTTTTTTTTTTTHTTHTTTTHHHTTTHTTHTHTHT'),\n",
       " ('_',\n",
       "  'HHHHHTHHHHHHHTTHHHHHHHHHHHHHTHTHHHHTTHHHHHTHHHTHHTHTHTHHHHHTHHHHTHHTHHTHHHHHHHTHHTHHTHHTHHHTHTHHHHHT'),\n",
       " ('_',\n",
       "  'TTTTHTTHTTTTHHTTTTTTTTTTTHTHTHTTHHTHHTTTTTHTHHTTTTTTTTHTHTTHTTTHTTTHTTTTHTTTHTTTTHTHTHTHTTHHTHTTTHHH')]"
      ]
     },
     "execution_count": 8,
     "metadata": {},
     "output_type": "execute_result"
    }
   ],
   "source": [
    "flip_m_random_coins_n_times(5, 100, hidden=True)"
   ]
  },
  {
   "cell_type": "markdown",
   "metadata": {},
   "source": [
    "**TASK 1** Implement the following two functions to estimate parameters for the model in the observed case. Splitting the work into two separate functions will simplify things for the next task. \n",
    "\n",
    "* How could you measure the error in your estimates?\n",
    "* How does the error decrease with the sample size?\n",
    "* If you were only allowed to flip coins a total of N times how would you choose m (the number of coins) and n the number of times to flip each coin? Why?"
   ]
  },
  {
   "cell_type": "code",
   "execution_count": 14,
   "metadata": {},
   "outputs": [],
   "source": [
    "def compute_sufficient_statistics(samples):\n",
    "    # assert 'Implement me to compute the sufficient statistics for the model from the samples.'\n",
    "    red_counter = 0\n",
    "    red_head_counter = 0\n",
    "    blue_head_counter = 0\n",
    "    l = len(samples[0][1])\n",
    "    for color, values in sample:\n",
    "        if color == 'R':\n",
    "            red_counter += 1\n",
    "            red_head_counter += values.count('H')\n",
    "        else:\n",
    "            blue_head_counter += values.count('H')\n",
    "    return red_counter/len(samples), red_head_counter / (l * red_counter), blue_head_counter / (l * blue_counter)\n",
    "\n",
    "\n",
    "def mle(sufficient_statistics):\n",
    "    # assert 'Implement me to compute mle parameter estimates given sufficient statistics.'\n",
    "    return sufficient_statistics"
   ]
  },
  {
   "cell_type": "markdown",
   "metadata": {},
   "source": [
    "**TASK 2** Given a sample from a single coin whose colour is unobserved, estimate the posterior probability that the coin is red, given some estimates of the model parameters.\n",
    "\n",
    "* If you pass in the true model parameters (e.g. prob_red.value, prob_head_red.value and prob_head_blue.value), how quickly does the posterior change? Use the plot_distribution function to view this.\n",
    "* How does this depend on the model parameters?"
   ]
  },
  {
   "cell_type": "code",
   "execution_count": 90,
   "metadata": {},
   "outputs": [],
   "source": [
    "def compute_posterior_prob_red(sample, estimate_prob_red, estimate_prob_head_red, estimate_prob_head_blue):\n",
    "    # assert 'Implement me to compute posterior probability that the sample came from the red coin.'\n",
    "    h = sample.count('H')\n",
    "    l = len(sample)\n",
    "    p_x_r = estimate_prob_head_red**h * (1 - estimate_prob_head_red)**(l - h)\n",
    "    p_x_b = estimate_prob_head_blue**h * (1 - estimate_prob_head_blue)**(l - h)\n",
    "    return p_x_r * estimate_prob_red / (p_x_r * estimate_prob_red + p_x_b * (1 - estimate_prob_red))"
   ]
  },
  {
   "cell_type": "markdown",
   "metadata": {},
   "source": [
    "**TASK 3** Reusing your code from Tasks 1 and 2, implement expectation maximization algorithm to find a (locally optimal) solution to the parameters when the colour of the coins is not observed."
   ]
  },
  {
   "cell_type": "code",
   "execution_count": 198,
   "metadata": {},
   "outputs": [],
   "source": [
    "import numpy as np\n",
    "def compute_expected_statistics(samples, estimate_prob_red, estimate_prob_head_red, estimate_prob_head_blue):\n",
    "    # assert 'Compute the sufficient statistics for this sample given these parameter estimates.'\n",
    "    posterior_probs_red = np.array([\n",
    "        compute_posterior_prob_red(\n",
    "            sample[1], estimate_prob_red, \n",
    "            estimate_prob_head_red, \n",
    "            estimate_prob_head_blue\n",
    "        ) for sample in samples\n",
    "    ])\n",
    "    \n",
    "    heads_prob = np.array([sample[1].count('H') for sample in samples]) / len(samples[0][1])\n",
    "    prob_red = posterior_probs_red.mean()\n",
    "    prob_head_red = (heads_prob * posterior_probs_red).sum() / posterior_probs_red.sum()\n",
    "    prob_head_blue = (heads_prob * (1 - posterior_probs_red)).sum() / (1 - posterior_probs_red).sum()\n",
    "    return prob_red, prob_head_red, prob_head_blue\n",
    "\n",
    "def expectation_maximization(samples, iterations, estimate_prob_red, estimate_prob_head_red, estimate_prob_head_blue):\n",
    "    # assert 'Compute the mle parameter estimates for the model from a sample without labels. '\n",
    "    history = []\n",
    "    for i in range(iterations):\n",
    "        estimate_prob_red, estimate_prob_head_red, estimate_prob_head_blue = compute_expected_statistics(\n",
    "            samples, estimate_prob_red, estimate_prob_head_red, estimate_prob_head_blue\n",
    "        )\n",
    "        history.append(\n",
    "        (estimate_prob_red, \n",
    "            estimate_prob_head_red, \n",
    "            estimate_prob_head_blue\n",
    "        ))\n",
    "    return history"
   ]
  },
  {
   "cell_type": "code",
   "execution_count": 210,
   "metadata": {},
   "outputs": [],
   "source": [
    "def make_samples(prob_red, prob_head_red, prob_head_blue, length, size):\n",
    "    samples = []\n",
    "    for _ in range(size):\n",
    "        coin = np.random.choice(['R', 'B'], p=[prob_red, 1 - prob_red])\n",
    "        prob_head = prob_head_red if coin == 'R' else prob_head_blue\n",
    "        samples.append((coin, ''.join(np.random.choice(['H', 'T'], size=length, p=[prob_head, 1 - prob_head]))))\n",
    "    return samples\n",
    "\n",
    "\n",
    "def run_em(samples, iterations):\n",
    "    return expectation_maximization(samples, iterations, 0.5, 0.3, 0.9)"
   ]
  },
  {
   "cell_type": "code",
   "execution_count": 211,
   "metadata": {
    "scrolled": true
   },
   "outputs": [],
   "source": [
    "import matplotlib.pyplot as plt\n",
    "%matplotlib inline"
   ]
  },
  {
   "cell_type": "code",
   "execution_count": 212,
   "metadata": {},
   "outputs": [
    {
     "data": {
      "text/plain": [
       "[<matplotlib.lines.Line2D at 0x7f6af3cc57b8>]"
      ]
     },
     "execution_count": 212,
     "metadata": {},
     "output_type": "execute_result"
    },
    {
     "data": {
      "image/png": "[encoded data removed]",
      "text/plain": [
       "<Figure size 864x576 with 1 Axes>"
      ]
     },
     "metadata": {},
     "output_type": "display_data"
    }
   ],
   "source": [
    "plt.figure(figsize=(12, 8))\n",
    "samples = make_samples(0.9, 0.3, 0.6, 50, 1000)\n",
    "history = run_em(samples, 10)\n",
    "plt.plot(list(zip(*history))[0])"
   ]
  },
  {
   "cell_type": "code",
   "execution_count": 217,
   "metadata": {},
   "outputs": [
    {
     "data": {
      "text/plain": [
       "[<matplotlib.lines.Line2D at 0x7f6af3a66dd8>]"
      ]
     },
     "execution_count": 217,
     "metadata": {},
     "output_type": "execute_result"
    },
    {
     "data": {
      "image/png": "[encoded data removed]",
      "text/plain": [
       "<Figure size 864x576 with 1 Axes>"
      ]
     },
     "metadata": {},
     "output_type": "display_data"
    }
   ],
   "source": [
    "plt.figure(figsize=(12, 8))\n",
    "samples = make_samples(0.6, 0.45, 0.55, 50, 1000)\n",
    "history = run_em(samples, 300)\n",
    "plt.plot(list(zip(*history))[0])"
   ]
  },
  {
   "cell_type": "markdown",
   "metadata": {},
   "source": [
    "The closer prob head red and prob head blue are the longer EM converges"
   ]
  }
 ],
 "metadata": {
  "kernelspec": {
   "display_name": "Python 3",
   "language": "python",
   "name": "python3"
  },
  "language_info": {
   "codemirror_mode": {
    "name": "ipython",
    "version": 3
   },
   "file_extension": ".py",
   "mimetype": "text/x-python",
   "name": "python",
   "nbconvert_exporter": "python",
   "pygments_lexer": "ipython3",
   "version": "3.5.2"
  }
 },
 "nbformat": 4,
 "nbformat_minor": 2
}
