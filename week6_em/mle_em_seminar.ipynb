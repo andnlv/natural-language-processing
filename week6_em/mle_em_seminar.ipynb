{
 "cells": [
  {
   "cell_type": "markdown",
   "metadata": {},
   "source": [
    "**Maximum likelihood estimatation from observed and unobserved data**\n",
    "\n",
    "You are given a bag containing red and blue coins. All the red coins have the same probability of heads. All the blue coins have the same probability of heads (possibly different from that of the red coins).\n",
    "\n",
    "Your task is to estimate the proportion of red coins in the bag and the probability of heads for both the red and the blue coin."
   ]
  },
  {
   "cell_type": "code",
   "execution_count": 4,
   "metadata": {
    "scrolled": true
   },
   "outputs": [
    {
     "data": {
      "application/vnd.jupyter.widget-view+json": {
       "model_id": "971cb80195d64a2cbf3c69396d57d3c7",
       "version_major": 2,
       "version_minor": 0
      },
      "text/plain": [
       "FloatSlider(value=0.0, description='prob_red', max=1.0)"
      ]
     },
     "metadata": {},
     "output_type": "display_data"
    },
    {
     "data": {
      "application/vnd.jupyter.widget-view+json": {
       "model_id": "55bf354d24394ad2888a6bf89939624a",
       "version_major": 2,
       "version_minor": 0
      },
      "text/plain": [
       "FloatSlider(value=0.0, description='head_red', max=1.0)"
      ]
     },
     "metadata": {},
     "output_type": "display_data"
    },
    {
     "data": {
      "application/vnd.jupyter.widget-view+json": {
       "model_id": "2d804de9aaee45b7bfa0a72dd9e39478",
       "version_major": 2,
       "version_minor": 0
      },
      "text/plain": [
       "FloatSlider(value=0.0, description='head_blue', max=1.0)"
      ]
     },
     "metadata": {},
     "output_type": "display_data"
    }
   ],
   "source": [
    "import ipywidgets as widgets\n",
    "prob_red = widgets.FloatSlider(min=0.0, max=1.0, description='prob_red')\n",
    "prob_head_red = widgets.FloatSlider(min=0.0, max=1.0, description='head_red')\n",
    "prob_head_blue = widgets.FloatSlider(min=0.0, max=1.0, description='head_blue')\n",
    "display(prob_red, prob_head_red, prob_head_blue)"
   ]
  },
  {
   "cell_type": "markdown",
   "metadata": {},
   "source": [
    "Use these widgets to control the model."
   ]
  },
  {
   "cell_type": "code",
   "execution_count": 7,
   "metadata": {},
   "outputs": [],
   "source": [
    "import random\n",
    "def choose_coin():\n",
    "    return 'R' if random.random() < prob_red.value else 'B'\n",
    "\n",
    "def flip_coin(coin):\n",
    "    uar = random.random()\n",
    "    if coin == 'R':\n",
    "        if uar < prob_head_red.value:\n",
    "            return 'H'\n",
    "    elif uar < prob_head_blue.value:\n",
    "        return 'H'\n",
    "    return 'T'\n",
    "\n",
    "def flip_random_coin_n_times(n, hidden=False):\n",
    "    coin = choose_coin()\n",
    "    return ('_' if hidden else coin, ''.join([flip_coin(coin) for i in range(n)]))\n",
    "\n",
    "def flip_m_random_coins_n_times(m, n, hidden=False):\n",
    "    return [flip_random_coin_n_times(n, hidden) for i in range(m)]"
   ]
  },
  {
   "cell_type": "markdown",
   "metadata": {},
   "source": [
    "Use the above methods to sample from the model. The optional parameter 'hidden' controls whether the colour of the coin is observed in the samples."
   ]
  },
  {
   "cell_type": "code",
   "execution_count": 13,
   "metadata": {},
   "outputs": [
    {
     "data": {
      "text/plain": [
       "[('R',\n",
       "  'HHHTTHTHHTHHTHHTTHHHTHTTTHTHTTHHTHTTHHHHHTHHTTHHHHHHHTHTHHHHTHHHHTTTHHTTTTHTTHHHHHTHHHTTHHHTHTTTTTHT'),\n",
       " ('B',\n",
       "  'THTTHTHHHTHHHHHTHHTHTHTTHHHHHHTHHTHHTHTTTTTHHTTTHTTHHHHHTHHHHTTHTTTHHTHHHTHHHHHTHTHHTTHHHHHTTHHHTHHT'),\n",
       " ('B',\n",
       "  'THHHHTTTHTTHTTTTHTTTTHHHTHTTTTHHHTTTHTTHHTHHHHHHTTTHHHTTHHTHTHHTHTTTHTTHHTHTTHTTHTHHTHTTTTTTHHHTTHTH'),\n",
       " ('R',\n",
       "  'THHHTHHTTHTHTTTHHHTTHHTHTTTTTHTTHTTHHHHHHHHTHHTHTHHTHTHHHHHTTTHHHHHHHTTHHTTHTHHHTHTTTTTHHHTTTTTTHHHH'),\n",
       " ('R',\n",
       "  'HHTTTHTHTTHTTTHHHTHHHTHTTHTHTHHHTTHTHTHHTTHHTTHHTTHTTHHTTHHHHTHTTHTHHTTHTHTTHHTTTTHTTHTTHHTHHHTTHTTH')]"
      ]
     },
     "execution_count": 13,
     "metadata": {},
     "output_type": "execute_result"
    }
   ],
   "source": [
    "flip_m_random_coins_n_times(5, 100)"
   ]
  },
  {
   "cell_type": "code",
   "execution_count": 10,
   "metadata": {},
   "outputs": [
    {
     "data": {
      "text/plain": [
       "[('_',\n",
       "  'HTHHHTHHTHHTTHHTHHTTHTTHHHTTTHTTTHTTTHTHHTTHTTTHHTTTTTTHHTHTHTHHTHTHTTHHHHTTTHTHHTTTTTTTHTTTTHHHHHTH'),\n",
       " ('_',\n",
       "  'TTHHHHTHTHTHHTHHTTHHTTHHTTTTHTTTHHTHTHHHTTTHTHTHHTHTTTTTHTTHHHTHHTTTTTHHTHTHTTTHHTTTHHHTHTTHTTHTHTTH'),\n",
       " ('_',\n",
       "  'TTHHTTHTTTHHTHTTHHHHTTHTTTHHTHHTHHHTTTTHTHHTHTTHHHTHTHHHHHHHHHTTHHHTTHHTHTTTTTTHTHHTTHHTTTHHHTHHHTHT'),\n",
       " ('_',\n",
       "  'HHTTHTTTTHTTHHHTHHTTHHTHHTHTHHHHHTTTTHHTHTTTTHTHHHHHHHTTTHTTTTHHHHHHTHHHTHHHHTTHTHTHHHTHHHHHHHTTHTTH'),\n",
       " ('_',\n",
       "  'HHTHTHHHTHTHHHHTTHTHTTTTTHHTTHHTTHTHTTHTHTTHHTTHHHTHTTHHHHTHHHTTHTTTHHHHHHHHTTTTTTHHTTTTHTTHTHTTTHTH')]"
      ]
     },
     "execution_count": 10,
     "metadata": {},
     "output_type": "execute_result"
    }
   ],
   "source": [
    "flip_m_random_coins_n_times(5, 100, hidden=True)"
   ]
  },
  {
   "cell_type": "markdown",
   "metadata": {},
   "source": [
    "**TASK 1** Implement the following two functions to estimate parameters for the model in the observed case. Splitting the work into two separate functions will simplify things for the next task. \n",
    "\n",
    "* How could you measure the error in your estimates?\n",
    "* How does the error decrease with the sample size?\n",
    "* If you were only allowed to flip coins a total of N times how would you choose m (the number of coins) and n the number of times to flip each coin? Why?"
   ]
  },
  {
   "cell_type": "code",
   "execution_count": 14,
   "metadata": {},
   "outputs": [],
   "source": [
    "def compute_sufficient_statistics(samples):\n",
    "    # assert 'Implement me to compute the sufficient statistics for the model from the samples.'\n",
    "    red_counter = 0\n",
    "    red_head_counter = 0\n",
    "    blue_head_counter = 0\n",
    "    l = len(samples[0][1])\n",
    "    for color, values in sample:\n",
    "        if color == 'R':\n",
    "            red_counter += 1\n",
    "            red_head_counter += values.count('H')\n",
    "        else:\n",
    "            blue_head_counter += values.count('H')\n",
    "    return red_counter/len(samples), red_head_counter / (l * red_counter), blue_head_counter / (l * blue_counter)\n",
    "\n",
    "\n",
    "def mle(sufficient_statistics):\n",
    "    # assert 'Implement me to compute mle parameter estimates given sufficient statistics.'\n",
    "    return sufficient_statistics"
   ]
  },
  {
   "cell_type": "markdown",
   "metadata": {},
   "source": [
    "**TASK 2** Given a sample from a single coin whose colour is unobserved, estimate the posterior probability that the coin is red, given some estimates of the model parameters.\n",
    "\n",
    "* If you pass in the true model parameters (e.g. prob_red.value, prob_head_red.value and prob_head_blue.value), how quickly does the posterior change? Use the plot_distribution function to view this.\n",
    "* How does this depend on the model parameters?"
   ]
  },
  {
   "cell_type": "code",
   "execution_count": 15,
   "metadata": {},
   "outputs": [],
   "source": [
    "def compute_posterior_prob_red(sample, estimate_prob_red, estimate_prob_head_red, estimate_prob_head_blue):\n",
    "    # assert 'Implement me to compute posterior probability that the sample came from the red coin.'\n",
    "    h = sample.count('H')\n",
    "    l = len(sample)\n",
    "    p_x_r = estimate_prob_head_red**h * (1 - estimate_prob_head_red)**(l - h)\n",
    "    p_x_b = estimate_prob_head_blue**h * (1 - estimate_prob_head_blue)**(l - h)\n",
    "    return p_x_r * estimate_prob_red / (p_x_r * estimate_prob_red + p_x_b * (1 - h))"
   ]
  },
  {
   "cell_type": "markdown",
   "metadata": {},
   "source": [
    "**TASK 3** Reusing your code from Tasks 1 and 2, implement expectation maximization algorithm to find a (locally optimal) solution to the parameters when the colour of the coins is not observed."
   ]
  },
  {
   "cell_type": "code",
   "execution_count": 13,
   "metadata": {},
   "outputs": [],
   "source": [
    "def compute_expected_statistics(samples, estimate_prob_red, estimate_prob_head_red, estimate_prob_head_blue):\n",
    "    assert 'Compute the sufficient statistics for this sample given these parameter estimates.'\n",
    "    \n",
    "def expectation_maximization(samples, iterations, estimate_prob_red, estimate_prob_head_red, estimate_prob_head_blue):\n",
    "    assert 'Compute the mle parameter estimates for the model from a sample without labels. '"
   ]
  },
  {
   "cell_type": "code",
   "execution_count": null,
   "metadata": {},
   "outputs": [],
   "source": []
  }
 ],
 "metadata": {
  "kernelspec": {
   "display_name": "Python 3",
   "language": "python",
   "name": "python3"
  },
  "language_info": {
   "codemirror_mode": {
    "name": "ipython",
    "version": 3
   },
   "file_extension": ".py",
   "mimetype": "text/x-python",
   "name": "python",
   "nbconvert_exporter": "python",
   "pygments_lexer": "ipython3",
   "version": "3.5.2"
  }
 },
 "nbformat": 4,
 "nbformat_minor": 2
}
