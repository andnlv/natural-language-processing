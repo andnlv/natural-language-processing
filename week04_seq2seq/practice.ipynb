{
 "cells": [
  {
   "cell_type": "markdown",
   "metadata": {},
   "source": [
    "## Seminar and homework (10 points total)\n",
    "\n",
    "Today we shall compose encoder-decoder neural networks and apply them to the task of machine translation.\n",
    "\n",
    "![img](https://esciencegroup.files.wordpress.com/2016/03/seq2seq.jpg)\n",
    "_(img: esciencegroup.files.wordpress.com)_\n",
    "\n",
    "\n",
    "Encoder-decoder architectures are about converting anything to anything, including\n",
    " * Machine translation and spoken dialogue systems\n",
    " * [Image captioning](http://mscoco.org/dataset/#captions-challenge2015) and [image2latex](https://openai.com/requests-for-research/#im2latex) (convolutional encoder, recurrent decoder)\n",
    " * Generating [images by captions](https://arxiv.org/abs/1511.02793) (recurrent encoder, convolutional decoder)\n",
    " * Grapheme2phoneme - convert words to transcripts"
   ]
  },
  {
   "cell_type": "markdown",
   "metadata": {},
   "source": [
    "## Our task: machine translation\n",
    "\n",
    "We gonna try our encoder-decoder models on russian to english machine translation problem. More specifically, we'll translate hotel and hostel descriptions. This task shows the scale of machine translation while not requiring you to train your model for weeks if you don't use GPU.\n",
    "\n",
    "Before we get to the architecture, there's some preprocessing to be done. ~~Go tokenize~~ Alright, this time we've done preprocessing for you. As usual, the data will be tokenized with WordPunctTokenizer.\n",
    "\n",
    "However, there's one more thing to do. Our data lines contain unique rare words. If we operate on a word level, we will have to deal with large vocabulary size. If instead we use character-level models, it would take lots of iterations to process a sequence. This time we're gonna pick something inbetween.\n",
    "\n",
    "One popular approach is called [Byte Pair Encoding](https://github.com/rsennrich/subword-nmt) aka __BPE__. The algorithm starts with a character-level tokenization and then iteratively merges most frequent pairs for N iterations. This results in frequent words being merged into a single token and rare words split into syllables or even characters.\n",
    "\n"
   ]
  },
  {
   "cell_type": "code",
   "execution_count": 10,
   "metadata": {},
   "outputs": [],
   "source": [
    "!pip3 install subword-nmt &> log\n",
    "!wget https://github.com/yandexdataschool/nlp_course/raw/62c1410427385336ef2bea74b09cba39c956207d/week4_seq2seq/data.txt -O data/data.txt 2> log\n",
    "!wget https://github.com/yandexdataschool/nlp_course/raw/62c1410427385336ef2bea74b09cba39c956207d/week4_seq2seq/utils.py -O utils.py 2> log\n",
    "!wget https://github.com/yandexdataschool/nlp_course/raw/62c1410427385336ef2bea74b09cba39c956207d/week4_seq2seq/dummy_checkpoint.npz -O data/dummy_checkpoint.npz 2> log\n",
    "#thanks to tilda and deephack teams for the data"
   ]
  },
  {
   "cell_type": "code",
   "execution_count": 1,
   "metadata": {},
   "outputs": [],
   "source": [
    "from nltk.tokenize import WordPunctTokenizer\n",
    "from subword_nmt.learn_bpe import learn_bpe\n",
    "from subword_nmt.apply_bpe import BPE\n",
    "tokenizer = WordPunctTokenizer()\n",
    "def tokenize(x):\n",
    "    return ' '.join(tokenizer.tokenize(x.lower()))\n",
    "\n",
    "default_open = open  # had troubles with encodings\n",
    "def open(*args, **kwargs):\n",
    "    if kwargs.get('encoding') is None:\n",
    "        kwargs['encoding'] = 'utf-8'\n",
    "    return default_open(*args, **kwargs)\n",
    "\n",
    "# split and tokenize the data\n",
    "with open('data/train.en', 'w') as f_src,  open('data/train.ru', 'w') as f_dst:\n",
    "    for line in open('data/data.txt'):\n",
    "        src_line, dst_line = line.strip().split('\\t')\n",
    "        f_src.write(tokenize(src_line) + '\\n')\n",
    "        f_dst.write(tokenize(dst_line) + '\\n')\n",
    "\n",
    "# build and apply bpe vocs\n",
    "bpe = {}\n",
    "for lang in ['en', 'ru']:\n",
    "    learn_bpe(open('data/train.' + lang), open('data/bpe_rules.' + lang, 'w'), num_symbols=8000)\n",
    "    bpe[lang] = BPE(open('data/bpe_rules.' + lang))\n",
    "    \n",
    "    with open('data/train.bpe.' + lang, 'w') as f_out:\n",
    "        for line in open('data/train.' + lang):\n",
    "            f_out.write(bpe[lang].process_line(line.strip()) + '\\n')"
   ]
  },
  {
   "cell_type": "markdown",
   "metadata": {},
   "source": [
    "### Building vocabularies\n",
    "\n",
    "We now need to build vocabularies that map strings to token ids and vice versa. We're gonna need these fellas when we feed training data into model or convert output matrices into words."
   ]
  },
  {
   "cell_type": "code",
   "execution_count": 2,
   "metadata": {},
   "outputs": [],
   "source": [
    "import numpy as np\n",
    "import matplotlib.pyplot as plt\n",
    "%matplotlib inline"
   ]
  },
  {
   "cell_type": "code",
   "execution_count": 4,
   "metadata": {},
   "outputs": [
    {
     "name": "stdout",
     "output_type": "stream",
     "text": [
      "inp: на территории обустроена бесплатная частная парковка .\n",
      "out: free private parking is available on site .\n",
      "\n",
      "inp: кроме того , в 5 минутах ходьбы работают многочисленные бары и рестораны .\n",
      "out: guests can find many bars and restaurants within a 5 - minute walk .\n",
      "\n",
      "inp: отель san mi@@ gu@@ el расположен в центре мор@@ ели@@ и , в 750 метрах от главной площади города и кафедрального собора .\n",
      "out: hotel san miguel is located in central more@@ lia , 750 metres from the city ’ s main square and cathedral .\n",
      "\n"
     ]
    }
   ],
   "source": [
    "data_inp = np.array(open('data/train.bpe.ru').read().split('\\n'))\n",
    "data_out = np.array(open('data/train.bpe.en').read().split('\\n'))\n",
    "\n",
    "from sklearn.model_selection import train_test_split\n",
    "train_inp, dev_inp, train_out, dev_out = train_test_split(data_inp, data_out, test_size=3000,\n",
    "                                                          random_state=42)\n",
    "for i in range(3):\n",
    "    print('inp:', train_inp[i])\n",
    "    print('out:', train_out[i], end='\\n\\n')"
   ]
  },
  {
   "cell_type": "code",
   "execution_count": 5,
   "metadata": {},
   "outputs": [],
   "source": [
    "from utils import Vocab\n",
    "inp_voc = Vocab.from_lines(train_inp)\n",
    "out_voc = Vocab.from_lines(train_out)"
   ]
  },
  {
   "cell_type": "code",
   "execution_count": 6,
   "metadata": {},
   "outputs": [
    {
     "name": "stdout",
     "output_type": "stream",
     "text": [
      "lines\n",
      "['гостевой дом r .', 'до афин — 20 км .', 'работает боулинг .', 'оборудован балкон .', 'подключен wi - fi .']\n",
      "\n",
      "words to ids (0 = bos, 1 = eos):\n",
      "[[   0 2688 2943 1108   29    1    1    1]\n",
      " [   0 2922 1834 8035   59 3800   29    1]\n",
      " [   0 6030 2083   29    1    1    1    1]\n",
      " [   0 4927 1870   29    1    1    1    1]\n",
      " [   0 5549 1453   27  592   29    1    1]]\n",
      "\n",
      "back to words\n",
      "['гостевой дом r .', 'до афин — 20 км .', 'работает боулинг .', 'оборудован балкон .', 'подключен wi - fi .']\n"
     ]
    }
   ],
   "source": [
    "# Here's how you cast lines into ids and backwards.\n",
    "batch_lines = sorted(train_inp, key=len)[5:10]\n",
    "batch_ids = inp_voc.to_matrix(batch_lines)\n",
    "batch_lines_restored = inp_voc.to_lines(batch_ids)\n",
    "\n",
    "print(\"lines\")\n",
    "print(batch_lines)\n",
    "print(\"\\nwords to ids (0 = bos, 1 = eos):\")\n",
    "print(batch_ids)\n",
    "print(\"\\nback to words\")\n",
    "print(batch_lines_restored)"
   ]
  },
  {
   "cell_type": "markdown",
   "metadata": {},
   "source": [
    "Draw source and translation length distributions to estimate the scope of the task."
   ]
  },
  {
   "cell_type": "code",
   "execution_count": 7,
   "metadata": {},
   "outputs": [
    {
     "data": {
      "image/png": "[encoded data removed]",
      "text/plain": [
       "<Figure size 576x288 with 2 Axes>"
      ]
     },
     "metadata": {
      "needs_background": "light"
     },
     "output_type": "display_data"
    }
   ],
   "source": [
    "plt.figure(figsize=[8, 4])\n",
    "plt.subplot(1, 2, 1)\n",
    "plt.title(\"source length\")\n",
    "plt.hist(list(map(len, map(str.split, train_inp))), bins=20);\n",
    "\n",
    "plt.subplot(1, 2, 2)\n",
    "plt.title(\"translation length\")\n",
    "plt.hist(list(map(len, map(str.split, train_out))), bins=20);"
   ]
  },
  {
   "cell_type": "markdown",
   "metadata": {},
   "source": [
    "### Encoder-decoder model\n",
    "\n",
    "The code below contas a template for a simple encoder-decoder model: single GRU encoder/decoder, no attention or anything. This model is implemented for you as a reference and a baseline for your homework assignment."
   ]
  },
  {
   "cell_type": "code",
   "execution_count": 8,
   "metadata": {},
   "outputs": [
    {
     "name": "stderr",
     "output_type": "stream",
     "text": [
      "Using TensorFlow backend.\n"
     ]
    }
   ],
   "source": [
    "import tensorflow as tf\n",
    "import keras.layers as L\n",
    "from utils import infer_length, infer_mask"
   ]
  },
  {
   "cell_type": "code",
   "execution_count": 9,
   "metadata": {},
   "outputs": [],
   "source": [
    "class BasicModel:\n",
    "    def __init__(self, name, inp_voc, out_voc, emb_size=64, hid_size=128):\n",
    "        \"\"\"\n",
    "        A simple encoder-decoder model\n",
    "        \"\"\"\n",
    "        self.name, self.inp_voc, self.out_voc = name, inp_voc, out_voc\n",
    "\n",
    "        with tf.variable_scope(name):\n",
    "            self.emb_inp = L.Embedding(len(inp_voc), emb_size)\n",
    "            self.emb_out = L.Embedding(len(out_voc), emb_size)\n",
    "            self.enc0 = tf.nn.rnn_cell.GRUCell(hid_size)\n",
    "\n",
    "            self.dec_start = L.Dense(hid_size)\n",
    "            self.dec0 = tf.nn.rnn_cell.GRUCell(hid_size)\n",
    "            self.logits = L.Dense(len(out_voc))\n",
    "\n",
    "            # prepare to translate_lines\n",
    "            self.inp = tf.placeholder('int32', [None, None])\n",
    "            self.initial_state = self.prev_state = self.encode(self.inp)\n",
    "            self.prev_tokens = tf.placeholder('int32', [None])\n",
    "            self.next_state, self.next_logits = self.decode(self.prev_state, self.prev_tokens)\n",
    "        \n",
    "        self.weights = tf.get_collection(tf.GraphKeys.TRAINABLE_VARIABLES, scope=name)\n",
    "\n",
    "    def encode(self, inp, **flags):\n",
    "        \"\"\"\n",
    "        Takes symbolic input sequence, computes initial state\n",
    "        :param inp: matrix of input tokens [batch, time]\n",
    "        :returns: initial decoder state tensors, one or many\n",
    "        \"\"\"\n",
    "        inp_lengths = infer_length(inp, self.inp_voc.eos_ix)\n",
    "        inp_emb = self.emb_inp(inp)\n",
    "        with tf.variable_scope('enc0'):\n",
    "            _, enc_last = tf.nn.dynamic_rnn(\n",
    "                              self.enc0, inp_emb,\n",
    "                              sequence_length=inp_lengths,\n",
    "                              dtype = inp_emb.dtype)\n",
    "        dec_start = self.dec_start(enc_last)\n",
    "        return [dec_start]\n",
    "\n",
    "    def decode(self, prev_state, prev_tokens, **flags):\n",
    "        \"\"\"\n",
    "        Takes previous decoder state and tokens, returns new state and logits for next tokens\n",
    "        :param prev_state: a list of previous decoder state tensors\n",
    "        :param prev_tokens: previous output tokens, an int vector of [batch_size]\n",
    "        :return: a list of next decoder state tensors, a tensor of logits [batch, n_tokens]\n",
    "        \"\"\"\n",
    "        [prev_dec] = prev_state\n",
    "        prev_emb = self.emb_out(prev_tokens[:,None])[:,0]\n",
    "        with tf.variable_scope('dec0'):\n",
    "            new_dec_out, new_dec_state = self.dec0(prev_emb, prev_dec)\n",
    "        output_logits = self.logits(new_dec_out)\n",
    "        return [new_dec_state], output_logits\n",
    "\n",
    "    def translate_lines(self, inp_lines, max_len=100):\n",
    "        \"\"\"\n",
    "        Translates a list of lines by greedily selecting most likely next token at each step\n",
    "        :returns: a list of output lines, a sequence of model states at each step\n",
    "        \"\"\"\n",
    "        state = sess.run(self.initial_state, {self.inp: inp_voc.to_matrix(inp_lines)})\n",
    "        outputs = [[self.out_voc.bos_ix] for _ in range(len(inp_lines))]\n",
    "        all_states = [state]\n",
    "        finished = [False] * len(inp_lines)\n",
    "\n",
    "        for t in range(max_len):\n",
    "            state, logits = sess.run([self.next_state, self.next_logits], {**dict(zip(self.prev_state, state)),\n",
    "                                           self.prev_tokens: [out_i[-1] for out_i in outputs]})\n",
    "            next_tokens = np.argmax(logits, axis=-1)\n",
    "            all_states.append(state)\n",
    "            for i in range(len(next_tokens)):\n",
    "                outputs[i].append(next_tokens[i])\n",
    "                finished[i] |= next_tokens[i] == self.out_voc.eos_ix\n",
    "        return out_voc.to_lines(outputs), all_states"
   ]
  },
  {
   "cell_type": "code",
   "execution_count": 10,
   "metadata": {},
   "outputs": [],
   "source": [
    "tf.reset_default_graph()\n",
    "sess = tf.InteractiveSession()\n",
    "# ^^^ if you get \"variable *** already exists\": re-run this cell again - it will clear all tf operations youve 'built\n",
    "\n",
    "model = BasicModel('model', inp_voc, out_voc)\n",
    "sess.run(tf.global_variables_initializer())"
   ]
  },
  {
   "cell_type": "markdown",
   "metadata": {},
   "source": [
    "### Training loss (2 points)\n",
    "\n",
    "Our training objetive is almost the same as it was for neural language models:\n",
    "$$ L = {\\frac1{|D|}} \\sum_{X, Y \\in D} \\sum_{y_t \\in Y} - \\log p(y_t \\mid y_1, \\dots, y_{t-1}, X, \\theta) $$\n",
    "\n",
    "where $|D|$ is the __total length of all sequences__, including BOS and first EOS, but excluding PAD."
   ]
  },
  {
   "cell_type": "code",
   "execution_count": 14,
   "metadata": {},
   "outputs": [],
   "source": [
    "def compute_logits(model, inp, out, **flags):\n",
    "    \"\"\"\n",
    "    :param inp: input tokens matrix, int32[batch, time]\n",
    "    :param out: reference tokens matrix, int32[batch, time]\n",
    "    :returns: logits of shape [batch, time, voc_size]\n",
    "    \n",
    "    * logits must be a linear output of your neural network.\n",
    "    * logits [:, 0, :] should always predic BOS\n",
    "    * logits [:, -1, :] should be probabilities of last token in out\n",
    "    This function should NOT return logits predicted when taking out[:, -1] as y_prev\n",
    "    \"\"\"\n",
    "    batch_size = tf.shape(inp)[0]   \n",
    "    \n",
    "    # Encode inp, get initial state\n",
    "    first_state = model.encode(inp)\n",
    "    \n",
    "    # initial logits: always predict BOS\n",
    "    first_logits = tf.log(tf.one_hot(tf.fill([batch_size], model.out_voc.bos_ix),\n",
    "                                     len(model.out_voc)) + 1e-30)\n",
    "    \n",
    "    # Decode step\n",
    "    def step(prev_state, y_prev):\n",
    "        # Given previous state, obtain next state and next token logits\n",
    "        return [*model.decode(prev_state[0], y_prev)]\n",
    "\n",
    "    # You can now use tf.scan to run step several times.\n",
    "    # use tf.transpose(out) as elems (to process one time-step at a time)\n",
    "    # docs: https://www.tensorflow.org/api_docs/python/tf/scan\n",
    "\n",
    "    states, logits_seq = tf.scan(\n",
    "        step,\n",
    "        elems=tf.transpose(out),\n",
    "        initializer=[first_state, first_logits], \n",
    "    )\n",
    "    \n",
    "    # prepend first_logits to logits_seq\n",
    "    \n",
    "    logits_seq = tf.concat([tf.expand_dims(first_logits, 0), logits_seq[:-1]], axis=0)\n",
    "    # Make sure you convert logits_seq from [time, batch, voc_size] to [batch, time, voc_size]\n",
    "    logits_seq = tf.transpose(logits_seq, [1, 0, 2])\n",
    "    return logits_seq"
   ]
  },
  {
   "cell_type": "code",
   "execution_count": 15,
   "metadata": {},
   "outputs": [],
   "source": [
    "from utils import load\n",
    "load(tf.trainable_variables(), 'data/dummy_checkpoint.npz')\n",
    "dummy_inp = tf.constant(inp_voc.to_matrix(train_inp[:3]))\n",
    "dummy_out = tf.constant(out_voc.to_matrix(train_out[:3]))\n",
    "dummy_logits = sess.run(compute_logits(model, dummy_inp, dummy_out))\n",
    "dummy_ref = np.array([-0.13257082, -0.11084784, -0.09024167, -0.14910498], dtype='float32')\n",
    "assert np.allclose(dummy_logits.sum(-1)[0, 1:5], dummy_ref)\n",
    "ref_shape = (dummy_out.shape[0], dummy_out.shape[1], len(out_voc))\n",
    "assert dummy_logits.shape == ref_shape, \"Your logits shape should be {} but got {}\".format(dummy_logits.shape, ref_shape)\n",
    "assert all(dummy_logits[:, 0].argmax(-1) == out_voc.bos_ix), \"first step must always be BOS\""
   ]
  },
  {
   "cell_type": "code",
   "execution_count": 16,
   "metadata": {
    "scrolled": true
   },
   "outputs": [],
   "source": [
    "from utils import select_values_over_last_axis\n",
    "\n",
    "def compute_loss(model, inp, out, **flags):\n",
    "    \"\"\"\n",
    "    Compute loss (float32 scalar) as in the formula above\n",
    "    :param inp: input tokens matrix, int32[batch, time]\n",
    "    :param out: reference tokens matrix, int32[batch, time]\n",
    "    \n",
    "    In order to pass the tests, your function should\n",
    "    * include loss at first EOS but not the subsequent ones\n",
    "    * divide sum of losses by a sum of input lengths (use infer_length or infer_mask)\n",
    "    \"\"\"\n",
    "    mask = infer_mask(out, out_voc.eos_ix)    \n",
    "    logits_seq = compute_logits(model, inp, out, **flags)\n",
    "    \n",
    "    # Compute loss as per instructions above\n",
    "    \n",
    "    loss = tf.reduce_sum(\n",
    "        tf.boolean_mask(\n",
    "            tf.nn.sparse_softmax_cross_entropy_with_logits(\n",
    "                labels=out,\n",
    "                logits=logits_seq, \n",
    "            ),\n",
    "            mask\n",
    "    )) / tf.reduce_sum(mask)\n",
    "    \n",
    "    return loss"
   ]
  },
  {
   "cell_type": "code",
   "execution_count": 17,
   "metadata": {},
   "outputs": [
    {
     "name": "stdout",
     "output_type": "stream",
     "text": [
      "Loss: 8.424398\n"
     ]
    }
   ],
   "source": [
    "dummy_loss = sess.run(compute_loss(model, dummy_inp, dummy_out))\n",
    "print(\"Loss:\", dummy_loss)\n",
    "assert np.allclose(dummy_loss, 8.425, rtol=0.1, atol=0.1), \"We're sorry for your loss\""
   ]
  },
  {
   "cell_type": "markdown",
   "metadata": {},
   "source": [
    "### Evaluation: BLEU\n",
    "\n",
    "Machine translation is commonly evaluated with [BLEU](https://en.wikipedia.org/wiki/BLEU) score. This metric simply computes which fraction of predicted n-grams is actually present in the reference translation. It does so for n=1,2,3 and 4 and computes the geometric average with penalty if translation is shorter than reference.\n",
    "\n",
    "While BLEU [has many drawbacks](http://www.cs.jhu.edu/~ccb/publications/re-evaluating-the-role-of-bleu-in-mt-research.pdf), it still remains the most commonly used metric and one of the simplest to compute.\n",
    "__Note:__ in this assignment we measure token-level bleu with bpe tokens. Most scientific papers report word-level bleu. You can measure it by undoing BPE encoding before computing BLEU. Please stay with the token-level bleu for this assignment, however.\n"
   ]
  },
  {
   "cell_type": "code",
   "execution_count": 18,
   "metadata": {},
   "outputs": [],
   "source": [
    "from nltk.translate.bleu_score import corpus_bleu\n",
    "def compute_bleu(model, inp_lines, out_lines, **flags):\n",
    "    \"\"\" Estimates corpora-level BLEU score of model's translations given inp and reference out \"\"\"\n",
    "    translations, _ = model.translate_lines(inp_lines, **flags)\n",
    "    # Note: if you experience out-of-memory error, split input lines into batches and translate separately\n",
    "    return corpus_bleu([[ref] for ref in out_lines], translations) * 100"
   ]
  },
  {
   "cell_type": "code",
   "execution_count": 19,
   "metadata": {},
   "outputs": [
    {
     "data": {
      "text/plain": [
       "4.764888431368293"
      ]
     },
     "execution_count": 19,
     "metadata": {},
     "output_type": "execute_result"
    }
   ],
   "source": [
    "compute_bleu(model, dev_inp, dev_out)"
   ]
  },
  {
   "cell_type": "markdown",
   "metadata": {},
   "source": [
    "### Training loop\n",
    "\n",
    "Training encoder-decoder models isn't that different from any other models: sample batches, compute loss, backprop and update"
   ]
  },
  {
   "cell_type": "code",
   "execution_count": 20,
   "metadata": {},
   "outputs": [
    {
     "name": "stderr",
     "output_type": "stream",
     "text": [
      "/home/andanilov/venv/lib/python3.6/site-packages/tensorflow/python/ops/gradients_impl.py:112: UserWarning: Converting sparse IndexedSlices to a dense Tensor of unknown shape. This may consume a large amount of memory.\n",
      "  \"Converting sparse IndexedSlices to a dense Tensor of unknown shape. \"\n"
     ]
    }
   ],
   "source": [
    "inp = tf.placeholder('int32', [None, None])\n",
    "out = tf.placeholder('int32', [None, None])\n",
    "\n",
    "loss = compute_loss(model, inp, out)\n",
    "\n",
    "train_step = tf.train.AdamOptimizer().minimize(loss)"
   ]
  },
  {
   "cell_type": "code",
   "execution_count": 21,
   "metadata": {
    "scrolled": false
   },
   "outputs": [],
   "source": [
    "from IPython.display import clear_output\n",
    "from tqdm import tqdm, trange\n",
    "metrics = {'train_loss': [], 'dev_bleu': [] }\n",
    "\n",
    "sess.run(tf.global_variables_initializer())\n",
    "batch_size = 32"
   ]
  },
  {
   "cell_type": "code",
   "execution_count": 24,
   "metadata": {},
   "outputs": [],
   "source": [
    "# too much time is spending on drawing plots, so lets sparse plot data\n",
    "\n",
    "def get_data_for_plot(data, num_dots=100, tail=0.1):\n",
    "    tail = int(tail * num_dots)\n",
    "    if len(data) < num_dots:\n",
    "        plt_data = data\n",
    "    else:\n",
    "        plt_data = np.empty(num_dots)\n",
    "        plt_data[-tail:] = data[-tail:]\n",
    "        borders = np.array(np.round(np.linspace(0, len(data) - tail, num_dots - tail + 1)), dtype=np.int)\n",
    "        for i in range(len(borders) - 1):\n",
    "            plt_data[i] = np.mean(data[borders[i]:borders[i + 1]])\n",
    "    return plt_data\n",
    "\n",
    "\n",
    "def plot(metrics):  \n",
    "    clear_output(True)\n",
    "    plt.figure(figsize=(12,4))\n",
    "    for i, (name, history) in enumerate(sorted(metrics.items())):\n",
    "        plt.subplot(1, len(metrics), i + 1)\n",
    "        plt.title(name)\n",
    "        if len(history) < 100:\n",
    "            plt.plot(*zip(*history))\n",
    "        else:\n",
    "            plt_y, plt_x = zip(*history)\n",
    "            plt_y = get_data_for_plot(plt_y)\n",
    "            plt_x = get_data_for_plot(plt_x)\n",
    "            plt.plot(plt_y, plt_x)\n",
    "        plt.grid()\n",
    "    plt.show()\n",
    "    print(\"Mean loss=%.3f\" % np.mean(metrics['train_loss'][-10:], axis=0)[1], flush=True)"
   ]
  },
  {
   "cell_type": "code",
   "execution_count": 25,
   "metadata": {
    "scrolled": true
   },
   "outputs": [
    {
     "data": {
      "image/png": "[encoded data removed]",
      "text/plain": [
       "<Figure size 864x288 with 2 Axes>"
      ]
     },
     "metadata": {
      "needs_background": "light"
     },
     "output_type": "display_data"
    },
    {
     "name": "stdout",
     "output_type": "stream",
     "text": [
      "Mean loss=1.684\n"
     ]
    },
    {
     "name": "stderr",
     "output_type": "stream",
     "text": [
      "100%|██████████| 25000/25000 [2:33:45<00:00,  3.02s/it]\n"
     ]
    }
   ],
   "source": [
    "for _ in trange(25000):\n",
    "    step = len(metrics['train_loss']) + 1\n",
    "    batch_ix = np.random.randint(len(train_inp), size=batch_size)\n",
    "    feed_dict = {\n",
    "        inp: inp_voc.to_matrix(train_inp[batch_ix]),\n",
    "        out: out_voc.to_matrix(train_out[batch_ix]),\n",
    "    }\n",
    "    \n",
    "    loss_t, _ = sess.run([loss, train_step], feed_dict)\n",
    "    metrics['train_loss'].append((step, loss_t))\n",
    "    \n",
    "    if step % 100 == 0:\n",
    "        metrics['dev_bleu'].append((step, compute_bleu(model, dev_inp, dev_out)))\n",
    "        plot(metrics)\n",
    "        \n",
    "        \n",
    "# Note: it's okay if bleu oscillates up and down as long as it gets better on average over long term (e.g. 5k batches)"
   ]
  },
  {
   "cell_type": "code",
   "execution_count": 26,
   "metadata": {},
   "outputs": [],
   "source": [
    "assert np.mean(metrics['dev_bleu'][-10:], axis=0)[1] > 35, \"We kind of need a higher bleu BLEU from you. Kind of right now.\""
   ]
  },
  {
   "cell_type": "code",
   "execution_count": 27,
   "metadata": {},
   "outputs": [
    {
     "name": "stdout",
     "output_type": "stream",
     "text": [
      "в распоряжении гостей общая кухня и общая гостиная .\n",
      "the hostel has a shared kitchen and a shared kitchen .\n",
      "\n",
      "кроме того , предоставляется прокат велосипедов , услуги трансфера и бесплатная парковка .\n",
      "car rentals and bike rental can be arranged on site .\n",
      "\n",
      "расстояние до города ки@@ сси@@ м@@ ми составляет 26 км .\n",
      "the pet - friendly border is 28 km from the b & b .\n",
      "\n",
      "апартаменты в пент@@ хаусе с общим открытым бассейном , садом , кондиционером и террасой для загара расположены в 5 минутах ходьбы от пляжа на курорте ка@@ бо - рой .\n",
      "offering a garden and a garden , cabañas valle is located in the centre of cor@@ a , a 5 - minute walk from the beach and beach .\n",
      "\n",
      "апартаменты mo@@ s@@ co@@ w point - loft red square находятся в москве , в 200 метрах от большого театра .\n",
      "centrally located in nevsky prospekt , the apartment is a self - catering accommodation located in tbilisi , 400 metres from nevsky prospekt metro station .\n",
      "\n",
      "в вашем распоряжении собственная ванная комната с душем и полотенцами .\n",
      "featuring a shower , private bathrooms also come with towels .\n",
      "\n"
     ]
    }
   ],
   "source": [
    "for inp_line, trans_line in zip(dev_inp[::500], model.translate_lines(dev_inp[::500])[0]):\n",
    "    print(inp_line)\n",
    "    print(trans_line)\n",
    "    print()"
   ]
  },
  {
   "cell_type": "markdown",
   "metadata": {},
   "source": [
    "### Your Attention Required (4 points)\n",
    "\n",
    "In this section we want you to improve over the basic model by implementing a simple attention mechanism.\n",
    "\n",
    "This is gonna be a two-parter: building the __attention layer__ and using it for an __attentive seq2seq model__."
   ]
  },
  {
   "cell_type": "markdown",
   "metadata": {},
   "source": [
    "### Attention layer\n",
    "\n",
    "Here you will have to implement a layer that computes a simple additive attention:\n",
    "\n",
    "Given encoder sequence $ h^e_0, h^e_1, h^e_2, ..., h^e_T$ and a single decoder state $h^d$,\n",
    "\n",
    "* Compute logits with a 2-layer neural network\n",
    "$$a_t = linear_{out}(tanh(linear_{e}(h^e_t) + linear_{d}(h_d)))$$\n",
    "* Get probabilities from logits, \n",
    "$$ p_t = {{e ^ {a_t}} \\over { \\sum_\\tau e^{a_\\tau} }} $$\n",
    "\n",
    "* Add up encoder states with probabilities to get __attention response__\n",
    "$$ attn = \\sum_t p_t \\cdot h^e_t $$\n",
    "\n",
    "You can learn more about attention layers in the leture slides or [from this post](https://distill.pub/2016/augmented-rnns/)."
   ]
  },
  {
   "cell_type": "code",
   "execution_count": 28,
   "metadata": {},
   "outputs": [],
   "source": [
    "class AttentionLayer:\n",
    "    def __init__(self, name, enc_size, dec_size, hid_size, activ=tf.tanh,):\n",
    "        \"\"\" A layer that computes additive attention response and weights \"\"\"\n",
    "        self.name = name\n",
    "        self.enc_size = enc_size # num units in encoder state\n",
    "        self.dec_size = dec_size # num units in decoder state\n",
    "        self.hid_size = hid_size # attention layer hidden units\n",
    "        self.activ = activ       # attention layer hidden nonlinearity\n",
    "\n",
    "        with tf.variable_scope(name):\n",
    "            # YOUR CODE - create layer variables\n",
    "            self.linear_e = tf.Variable(initial_value=tf.random_normal([hid_size, enc_size]))\n",
    "            self.linear_d = tf.Variable(initial_value=tf.random_normal([hid_size, dec_size]))\n",
    "            self.linear_out = tf.Variable(initial_value=tf.random_normal([hid_size]))\n",
    "\n",
    "    def __call__(self, enc, dec, inp_mask):\n",
    "        \"\"\"\n",
    "        Computes attention response and weights\n",
    "        :param enc: encoder activation sequence, float32[batch_size, ninp, enc_size]\n",
    "        :param dec: single decoder state used as \"query\", float32[batch_size, dec_size]\n",
    "        :param inp_mask: mask on enc activatons (0 after first eos), float32 [batch_size, ninp]\n",
    "        :returns: attn[batch_size, enc_size], probs[batch_size, ninp]\n",
    "            - attn - attention response vector (weighted sum of enc)\n",
    "            - probs - attention weights after softmax\n",
    "        \"\"\"\n",
    "        with tf.variable_scope(self.name):\n",
    "            \n",
    "            # Compute logits\n",
    "            def nn(enc):\n",
    "                return tf.tensordot(self.linear_out, self.activ(self.linear_e @ enc + \n",
    "                                                    self.linear_d @ tf.transpose(dec)), axes=1)\n",
    "            logits = tf.map_fn(nn, tf.transpose(enc, [1, 2, 0]))\n",
    "            # Apply mask - if mask is 0, logits should be -inf or -1e9\n",
    "            # You may need tf.where\n",
    "            with tf.variable_scope('mask'):\n",
    "                logits =  tf.transpose(logits) - (1 - inp_mask)*1e9\n",
    "            \n",
    "            # Compute attention probabilities (softmax)\n",
    "            probs = tf.nn.softmax(logits)\n",
    "            # Compute attention response using enc and probs\n",
    "            attn = tf.reduce_sum(tf.expand_dims(probs, 2) * enc, axis=1)\n",
    "            \n",
    "            return attn, probs"
   ]
  },
  {
   "cell_type": "markdown",
   "metadata": {},
   "source": [
    "### Seq2seq model with attention\n",
    "\n",
    "You can now use the attention layer to build a network. The simplest way to implement attention is to use it in decoder phase:\n",
    "![img](https://i.imgur.com/6fKHlHb.png)\n",
    "_image from distill.pub [article](https://distill.pub/2016/augmented-rnns/)_\n",
    "\n",
    "On every step, use __previous__ decoder state to obtain attention response. Then feed concat this response to the inputs of next attetion layer.\n",
    "\n",
    "The key implementation detail here is __model state__. Put simply, you can add any tensor into the list of `encode` outputs. You will then have access to them at each `decode` step. This may include:\n",
    "* Last RNN hidden states (as in basic model)\n",
    "* The whole sequence of encoder outputs (to attend to) and mask\n",
    "* Attention probabilities (to visualize)\n",
    "\n",
    "_There are, of course, alternative ways to wire attention into your network and different kinds of attention. Take a look at [this](https://arxiv.org/abs/1609.08144), [this](https://arxiv.org/abs/1706.03762) and [this](https://arxiv.org/abs/1808.03867) for ideas. And for image captioning/im2latex there's [visual attention](https://arxiv.org/abs/1502.03044)_"
   ]
  },
  {
   "cell_type": "code",
   "execution_count": 29,
   "metadata": {},
   "outputs": [],
   "source": [
    "class AttentiveModel(BasicModel):\n",
    "    def __init__(self, name, inp_voc, out_voc,\n",
    "                 emb_size=64, hid_size=128, attn_size=128):\n",
    "        \"\"\" Translation model that uses attention. See instructions above. \"\"\"\n",
    "        self.name = name\n",
    "        self.inp_voc = inp_voc\n",
    "        self.out_voc = out_voc\n",
    "\n",
    "        with tf.variable_scope(name):\n",
    "            \n",
    "            # YOUR CODE - define model layers            \n",
    "            self.emb_inp = L.Embedding(len(inp_voc), emb_size)\n",
    "            self.emb_out = L.Embedding(len(out_voc), emb_size)\n",
    "            self.enc0 = tf.nn.rnn_cell.GRUCell(hid_size)\n",
    "\n",
    "            self.dec_start = L.Dense(hid_size)\n",
    "            self.dec0 = tf.nn.rnn_cell.GRUCell(hid_size)\n",
    "            self.logits = L.Dense(len(out_voc))\n",
    "            \n",
    "            self.attention = AttentionLayer('Attention', hid_size, hid_size, hid_size)\n",
    "            \n",
    "            # END OF YOUR CODE\n",
    "            \n",
    "            # prepare to translate_lines\n",
    "            self.inp = tf.placeholder('int32', [None, None])\n",
    "            self.initial_state = self.prev_state = self.encode(self.inp)\n",
    "            self.prev_tokens = tf.placeholder('int32', [None])\n",
    "            self.next_state, self.next_logits = self.decode(self.prev_state, self.prev_tokens)\n",
    "\n",
    "        self.weights = tf.get_collection(tf.GraphKeys.TRAINABLE_VARIABLES, scope=name)\n",
    "\n",
    "    def encode(self, inp, **flags):\n",
    "        \"\"\"\n",
    "        Takes symbolic input sequence, computes initial state\n",
    "        :param inp: matrix of input tokens [batch, time]\n",
    "        :return: a list of initial decoder state tensors\n",
    "        \"\"\"\n",
    "        \n",
    "        # encode input sequence, create initial decoder states\n",
    "        \n",
    "        inp_lengths = infer_length(inp, self.inp_voc.eos_ix)\n",
    "        inp_emb = self.emb_inp(inp)\n",
    "        with tf.variable_scope('enc0'):\n",
    "            enc_states, enc_last = tf.nn.dynamic_rnn(\n",
    "                              self.enc0, inp_emb,\n",
    "                              sequence_length=inp_lengths,\n",
    "                              dtype = inp_emb.dtype)\n",
    "        dec_start = self.dec_start(enc_last)\n",
    "        \n",
    "        # apply attention layer from initial decoder hidden state\n",
    "        mask = infer_mask(inp, inp_voc.eos_ix)\n",
    "        _, first_attn_probas = self.attention(enc_states, dec_start, mask)\n",
    "        \n",
    "        # Build first state: include\n",
    "        # * initial states for decoder recurrent layers\n",
    "        # * encoder sequence and encoder attn mask (for attention)\n",
    "        # * make sure that last state item is attention probabilities tensor\n",
    "        first_state = [dec_start, enc_states, mask, first_attn_probas]\n",
    "        return first_state\n",
    "\n",
    "    def decode(self, prev_state, prev_tokens, **flags):\n",
    "        \"\"\"\n",
    "        Takes previous decoder state and tokens, returns new state and logits\n",
    "        :param prev_state: a list of previous decoder state tensors\n",
    "        :param prev_tokens: previous output tokens, an int vector of [batch_size]\n",
    "        :return: a list of next decoder state tensors, a tensor of logits [batch,n_tokens]\n",
    "        \"\"\"\n",
    "        # Unpack your state: you will get tensors in the same order that you've packed in encode\n",
    "        [dec_state, enc_states, mask, prev_attn_probas] = prev_state\n",
    "        \n",
    "        \n",
    "        # Perform decoder step\n",
    "        # * predict next attn response and attn probas given previous decoder state\n",
    "        # * use prev token embedding and attn response to update decoder states (concatenate and feed into decoder cell)\n",
    "        # * predict logits\n",
    "        \n",
    "        next_attn_response, next_attn_probas = self.attention(enc_states, dec_state, mask)\n",
    "\n",
    "        prev_emb = self.emb_out(prev_tokens[:,None])[:,0]\n",
    "        with tf.variable_scope('dec0'):\n",
    "            conc = tf.concat([next_attn_response, prev_emb], -1, name='CONCATTT')\n",
    "            new_dec_out, new_dec_state = self.dec0(conc, dec_state)\n",
    "        output_logits = self.logits(new_dec_out)\n",
    "        # Pack new state:\n",
    "        # * replace previous decoder state with next one\n",
    "        # * copy encoder sequence and mask from prev_state\n",
    "        # * append new attention probas\n",
    "        next_state = [new_dec_state, enc_states, mask, next_attn_probas]\n",
    "        return next_state, output_logits\n"
   ]
  },
  {
   "cell_type": "code",
   "execution_count": 30,
   "metadata": {
    "scrolled": false
   },
   "outputs": [
    {
     "name": "stderr",
     "output_type": "stream",
     "text": [
      "/home/andanilov/venv/lib/python3.6/site-packages/tensorflow/python/client/session.py:1702: UserWarning: An interactive session is already active. This can cause out-of-memory errors in some cases. You must explicitly call `InteractiveSession.close()` to release resources held by the other session(s).\n",
      "  warnings.warn('An interactive session is already active. This can '\n"
     ]
    }
   ],
   "source": [
    "# WARNING! this cell will clear your TF graph from the regular model. All trained variables will be gone!\n",
    "tf.reset_default_graph()\n",
    "sess = tf.InteractiveSession()\n",
    "model = AttentiveModel('model_attn', inp_voc, out_voc)"
   ]
  },
  {
   "cell_type": "markdown",
   "metadata": {},
   "source": [
    "### Training attentive model\n",
    "\n",
    "We'll reuse the infrastructure you've built for the regular model. I hope you didn't hard-code anything :)"
   ]
  },
  {
   "cell_type": "code",
   "execution_count": 31,
   "metadata": {},
   "outputs": [
    {
     "name": "stderr",
     "output_type": "stream",
     "text": [
      "/home/andanilov/venv/lib/python3.6/site-packages/tensorflow/python/ops/gradients_impl.py:112: UserWarning: Converting sparse IndexedSlices to a dense Tensor of unknown shape. This may consume a large amount of memory.\n",
      "  \"Converting sparse IndexedSlices to a dense Tensor of unknown shape. \"\n"
     ]
    }
   ],
   "source": [
    "inp = tf.placeholder('int32', [None, None])\n",
    "out = tf.placeholder('int32', [None, None])\n",
    "\n",
    "loss = compute_loss(model, inp, out)\n",
    "train_step = tf.train.AdamOptimizer().minimize(loss)"
   ]
  },
  {
   "cell_type": "code",
   "execution_count": 32,
   "metadata": {},
   "outputs": [],
   "source": [
    "metrics = {'train_loss': [], 'dev_bleu': []}\n",
    "sess.run(tf.global_variables_initializer())\n",
    "batch_size = 32"
   ]
  },
  {
   "cell_type": "code",
   "execution_count": null,
   "metadata": {
    "scrolled": false
   },
   "outputs": [
    {
     "data": {
      "image/png": "[encoded data removed]",
      "text/plain": [
       "<Figure size 864x288 with 2 Axes>"
      ]
     },
     "metadata": {
      "needs_background": "light"
     },
     "output_type": "display_data"
    },
    {
     "name": "stdout",
     "output_type": "stream",
     "text": [
      "Mean loss=1.522\n"
     ]
    },
    {
     "name": "stderr",
     "output_type": "stream",
     "text": [
      " 99%|█████████▊| 24668/25000 [13:34:19<06:32,  1.18s/it]  IOPub message rate exceeded.\n",
      "The notebook server will temporarily stop sending output\n",
      "to the client in order to avoid crashing it.\n",
      "To change this limit, set the config variable\n",
      "`--NotebookApp.iopub_msg_rate_limit`.\n",
      "\n",
      "Current values:\n",
      "NotebookApp.iopub_msg_rate_limit=1000.0 (msgs/sec)\n",
      "NotebookApp.rate_limit_window=3.0 (secs)\n",
      "\n"
     ]
    }
   ],
   "source": [
    "for _ in trange(25000):\n",
    "    step = len(metrics['train_loss']) + 1\n",
    "    batch_ix = np.random.randint(len(train_inp), size=batch_size)\n",
    "    feed_dict = {\n",
    "        inp: inp_voc.to_matrix(train_inp[batch_ix]),\n",
    "        out: out_voc.to_matrix(train_out[batch_ix]),\n",
    "    }\n",
    "    \n",
    "    loss_t, _ = sess.run([loss, train_step], feed_dict)\n",
    "    metrics['train_loss'].append((step, loss_t))\n",
    "    \n",
    "    if step % 100 == 0:\n",
    "        metrics['dev_bleu'].append((step, compute_bleu(model, dev_inp, dev_out)))\n",
    "        plot(metrics)\n",
    "\n",
    "# Your model may train slower than the basic one. check that it's at least >30 bleu by 5k steps\n",
    "# Also: you don't have to train for 25k steps. It was chosen by a squirrel."
   ]
  },
  {
   "cell_type": "code",
   "execution_count": 35,
   "metadata": {},
   "outputs": [],
   "source": [
    "assert np.mean(metrics['dev_bleu'][-10:], axis=0)[1] > 45, \"Something might be wrong with the model...\""
   ]
  },
  {
   "cell_type": "code",
   "execution_count": 38,
   "metadata": {},
   "outputs": [
    {
     "data": {
      "text/html": [
       "\n",
       "    <div class=\"bk-root\">\n",
       "        <a href=\"https://bokeh.pydata.org\" target=\"_blank\" class=\"bk-logo bk-logo-small bk-logo-notebook\"></a>\n",
       "        <span id=\"1001\">Loading BokehJS ...</span>\n",
       "    </div>"
      ]
     },
     "metadata": {},
     "output_type": "display_data"
    },
    {
     "data": {
      "application/javascript": [
       "\n",
       "(function(root) {\n",
       "  function now() {\n",
       "    return new Date();\n",
       "  }\n",
       "\n",
       "  var force = true;\n",
       "\n",
       "  if (typeof (root._bokeh_onload_callbacks) === \"undefined\" || force === true) {\n",
       "    root._bokeh_onload_callbacks = [];\n",
       "    root._bokeh_is_loading = undefined;\n",
       "  }\n",
       "\n",
       "  var JS_MIME_TYPE = 'application/javascript';\n",
       "  var HTML_MIME_TYPE = 'text/html';\n",
       "  var EXEC_MIME_TYPE = 'application/vnd.bokehjs_exec.v0+json';\n",
       "  var CLASS_NAME = 'output_bokeh rendered_html';\n",
       "\n",
       "  /**\n",
       "   * Render data to the DOM node\n",
       "   */\n",
       "  function render(props, node) {\n",
       "    var script = document.createElement(\"script\");\n",
       "    node.appendChild(script);\n",
       "  }\n",
       "\n",
       "  /**\n",
       "   * Handle when an output is cleared or removed\n",
       "   */\n",
       "  function handleClearOutput(event, handle) {\n",
       "    var cell = handle.cell;\n",
       "\n",
       "    var id = cell.output_area._bokeh_element_id;\n",
       "    var server_id = cell.output_area._bokeh_server_id;\n",
       "    // Clean up Bokeh references\n",
       "    if (id != null && id in Bokeh.index) {\n",
       "      Bokeh.index[id].model.document.clear();\n",
       "      delete Bokeh.index[id];\n",
       "    }\n",
       "\n",
       "    if (server_id !== undefined) {\n",
       "      // Clean up Bokeh references\n",
       "      var cmd = \"from bokeh.io.state import curstate; print(curstate().uuid_to_server['\" + server_id + \"'].get_sessions()[0].document.roots[0]._id)\";\n",
       "      cell.notebook.kernel.execute(cmd, {\n",
       "        iopub: {\n",
       "          output: function(msg) {\n",
       "            var id = msg.content.text.trim();\n",
       "            if (id in Bokeh.index) {\n",
       "              Bokeh.index[id].model.document.clear();\n",
       "              delete Bokeh.index[id];\n",
       "            }\n",
       "          }\n",
       "        }\n",
       "      });\n",
       "      // Destroy server and session\n",
       "      var cmd = \"import bokeh.io.notebook as ion; ion.destroy_server('\" + server_id + \"')\";\n",
       "      cell.notebook.kernel.execute(cmd);\n",
       "    }\n",
       "  }\n",
       "\n",
       "  /**\n",
       "   * Handle when a new output is added\n",
       "   */\n",
       "  function handleAddOutput(event, handle) {\n",
       "    var output_area = handle.output_area;\n",
       "    var output = handle.output;\n",
       "\n",
       "    // limit handleAddOutput to display_data with EXEC_MIME_TYPE content only\n",
       "    if ((output.output_type != \"display_data\") || (!output.data.hasOwnProperty(EXEC_MIME_TYPE))) {\n",
       "      return\n",
       "    }\n",
       "\n",
       "    var toinsert = output_area.element.find(\".\" + CLASS_NAME.split(' ')[0]);\n",
       "\n",
       "    if (output.metadata[EXEC_MIME_TYPE][\"id\"] !== undefined) {\n",
       "      toinsert[toinsert.length - 1].firstChild.textContent = output.data[JS_MIME_TYPE];\n",
       "      // store reference to embed id on output_area\n",
       "      output_area._bokeh_element_id = output.metadata[EXEC_MIME_TYPE][\"id\"];\n",
       "    }\n",
       "    if (output.metadata[EXEC_MIME_TYPE][\"server_id\"] !== undefined) {\n",
       "      var bk_div = document.createElement(\"div\");\n",
       "      bk_div.innerHTML = output.data[HTML_MIME_TYPE];\n",
       "      var script_attrs = bk_div.children[0].attributes;\n",
       "      for (var i = 0; i < script_attrs.length; i++) {\n",
       "        toinsert[toinsert.length - 1].firstChild.setAttribute(script_attrs[i].name, script_attrs[i].value);\n",
       "      }\n",
       "      // store reference to server id on output_area\n",
       "      output_area._bokeh_server_id = output.metadata[EXEC_MIME_TYPE][\"server_id\"];\n",
       "    }\n",
       "  }\n",
       "\n",
       "  function register_renderer(events, OutputArea) {\n",
       "\n",
       "    function append_mime(data, metadata, element) {\n",
       "      // create a DOM node to render to\n",
       "      var toinsert = this.create_output_subarea(\n",
       "        metadata,\n",
       "        CLASS_NAME,\n",
       "        EXEC_MIME_TYPE\n",
       "      );\n",
       "      this.keyboard_manager.register_events(toinsert);\n",
       "      // Render to node\n",
       "      var props = {data: data, metadata: metadata[EXEC_MIME_TYPE]};\n",
       "      render(props, toinsert[toinsert.length - 1]);\n",
       "      element.append(toinsert);\n",
       "      return toinsert\n",
       "    }\n",
       "\n",
       "    /* Handle when an output is cleared or removed */\n",
       "    events.on('clear_output.CodeCell', handleClearOutput);\n",
       "    events.on('delete.Cell', handleClearOutput);\n",
       "\n",
       "    /* Handle when a new output is added */\n",
       "    events.on('output_added.OutputArea', handleAddOutput);\n",
       "\n",
       "    /**\n",
       "     * Register the mime type and append_mime function with output_area\n",
       "     */\n",
       "    OutputArea.prototype.register_mime_type(EXEC_MIME_TYPE, append_mime, {\n",
       "      /* Is output safe? */\n",
       "      safe: true,\n",
       "      /* Index of renderer in `output_area.display_order` */\n",
       "      index: 0\n",
       "    });\n",
       "  }\n",
       "\n",
       "  // register the mime type if in Jupyter Notebook environment and previously unregistered\n",
       "  if (root.Jupyter !== undefined) {\n",
       "    var events = require('base/js/events');\n",
       "    var OutputArea = require('notebook/js/outputarea').OutputArea;\n",
       "\n",
       "    if (OutputArea.prototype.mime_types().indexOf(EXEC_MIME_TYPE) == -1) {\n",
       "      register_renderer(events, OutputArea);\n",
       "    }\n",
       "  }\n",
       "\n",
       "  \n",
       "  if (typeof (root._bokeh_timeout) === \"undefined\" || force === true) {\n",
       "    root._bokeh_timeout = Date.now() + 5000;\n",
       "    root._bokeh_failed_load = false;\n",
       "  }\n",
       "\n",
       "  var NB_LOAD_WARNING = {'data': {'text/html':\n",
       "     \"<div style='background-color: #fdd'>\\n\"+\n",
       "     \"<p>\\n\"+\n",
       "     \"BokehJS does not appear to have successfully loaded. If loading BokehJS from CDN, this \\n\"+\n",
       "     \"may be due to a slow or bad network connection. Possible fixes:\\n\"+\n",
       "     \"</p>\\n\"+\n",
       "     \"<ul>\\n\"+\n",
       "     \"<li>re-rerun `output_notebook()` to attempt to load from CDN again, or</li>\\n\"+\n",
       "     \"<li>use INLINE resources instead, as so:</li>\\n\"+\n",
       "     \"</ul>\\n\"+\n",
       "     \"<code>\\n\"+\n",
       "     \"from bokeh.resources import INLINE\\n\"+\n",
       "     \"output_notebook(resources=INLINE)\\n\"+\n",
       "     \"</code>\\n\"+\n",
       "     \"</div>\"}};\n",
       "\n",
       "  function display_loaded() {\n",
       "    var el = document.getElementById(\"1001\");\n",
       "    if (el != null) {\n",
       "      el.textContent = \"BokehJS is loading...\";\n",
       "    }\n",
       "    if (root.Bokeh !== undefined) {\n",
       "      if (el != null) {\n",
       "        el.textContent = \"BokehJS \" + root.Bokeh.version + \" successfully loaded.\";\n",
       "      }\n",
       "    } else if (Date.now() < root._bokeh_timeout) {\n",
       "      setTimeout(display_loaded, 100)\n",
       "    }\n",
       "  }\n",
       "\n",
       "\n",
       "  function run_callbacks() {\n",
       "    try {\n",
       "      root._bokeh_onload_callbacks.forEach(function(callback) { callback() });\n",
       "    }\n",
       "    finally {\n",
       "      delete root._bokeh_onload_callbacks\n",
       "    }\n",
       "    console.info(\"Bokeh: all callbacks have finished\");\n",
       "  }\n",
       "\n",
       "  function load_libs(js_urls, callback) {\n",
       "    root._bokeh_onload_callbacks.push(callback);\n",
       "    if (root._bokeh_is_loading > 0) {\n",
       "      console.log(\"Bokeh: BokehJS is being loaded, scheduling callback at\", now());\n",
       "      return null;\n",
       "    }\n",
       "    if (js_urls == null || js_urls.length === 0) {\n",
       "      run_callbacks();\n",
       "      return null;\n",
       "    }\n",
       "    console.log(\"Bokeh: BokehJS not loaded, scheduling load and callback at\", now());\n",
       "    root._bokeh_is_loading = js_urls.length;\n",
       "    for (var i = 0; i < js_urls.length; i++) {\n",
       "      var url = js_urls[i];\n",
       "      var s = document.createElement('script');\n",
       "      s.src = url;\n",
       "      s.async = false;\n",
       "      s.onreadystatechange = s.onload = function() {\n",
       "        root._bokeh_is_loading--;\n",
       "        if (root._bokeh_is_loading === 0) {\n",
       "          console.log(\"Bokeh: all BokehJS libraries loaded\");\n",
       "          run_callbacks()\n",
       "        }\n",
       "      };\n",
       "      s.onerror = function() {\n",
       "        console.warn(\"failed to load library \" + url);\n",
       "      };\n",
       "      console.log(\"Bokeh: injecting script tag for BokehJS library: \", url);\n",
       "      document.getElementsByTagName(\"head\")[0].appendChild(s);\n",
       "    }\n",
       "  };var element = document.getElementById(\"1001\");\n",
       "  if (element == null) {\n",
       "    console.log(\"Bokeh: ERROR: autoload.js configured with elementid '1001' but no matching script tag was found. \")\n",
       "    return false;\n",
       "  }\n",
       "\n",
       "  var js_urls = [\"https://cdn.pydata.org/bokeh/release/bokeh-1.0.2.min.js\", \"https://cdn.pydata.org/bokeh/release/bokeh-widgets-1.0.2.min.js\", \"https://cdn.pydata.org/bokeh/release/bokeh-tables-1.0.2.min.js\", \"https://cdn.pydata.org/bokeh/release/bokeh-gl-1.0.2.min.js\"];\n",
       "\n",
       "  var inline_js = [\n",
       "    function(Bokeh) {\n",
       "      Bokeh.set_log_level(\"info\");\n",
       "    },\n",
       "    \n",
       "    function(Bokeh) {\n",
       "      \n",
       "    },\n",
       "    function(Bokeh) {\n",
       "      console.log(\"Bokeh: injecting CSS: https://cdn.pydata.org/bokeh/release/bokeh-1.0.2.min.css\");\n",
       "      Bokeh.embed.inject_css(\"https://cdn.pydata.org/bokeh/release/bokeh-1.0.2.min.css\");\n",
       "      console.log(\"Bokeh: injecting CSS: https://cdn.pydata.org/bokeh/release/bokeh-widgets-1.0.2.min.css\");\n",
       "      Bokeh.embed.inject_css(\"https://cdn.pydata.org/bokeh/release/bokeh-widgets-1.0.2.min.css\");\n",
       "      console.log(\"Bokeh: injecting CSS: https://cdn.pydata.org/bokeh/release/bokeh-tables-1.0.2.min.css\");\n",
       "      Bokeh.embed.inject_css(\"https://cdn.pydata.org/bokeh/release/bokeh-tables-1.0.2.min.css\");\n",
       "    }\n",
       "  ];\n",
       "\n",
       "  function run_inline_js() {\n",
       "    \n",
       "    if ((root.Bokeh !== undefined) || (force === true)) {\n",
       "      for (var i = 0; i < inline_js.length; i++) {\n",
       "        inline_js[i].call(root, root.Bokeh);\n",
       "      }if (force === true) {\n",
       "        display_loaded();\n",
       "      }} else if (Date.now() < root._bokeh_timeout) {\n",
       "      setTimeout(run_inline_js, 100);\n",
       "    } else if (!root._bokeh_failed_load) {\n",
       "      console.log(\"Bokeh: BokehJS failed to load within specified timeout.\");\n",
       "      root._bokeh_failed_load = true;\n",
       "    } else if (force !== true) {\n",
       "      var cell = $(document.getElementById(\"1001\")).parents('.cell').data().cell;\n",
       "      cell.output_area.append_execute_result(NB_LOAD_WARNING)\n",
       "    }\n",
       "\n",
       "  }\n",
       "\n",
       "  if (root._bokeh_is_loading === 0) {\n",
       "    console.log(\"Bokeh: BokehJS loaded, going straight to plotting\");\n",
       "    run_inline_js();\n",
       "  } else {\n",
       "    load_libs(js_urls, function() {\n",
       "      console.log(\"Bokeh: BokehJS plotting callback run at\", now());\n",
       "      run_inline_js();\n",
       "    });\n",
       "  }\n",
       "}(window));"
      ],
      "application/vnd.bokehjs_load.v0+json": "\n(function(root) {\n  function now() {\n    return new Date();\n  }\n\n  var force = true;\n\n  if (typeof (root._bokeh_onload_callbacks) === \"undefined\" || force === true) {\n    root._bokeh_onload_callbacks = [];\n    root._bokeh_is_loading = undefined;\n  }\n\n  \n\n  \n  if (typeof (root._bokeh_timeout) === \"undefined\" || force === true) {\n    root._bokeh_timeout = Date.now() + 5000;\n    root._bokeh_failed_load = false;\n  }\n\n  var NB_LOAD_WARNING = {'data': {'text/html':\n     \"<div style='background-color: #fdd'>\\n\"+\n     \"<p>\\n\"+\n     \"BokehJS does not appear to have successfully loaded. If loading BokehJS from CDN, this \\n\"+\n     \"may be due to a slow or bad network connection. Possible fixes:\\n\"+\n     \"</p>\\n\"+\n     \"<ul>\\n\"+\n     \"<li>re-rerun `output_notebook()` to attempt to load from CDN again, or</li>\\n\"+\n     \"<li>use INLINE resources instead, as so:</li>\\n\"+\n     \"</ul>\\n\"+\n     \"<code>\\n\"+\n     \"from bokeh.resources import INLINE\\n\"+\n     \"output_notebook(resources=INLINE)\\n\"+\n     \"</code>\\n\"+\n     \"</div>\"}};\n\n  function display_loaded() {\n    var el = document.getElementById(\"1001\");\n    if (el != null) {\n      el.textContent = \"BokehJS is loading...\";\n    }\n    if (root.Bokeh !== undefined) {\n      if (el != null) {\n        el.textContent = \"BokehJS \" + root.Bokeh.version + \" successfully loaded.\";\n      }\n    } else if (Date.now() < root._bokeh_timeout) {\n      setTimeout(display_loaded, 100)\n    }\n  }\n\n\n  function run_callbacks() {\n    try {\n      root._bokeh_onload_callbacks.forEach(function(callback) { callback() });\n    }\n    finally {\n      delete root._bokeh_onload_callbacks\n    }\n    console.info(\"Bokeh: all callbacks have finished\");\n  }\n\n  function load_libs(js_urls, callback) {\n    root._bokeh_onload_callbacks.push(callback);\n    if (root._bokeh_is_loading > 0) {\n      console.log(\"Bokeh: BokehJS is being loaded, scheduling callback at\", now());\n      return null;\n    }\n    if (js_urls == null || js_urls.length === 0) {\n      run_callbacks();\n      return null;\n    }\n    console.log(\"Bokeh: BokehJS not loaded, scheduling load and callback at\", now());\n    root._bokeh_is_loading = js_urls.length;\n    for (var i = 0; i < js_urls.length; i++) {\n      var url = js_urls[i];\n      var s = document.createElement('script');\n      s.src = url;\n      s.async = false;\n      s.onreadystatechange = s.onload = function() {\n        root._bokeh_is_loading--;\n        if (root._bokeh_is_loading === 0) {\n          console.log(\"Bokeh: all BokehJS libraries loaded\");\n          run_callbacks()\n        }\n      };\n      s.onerror = function() {\n        console.warn(\"failed to load library \" + url);\n      };\n      console.log(\"Bokeh: injecting script tag for BokehJS library: \", url);\n      document.getElementsByTagName(\"head\")[0].appendChild(s);\n    }\n  };var element = document.getElementById(\"1001\");\n  if (element == null) {\n    console.log(\"Bokeh: ERROR: autoload.js configured with elementid '1001' but no matching script tag was found. \")\n    return false;\n  }\n\n  var js_urls = [\"https://cdn.pydata.org/bokeh/release/bokeh-1.0.2.min.js\", \"https://cdn.pydata.org/bokeh/release/bokeh-widgets-1.0.2.min.js\", \"https://cdn.pydata.org/bokeh/release/bokeh-tables-1.0.2.min.js\", \"https://cdn.pydata.org/bokeh/release/bokeh-gl-1.0.2.min.js\"];\n\n  var inline_js = [\n    function(Bokeh) {\n      Bokeh.set_log_level(\"info\");\n    },\n    \n    function(Bokeh) {\n      \n    },\n    function(Bokeh) {\n      console.log(\"Bokeh: injecting CSS: https://cdn.pydata.org/bokeh/release/bokeh-1.0.2.min.css\");\n      Bokeh.embed.inject_css(\"https://cdn.pydata.org/bokeh/release/bokeh-1.0.2.min.css\");\n      console.log(\"Bokeh: injecting CSS: https://cdn.pydata.org/bokeh/release/bokeh-widgets-1.0.2.min.css\");\n      Bokeh.embed.inject_css(\"https://cdn.pydata.org/bokeh/release/bokeh-widgets-1.0.2.min.css\");\n      console.log(\"Bokeh: injecting CSS: https://cdn.pydata.org/bokeh/release/bokeh-tables-1.0.2.min.css\");\n      Bokeh.embed.inject_css(\"https://cdn.pydata.org/bokeh/release/bokeh-tables-1.0.2.min.css\");\n    }\n  ];\n\n  function run_inline_js() {\n    \n    if ((root.Bokeh !== undefined) || (force === true)) {\n      for (var i = 0; i < inline_js.length; i++) {\n        inline_js[i].call(root, root.Bokeh);\n      }if (force === true) {\n        display_loaded();\n      }} else if (Date.now() < root._bokeh_timeout) {\n      setTimeout(run_inline_js, 100);\n    } else if (!root._bokeh_failed_load) {\n      console.log(\"Bokeh: BokehJS failed to load within specified timeout.\");\n      root._bokeh_failed_load = true;\n    } else if (force !== true) {\n      var cell = $(document.getElementById(\"1001\")).parents('.cell').data().cell;\n      cell.output_area.append_execute_result(NB_LOAD_WARNING)\n    }\n\n  }\n\n  if (root._bokeh_is_loading === 0) {\n    console.log(\"Bokeh: BokehJS loaded, going straight to plotting\");\n    run_inline_js();\n  } else {\n    load_libs(js_urls, function() {\n      console.log(\"Bokeh: BokehJS plotting callback run at\", now());\n      run_inline_js();\n    });\n  }\n}(window));"
     },
     "metadata": {},
     "output_type": "display_data"
    }
   ],
   "source": [
    "import bokeh.plotting as pl\n",
    "import bokeh.models as bm\n",
    "from bokeh.io import output_notebook, show\n",
    "output_notebook()\n",
    "\n",
    "def draw_attention(inp_line, translation, probs):\n",
    "    \"\"\" An intentionally ambiguous function to visualize attention weights \"\"\"\n",
    "    inp_tokens = inp_voc.tokenize(inp_line)\n",
    "    trans_tokens = out_voc.tokenize(translation)\n",
    "    probs = probs[:len(trans_tokens), :len(inp_tokens)]\n",
    "    \n",
    "    fig = pl.figure(x_range=(0, len(inp_tokens)), y_range=(0, len(trans_tokens)),\n",
    "                    x_axis_type=None, y_axis_type=None, tools=[])\n",
    "    fig.image([probs[::-1]], 0, 0, len(inp_tokens), len(trans_tokens))\n",
    "\n",
    "    fig.add_layout(bm.LinearAxis(axis_label='source tokens'), 'above')\n",
    "    fig.xaxis.ticker = np.arange(len(inp_tokens)) + 0.5\n",
    "    fig.xaxis.major_label_overrides = dict(zip(np.arange(len(inp_tokens)) + 0.5, inp_tokens))\n",
    "    fig.xaxis.major_label_orientation = 45\n",
    "\n",
    "    fig.add_layout(bm.LinearAxis(axis_label='translation tokens'), 'left')\n",
    "    fig.yaxis.ticker = np.arange(len(trans_tokens)) + 0.5\n",
    "    fig.yaxis.major_label_overrides = dict(zip(np.arange(len(trans_tokens)) + 0.5, trans_tokens[::-1]))\n",
    "\n",
    "    show(fig)"
   ]
  },
  {
   "cell_type": "code",
   "execution_count": 39,
   "metadata": {},
   "outputs": [],
   "source": [
    "inp = dev_inp[::500]\n",
    "\n",
    "trans, states = model.translate_lines(inp)\n",
    "\n",
    "# select attention probs from model state (you may need to change this for your custom model)\n",
    "attention_probs = np.stack([state[-1] for state in states], axis=1)"
   ]
  },
  {
   "cell_type": "code",
   "execution_count": 40,
   "metadata": {
    "scrolled": false
   },
   "outputs": [
    {
     "data": {
      "text/html": [
       "\n",
       "\n",
       "\n",
       "\n",
       "\n",
       "\n",
       "  <div class=\"bk-root\" id=\"126acb4c-2e36-4e39-b303-77f498017b34\"></div>\n"
      ]
     },
     "metadata": {},
     "output_type": "display_data"
    },
    {
     "data": {
      "application/javascript": [
       "(function(root) {\n",
       "  function embed_document(root) {\n",
       "    \n",
       "  var docs_json = {\"5545dfd2-b920-4554-9f06-24bda6ed8680\":{\"roots\":{\"references\":[{\"attributes\":{\"above\":[{\"id\":\"1019\",\"type\":\"LinearAxis\"}],\"left\":[{\"id\":\"1022\",\"type\":\"LinearAxis\"}],\"renderers\":[{\"id\":\"1017\",\"type\":\"GlyphRenderer\"},{\"id\":\"1019\",\"type\":\"LinearAxis\"},{\"id\":\"1022\",\"type\":\"LinearAxis\"}],\"title\":{\"id\":\"1025\",\"type\":\"Title\"},\"toolbar\":{\"id\":\"1011\",\"type\":\"Toolbar\"},\"x_range\":{\"id\":\"1003\",\"type\":\"Range1d\"},\"x_scale\":{\"id\":\"1007\",\"type\":\"LinearScale\"},\"y_range\":{\"id\":\"1005\",\"type\":\"Range1d\"},\"y_scale\":{\"id\":\"1009\",\"type\":\"LinearScale\"}},\"id\":\"1002\",\"subtype\":\"Figure\",\"type\":\"Plot\"},{\"attributes\":{},\"id\":\"1027\",\"type\":\"BasicTickFormatter\"},{\"attributes\":{\"data_source\":{\"id\":\"1012\",\"type\":\"ColumnDataSource\"},\"glyph\":{\"id\":\"1014\",\"type\":\"Image\"},\"hover_glyph\":null,\"muted_glyph\":null,\"nonselection_glyph\":{\"id\":\"1016\",\"type\":\"Image\"},\"selection_glyph\":null,\"view\":{\"id\":\"1018\",\"type\":\"CDSView\"}},\"id\":\"1017\",\"type\":\"GlyphRenderer\"},{\"attributes\":{},\"id\":\"1007\",\"type\":\"LinearScale\"},{\"attributes\":{\"color_mapper\":{\"id\":\"1013\",\"type\":\"LinearColorMapper\"},\"dh\":{\"units\":\"data\",\"value\":12},\"dw\":{\"units\":\"data\",\"value\":11},\"image\":{\"field\":\"image\"},\"x\":{\"value\":0},\"y\":{\"value\":0}},\"id\":\"1014\",\"type\":\"Image\"},{\"attributes\":{\"axis_label\":\"source tokens\",\"formatter\":{\"id\":\"1027\",\"type\":\"BasicTickFormatter\"},\"major_label_orientation\":45,\"major_label_overrides\":{\"0.5\":\"_BOS_\",\"1.5\":\"\\u0432\",\"10.5\":\"_EOS_\",\"2.5\":\"\\u0440\\u0430\\u0441\\u043f\\u043e\\u0440\\u044f\\u0436\\u0435\\u043d\\u0438\\u0438\",\"3.5\":\"\\u0433\\u043e\\u0441\\u0442\\u0435\\u0439\",\"4.5\":\"\\u043e\\u0431\\u0449\\u0430\\u044f\",\"5.5\":\"\\u043a\\u0443\\u0445\\u043d\\u044f\",\"6.5\":\"\\u0438\",\"7.5\":\"\\u043e\\u0431\\u0449\\u0430\\u044f\",\"8.5\":\"\\u0433\\u043e\\u0441\\u0442\\u0438\\u043d\\u0430\\u044f\",\"9.5\":\".\"},\"plot\":{\"id\":\"1002\",\"subtype\":\"Figure\",\"type\":\"Plot\"},\"ticker\":{\"id\":\"1020\",\"type\":\"FixedTicker\"}},\"id\":\"1019\",\"type\":\"LinearAxis\"},{\"attributes\":{},\"id\":\"1009\",\"type\":\"LinearScale\"},{\"attributes\":{},\"id\":\"1028\",\"type\":\"BasicTickFormatter\"},{\"attributes\":{\"source\":{\"id\":\"1012\",\"type\":\"ColumnDataSource\"}},\"id\":\"1018\",\"type\":\"CDSView\"},{\"attributes\":{\"callback\":null,\"end\":11},\"id\":\"1003\",\"type\":\"Range1d\"},{\"attributes\":{\"active_drag\":\"auto\",\"active_inspect\":\"auto\",\"active_multi\":null,\"active_scroll\":\"auto\",\"active_tap\":\"auto\"},\"id\":\"1011\",\"type\":\"Toolbar\"},{\"attributes\":{\"callback\":null,\"data\":{\"image\":[{\"__ndarray__\":\"oNtnOUfriDlLtkY3qbclNwNdVzlfohE6cX5jPCvLczwiLSM7Y9UMP8mu1T7O+Qw4I0pgNynrEzfaWyc18zCGNx8fAjnf6l09SmTjO2HT6DsA82M/C5AoPY/t1TgfEpM2tDPSNdOnLDWPwLQ3Uci6NyR5szq3oJc7hMQKOpWTbT/wtYU9OYcwOmwlqTlm5zI5Ub6lN66tDTitbu43rvmGOzLvJjpjtpI7YeRIP7iyUT6EvHg4YRKROMIcHTlit404KUKrNxU+Izp8tN478a7NOlALgzyahUw/5/MzPmD7NDv/n+w6HkCmOoL49Dj42tE3nkSjOMgXIDu+2bU73cROPiggFj8UWEo+T6rkOA3GGTjujsE3OomvNxWfsDnzCtw7N4XyPb1kUD74Th0/wWxGPYlzATwj8Ug6GkEZOmSvhjm2NLs5wYATO2cUFD3q1L89o/whPurZGD9hnZE9SjEiPSAalTrC1bk6B/wVO8dirTszWy09hpS+PeCanj7OsRw+YpSvPaRokz4S2JM8/rbnN8v5JDgtgqE4Yc7zOR+wEz3xGIA+oH+dPmWqVT4znhU+MPUCPVfqmTwYdic7F7pbO6Dwzzvazpw833UxPUIHAD4PWC8+1uxZPfMUFD44Zbk+8oSNPRh2JzsXuls7oPDPO9rOnDzfdTE9QgcAPg9YLz7W7Fk98xQUPjhluT7yhI09\",\"dtype\":\"float32\",\"shape\":[12,11]}]},\"selected\":{\"id\":\"1030\",\"type\":\"Selection\"},\"selection_policy\":{\"id\":\"1029\",\"type\":\"UnionRenderers\"}},\"id\":\"1012\",\"type\":\"ColumnDataSource\"},{\"attributes\":{\"ticks\":[0.5,1.5,2.5,3.5,4.5,5.5,6.5,7.5,8.5,9.5,10.5,11.5]},\"id\":\"1023\",\"type\":\"FixedTicker\"},{\"attributes\":{},\"id\":\"1029\",\"type\":\"UnionRenderers\"},{\"attributes\":{\"plot\":null,\"text\":\"\"},\"id\":\"1025\",\"type\":\"Title\"},{\"attributes\":{\"palette\":[\"#000000\",\"#252525\",\"#525252\",\"#737373\",\"#969696\",\"#bdbdbd\",\"#d9d9d9\",\"#f0f0f0\",\"#ffffff\"]},\"id\":\"1013\",\"type\":\"LinearColorMapper\"},{\"attributes\":{\"ticks\":[0.5,1.5,2.5,3.5,4.5,5.5,6.5,7.5,8.5,9.5,10.5]},\"id\":\"1020\",\"type\":\"FixedTicker\"},{\"attributes\":{\"callback\":null,\"end\":12},\"id\":\"1005\",\"type\":\"Range1d\"},{\"attributes\":{\"palette\":[\"#000000\",\"#252525\",\"#525252\",\"#737373\",\"#969696\",\"#bdbdbd\",\"#d9d9d9\",\"#f0f0f0\",\"#ffffff\"]},\"id\":\"1015\",\"type\":\"LinearColorMapper\"},{\"attributes\":{},\"id\":\"1030\",\"type\":\"Selection\"},{\"attributes\":{\"color_mapper\":{\"id\":\"1015\",\"type\":\"LinearColorMapper\"},\"dh\":{\"units\":\"data\",\"value\":12},\"dw\":{\"units\":\"data\",\"value\":11},\"image\":{\"field\":\"image\"},\"x\":{\"value\":0},\"y\":{\"value\":0}},\"id\":\"1016\",\"type\":\"Image\"},{\"attributes\":{\"axis_label\":\"translation tokens\",\"formatter\":{\"id\":\"1028\",\"type\":\"BasicTickFormatter\"},\"major_label_overrides\":{\"0.5\":\"_EOS_\",\"1.5\":\".\",\"10.5\":\"there\",\"11.5\":\"_BOS_\",\"2.5\":\"facilities\",\"3.5\":\"kitchen\",\"4.5\":\"shared\",\"5.5\":\"and\",\"6.5\":\"kitchen\",\"7.5\":\"shared\",\"8.5\":\"a\",\"9.5\":\"is\"},\"plot\":{\"id\":\"1002\",\"subtype\":\"Figure\",\"type\":\"Plot\"},\"ticker\":{\"id\":\"1023\",\"type\":\"FixedTicker\"}},\"id\":\"1022\",\"type\":\"LinearAxis\"}],\"root_ids\":[\"1002\"]},\"title\":\"Bokeh Application\",\"version\":\"1.0.2\"}};\n",
       "  var render_items = [{\"docid\":\"5545dfd2-b920-4554-9f06-24bda6ed8680\",\"roots\":{\"1002\":\"126acb4c-2e36-4e39-b303-77f498017b34\"}}];\n",
       "  root.Bokeh.embed.embed_items_notebook(docs_json, render_items);\n",
       "\n",
       "  }\n",
       "  if (root.Bokeh !== undefined) {\n",
       "    embed_document(root);\n",
       "  } else {\n",
       "    var attempts = 0;\n",
       "    var timer = setInterval(function(root) {\n",
       "      if (root.Bokeh !== undefined) {\n",
       "        embed_document(root);\n",
       "        clearInterval(timer);\n",
       "      }\n",
       "      attempts++;\n",
       "      if (attempts > 100) {\n",
       "        console.log(\"Bokeh: ERROR: Unable to run BokehJS code because BokehJS library is missing\");\n",
       "        clearInterval(timer);\n",
       "      }\n",
       "    }, 10, root)\n",
       "  }\n",
       "})(window);"
      ],
      "application/vnd.bokehjs_exec.v0+json": ""
     },
     "metadata": {
      "application/vnd.bokehjs_exec.v0+json": {
       "id": "1002"
      }
     },
     "output_type": "display_data"
    },
    {
     "data": {
      "text/html": [
       "\n",
       "\n",
       "\n",
       "\n",
       "\n",
       "\n",
       "  <div class=\"bk-root\" id=\"10d578ff-9095-489c-bb8a-2a098462665c\"></div>\n"
      ]
     },
     "metadata": {},
     "output_type": "display_data"
    },
    {
     "data": {
      "application/javascript": [
       "(function(root) {\n",
       "  function embed_document(root) {\n",
       "    \n",
       "  var docs_json = {\"be8de20d-84c2-422c-8b15-3e03260b716d\":{\"roots\":{\"references\":[{\"attributes\":{\"above\":[{\"id\":\"1084\",\"type\":\"LinearAxis\"}],\"left\":[{\"id\":\"1087\",\"type\":\"LinearAxis\"}],\"renderers\":[{\"id\":\"1082\",\"type\":\"GlyphRenderer\"},{\"id\":\"1084\",\"type\":\"LinearAxis\"},{\"id\":\"1087\",\"type\":\"LinearAxis\"}],\"title\":{\"id\":\"1096\",\"type\":\"Title\"},\"toolbar\":{\"id\":\"1076\",\"type\":\"Toolbar\"},\"x_range\":{\"id\":\"1068\",\"type\":\"Range1d\"},\"x_scale\":{\"id\":\"1072\",\"type\":\"LinearScale\"},\"y_range\":{\"id\":\"1070\",\"type\":\"Range1d\"},\"y_scale\":{\"id\":\"1074\",\"type\":\"LinearScale\"}},\"id\":\"1067\",\"subtype\":\"Figure\",\"type\":\"Plot\"},{\"attributes\":{\"palette\":[\"#000000\",\"#252525\",\"#525252\",\"#737373\",\"#969696\",\"#bdbdbd\",\"#d9d9d9\",\"#f0f0f0\",\"#ffffff\"]},\"id\":\"1080\",\"type\":\"LinearColorMapper\"},{\"attributes\":{\"color_mapper\":{\"id\":\"1078\",\"type\":\"LinearColorMapper\"},\"dh\":{\"units\":\"data\",\"value\":16},\"dw\":{\"units\":\"data\",\"value\":15},\"image\":{\"field\":\"image\"},\"x\":{\"value\":0},\"y\":{\"value\":0}},\"id\":\"1079\",\"type\":\"Image\"},{\"attributes\":{\"color_mapper\":{\"id\":\"1080\",\"type\":\"LinearColorMapper\"},\"dh\":{\"units\":\"data\",\"value\":16},\"dw\":{\"units\":\"data\",\"value\":15},\"image\":{\"field\":\"image\"},\"x\":{\"value\":0},\"y\":{\"value\":0}},\"id\":\"1081\",\"type\":\"Image\"},{\"attributes\":{\"source\":{\"id\":\"1077\",\"type\":\"ColumnDataSource\"}},\"id\":\"1083\",\"type\":\"CDSView\"},{\"attributes\":{\"callback\":null,\"data\":{\"image\":[{\"__ndarray__\":\"9U0+MdLC5i9xb2gufzXOMBAWXzBW1GAwE/gJMS6/bDSNFRA04xStNM6XUzfECW44EwyOPP+HYj9OGMg9KKAWOJ1lnTfGgxU2WeEpNQqeojXYBB42QTkWOFYtFjk+K+04CmNoOuN88Dx2Ckc7Rc69PQiN8j4Cx8w+diXjLnqP+yzxu7MsLowpL8EUKS6+xB4uDF6FMU7oFTPSJt0zJsyFNXfkJzowBss3P7HcOULoez+EIXQ8Gwo7M26RzjFyvvQvXvb/MHeV7DCiSrQxIRUDNCD6vjXy+J80DDB8NiS5Szi7lw04Ezl0OsL5fD/72jA8FkHRNhKO8TS5834zQGYqNLSFRzMzZasyQAFJNGrewzUMRyA1exxZN+Cgrzon/wA7rcWhOzvMID/rK7o+V/gbN60MijXe4aYyMJ8oMmBUQjLK1I0yyBK1NK8elTcwJkY2zkDjODzMFjtEn6k6Bz+VPh0/tD5QmLQ+h/KFN9+UWzc9eH43ULCsNo1QwDUxUcI1Y7ujNSdjuzlC0BE6KgZ7O74krTzVZSM7vuKlPd7KPD9jxxw+3kTZORvwgTnwd+M4/xR8N1bNVzdx8Io2ASwbOD+FMDnwOGA5NrYoOlYihjxd05E7G7QmPnd1IT8lOjw+6v1bNskTBzbU7tg0o9DDNcbVgDNH/XIz5ILvNIPmOjXAe9Q2hCqAOJ4ovTzo7xQ9qhZRPf8IXT9GC9U8IqjGNp2EQjZq9b01EebNOG0ijDjOXB45FAzoNjPXbjnXYlk66+fzPP9j9z5Kzms97wMWPTDkUD7Y9T8+6I+kOVK5hznd7Is5XJKcOhEQjjpoPgY5jX8WO2B6pz11ksM9RryQPem79j4/yTk+CmZ2PCTeBj0lPhA9B+u9OPRksjfCiYM2M6VWOJLSHzgfP7k4WhRLOxUeUT3qT1s7FNSLPD1SZD/1vbY8rp8zO3Uotzt+wis7bAB+OVhSBTn/BMI4pZouOe6L2DnspdA6rsBnOyuH3TtZ1YM65G5yPbcQTz+wPoM9fd5UPHPAuTxPt5U8cVSLOQeu8zmoY9E5ssElO9teqDupkPQ79FcbPQDDlD1yUMY9nU68PRaMET6VykU+RC5aPTZbbz48U349NptZOckLLTkoSgs5ZiKXOqbvsDomrW07mk2jPF8HMz9kyKE9BD2kPBJWUT3rztA8extDPa4tyjyvLdY8NptZOckLLTkoSgs5ZiKXOqbvsDomrW07mk2jPF8HMz9kyKE9BD2kPBJWUT3rztA8extDPa4tyjyvLdY8\",\"dtype\":\"float32\",\"shape\":[16,15]}]},\"selected\":{\"id\":\"1101\",\"type\":\"Selection\"},\"selection_policy\":{\"id\":\"1100\",\"type\":\"UnionRenderers\"}},\"id\":\"1077\",\"type\":\"ColumnDataSource\"},{\"attributes\":{\"callback\":null,\"end\":15},\"id\":\"1068\",\"type\":\"Range1d\"},{\"attributes\":{},\"id\":\"1074\",\"type\":\"LinearScale\"},{\"attributes\":{\"callback\":null,\"end\":16},\"id\":\"1070\",\"type\":\"Range1d\"},{\"attributes\":{\"palette\":[\"#000000\",\"#252525\",\"#525252\",\"#737373\",\"#969696\",\"#bdbdbd\",\"#d9d9d9\",\"#f0f0f0\",\"#ffffff\"]},\"id\":\"1078\",\"type\":\"LinearColorMapper\"},{\"attributes\":{},\"id\":\"1072\",\"type\":\"LinearScale\"},{\"attributes\":{},\"id\":\"1098\",\"type\":\"BasicTickFormatter\"},{\"attributes\":{},\"id\":\"1100\",\"type\":\"UnionRenderers\"},{\"attributes\":{\"axis_label\":\"translation tokens\",\"formatter\":{\"id\":\"1099\",\"type\":\"BasicTickFormatter\"},\"major_label_overrides\":{\"0.5\":\"_EOS_\",\"1.5\":\".\",\"10.5\":\"bike\",\"11.5\":\"offers\",\"12.5\":\"also\",\"13.5\":\"property\",\"14.5\":\"the\",\"15.5\":\"_BOS_\",\"2.5\":\"rental\",\"3.5\":\"car\",\"4.5\":\"and\",\"5.5\":\"service\",\"6.5\":\"shuttle\",\"7.5\":\"free\",\"8.5\":\",\",\"9.5\":\"rental\"},\"plot\":{\"id\":\"1067\",\"subtype\":\"Figure\",\"type\":\"Plot\"},\"ticker\":{\"id\":\"1088\",\"type\":\"FixedTicker\"}},\"id\":\"1087\",\"type\":\"LinearAxis\"},{\"attributes\":{\"ticks\":[0.5,1.5,2.5,3.5,4.5,5.5,6.5,7.5,8.5,9.5,10.5,11.5,12.5,13.5,14.5]},\"id\":\"1085\",\"type\":\"FixedTicker\"},{\"attributes\":{},\"id\":\"1099\",\"type\":\"BasicTickFormatter\"},{\"attributes\":{},\"id\":\"1101\",\"type\":\"Selection\"},{\"attributes\":{\"ticks\":[0.5,1.5,2.5,3.5,4.5,5.5,6.5,7.5,8.5,9.5,10.5,11.5,12.5,13.5,14.5,15.5]},\"id\":\"1088\",\"type\":\"FixedTicker\"},{\"attributes\":{\"axis_label\":\"source tokens\",\"formatter\":{\"id\":\"1098\",\"type\":\"BasicTickFormatter\"},\"major_label_orientation\":45,\"major_label_overrides\":{\"0.5\":\"_BOS_\",\"1.5\":\"\\u043a\\u0440\\u043e\\u043c\\u0435\",\"10.5\":\"\\u0438\",\"11.5\":\"\\u0431\\u0435\\u0441\\u043f\\u043b\\u0430\\u0442\\u043d\\u0430\\u044f\",\"12.5\":\"\\u043f\\u0430\\u0440\\u043a\\u043e\\u0432\\u043a\\u0430\",\"13.5\":\".\",\"14.5\":\"_EOS_\",\"2.5\":\"\\u0442\\u043e\\u0433\\u043e\",\"3.5\":\",\",\"4.5\":\"\\u043f\\u0440\\u0435\\u0434\\u043e\\u0441\\u0442\\u0430\\u0432\\u043b\\u044f\\u0435\\u0442\\u0441\\u044f\",\"5.5\":\"\\u043f\\u0440\\u043e\\u043a\\u0430\\u0442\",\"6.5\":\"\\u0432\\u0435\\u043b\\u043e\\u0441\\u0438\\u043f\\u0435\\u0434\\u043e\\u0432\",\"7.5\":\",\",\"8.5\":\"\\u0443\\u0441\\u043b\\u0443\\u0433\\u0438\",\"9.5\":\"\\u0442\\u0440\\u0430\\u043d\\u0441\\u0444\\u0435\\u0440\\u0430\"},\"plot\":{\"id\":\"1067\",\"subtype\":\"Figure\",\"type\":\"Plot\"},\"ticker\":{\"id\":\"1085\",\"type\":\"FixedTicker\"}},\"id\":\"1084\",\"type\":\"LinearAxis\"},{\"attributes\":{\"plot\":null,\"text\":\"\"},\"id\":\"1096\",\"type\":\"Title\"},{\"attributes\":{\"active_drag\":\"auto\",\"active_inspect\":\"auto\",\"active_multi\":null,\"active_scroll\":\"auto\",\"active_tap\":\"auto\"},\"id\":\"1076\",\"type\":\"Toolbar\"},{\"attributes\":{\"data_source\":{\"id\":\"1077\",\"type\":\"ColumnDataSource\"},\"glyph\":{\"id\":\"1079\",\"type\":\"Image\"},\"hover_glyph\":null,\"muted_glyph\":null,\"nonselection_glyph\":{\"id\":\"1081\",\"type\":\"Image\"},\"selection_glyph\":null,\"view\":{\"id\":\"1083\",\"type\":\"CDSView\"}},\"id\":\"1082\",\"type\":\"GlyphRenderer\"}],\"root_ids\":[\"1067\"]},\"title\":\"Bokeh Application\",\"version\":\"1.0.2\"}};\n",
       "  var render_items = [{\"docid\":\"be8de20d-84c2-422c-8b15-3e03260b716d\",\"roots\":{\"1067\":\"10d578ff-9095-489c-bb8a-2a098462665c\"}}];\n",
       "  root.Bokeh.embed.embed_items_notebook(docs_json, render_items);\n",
       "\n",
       "  }\n",
       "  if (root.Bokeh !== undefined) {\n",
       "    embed_document(root);\n",
       "  } else {\n",
       "    var attempts = 0;\n",
       "    var timer = setInterval(function(root) {\n",
       "      if (root.Bokeh !== undefined) {\n",
       "        embed_document(root);\n",
       "        clearInterval(timer);\n",
       "      }\n",
       "      attempts++;\n",
       "      if (attempts > 100) {\n",
       "        console.log(\"Bokeh: ERROR: Unable to run BokehJS code because BokehJS library is missing\");\n",
       "        clearInterval(timer);\n",
       "      }\n",
       "    }, 10, root)\n",
       "  }\n",
       "})(window);"
      ],
      "application/vnd.bokehjs_exec.v0+json": ""
     },
     "metadata": {
      "application/vnd.bokehjs_exec.v0+json": {
       "id": "1067"
      }
     },
     "output_type": "display_data"
    },
    {
     "data": {
      "text/html": [
       "\n",
       "\n",
       "\n",
       "\n",
       "\n",
       "\n",
       "  <div class=\"bk-root\" id=\"1632a60b-f6fa-4503-8398-b204c60a4867\"></div>\n"
      ]
     },
     "metadata": {},
     "output_type": "display_data"
    },
    {
     "data": {
      "application/javascript": [
       "(function(root) {\n",
       "  function embed_document(root) {\n",
       "    \n",
       "  var docs_json = {\"84d8d7a3-5b20-483d-9108-953012a7765d\":{\"roots\":{\"references\":[{\"attributes\":{\"above\":[{\"id\":\"1155\",\"type\":\"LinearAxis\"}],\"left\":[{\"id\":\"1158\",\"type\":\"LinearAxis\"}],\"renderers\":[{\"id\":\"1153\",\"type\":\"GlyphRenderer\"},{\"id\":\"1155\",\"type\":\"LinearAxis\"},{\"id\":\"1158\",\"type\":\"LinearAxis\"}],\"title\":{\"id\":\"1173\",\"type\":\"Title\"},\"toolbar\":{\"id\":\"1147\",\"type\":\"Toolbar\"},\"x_range\":{\"id\":\"1139\",\"type\":\"Range1d\"},\"x_scale\":{\"id\":\"1143\",\"type\":\"LinearScale\"},\"y_range\":{\"id\":\"1141\",\"type\":\"Range1d\"},\"y_scale\":{\"id\":\"1145\",\"type\":\"LinearScale\"}},\"id\":\"1138\",\"subtype\":\"Figure\",\"type\":\"Plot\"},{\"attributes\":{\"color_mapper\":{\"id\":\"1151\",\"type\":\"LinearColorMapper\"},\"dh\":{\"units\":\"data\",\"value\":10},\"dw\":{\"units\":\"data\",\"value\":13},\"image\":{\"field\":\"image\"},\"x\":{\"value\":0},\"y\":{\"value\":0}},\"id\":\"1152\",\"type\":\"Image\"},{\"attributes\":{\"axis_label\":\"source tokens\",\"formatter\":{\"id\":\"1175\",\"type\":\"BasicTickFormatter\"},\"major_label_orientation\":45,\"major_label_overrides\":{\"0.5\":\"_BOS_\",\"1.5\":\"\\u0440\\u0430\\u0441\\u0441\\u0442\\u043e\\u044f\\u043d\\u0438\\u0435\",\"10.5\":\"\\u043a\\u043c\",\"11.5\":\".\",\"12.5\":\"_EOS_\",\"2.5\":\"\\u0434\\u043e\",\"3.5\":\"\\u0433\\u043e\\u0440\\u043e\\u0434\\u0430\",\"4.5\":\"\\u043a\\u0438@@\",\"5.5\":\"\\u0441\\u0441\\u0438@@\",\"6.5\":\"\\u043c@@\",\"7.5\":\"\\u043c\\u0438\",\"8.5\":\"\\u0441\\u043e\\u0441\\u0442\\u0430\\u0432\\u043b\\u044f\\u0435\\u0442\",\"9.5\":\"26\"},\"plot\":{\"id\":\"1138\",\"subtype\":\"Figure\",\"type\":\"Plot\"},\"ticker\":{\"id\":\"1156\",\"type\":\"FixedTicker\"}},\"id\":\"1155\",\"type\":\"LinearAxis\"},{\"attributes\":{\"callback\":null,\"end\":10},\"id\":\"1141\",\"type\":\"Range1d\"},{\"attributes\":{\"color_mapper\":{\"id\":\"1149\",\"type\":\"LinearColorMapper\"},\"dh\":{\"units\":\"data\",\"value\":10},\"dw\":{\"units\":\"data\",\"value\":13},\"image\":{\"field\":\"image\"},\"x\":{\"value\":0},\"y\":{\"value\":0}},\"id\":\"1150\",\"type\":\"Image\"},{\"attributes\":{},\"id\":\"1176\",\"type\":\"BasicTickFormatter\"},{\"attributes\":{\"ticks\":[0.5,1.5,2.5,3.5,4.5,5.5,6.5,7.5,8.5,9.5,10.5,11.5,12.5]},\"id\":\"1156\",\"type\":\"FixedTicker\"},{\"attributes\":{\"data_source\":{\"id\":\"1148\",\"type\":\"ColumnDataSource\"},\"glyph\":{\"id\":\"1150\",\"type\":\"Image\"},\"hover_glyph\":null,\"muted_glyph\":null,\"nonselection_glyph\":{\"id\":\"1152\",\"type\":\"Image\"},\"selection_glyph\":null,\"view\":{\"id\":\"1154\",\"type\":\"CDSView\"}},\"id\":\"1153\",\"type\":\"GlyphRenderer\"},{\"attributes\":{},\"id\":\"1175\",\"type\":\"BasicTickFormatter\"},{\"attributes\":{\"ticks\":[0.5,1.5,2.5,3.5,4.5,5.5,6.5,7.5,8.5,9.5]},\"id\":\"1159\",\"type\":\"FixedTicker\"},{\"attributes\":{},\"id\":\"1177\",\"type\":\"UnionRenderers\"},{\"attributes\":{\"axis_label\":\"translation tokens\",\"formatter\":{\"id\":\"1176\",\"type\":\"BasicTickFormatter\"},\"major_label_overrides\":{\"0.5\":\"_EOS_\",\"1.5\":\".\",\"2.5\":\"property\",\"3.5\":\"the\",\"4.5\":\"from\",\"5.5\":\"km\",\"6.5\":\"26\",\"7.5\":\"is\",\"8.5\":\"latina\",\"9.5\":\"_BOS_\"},\"plot\":{\"id\":\"1138\",\"subtype\":\"Figure\",\"type\":\"Plot\"},\"ticker\":{\"id\":\"1159\",\"type\":\"FixedTicker\"}},\"id\":\"1158\",\"type\":\"LinearAxis\"},{\"attributes\":{},\"id\":\"1145\",\"type\":\"LinearScale\"},{\"attributes\":{\"callback\":null,\"data\":{\"image\":[{\"__ndarray__\":\"hRk4NyqNZTd6yew2qcSQNDWPxzSVWA42GY4fOCS1PTjb/1Y54RAgOYykFDve5n0/XqqyO6V+BTlhvsg4BHt0OEo1EzZa+Jk1BveUNVoUNTfP9Vo2klMkN3Z9bjqGBiQ9mEpwP5qipDx3I+w3E+NtN8sIIjcV2KU2NFJBOAfKRDjy4OU4MEojOCbRJjqjRhk7k54QOp2Wfj8sZd06V3eBNntlvTURAkU1dBUZNQE8lTVwsGo2TVCkNyPEDjhEJcc3U5hQO75KcjtnjXQ/ip4aPenPgTn/H9c4hn7KNQ+GjDOEwr4zXOhZM3hZdTVjEWg3oaqoN8LPPTnBu685ait9PxRaJjwNKrU8GmiBPI669Dvc7sI7Tp3MOyfI+DlnH887c52DPFqQHz3XJMI+buOJPr/BID4w2Jk9RkmiO6GmgzsC1RE7R6i5OQB8RjoIMsI6MHuVO6jbFT3Ogpg9atSsPRw7HT7S264+LBCVPkV81Thoipk47OcIOUf6ijkHryU60iRBO7nzoDzeQo89SGUmPoYJtz19Seo9NFfGPgxDHD6c+J474qlaO/howDuL9oA7CM54O9fKIDwwakg9hrgYPgd6sT1yE0Q9dWPhPPtXBD/VArs9nPieO+KpWjv4aMA7i/aAOwjOeDvXyiA8MGpIPYa4GD4HerE9chNEPXVj4Tz7VwQ/1QK7PQ==\",\"dtype\":\"float32\",\"shape\":[10,13]}]},\"selected\":{\"id\":\"1178\",\"type\":\"Selection\"},\"selection_policy\":{\"id\":\"1177\",\"type\":\"UnionRenderers\"}},\"id\":\"1148\",\"type\":\"ColumnDataSource\"},{\"attributes\":{},\"id\":\"1178\",\"type\":\"Selection\"},{\"attributes\":{\"active_drag\":\"auto\",\"active_inspect\":\"auto\",\"active_multi\":null,\"active_scroll\":\"auto\",\"active_tap\":\"auto\"},\"id\":\"1147\",\"type\":\"Toolbar\"},{\"attributes\":{\"source\":{\"id\":\"1148\",\"type\":\"ColumnDataSource\"}},\"id\":\"1154\",\"type\":\"CDSView\"},{\"attributes\":{\"palette\":[\"#000000\",\"#252525\",\"#525252\",\"#737373\",\"#969696\",\"#bdbdbd\",\"#d9d9d9\",\"#f0f0f0\",\"#ffffff\"]},\"id\":\"1151\",\"type\":\"LinearColorMapper\"},{\"attributes\":{\"callback\":null,\"end\":13},\"id\":\"1139\",\"type\":\"Range1d\"},{\"attributes\":{\"plot\":null,\"text\":\"\"},\"id\":\"1173\",\"type\":\"Title\"},{\"attributes\":{\"palette\":[\"#000000\",\"#252525\",\"#525252\",\"#737373\",\"#969696\",\"#bdbdbd\",\"#d9d9d9\",\"#f0f0f0\",\"#ffffff\"]},\"id\":\"1149\",\"type\":\"LinearColorMapper\"},{\"attributes\":{},\"id\":\"1143\",\"type\":\"LinearScale\"}],\"root_ids\":[\"1138\"]},\"title\":\"Bokeh Application\",\"version\":\"1.0.2\"}};\n",
       "  var render_items = [{\"docid\":\"84d8d7a3-5b20-483d-9108-953012a7765d\",\"roots\":{\"1138\":\"1632a60b-f6fa-4503-8398-b204c60a4867\"}}];\n",
       "  root.Bokeh.embed.embed_items_notebook(docs_json, render_items);\n",
       "\n",
       "  }\n",
       "  if (root.Bokeh !== undefined) {\n",
       "    embed_document(root);\n",
       "  } else {\n",
       "    var attempts = 0;\n",
       "    var timer = setInterval(function(root) {\n",
       "      if (root.Bokeh !== undefined) {\n",
       "        embed_document(root);\n",
       "        clearInterval(timer);\n",
       "      }\n",
       "      attempts++;\n",
       "      if (attempts > 100) {\n",
       "        console.log(\"Bokeh: ERROR: Unable to run BokehJS code because BokehJS library is missing\");\n",
       "        clearInterval(timer);\n",
       "      }\n",
       "    }, 10, root)\n",
       "  }\n",
       "})(window);"
      ],
      "application/vnd.bokehjs_exec.v0+json": ""
     },
     "metadata": {
      "application/vnd.bokehjs_exec.v0+json": {
       "id": "1138"
      }
     },
     "output_type": "display_data"
    },
    {
     "data": {
      "text/html": [
       "\n",
       "\n",
       "\n",
       "\n",
       "\n",
       "\n",
       "  <div class=\"bk-root\" id=\"79745a15-95b6-4ef2-aeb3-e911b2f27479\"></div>\n"
      ]
     },
     "metadata": {},
     "output_type": "display_data"
    },
    {
     "data": {
      "application/javascript": [
       "(function(root) {\n",
       "  function embed_document(root) {\n",
       "    \n",
       "  var docs_json = {\"24046891-f2b7-4c5e-9f2c-04f475a66fc4\":{\"roots\":{\"references\":[{\"attributes\":{\"above\":[{\"id\":\"1232\",\"type\":\"LinearAxis\"}],\"left\":[{\"id\":\"1235\",\"type\":\"LinearAxis\"}],\"renderers\":[{\"id\":\"1230\",\"type\":\"GlyphRenderer\"},{\"id\":\"1232\",\"type\":\"LinearAxis\"},{\"id\":\"1235\",\"type\":\"LinearAxis\"}],\"title\":{\"id\":\"1256\",\"type\":\"Title\"},\"toolbar\":{\"id\":\"1224\",\"type\":\"Toolbar\"},\"x_range\":{\"id\":\"1216\",\"type\":\"Range1d\"},\"x_scale\":{\"id\":\"1220\",\"type\":\"LinearScale\"},\"y_range\":{\"id\":\"1218\",\"type\":\"Range1d\"},\"y_scale\":{\"id\":\"1222\",\"type\":\"LinearScale\"}},\"id\":\"1215\",\"subtype\":\"Figure\",\"type\":\"Plot\"},{\"attributes\":{\"callback\":null,\"end\":32},\"id\":\"1216\",\"type\":\"Range1d\"},{\"attributes\":{\"plot\":null,\"text\":\"\"},\"id\":\"1256\",\"type\":\"Title\"},{\"attributes\":{},\"id\":\"1261\",\"type\":\"Selection\"},{\"attributes\":{},\"id\":\"1258\",\"type\":\"BasicTickFormatter\"},{\"attributes\":{\"axis_label\":\"source tokens\",\"formatter\":{\"id\":\"1258\",\"type\":\"BasicTickFormatter\"},\"major_label_orientation\":45,\"major_label_overrides\":{\"0.5\":\"_BOS_\",\"1.5\":\"\\u0430\\u043f\\u0430\\u0440\\u0442\\u0430\\u043c\\u0435\\u043d\\u0442\\u044b\",\"10.5\":\"\\u0441\\u0430\\u0434\\u043e\\u043c\",\"11.5\":\",\",\"12.5\":\"\\u043a\\u043e\\u043d\\u0434\\u0438\\u0446\\u0438\\u043e\\u043d\\u0435\\u0440\\u043e\\u043c\",\"13.5\":\"\\u0438\",\"14.5\":\"\\u0442\\u0435\\u0440\\u0440\\u0430\\u0441\\u043e\\u0439\",\"15.5\":\"\\u0434\\u043b\\u044f\",\"16.5\":\"\\u0437\\u0430\\u0433\\u0430\\u0440\\u0430\",\"17.5\":\"\\u0440\\u0430\\u0441\\u043f\\u043e\\u043b\\u043e\\u0436\\u0435\\u043d\\u044b\",\"18.5\":\"\\u0432\",\"19.5\":\"5\",\"2.5\":\"\\u0432\",\"20.5\":\"\\u043c\\u0438\\u043d\\u0443\\u0442\\u0430\\u0445\",\"21.5\":\"\\u0445\\u043e\\u0434\\u044c\\u0431\\u044b\",\"22.5\":\"\\u043e\\u0442\",\"23.5\":\"\\u043f\\u043b\\u044f\\u0436\\u0430\",\"24.5\":\"\\u043d\\u0430\",\"25.5\":\"\\u043a\\u0443\\u0440\\u043e\\u0440\\u0442\\u0435\",\"26.5\":\"\\u043a\\u0430@@\",\"27.5\":\"\\u0431\\u043e\",\"28.5\":\"-\",\"29.5\":\"\\u0440\\u043e\\u0439\",\"3.5\":\"\\u043f\\u0435\\u043d\\u0442@@\",\"30.5\":\".\",\"31.5\":\"_EOS_\",\"4.5\":\"\\u0445\\u0430\\u0443\\u0441\\u0435\",\"5.5\":\"\\u0441\",\"6.5\":\"\\u043e\\u0431\\u0449\\u0438\\u043c\",\"7.5\":\"\\u043e\\u0442\\u043a\\u0440\\u044b\\u0442\\u044b\\u043c\",\"8.5\":\"\\u0431\\u0430\\u0441\\u0441\\u0435\\u0439\\u043d\\u043e\\u043c\",\"9.5\":\",\"},\"plot\":{\"id\":\"1215\",\"subtype\":\"Figure\",\"type\":\"Plot\"},\"ticker\":{\"id\":\"1233\",\"type\":\"FixedTicker\"}},\"id\":\"1232\",\"type\":\"LinearAxis\"},{\"attributes\":{\"source\":{\"id\":\"1225\",\"type\":\"ColumnDataSource\"}},\"id\":\"1231\",\"type\":\"CDSView\"},{\"attributes\":{},\"id\":\"1260\",\"type\":\"UnionRenderers\"},{\"attributes\":{\"palette\":[\"#000000\",\"#252525\",\"#525252\",\"#737373\",\"#969696\",\"#bdbdbd\",\"#d9d9d9\",\"#f0f0f0\",\"#ffffff\"]},\"id\":\"1228\",\"type\":\"LinearColorMapper\"},{\"attributes\":{\"callback\":null,\"data\":{\"image\":[{\"__ndarray__\":\"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\",\"dtype\":\"float32\",\"shape\":[39,32]}]},\"selected\":{\"id\":\"1261\",\"type\":\"Selection\"},\"selection_policy\":{\"id\":\"1260\",\"type\":\"UnionRenderers\"}},\"id\":\"1225\",\"type\":\"ColumnDataSource\"},{\"attributes\":{\"data_source\":{\"id\":\"1225\",\"type\":\"ColumnDataSource\"},\"glyph\":{\"id\":\"1227\",\"type\":\"Image\"},\"hover_glyph\":null,\"muted_glyph\":null,\"nonselection_glyph\":{\"id\":\"1229\",\"type\":\"Image\"},\"selection_glyph\":null,\"view\":{\"id\":\"1231\",\"type\":\"CDSView\"}},\"id\":\"1230\",\"type\":\"GlyphRenderer\"},{\"attributes\":{\"callback\":null,\"end\":39},\"id\":\"1218\",\"type\":\"Range1d\"},{\"attributes\":{\"palette\":[\"#000000\",\"#252525\",\"#525252\",\"#737373\",\"#969696\",\"#bdbdbd\",\"#d9d9d9\",\"#f0f0f0\",\"#ffffff\"]},\"id\":\"1226\",\"type\":\"LinearColorMapper\"},{\"attributes\":{\"ticks\":[0.5,1.5,2.5,3.5,4.5,5.5,6.5,7.5,8.5,9.5,10.5,11.5,12.5,13.5,14.5,15.5,16.5,17.5,18.5,19.5,20.5,21.5,22.5,23.5,24.5,25.5,26.5,27.5,28.5,29.5,30.5,31.5,32.5,33.5,34.5,35.5,36.5,37.5,38.5]},\"id\":\"1236\",\"type\":\"FixedTicker\"},{\"attributes\":{\"axis_label\":\"translation tokens\",\"formatter\":{\"id\":\"1259\",\"type\":\"BasicTickFormatter\"},\"major_label_overrides\":{\"0.5\":\"_EOS_\",\"1.5\":\".\",\"10.5\":\"garden\",\"11.5\":\"a\",\"12.5\":\"and\",\"13.5\":\"conditioning\",\"14.5\":\"air\",\"15.5\":\",\",\"16.5\":\"garden\",\"17.5\":\"a\",\"18.5\":\",\",\"19.5\":\"garden\",\"2.5\":\"apartments\",\"20.5\":\"a\",\"21.5\":\"with\",\"22.5\":\"accommodation\",\"23.5\":\"catering\",\"24.5\":\"-\",\"25.5\":\"self\",\"26.5\":\"offers\",\"27.5\":\"villa\",\"28.5\":\"the\",\"29.5\":\",\",\"3.5\":\"ka\",\"30.5\":\"sea\",\"31.5\":\"black\",\"32.5\":\"the\",\"33.5\":\"of\",\"34.5\":\"centre\",\"35.5\":\"the\",\"36.5\":\"in\",\"37.5\":\"located\",\"38.5\":\"_BOS_\",\"4.5\":\"nev@@\",\"5.5\":\"garden\",\"6.5\":\"the\",\"7.5\":\"at\",\"8.5\":\"apartments\",\"9.5\":\",\"},\"plot\":{\"id\":\"1215\",\"subtype\":\"Figure\",\"type\":\"Plot\"},\"ticker\":{\"id\":\"1236\",\"type\":\"FixedTicker\"}},\"id\":\"1235\",\"type\":\"LinearAxis\"},{\"attributes\":{},\"id\":\"1259\",\"type\":\"BasicTickFormatter\"},{\"attributes\":{},\"id\":\"1220\",\"type\":\"LinearScale\"},{\"attributes\":{\"ticks\":[0.5,1.5,2.5,3.5,4.5,5.5,6.5,7.5,8.5,9.5,10.5,11.5,12.5,13.5,14.5,15.5,16.5,17.5,18.5,19.5,20.5,21.5,22.5,23.5,24.5,25.5,26.5,27.5,28.5,29.5,30.5,31.5]},\"id\":\"1233\",\"type\":\"FixedTicker\"},{\"attributes\":{},\"id\":\"1222\",\"type\":\"LinearScale\"},{\"attributes\":{\"active_drag\":\"auto\",\"active_inspect\":\"auto\",\"active_multi\":null,\"active_scroll\":\"auto\",\"active_tap\":\"auto\"},\"id\":\"1224\",\"type\":\"Toolbar\"},{\"attributes\":{\"color_mapper\":{\"id\":\"1226\",\"type\":\"LinearColorMapper\"},\"dh\":{\"units\":\"data\",\"value\":39},\"dw\":{\"units\":\"data\",\"value\":32},\"image\":{\"field\":\"image\"},\"x\":{\"value\":0},\"y\":{\"value\":0}},\"id\":\"1227\",\"type\":\"Image\"},{\"attributes\":{\"color_mapper\":{\"id\":\"1228\",\"type\":\"LinearColorMapper\"},\"dh\":{\"units\":\"data\",\"value\":39},\"dw\":{\"units\":\"data\",\"value\":32},\"image\":{\"field\":\"image\"},\"x\":{\"value\":0},\"y\":{\"value\":0}},\"id\":\"1229\",\"type\":\"Image\"}],\"root_ids\":[\"1215\"]},\"title\":\"Bokeh Application\",\"version\":\"1.0.2\"}};\n",
       "  var render_items = [{\"docid\":\"24046891-f2b7-4c5e-9f2c-04f475a66fc4\",\"roots\":{\"1215\":\"79745a15-95b6-4ef2-aeb3-e911b2f27479\"}}];\n",
       "  root.Bokeh.embed.embed_items_notebook(docs_json, render_items);\n",
       "\n",
       "  }\n",
       "  if (root.Bokeh !== undefined) {\n",
       "    embed_document(root);\n",
       "  } else {\n",
       "    var attempts = 0;\n",
       "    var timer = setInterval(function(root) {\n",
       "      if (root.Bokeh !== undefined) {\n",
       "        embed_document(root);\n",
       "        clearInterval(timer);\n",
       "      }\n",
       "      attempts++;\n",
       "      if (attempts > 100) {\n",
       "        console.log(\"Bokeh: ERROR: Unable to run BokehJS code because BokehJS library is missing\");\n",
       "        clearInterval(timer);\n",
       "      }\n",
       "    }, 10, root)\n",
       "  }\n",
       "})(window);"
      ],
      "application/vnd.bokehjs_exec.v0+json": ""
     },
     "metadata": {
      "application/vnd.bokehjs_exec.v0+json": {
       "id": "1215"
      }
     },
     "output_type": "display_data"
    },
    {
     "data": {
      "text/html": [
       "\n",
       "\n",
       "\n",
       "\n",
       "\n",
       "\n",
       "  <div class=\"bk-root\" id=\"5479ce39-18ae-492f-a829-74d5addb3f09\"></div>\n"
      ]
     },
     "metadata": {},
     "output_type": "display_data"
    },
    {
     "data": {
      "application/javascript": [
       "(function(root) {\n",
       "  function embed_document(root) {\n",
       "    \n",
       "  var docs_json = {\"ec979046-ecea-46ec-8346-740798417421\":{\"roots\":{\"references\":[{\"attributes\":{\"above\":[{\"id\":\"1315\",\"type\":\"LinearAxis\"}],\"left\":[{\"id\":\"1318\",\"type\":\"LinearAxis\"}],\"renderers\":[{\"id\":\"1313\",\"type\":\"GlyphRenderer\"},{\"id\":\"1315\",\"type\":\"LinearAxis\"},{\"id\":\"1318\",\"type\":\"LinearAxis\"}],\"title\":{\"id\":\"1345\",\"type\":\"Title\"},\"toolbar\":{\"id\":\"1307\",\"type\":\"Toolbar\"},\"x_range\":{\"id\":\"1299\",\"type\":\"Range1d\"},\"x_scale\":{\"id\":\"1303\",\"type\":\"LinearScale\"},\"y_range\":{\"id\":\"1301\",\"type\":\"Range1d\"},\"y_scale\":{\"id\":\"1305\",\"type\":\"LinearScale\"}},\"id\":\"1298\",\"subtype\":\"Figure\",\"type\":\"Plot\"},{\"attributes\":{\"axis_label\":\"translation tokens\",\"formatter\":{\"id\":\"1348\",\"type\":\"BasicTickFormatter\"},\"major_label_overrides\":{\"0.5\":\"_EOS_\",\"1.5\":\".\",\"10.5\":\"tbilisi\",\"11.5\":\"in\",\"12.5\":\"located\",\"13.5\":\"is\",\"14.5\":\"hostel\",\"15.5\":\"on\",\"16.5\":\"apartment\",\"17.5\":\"_BOS_\",\"2.5\":\"square\",\"3.5\":\"city\",\"4.5\":\"the\",\"5.5\":\"from\",\"6.5\":\"metres\",\"7.5\":\"200\",\"8.5\":\",\",\"9.5\":\"city\"},\"plot\":{\"id\":\"1298\",\"subtype\":\"Figure\",\"type\":\"Plot\"},\"ticker\":{\"id\":\"1319\",\"type\":\"FixedTicker\"}},\"id\":\"1318\",\"type\":\"LinearAxis\"},{\"attributes\":{},\"id\":\"1303\",\"type\":\"LinearScale\"},{\"attributes\":{},\"id\":\"1305\",\"type\":\"LinearScale\"},{\"attributes\":{\"callback\":null,\"end\":23},\"id\":\"1299\",\"type\":\"Range1d\"},{\"attributes\":{},\"id\":\"1347\",\"type\":\"BasicTickFormatter\"},{\"attributes\":{\"callback\":null,\"data\":{\"image\":[{\"__ndarray__\":\"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\",\"dtype\":\"float32\",\"shape\":[18,23]}]},\"selected\":{\"id\":\"1350\",\"type\":\"Selection\"},\"selection_policy\":{\"id\":\"1349\",\"type\":\"UnionRenderers\"}},\"id\":\"1308\",\"type\":\"ColumnDataSource\"},{\"attributes\":{\"source\":{\"id\":\"1308\",\"type\":\"ColumnDataSource\"}},\"id\":\"1314\",\"type\":\"CDSView\"},{\"attributes\":{\"palette\":[\"#000000\",\"#252525\",\"#525252\",\"#737373\",\"#969696\",\"#bdbdbd\",\"#d9d9d9\",\"#f0f0f0\",\"#ffffff\"]},\"id\":\"1309\",\"type\":\"LinearColorMapper\"},{\"attributes\":{\"color_mapper\":{\"id\":\"1311\",\"type\":\"LinearColorMapper\"},\"dh\":{\"units\":\"data\",\"value\":18},\"dw\":{\"units\":\"data\",\"value\":23},\"image\":{\"field\":\"image\"},\"x\":{\"value\":0},\"y\":{\"value\":0}},\"id\":\"1312\",\"type\":\"Image\"},{\"attributes\":{},\"id\":\"1350\",\"type\":\"Selection\"},{\"attributes\":{\"palette\":[\"#000000\",\"#252525\",\"#525252\",\"#737373\",\"#969696\",\"#bdbdbd\",\"#d9d9d9\",\"#f0f0f0\",\"#ffffff\"]},\"id\":\"1311\",\"type\":\"LinearColorMapper\"},{\"attributes\":{\"active_drag\":\"auto\",\"active_inspect\":\"auto\",\"active_multi\":null,\"active_scroll\":\"auto\",\"active_tap\":\"auto\"},\"id\":\"1307\",\"type\":\"Toolbar\"},{\"attributes\":{},\"id\":\"1348\",\"type\":\"BasicTickFormatter\"},{\"attributes\":{\"callback\":null,\"end\":18},\"id\":\"1301\",\"type\":\"Range1d\"},{\"attributes\":{\"color_mapper\":{\"id\":\"1309\",\"type\":\"LinearColorMapper\"},\"dh\":{\"units\":\"data\",\"value\":18},\"dw\":{\"units\":\"data\",\"value\":23},\"image\":{\"field\":\"image\"},\"x\":{\"value\":0},\"y\":{\"value\":0}},\"id\":\"1310\",\"type\":\"Image\"},{\"attributes\":{\"plot\":null,\"text\":\"\"},\"id\":\"1345\",\"type\":\"Title\"},{\"attributes\":{\"ticks\":[0.5,1.5,2.5,3.5,4.5,5.5,6.5,7.5,8.5,9.5,10.5,11.5,12.5,13.5,14.5,15.5,16.5,17.5]},\"id\":\"1319\",\"type\":\"FixedTicker\"},{\"attributes\":{\"ticks\":[0.5,1.5,2.5,3.5,4.5,5.5,6.5,7.5,8.5,9.5,10.5,11.5,12.5,13.5,14.5,15.5,16.5,17.5,18.5,19.5,20.5,21.5,22.5]},\"id\":\"1316\",\"type\":\"FixedTicker\"},{\"attributes\":{\"data_source\":{\"id\":\"1308\",\"type\":\"ColumnDataSource\"},\"glyph\":{\"id\":\"1310\",\"type\":\"Image\"},\"hover_glyph\":null,\"muted_glyph\":null,\"nonselection_glyph\":{\"id\":\"1312\",\"type\":\"Image\"},\"selection_glyph\":null,\"view\":{\"id\":\"1314\",\"type\":\"CDSView\"}},\"id\":\"1313\",\"type\":\"GlyphRenderer\"},{\"attributes\":{},\"id\":\"1349\",\"type\":\"UnionRenderers\"},{\"attributes\":{\"axis_label\":\"source tokens\",\"formatter\":{\"id\":\"1347\",\"type\":\"BasicTickFormatter\"},\"major_label_orientation\":45,\"major_label_overrides\":{\"0.5\":\"_BOS_\",\"1.5\":\"\\u0430\\u043f\\u0430\\u0440\\u0442\\u0430\\u043c\\u0435\\u043d\\u0442\\u044b\",\"10.5\":\"square\",\"11.5\":\"\\u043d\\u0430\\u0445\\u043e\\u0434\\u044f\\u0442\\u0441\\u044f\",\"12.5\":\"\\u0432\",\"13.5\":\"\\u043c\\u043e\\u0441\\u043a\\u0432\\u0435\",\"14.5\":\",\",\"15.5\":\"\\u0432\",\"16.5\":\"200\",\"17.5\":\"\\u043c\\u0435\\u0442\\u0440\\u0430\\u0445\",\"18.5\":\"\\u043e\\u0442\",\"19.5\":\"\\u0431\\u043e\\u043b\\u044c\\u0448\\u043e\\u0433\\u043e\",\"2.5\":\"mo@@\",\"20.5\":\"\\u0442\\u0435\\u0430\\u0442\\u0440\\u0430\",\"21.5\":\".\",\"22.5\":\"_EOS_\",\"3.5\":\"s@@\",\"4.5\":\"co@@\",\"5.5\":\"w\",\"6.5\":\"point\",\"7.5\":\"-\",\"8.5\":\"loft\",\"9.5\":\"red\"},\"plot\":{\"id\":\"1298\",\"subtype\":\"Figure\",\"type\":\"Plot\"},\"ticker\":{\"id\":\"1316\",\"type\":\"FixedTicker\"}},\"id\":\"1315\",\"type\":\"LinearAxis\"}],\"root_ids\":[\"1298\"]},\"title\":\"Bokeh Application\",\"version\":\"1.0.2\"}};\n",
       "  var render_items = [{\"docid\":\"ec979046-ecea-46ec-8346-740798417421\",\"roots\":{\"1298\":\"5479ce39-18ae-492f-a829-74d5addb3f09\"}}];\n",
       "  root.Bokeh.embed.embed_items_notebook(docs_json, render_items);\n",
       "\n",
       "  }\n",
       "  if (root.Bokeh !== undefined) {\n",
       "    embed_document(root);\n",
       "  } else {\n",
       "    var attempts = 0;\n",
       "    var timer = setInterval(function(root) {\n",
       "      if (root.Bokeh !== undefined) {\n",
       "        embed_document(root);\n",
       "        clearInterval(timer);\n",
       "      }\n",
       "      attempts++;\n",
       "      if (attempts > 100) {\n",
       "        console.log(\"Bokeh: ERROR: Unable to run BokehJS code because BokehJS library is missing\");\n",
       "        clearInterval(timer);\n",
       "      }\n",
       "    }, 10, root)\n",
       "  }\n",
       "})(window);"
      ],
      "application/vnd.bokehjs_exec.v0+json": ""
     },
     "metadata": {
      "application/vnd.bokehjs_exec.v0+json": {
       "id": "1298"
      }
     },
     "output_type": "display_data"
    }
   ],
   "source": [
    "for i in range(5):\n",
    "    draw_attention(inp[i], trans[i], attention_probs[i])"
   ]
  },
  {
   "cell_type": "markdown",
   "metadata": {},
   "source": [
    "## Grand Finale (4+ points)\n",
    "\n",
    "We want you to find the best model for the task. Use everything you know.\n",
    "\n",
    "* different recurrent units: rnn/gru/lstm; deeper architectures\n",
    "* bidirectional encoder, different attention methods for decoder\n",
    "* word dropout, training schedules, anything you can imagine\n",
    "\n",
    "As usual, we want you to describe what you tried and what results you obtained."
   ]
  },
  {
   "cell_type": "markdown",
   "metadata": {
    "collapsed": true
   },
   "source": [
    "`[your report/log here or anywhere you please]`"
   ]
  },
  {
   "cell_type": "code",
   "execution_count": null,
   "metadata": {},
   "outputs": [],
   "source": []
  }
 ],
 "metadata": {
  "kernelspec": {
   "display_name": "Python 3",
   "language": "python",
   "name": "python3"
  },
  "language_info": {
   "codemirror_mode": {
    "name": "ipython",
    "version": 3
   },
   "file_extension": ".py",
   "mimetype": "text/x-python",
   "name": "python",
   "nbconvert_exporter": "python",
   "pygments_lexer": "ipython3",
   "version": "3.6.6"
  }
 },
 "nbformat": 4,
 "nbformat_minor": 1
}
